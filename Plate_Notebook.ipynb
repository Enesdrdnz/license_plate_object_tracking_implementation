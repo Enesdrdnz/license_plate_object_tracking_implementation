{
 "cells": [
  {
   "cell_type": "code",
   "execution_count": 1,
   "id": "2a57acae-29cb-4ed3-8e50-1e278d5b04f4",
   "metadata": {},
   "outputs": [],
   "source": [
    "from ultralytics import YOLO"
   ]
  },
  {
   "cell_type": "code",
   "execution_count": 2,
   "id": "19a43ccc-df4a-4afc-b9b3-712dced9e071",
   "metadata": {
    "tags": []
   },
   "outputs": [],
   "source": [
    "model=YOLO(\"yolov8n.yaml\")\n"
   ]
  },
  {
   "cell_type": "code",
   "execution_count": 3,
   "id": "52fecc07-4e79-4a7b-a3ee-5598c86b7b3a",
   "metadata": {
    "tags": []
   },
   "outputs": [
    {
     "name": "stdout",
     "output_type": "stream",
     "text": [
      "New https://pypi.org/project/ultralytics/8.2.32 available  Update with 'pip install -U ultralytics'\n",
      "\u001b[34m\u001b[1mengine\\trainer: \u001b[0mtask=detect, mode=train, model=yolov8n.yaml, data=config.yaml, epochs=3, time=None, patience=100, batch=16, imgsz=640, save=True, save_period=-1, cache=False, device=cuda:0, workers=8, project=None, name=train4, exist_ok=False, pretrained=True, optimizer=auto, verbose=True, seed=0, deterministic=True, single_cls=False, rect=False, cos_lr=False, close_mosaic=10, resume=False, amp=True, fraction=1.0, profile=False, freeze=None, multi_scale=False, overlap_mask=True, mask_ratio=4, dropout=0.0, val=True, split=val, save_json=False, save_hybrid=False, conf=None, iou=0.7, max_det=300, half=False, dnn=False, plots=True, source=None, vid_stride=1, stream_buffer=False, visualize=False, augment=False, agnostic_nms=False, classes=None, retina_masks=False, embed=None, show=False, save_frames=False, save_txt=False, save_conf=False, save_crop=False, show_labels=True, show_conf=True, show_boxes=True, line_width=None, format=torchscript, keras=False, optimize=False, int8=False, dynamic=False, simplify=False, opset=None, workspace=4, nms=False, lr0=0.01, lrf=0.01, momentum=0.937, weight_decay=0.0005, warmup_epochs=3.0, warmup_momentum=0.8, warmup_bias_lr=0.1, box=7.5, cls=0.5, dfl=1.5, pose=12.0, kobj=1.0, label_smoothing=0.0, nbs=64, hsv_h=0.015, hsv_s=0.7, hsv_v=0.4, degrees=0.0, translate=0.1, scale=0.5, shear=0.0, perspective=0.0, flipud=0.0, fliplr=0.5, bgr=0.0, mosaic=1.0, mixup=0.0, copy_paste=0.0, auto_augment=randaugment, erasing=0.4, crop_fraction=1.0, cfg=None, tracker=botsort.yaml, save_dir=runs\\detect\\train4\n",
      "Overriding model.yaml nc=80 with nc=1\n",
      "\n",
      "                   from  n    params  module                                       arguments                     \n",
      "  0                  -1  1       464  ultralytics.nn.modules.conv.Conv             [3, 16, 3, 2]                 \n",
      "  1                  -1  1      4672  ultralytics.nn.modules.conv.Conv             [16, 32, 3, 2]                \n",
      "  2                  -1  1      7360  ultralytics.nn.modules.block.C2f             [32, 32, 1, True]             \n",
      "  3                  -1  1     18560  ultralytics.nn.modules.conv.Conv             [32, 64, 3, 2]                \n",
      "  4                  -1  2     49664  ultralytics.nn.modules.block.C2f             [64, 64, 2, True]             \n",
      "  5                  -1  1     73984  ultralytics.nn.modules.conv.Conv             [64, 128, 3, 2]               \n",
      "  6                  -1  2    197632  ultralytics.nn.modules.block.C2f             [128, 128, 2, True]           \n",
      "  7                  -1  1    295424  ultralytics.nn.modules.conv.Conv             [128, 256, 3, 2]              \n",
      "  8                  -1  1    460288  ultralytics.nn.modules.block.C2f             [256, 256, 1, True]           \n",
      "  9                  -1  1    164608  ultralytics.nn.modules.block.SPPF            [256, 256, 5]                 \n",
      " 10                  -1  1         0  torch.nn.modules.upsampling.Upsample         [None, 2, 'nearest']          \n",
      " 11             [-1, 6]  1         0  ultralytics.nn.modules.conv.Concat           [1]                           \n",
      " 12                  -1  1    148224  ultralytics.nn.modules.block.C2f             [384, 128, 1]                 \n",
      " 13                  -1  1         0  torch.nn.modules.upsampling.Upsample         [None, 2, 'nearest']          \n",
      " 14             [-1, 4]  1         0  ultralytics.nn.modules.conv.Concat           [1]                           \n",
      " 15                  -1  1     37248  ultralytics.nn.modules.block.C2f             [192, 64, 1]                  \n",
      " 16                  -1  1     36992  ultralytics.nn.modules.conv.Conv             [64, 64, 3, 2]                \n",
      " 17            [-1, 12]  1         0  ultralytics.nn.modules.conv.Concat           [1]                           \n",
      " 18                  -1  1    123648  ultralytics.nn.modules.block.C2f             [192, 128, 1]                 \n",
      " 19                  -1  1    147712  ultralytics.nn.modules.conv.Conv             [128, 128, 3, 2]              \n",
      " 20             [-1, 9]  1         0  ultralytics.nn.modules.conv.Concat           [1]                           \n",
      " 21                  -1  1    493056  ultralytics.nn.modules.block.C2f             [384, 256, 1]                 \n",
      " 22        [15, 18, 21]  1    751507  ultralytics.nn.modules.head.Detect           [1, [64, 128, 256]]           \n",
      "YOLOv8n summary: 225 layers, 3011043 parameters, 3011027 gradients, 8.2 GFLOPs\n",
      "\n",
      "Freezing layer 'model.22.dfl.conv.weight'\n",
      "\u001b[34m\u001b[1mAMP: \u001b[0mrunning Automatic Mixed Precision (AMP) checks with YOLOv8n...\n",
      "\u001b[34m\u001b[1mAMP: \u001b[0mchecks passed \n"
     ]
    },
    {
     "name": "stderr",
     "output_type": "stream",
     "text": [
      "\u001b[34m\u001b[1mtrain: \u001b[0mScanning C:\\Users\\Enes\\Desktop\\python\\2-Deep Learning\\2-Computer Vision\\2-Computer Vision-Object Detection\\2-YOL\u001b[0m\n",
      "\u001b[34m\u001b[1mval: \u001b[0mScanning C:\\Users\\Enes\\Desktop\\python\\2-Deep Learning\\2-Computer Vision\\2-Computer Vision-Object Detection\\2-YOLO \u001b[0m\n"
     ]
    },
    {
     "name": "stdout",
     "output_type": "stream",
     "text": [
      "Plotting labels to runs\\detect\\train4\\labels.jpg... \n",
      "\u001b[34m\u001b[1moptimizer:\u001b[0m 'optimizer=auto' found, ignoring 'lr0=0.01' and 'momentum=0.937' and determining best 'optimizer', 'lr0' and 'momentum' automatically... \n",
      "\u001b[34m\u001b[1moptimizer:\u001b[0m AdamW(lr=0.002, momentum=0.9) with parameter groups 57 weight(decay=0.0), 64 weight(decay=0.0005), 63 bias(decay=0.0)\n",
      "Image sizes 640 train, 640 val\n",
      "Using 8 dataloader workers\n",
      "Logging results to \u001b[1mruns\\detect\\train4\u001b[0m\n",
      "Starting training for 3 epochs...\n",
      "\n",
      "      Epoch    GPU_mem   box_loss   cls_loss   dfl_loss  Instances       Size\n"
     ]
    },
    {
     "name": "stderr",
     "output_type": "stream",
     "text": [
      "        1/3      2.34G      2.097      2.198      2.419         11        640: 100%|██████████| 1324/1324 [05:00<00:00,\n",
      "                 Class     Images  Instances      Box(P          R      mAP50  mAP50-95): 100%|██████████| 662/662 [04:\n"
     ]
    },
    {
     "name": "stdout",
     "output_type": "stream",
     "text": [
      "                   all      21173      22028      0.921      0.785      0.862      0.472\n",
      "\n",
      "      Epoch    GPU_mem   box_loss   cls_loss   dfl_loss  Instances       Size\n"
     ]
    },
    {
     "name": "stderr",
     "output_type": "stream",
     "text": [
      "        2/3      2.41G      1.452       1.04      1.637         11        640: 100%|██████████| 1324/1324 [04:31<00:00,\n",
      "                 Class     Images  Instances      Box(P          R      mAP50  mAP50-95): 100%|██████████| 662/662 [03:\n"
     ]
    },
    {
     "name": "stdout",
     "output_type": "stream",
     "text": [
      "                   all      21173      22028      0.952      0.856      0.926      0.576\n",
      "\n",
      "      Epoch    GPU_mem   box_loss   cls_loss   dfl_loss  Instances       Size\n"
     ]
    },
    {
     "name": "stderr",
     "output_type": "stream",
     "text": [
      "        3/3      2.39G      1.338     0.8835      1.526          9        640: 100%|██████████| 1324/1324 [04:21<00:00,\n",
      "                 Class     Images  Instances      Box(P          R      mAP50  mAP50-95): 100%|██████████| 662/662 [03:\n"
     ]
    },
    {
     "name": "stdout",
     "output_type": "stream",
     "text": [
      "                   all      21173      22028      0.961       0.89      0.949      0.625\n",
      "\n",
      "3 epochs completed in 0.428 hours.\n",
      "Optimizer stripped from runs\\detect\\train4\\weights\\last.pt, 6.2MB\n",
      "Optimizer stripped from runs\\detect\\train4\\weights\\best.pt, 6.2MB\n",
      "\n",
      "Validating runs\\detect\\train4\\weights\\best.pt...\n",
      "Ultralytics YOLOv8.2.31  Python-3.11.5 torch-2.3.1+cu121 CUDA:0 (NVIDIA GeForce RTX 4050 Laptop GPU, 6140MiB)\n",
      "YOLOv8n summary (fused): 168 layers, 3005843 parameters, 0 gradients, 8.1 GFLOPs\n"
     ]
    },
    {
     "name": "stderr",
     "output_type": "stream",
     "text": [
      "                 Class     Images  Instances      Box(P          R      mAP50  mAP50-95): 100%|██████████| 662/662 [04:\n"
     ]
    },
    {
     "name": "stdout",
     "output_type": "stream",
     "text": [
      "                   all      21173      22028      0.961      0.891      0.949      0.625\n",
      "Speed: 0.9ms preprocess, 1.9ms inference, 0.0ms loss, 1.8ms postprocess per image\n",
      "Results saved to \u001b[1mruns\\detect\\train4\u001b[0m\n"
     ]
    }
   ],
   "source": [
    "results=model.train(data=\"config.yaml\",epochs=3)"
   ]
  },
  {
   "cell_type": "code",
   "execution_count": 3,
   "id": "f4467cba-b4ea-4850-9649-cc44b8f14b2d",
   "metadata": {},
   "outputs": [],
   "source": [
    "def write_csv(results, output_path):\n",
    "    \"\"\"\n",
    "    Write the results to a CSV file.\n",
    "\n",
    "    Args:\n",
    "        results (dict): Dictionary containing the results.\n",
    "        output_path (str): Path to the output CSV file.\n",
    "    \"\"\"\n",
    "    with open(output_path, 'w') as f:\n",
    "        f.write('{},{},{},{},{},{},{}\\n'.format('frame_nmr', 'car_id', 'car_bbox',\n",
    "                                                'license_plate_bbox', 'license_plate_bbox_score', 'license_number',\n",
    "                                                'license_number_score'))\n",
    "\n",
    "        for frame_nmr in results.keys():\n",
    "            for car_id in results[frame_nmr].keys():\n",
    "                print(results[frame_nmr][car_id])\n",
    "                if 'car' in results[frame_nmr][car_id].keys() and \\\n",
    "                   'license_plate' in results[frame_nmr][car_id].keys() and \\\n",
    "                   'text' in results[frame_nmr][car_id]['license_plate'].keys():\n",
    "                    f.write('{},{},{},{},{},{},{}\\n'.format(frame_nmr,\n",
    "                                                            car_id,\n",
    "                                                            '[{} {} {} {}]'.format(\n",
    "                                                                results[frame_nmr][car_id]['car']['bbox'][0],\n",
    "                                                                results[frame_nmr][car_id]['car']['bbox'][1],\n",
    "                                                                results[frame_nmr][car_id]['car']['bbox'][2],\n",
    "                                                                results[frame_nmr][car_id]['car']['bbox'][3]),\n",
    "                                                            '[{} {} {} {}]'.format(\n",
    "                                                                results[frame_nmr][car_id]['license_plate']['bbox'][0],\n",
    "                                                                results[frame_nmr][car_id]['license_plate']['bbox'][1],\n",
    "                                                                results[frame_nmr][car_id]['license_plate']['bbox'][2],\n",
    "                                                                results[frame_nmr][car_id]['license_plate']['bbox'][3]),\n",
    "                                                            results[frame_nmr][car_id]['license_plate']['bbox_score'],\n",
    "                                                            results[frame_nmr][car_id]['license_plate']['text'],\n",
    "                                                            results[frame_nmr][car_id]['license_plate']['text_score'])\n",
    "                            )\n",
    "        f.close()"
   ]
  },
  {
   "cell_type": "code",
   "execution_count": 4,
   "id": "6d5a6f2c-3a70-49b2-9785-086a0a45cf0f",
   "metadata": {},
   "outputs": [],
   "source": [
    "def get_car(license_plate, vehicle_track_ids):\n",
    "    \"\"\"\n",
    "    Retrieve the vehicle coordinates and ID based on the license plate coordinates.\n",
    "\n",
    "    Args:\n",
    "        license_plate (tuple): Tuple containing the coordinates of the license plate (x1, y1, x2, y2, score, class_id).\n",
    "        vehicle_track_ids (list): List of vehicle track IDs and their corresponding coordinates.\n",
    "\n",
    "    Returns:\n",
    "        tuple: Tuple containing the vehicle coordinates (x1, y1, x2, y2) and ID.\n",
    "    \"\"\"\n",
    "    x1, y1, x2, y2, score, class_id = license_plate\n",
    "\n",
    "    foundIt = False\n",
    "    for j in range(len(vehicle_track_ids)):\n",
    "        xcar1, ycar1, xcar2, ycar2, car_id = vehicle_track_ids[j]\n",
    "\n",
    "        if x1 > xcar1 and y1 > ycar1 and x2 < xcar2 and y2 < ycar2:\n",
    "            car_indx = j\n",
    "            foundIt = True\n",
    "            break\n",
    "\n",
    "    if foundIt:\n",
    "        return vehicle_track_ids[car_indx]\n",
    "\n",
    "    return -1, -1, -1, -1, -1"
   ]
  },
  {
   "cell_type": "code",
   "execution_count": 5,
   "id": "ebd62346-9f50-46f6-83f8-5d50af4c007e",
   "metadata": {},
   "outputs": [],
   "source": [
    "dict_char_to_int = {'O': '0',\n",
    "                    'I': '1',\n",
    "                    'J': '3',\n",
    "                    'A': '4',\n",
    "                    'G': '6',\n",
    "                    'S': '5'}\n",
    "\n",
    "dict_int_to_char = {'0': 'O',\n",
    "                    '1': 'I',\n",
    "                    '3': 'J',\n",
    "                    '4': 'A',\n",
    "                    '6': 'G',\n",
    "                    '5': 'S'}\n",
    "def license_complies_format(text):\n",
    "    \"\"\"\n",
    "    Check if the license plate text complies with the required format.\n",
    "\n",
    "    Args:\n",
    "        text (str): License plate text.\n",
    "\n",
    "    Returns:\n",
    "        bool: True if the license plate complies with the format, False otherwise.\n",
    "    \"\"\"\n",
    "    if len(text) != 7:\n",
    "        return False\n",
    "\n",
    "    if (text[0] in string.ascii_uppercase or text[0] in dict_int_to_char.keys()) and \\\n",
    "       (text[1] in string.ascii_uppercase or text[1] in dict_int_to_char.keys()) and \\\n",
    "       (text[2] in ['0', '1', '2', '3', '4', '5', '6', '7', '8', '9'] or text[2] in dict_char_to_int.keys()) and \\\n",
    "       (text[3] in ['0', '1', '2', '3', '4', '5', '6', '7', '8', '9'] or text[3] in dict_char_to_int.keys()) and \\\n",
    "       (text[4] in string.ascii_uppercase or text[4] in dict_int_to_char.keys()) and \\\n",
    "       (text[5] in string.ascii_uppercase or text[5] in dict_int_to_char.keys()) and \\\n",
    "       (text[6] in string.ascii_uppercase or text[6] in dict_int_to_char.keys()):\n",
    "        return True\n",
    "    else:\n",
    "        return False"
   ]
  },
  {
   "cell_type": "code",
   "execution_count": 6,
   "id": "4feed158-3be3-4c8c-a052-10b9e1c4bf39",
   "metadata": {},
   "outputs": [],
   "source": [
    "dict_char_to_int = {'O': '0',\n",
    "                    'I': '1',\n",
    "                    'J': '3',\n",
    "                    'A': '4',\n",
    "                    'G': '6',\n",
    "                    'S': '5'}\n",
    "\n",
    "dict_int_to_char = {'0': 'O',\n",
    "                    '1': 'I',\n",
    "                    '3': 'J',\n",
    "                    '4': 'A',\n",
    "                    '6': 'G',\n",
    "                    '5': 'S'}\n",
    "def format_license(text):\n",
    "    \"\"\"\n",
    "    Format the license plate text by converting characters using the mapping dictionaries.\n",
    "\n",
    "    Args:\n",
    "        text (str): License plate text.\n",
    "\n",
    "    Returns:\n",
    "        str: Formatted license plate text.\n",
    "    \"\"\"\n",
    "    license_plate_ = ''\n",
    "    mapping = {0: dict_int_to_char, 1: dict_int_to_char, 4: dict_int_to_char, 5: dict_int_to_char, 6: dict_int_to_char,\n",
    "               2: dict_char_to_int, 3: dict_char_to_int}\n",
    "    for j in [0, 1, 2, 3, 4, 5, 6]:\n",
    "        if text[j] in mapping[j].keys():\n",
    "            license_plate_ += mapping[j][text[j]]\n",
    "        else:\n",
    "            license_plate_ += text[j]\n",
    "\n",
    "    return license_plate_"
   ]
  },
  {
   "cell_type": "code",
   "execution_count": 7,
   "id": "2def00cb-9021-4241-90b8-e0fded857667",
   "metadata": {},
   "outputs": [],
   "source": [
    "import easyocr\n",
    "def read_license_plate(license_plate_crop):\n",
    "    readerr=easyocr.Reader([\"en\"],gpu=False)\n",
    "    \n",
    "    detections=readerr.readtext(license_plate_crop)\n",
    "    \n",
    "    for detection in detections:\n",
    "        bbox,text,score=detection\n",
    "        \n",
    "        text=text.upper().replace(' ','')\n",
    "        \n",
    "        if license_complies_format(text):\n",
    "            return format_license(text),score\n",
    "    return None,None"
   ]
  },
  {
   "cell_type": "code",
   "execution_count": null,
   "id": "c04bbe52",
   "metadata": {},
   "outputs": [],
   "source": [
    "!git clone https://github.com/abewley/sort.git"
   ]
  },
  {
   "cell_type": "code",
   "execution_count": 8,
   "id": "68dc94de-bec6-458d-8880-357ae8ac7bb8",
   "metadata": {},
   "outputs": [
    {
     "name": "stdout",
     "output_type": "stream",
     "text": [
      "\n",
      "0: 384x640 20 cars, 1 bus, 2 trucks, 135.1ms\n",
      "Speed: 26.7ms preprocess, 135.1ms inference, 15.6ms postprocess per image at shape (1, 3, 384, 640)\n",
      "\n",
      "0: 384x640 (no detections), 188.8ms\n",
      "Speed: 5.5ms preprocess, 188.8ms inference, 0.0ms postprocess per image at shape (1, 3, 384, 640)\n",
      "\n",
      "0: 384x640 22 cars, 1 bus, 2 trucks, 198.7ms\n",
      "Speed: 3.0ms preprocess, 198.7ms inference, 15.6ms postprocess per image at shape (1, 3, 384, 640)\n",
      "\n",
      "0: 384x640 1 alpaca, 188.7ms\n",
      "Speed: 3.4ms preprocess, 188.7ms inference, 0.0ms postprocess per image at shape (1, 3, 384, 640)\n"
     ]
    },
    {
     "name": "stderr",
     "output_type": "stream",
     "text": [
      "Using CPU. Note: This module is much faster with a GPU.\n"
     ]
    },
    {
     "name": "stdout",
     "output_type": "stream",
     "text": [
      "\n",
      "0: 384x640 23 cars, 1 bus, 2 trucks, 100.5ms\n",
      "Speed: 0.0ms preprocess, 100.5ms inference, 0.0ms postprocess per image at shape (1, 3, 384, 640)\n",
      "\n",
      "0: 384x640 1 alpaca, 71.9ms\n",
      "Speed: 2.0ms preprocess, 71.9ms inference, 0.0ms postprocess per image at shape (1, 3, 384, 640)\n"
     ]
    },
    {
     "name": "stderr",
     "output_type": "stream",
     "text": [
      "Using CPU. Note: This module is much faster with a GPU.\n"
     ]
    },
    {
     "name": "stdout",
     "output_type": "stream",
     "text": [
      "\n",
      "0: 384x640 23 cars, 1 bus, 2 trucks, 98.5ms\n",
      "Speed: 3.0ms preprocess, 98.5ms inference, 1.0ms postprocess per image at shape (1, 3, 384, 640)\n",
      "\n",
      "0: 384x640 2 alpacas, 87.2ms\n",
      "Speed: 2.9ms preprocess, 87.2ms inference, 0.0ms postprocess per image at shape (1, 3, 384, 640)\n"
     ]
    },
    {
     "name": "stderr",
     "output_type": "stream",
     "text": [
      "Using CPU. Note: This module is much faster with a GPU.\n",
      "Using CPU. Note: This module is much faster with a GPU.\n"
     ]
    },
    {
     "name": "stdout",
     "output_type": "stream",
     "text": [
      "\n",
      "0: 384x640 23 cars, 1 bus, 2 trucks, 116.3ms\n",
      "Speed: 2.0ms preprocess, 116.3ms inference, 2.0ms postprocess per image at shape (1, 3, 384, 640)\n",
      "\n",
      "0: 384x640 1 alpaca, 88.7ms\n",
      "Speed: 2.0ms preprocess, 88.7ms inference, 0.0ms postprocess per image at shape (1, 3, 384, 640)\n"
     ]
    },
    {
     "name": "stderr",
     "output_type": "stream",
     "text": [
      "Using CPU. Note: This module is much faster with a GPU.\n"
     ]
    },
    {
     "name": "stdout",
     "output_type": "stream",
     "text": [
      "\n",
      "0: 384x640 22 cars, 1 bus, 2 trucks, 86.6ms\n",
      "Speed: 2.0ms preprocess, 86.6ms inference, 0.0ms postprocess per image at shape (1, 3, 384, 640)\n",
      "\n",
      "0: 384x640 2 alpacas, 83.3ms\n",
      "Speed: 2.2ms preprocess, 83.3ms inference, 0.0ms postprocess per image at shape (1, 3, 384, 640)\n"
     ]
    },
    {
     "name": "stderr",
     "output_type": "stream",
     "text": [
      "Using CPU. Note: This module is much faster with a GPU.\n",
      "Using CPU. Note: This module is much faster with a GPU.\n"
     ]
    },
    {
     "name": "stdout",
     "output_type": "stream",
     "text": [
      "\n",
      "0: 384x640 23 cars, 1 bus, 4 trucks, 110.4ms\n",
      "Speed: 0.0ms preprocess, 110.4ms inference, 2.0ms postprocess per image at shape (1, 3, 384, 640)\n",
      "\n",
      "0: 384x640 1 alpaca, 84.0ms\n",
      "Speed: 1.9ms preprocess, 84.0ms inference, 0.0ms postprocess per image at shape (1, 3, 384, 640)\n"
     ]
    },
    {
     "name": "stderr",
     "output_type": "stream",
     "text": [
      "Using CPU. Note: This module is much faster with a GPU.\n"
     ]
    },
    {
     "name": "stdout",
     "output_type": "stream",
     "text": [
      "\n",
      "0: 384x640 26 cars, 1 bus, 2 trucks, 142.7ms\n",
      "Speed: 2.9ms preprocess, 142.7ms inference, 2.0ms postprocess per image at shape (1, 3, 384, 640)\n",
      "\n",
      "0: 384x640 1 alpaca, 125.3ms\n",
      "Speed: 3.9ms preprocess, 125.3ms inference, 0.0ms postprocess per image at shape (1, 3, 384, 640)\n"
     ]
    },
    {
     "name": "stderr",
     "output_type": "stream",
     "text": [
      "Using CPU. Note: This module is much faster with a GPU.\n"
     ]
    },
    {
     "name": "stdout",
     "output_type": "stream",
     "text": [
      "\n",
      "0: 384x640 24 cars, 1 bus, 2 trucks, 103.1ms\n",
      "Speed: 3.0ms preprocess, 103.1ms inference, 1.0ms postprocess per image at shape (1, 3, 384, 640)\n",
      "\n",
      "0: 384x640 (no detections), 93.8ms\n",
      "Speed: 2.0ms preprocess, 93.8ms inference, 0.1ms postprocess per image at shape (1, 3, 384, 640)\n",
      "\n",
      "0: 384x640 22 cars, 1 bus, 2 trucks, 126.4ms\n",
      "Speed: 3.0ms preprocess, 126.4ms inference, 2.1ms postprocess per image at shape (1, 3, 384, 640)\n",
      "\n",
      "0: 384x640 (no detections), 100.4ms\n",
      "Speed: 2.0ms preprocess, 100.4ms inference, 0.0ms postprocess per image at shape (1, 3, 384, 640)\n",
      "\n",
      "0: 384x640 23 cars, 2 buss, 1 truck, 234.6ms\n",
      "Speed: 3.1ms preprocess, 234.6ms inference, 6.9ms postprocess per image at shape (1, 3, 384, 640)\n",
      "\n",
      "0: 384x640 1 alpaca, 222.3ms\n",
      "Speed: 4.1ms preprocess, 222.3ms inference, 1.0ms postprocess per image at shape (1, 3, 384, 640)\n"
     ]
    },
    {
     "name": "stderr",
     "output_type": "stream",
     "text": [
      "Using CPU. Note: This module is much faster with a GPU.\n"
     ]
    },
    {
     "name": "stdout",
     "output_type": "stream",
     "text": [
      "\n",
      "0: 384x640 24 cars, 2 buss, 105.1ms\n",
      "Speed: 3.1ms preprocess, 105.1ms inference, 2.0ms postprocess per image at shape (1, 3, 384, 640)\n",
      "\n",
      "0: 384x640 2 alpacas, 90.8ms\n",
      "Speed: 2.0ms preprocess, 90.8ms inference, 0.0ms postprocess per image at shape (1, 3, 384, 640)\n"
     ]
    },
    {
     "name": "stderr",
     "output_type": "stream",
     "text": [
      "Using CPU. Note: This module is much faster with a GPU.\n",
      "Using CPU. Note: This module is much faster with a GPU.\n"
     ]
    },
    {
     "name": "stdout",
     "output_type": "stream",
     "text": [
      "\n",
      "0: 384x640 23 cars, 2 buss, 1 truck, 97.1ms\n",
      "Speed: 3.1ms preprocess, 97.1ms inference, 2.0ms postprocess per image at shape (1, 3, 384, 640)\n",
      "\n",
      "0: 384x640 (no detections), 87.3ms\n",
      "Speed: 2.0ms preprocess, 87.3ms inference, 0.0ms postprocess per image at shape (1, 3, 384, 640)\n",
      "\n",
      "0: 384x640 24 cars, 2 buss, 1 truck, 94.3ms\n",
      "Speed: 3.0ms preprocess, 94.3ms inference, 2.0ms postprocess per image at shape (1, 3, 384, 640)\n",
      "\n",
      "0: 384x640 (no detections), 88.3ms\n",
      "Speed: 3.0ms preprocess, 88.3ms inference, 0.0ms postprocess per image at shape (1, 3, 384, 640)\n",
      "\n",
      "0: 384x640 21 cars, 2 buss, 1 truck, 112.4ms\n",
      "Speed: 4.0ms preprocess, 112.4ms inference, 2.0ms postprocess per image at shape (1, 3, 384, 640)\n",
      "\n",
      "0: 384x640 1 alpaca, 88.1ms\n",
      "Speed: 3.0ms preprocess, 88.1ms inference, 0.0ms postprocess per image at shape (1, 3, 384, 640)\n"
     ]
    },
    {
     "name": "stderr",
     "output_type": "stream",
     "text": [
      "Using CPU. Note: This module is much faster with a GPU.\n"
     ]
    },
    {
     "name": "stdout",
     "output_type": "stream",
     "text": [
      "\n",
      "0: 384x640 22 cars, 2 buss, 1 truck, 97.3ms\n",
      "Speed: 3.0ms preprocess, 97.3ms inference, 1.0ms postprocess per image at shape (1, 3, 384, 640)\n",
      "\n",
      "0: 384x640 (no detections), 92.1ms\n",
      "Speed: 2.0ms preprocess, 92.1ms inference, 0.0ms postprocess per image at shape (1, 3, 384, 640)\n",
      "\n",
      "0: 384x640 21 cars, 2 buss, 1 truck, 95.6ms\n",
      "Speed: 3.0ms preprocess, 95.6ms inference, 2.0ms postprocess per image at shape (1, 3, 384, 640)\n",
      "\n",
      "0: 384x640 1 alpaca, 88.1ms\n",
      "Speed: 3.0ms preprocess, 88.1ms inference, 1.0ms postprocess per image at shape (1, 3, 384, 640)\n"
     ]
    },
    {
     "name": "stderr",
     "output_type": "stream",
     "text": [
      "Using CPU. Note: This module is much faster with a GPU.\n"
     ]
    },
    {
     "name": "stdout",
     "output_type": "stream",
     "text": [
      "\n",
      "0: 384x640 20 cars, 2 buss, 1 truck, 99.0ms\n",
      "Speed: 2.9ms preprocess, 99.0ms inference, 2.0ms postprocess per image at shape (1, 3, 384, 640)\n",
      "\n",
      "0: 384x640 (no detections), 89.8ms\n",
      "Speed: 2.0ms preprocess, 89.8ms inference, 0.0ms postprocess per image at shape (1, 3, 384, 640)\n",
      "\n",
      "0: 384x640 20 cars, 2 buss, 1 truck, 95.4ms\n",
      "Speed: 2.1ms preprocess, 95.4ms inference, 1.9ms postprocess per image at shape (1, 3, 384, 640)\n",
      "\n",
      "0: 384x640 1 alpaca, 87.1ms\n",
      "Speed: 2.0ms preprocess, 87.1ms inference, 0.0ms postprocess per image at shape (1, 3, 384, 640)\n"
     ]
    },
    {
     "name": "stderr",
     "output_type": "stream",
     "text": [
      "Using CPU. Note: This module is much faster with a GPU.\n"
     ]
    },
    {
     "name": "stdout",
     "output_type": "stream",
     "text": [
      "\n",
      "0: 384x640 21 cars, 2 buss, 2 trucks, 97.0ms\n",
      "Speed: 3.1ms preprocess, 97.0ms inference, 2.0ms postprocess per image at shape (1, 3, 384, 640)\n",
      "\n",
      "0: 384x640 1 alpaca, 90.1ms\n",
      "Speed: 1.9ms preprocess, 90.1ms inference, 1.0ms postprocess per image at shape (1, 3, 384, 640)\n"
     ]
    },
    {
     "name": "stderr",
     "output_type": "stream",
     "text": [
      "Using CPU. Note: This module is much faster with a GPU.\n"
     ]
    },
    {
     "name": "stdout",
     "output_type": "stream",
     "text": [
      "\n",
      "0: 384x640 18 cars, 1 bus, 2 trucks, 95.6ms\n",
      "Speed: 3.0ms preprocess, 95.6ms inference, 2.8ms postprocess per image at shape (1, 3, 384, 640)\n",
      "\n",
      "0: 384x640 2 alpacas, 86.8ms\n",
      "Speed: 2.0ms preprocess, 86.8ms inference, 0.0ms postprocess per image at shape (1, 3, 384, 640)\n"
     ]
    },
    {
     "name": "stderr",
     "output_type": "stream",
     "text": [
      "Using CPU. Note: This module is much faster with a GPU.\n",
      "Using CPU. Note: This module is much faster with a GPU.\n"
     ]
    },
    {
     "name": "stdout",
     "output_type": "stream",
     "text": [
      "\n",
      "0: 384x640 21 cars, 1 bus, 2 trucks, 96.0ms\n",
      "Speed: 2.9ms preprocess, 96.0ms inference, 2.0ms postprocess per image at shape (1, 3, 384, 640)\n",
      "\n",
      "0: 384x640 (no detections), 86.1ms\n",
      "Speed: 2.0ms preprocess, 86.1ms inference, 1.0ms postprocess per image at shape (1, 3, 384, 640)\n",
      "\n",
      "0: 384x640 23 cars, 1 bus, 1 truck, 97.8ms\n",
      "Speed: 2.0ms preprocess, 97.8ms inference, 1.0ms postprocess per image at shape (1, 3, 384, 640)\n",
      "\n",
      "0: 384x640 (no detections), 86.7ms\n",
      "Speed: 2.9ms preprocess, 86.7ms inference, 1.0ms postprocess per image at shape (1, 3, 384, 640)\n",
      "\n",
      "0: 384x640 20 cars, 2 buss, 1 truck, 98.4ms\n",
      "Speed: 2.9ms preprocess, 98.4ms inference, 2.0ms postprocess per image at shape (1, 3, 384, 640)\n",
      "\n",
      "0: 384x640 (no detections), 87.2ms\n",
      "Speed: 2.0ms preprocess, 87.2ms inference, 0.0ms postprocess per image at shape (1, 3, 384, 640)\n",
      "\n",
      "0: 384x640 21 cars, 2 buss, 1 truck, 97.3ms\n",
      "Speed: 3.0ms preprocess, 97.3ms inference, 2.0ms postprocess per image at shape (1, 3, 384, 640)\n",
      "\n",
      "0: 384x640 (no detections), 88.0ms\n",
      "Speed: 2.0ms preprocess, 88.0ms inference, 0.0ms postprocess per image at shape (1, 3, 384, 640)\n",
      "\n",
      "0: 384x640 22 cars, 2 buss, 1 truck, 95.0ms\n",
      "Speed: 3.0ms preprocess, 95.0ms inference, 2.0ms postprocess per image at shape (1, 3, 384, 640)\n",
      "\n",
      "0: 384x640 1 alpaca, 90.4ms\n",
      "Speed: 2.0ms preprocess, 90.4ms inference, 1.0ms postprocess per image at shape (1, 3, 384, 640)\n"
     ]
    },
    {
     "name": "stderr",
     "output_type": "stream",
     "text": [
      "Using CPU. Note: This module is much faster with a GPU.\n"
     ]
    },
    {
     "name": "stdout",
     "output_type": "stream",
     "text": [
      "\n",
      "0: 384x640 19 cars, 2 buss, 1 truck, 98.6ms\n",
      "Speed: 3.0ms preprocess, 98.6ms inference, 1.3ms postprocess per image at shape (1, 3, 384, 640)\n",
      "\n",
      "0: 384x640 1 alpaca, 90.7ms\n",
      "Speed: 2.0ms preprocess, 90.7ms inference, 0.0ms postprocess per image at shape (1, 3, 384, 640)\n"
     ]
    },
    {
     "name": "stderr",
     "output_type": "stream",
     "text": [
      "Using CPU. Note: This module is much faster with a GPU.\n"
     ]
    },
    {
     "name": "stdout",
     "output_type": "stream",
     "text": [
      "\n",
      "0: 384x640 21 cars, 1 bus, 1 truck, 97.3ms\n",
      "Speed: 3.0ms preprocess, 97.3ms inference, 1.0ms postprocess per image at shape (1, 3, 384, 640)\n",
      "\n",
      "0: 384x640 1 alpaca, 88.8ms\n",
      "Speed: 3.0ms preprocess, 88.8ms inference, 0.0ms postprocess per image at shape (1, 3, 384, 640)\n"
     ]
    },
    {
     "name": "stderr",
     "output_type": "stream",
     "text": [
      "Using CPU. Note: This module is much faster with a GPU.\n"
     ]
    },
    {
     "name": "stdout",
     "output_type": "stream",
     "text": [
      "\n",
      "0: 384x640 21 cars, 1 bus, 1 truck, 98.0ms\n",
      "Speed: 3.0ms preprocess, 98.0ms inference, 2.0ms postprocess per image at shape (1, 3, 384, 640)\n",
      "\n",
      "0: 384x640 1 alpaca, 87.9ms\n",
      "Speed: 2.0ms preprocess, 87.9ms inference, 0.0ms postprocess per image at shape (1, 3, 384, 640)\n"
     ]
    },
    {
     "name": "stderr",
     "output_type": "stream",
     "text": [
      "Using CPU. Note: This module is much faster with a GPU.\n"
     ]
    },
    {
     "name": "stdout",
     "output_type": "stream",
     "text": [
      "\n",
      "0: 384x640 19 cars, 1 bus, 1 truck, 113.1ms\n",
      "Speed: 3.0ms preprocess, 113.1ms inference, 2.5ms postprocess per image at shape (1, 3, 384, 640)\n",
      "\n",
      "0: 384x640 1 alpaca, 92.2ms\n",
      "Speed: 1.9ms preprocess, 92.2ms inference, 1.0ms postprocess per image at shape (1, 3, 384, 640)\n"
     ]
    },
    {
     "name": "stderr",
     "output_type": "stream",
     "text": [
      "Using CPU. Note: This module is much faster with a GPU.\n"
     ]
    },
    {
     "name": "stdout",
     "output_type": "stream",
     "text": [
      "\n",
      "0: 384x640 20 cars, 1 bus, 1 truck, 256.0ms\n",
      "Speed: 3.0ms preprocess, 256.0ms inference, 6.6ms postprocess per image at shape (1, 3, 384, 640)\n",
      "\n",
      "0: 384x640 1 alpaca, 230.2ms\n",
      "Speed: 4.0ms preprocess, 230.2ms inference, 1.0ms postprocess per image at shape (1, 3, 384, 640)\n"
     ]
    },
    {
     "name": "stderr",
     "output_type": "stream",
     "text": [
      "Using CPU. Note: This module is much faster with a GPU.\n"
     ]
    },
    {
     "name": "stdout",
     "output_type": "stream",
     "text": [
      "\n",
      "0: 384x640 19 cars, 1 bus, 1 truck, 97.8ms\n",
      "Speed: 3.0ms preprocess, 97.8ms inference, 2.0ms postprocess per image at shape (1, 3, 384, 640)\n",
      "\n",
      "0: 384x640 1 alpaca, 141.3ms\n",
      "Speed: 2.0ms preprocess, 141.3ms inference, 1.1ms postprocess per image at shape (1, 3, 384, 640)\n"
     ]
    },
    {
     "name": "stderr",
     "output_type": "stream",
     "text": [
      "Using CPU. Note: This module is much faster with a GPU.\n"
     ]
    },
    {
     "name": "stdout",
     "output_type": "stream",
     "text": [
      "\n",
      "0: 384x640 19 cars, 1 bus, 1 truck, 102.0ms\n",
      "Speed: 3.1ms preprocess, 102.0ms inference, 1.0ms postprocess per image at shape (1, 3, 384, 640)\n",
      "\n",
      "0: 384x640 1 alpaca, 131.0ms\n",
      "Speed: 3.0ms preprocess, 131.0ms inference, 1.0ms postprocess per image at shape (1, 3, 384, 640)\n"
     ]
    },
    {
     "name": "stderr",
     "output_type": "stream",
     "text": [
      "Using CPU. Note: This module is much faster with a GPU.\n"
     ]
    },
    {
     "name": "stdout",
     "output_type": "stream",
     "text": [
      "\n",
      "0: 384x640 19 cars, 1 bus, 1 truck, 167.7ms\n",
      "Speed: 4.0ms preprocess, 167.7ms inference, 3.0ms postprocess per image at shape (1, 3, 384, 640)\n",
      "\n",
      "0: 384x640 1 alpaca, 166.6ms\n",
      "Speed: 2.0ms preprocess, 166.6ms inference, 0.0ms postprocess per image at shape (1, 3, 384, 640)\n"
     ]
    },
    {
     "name": "stderr",
     "output_type": "stream",
     "text": [
      "Using CPU. Note: This module is much faster with a GPU.\n"
     ]
    },
    {
     "name": "stdout",
     "output_type": "stream",
     "text": [
      "\n",
      "0: 384x640 17 cars, 1 bus, 1 truck, 96.7ms\n",
      "Speed: 3.1ms preprocess, 96.7ms inference, 3.0ms postprocess per image at shape (1, 3, 384, 640)\n",
      "\n",
      "0: 384x640 (no detections), 97.8ms\n",
      "Speed: 3.0ms preprocess, 97.8ms inference, 0.0ms postprocess per image at shape (1, 3, 384, 640)\n",
      "\n",
      "0: 384x640 19 cars, 1 bus, 1 truck, 104.9ms\n",
      "Speed: 3.1ms preprocess, 104.9ms inference, 1.0ms postprocess per image at shape (1, 3, 384, 640)\n",
      "\n",
      "0: 384x640 1 alpaca, 90.2ms\n",
      "Speed: 2.0ms preprocess, 90.2ms inference, 0.0ms postprocess per image at shape (1, 3, 384, 640)\n"
     ]
    },
    {
     "name": "stderr",
     "output_type": "stream",
     "text": [
      "Using CPU. Note: This module is much faster with a GPU.\n"
     ]
    },
    {
     "name": "stdout",
     "output_type": "stream",
     "text": [
      "\n",
      "0: 384x640 23 cars, 1 bus, 2 trucks, 95.1ms\n",
      "Speed: 3.0ms preprocess, 95.1ms inference, 1.0ms postprocess per image at shape (1, 3, 384, 640)\n",
      "\n",
      "0: 384x640 (no detections), 86.2ms\n",
      "Speed: 2.0ms preprocess, 86.2ms inference, 0.0ms postprocess per image at shape (1, 3, 384, 640)\n",
      "\n",
      "0: 384x640 21 cars, 1 bus, 1 truck, 121.7ms\n",
      "Speed: 3.0ms preprocess, 121.7ms inference, 5.0ms postprocess per image at shape (1, 3, 384, 640)\n",
      "\n",
      "0: 384x640 1 alpaca, 192.9ms\n",
      "Speed: 3.0ms preprocess, 192.9ms inference, 1.0ms postprocess per image at shape (1, 3, 384, 640)\n"
     ]
    },
    {
     "name": "stderr",
     "output_type": "stream",
     "text": [
      "Using CPU. Note: This module is much faster with a GPU.\n"
     ]
    },
    {
     "name": "stdout",
     "output_type": "stream",
     "text": [
      "\n",
      "0: 384x640 22 cars, 1 bus, 2 trucks, 99.1ms\n",
      "Speed: 3.0ms preprocess, 99.1ms inference, 1.9ms postprocess per image at shape (1, 3, 384, 640)\n",
      "\n",
      "0: 384x640 1 alpaca, 88.0ms\n",
      "Speed: 1.0ms preprocess, 88.0ms inference, 1.0ms postprocess per image at shape (1, 3, 384, 640)\n"
     ]
    },
    {
     "name": "stderr",
     "output_type": "stream",
     "text": [
      "Using CPU. Note: This module is much faster with a GPU.\n"
     ]
    },
    {
     "name": "stdout",
     "output_type": "stream",
     "text": [
      "\n",
      "0: 384x640 19 cars, 1 bus, 2 trucks, 111.0ms\n",
      "Speed: 2.0ms preprocess, 111.0ms inference, 2.0ms postprocess per image at shape (1, 3, 384, 640)\n",
      "\n",
      "0: 384x640 (no detections), 118.4ms\n",
      "Speed: 2.0ms preprocess, 118.4ms inference, 0.0ms postprocess per image at shape (1, 3, 384, 640)\n",
      "\n",
      "0: 384x640 19 cars, 1 bus, 2 trucks, 120.7ms\n",
      "Speed: 3.0ms preprocess, 120.7ms inference, 1.9ms postprocess per image at shape (1, 3, 384, 640)\n",
      "\n",
      "0: 384x640 (no detections), 86.0ms\n",
      "Speed: 2.0ms preprocess, 86.0ms inference, 1.0ms postprocess per image at shape (1, 3, 384, 640)\n",
      "\n",
      "0: 384x640 18 cars, 1 bus, 2 trucks, 98.4ms\n",
      "Speed: 2.0ms preprocess, 98.4ms inference, 1.0ms postprocess per image at shape (1, 3, 384, 640)\n",
      "\n",
      "0: 384x640 1 alpaca, 87.0ms\n",
      "Speed: 1.9ms preprocess, 87.0ms inference, 0.0ms postprocess per image at shape (1, 3, 384, 640)\n"
     ]
    },
    {
     "name": "stderr",
     "output_type": "stream",
     "text": [
      "Using CPU. Note: This module is much faster with a GPU.\n"
     ]
    },
    {
     "name": "stdout",
     "output_type": "stream",
     "text": [
      "\n",
      "0: 384x640 17 cars, 1 bus, 2 trucks, 110.3ms\n",
      "Speed: 1.6ms preprocess, 110.3ms inference, 1.9ms postprocess per image at shape (1, 3, 384, 640)\n",
      "\n",
      "0: 384x640 2 alpacas, 92.4ms\n",
      "Speed: 2.1ms preprocess, 92.4ms inference, 0.0ms postprocess per image at shape (1, 3, 384, 640)\n"
     ]
    },
    {
     "name": "stderr",
     "output_type": "stream",
     "text": [
      "Using CPU. Note: This module is much faster with a GPU.\n",
      "Using CPU. Note: This module is much faster with a GPU.\n"
     ]
    },
    {
     "name": "stdout",
     "output_type": "stream",
     "text": [
      "\n",
      "0: 384x640 17 cars, 1 bus, 2 trucks, 220.1ms\n",
      "Speed: 3.0ms preprocess, 220.1ms inference, 5.1ms postprocess per image at shape (1, 3, 384, 640)\n",
      "\n",
      "0: 384x640 2 alpacas, 157.0ms\n",
      "Speed: 3.7ms preprocess, 157.0ms inference, 1.0ms postprocess per image at shape (1, 3, 384, 640)\n"
     ]
    },
    {
     "name": "stderr",
     "output_type": "stream",
     "text": [
      "Using CPU. Note: This module is much faster with a GPU.\n",
      "Using CPU. Note: This module is much faster with a GPU.\n"
     ]
    },
    {
     "name": "stdout",
     "output_type": "stream",
     "text": [
      "\n",
      "0: 384x640 20 cars, 1 bus, 3 trucks, 84.2ms\n",
      "Speed: 3.0ms preprocess, 84.2ms inference, 0.0ms postprocess per image at shape (1, 3, 384, 640)\n",
      "\n",
      "0: 384x640 1 alpaca, 84.8ms\n",
      "Speed: 1.1ms preprocess, 84.8ms inference, 1.0ms postprocess per image at shape (1, 3, 384, 640)\n"
     ]
    },
    {
     "name": "stderr",
     "output_type": "stream",
     "text": [
      "Using CPU. Note: This module is much faster with a GPU.\n"
     ]
    },
    {
     "name": "stdout",
     "output_type": "stream",
     "text": [
      "\n",
      "0: 384x640 19 cars, 1 bus, 1 truck, 123.5ms\n",
      "Speed: 2.0ms preprocess, 123.5ms inference, 2.0ms postprocess per image at shape (1, 3, 384, 640)\n",
      "\n",
      "0: 384x640 1 alpaca, 119.5ms\n",
      "Speed: 2.0ms preprocess, 119.5ms inference, 1.0ms postprocess per image at shape (1, 3, 384, 640)\n"
     ]
    },
    {
     "name": "stderr",
     "output_type": "stream",
     "text": [
      "Using CPU. Note: This module is much faster with a GPU.\n"
     ]
    },
    {
     "name": "stdout",
     "output_type": "stream",
     "text": [
      "\n",
      "0: 384x640 17 cars, 1 bus, 2 trucks, 128.8ms\n",
      "Speed: 4.0ms preprocess, 128.8ms inference, 2.0ms postprocess per image at shape (1, 3, 384, 640)\n",
      "\n",
      "0: 384x640 (no detections), 128.1ms\n",
      "Speed: 2.7ms preprocess, 128.1ms inference, 0.0ms postprocess per image at shape (1, 3, 384, 640)\n",
      "\n",
      "0: 384x640 18 cars, 2 buss, 2 trucks, 139.7ms\n",
      "Speed: 4.0ms preprocess, 139.7ms inference, 2.0ms postprocess per image at shape (1, 3, 384, 640)\n",
      "\n",
      "0: 384x640 1 alpaca, 97.3ms\n",
      "Speed: 3.0ms preprocess, 97.3ms inference, 1.0ms postprocess per image at shape (1, 3, 384, 640)\n"
     ]
    },
    {
     "name": "stderr",
     "output_type": "stream",
     "text": [
      "Using CPU. Note: This module is much faster with a GPU.\n"
     ]
    },
    {
     "name": "stdout",
     "output_type": "stream",
     "text": [
      "\n",
      "0: 384x640 19 cars, 1 bus, 2 trucks, 102.9ms\n",
      "Speed: 3.0ms preprocess, 102.9ms inference, 1.9ms postprocess per image at shape (1, 3, 384, 640)\n",
      "\n",
      "0: 384x640 (no detections), 108.6ms\n",
      "Speed: 2.0ms preprocess, 108.6ms inference, 0.0ms postprocess per image at shape (1, 3, 384, 640)\n",
      "\n",
      "0: 384x640 20 cars, 1 bus, 2 trucks, 112.1ms\n",
      "Speed: 5.6ms preprocess, 112.1ms inference, 2.0ms postprocess per image at shape (1, 3, 384, 640)\n",
      "\n",
      "0: 384x640 (no detections), 109.7ms\n",
      "Speed: 2.6ms preprocess, 109.7ms inference, 1.0ms postprocess per image at shape (1, 3, 384, 640)\n",
      "\n",
      "0: 384x640 18 cars, 1 bus, 2 trucks, 119.1ms\n",
      "Speed: 3.3ms preprocess, 119.1ms inference, 2.0ms postprocess per image at shape (1, 3, 384, 640)\n",
      "\n",
      "0: 384x640 1 alpaca, 88.4ms\n",
      "Speed: 2.0ms preprocess, 88.4ms inference, 0.0ms postprocess per image at shape (1, 3, 384, 640)\n"
     ]
    },
    {
     "name": "stderr",
     "output_type": "stream",
     "text": [
      "Using CPU. Note: This module is much faster with a GPU.\n"
     ]
    },
    {
     "name": "stdout",
     "output_type": "stream",
     "text": [
      "\n",
      "0: 384x640 19 cars, 1 bus, 3 trucks, 106.2ms\n",
      "Speed: 1.8ms preprocess, 106.2ms inference, 1.0ms postprocess per image at shape (1, 3, 384, 640)\n",
      "\n",
      "0: 384x640 (no detections), 87.9ms\n",
      "Speed: 3.1ms preprocess, 87.9ms inference, 0.0ms postprocess per image at shape (1, 3, 384, 640)\n",
      "\n",
      "0: 384x640 20 cars, 1 bus, 2 trucks, 99.7ms\n",
      "Speed: 2.0ms preprocess, 99.7ms inference, 2.0ms postprocess per image at shape (1, 3, 384, 640)\n",
      "\n",
      "0: 384x640 1 alpaca, 91.4ms\n",
      "Speed: 3.0ms preprocess, 91.4ms inference, 1.2ms postprocess per image at shape (1, 3, 384, 640)\n"
     ]
    },
    {
     "name": "stderr",
     "output_type": "stream",
     "text": [
      "Using CPU. Note: This module is much faster with a GPU.\n"
     ]
    },
    {
     "name": "stdout",
     "output_type": "stream",
     "text": [
      "\n",
      "0: 384x640 18 cars, 1 bus, 3 trucks, 110.5ms\n",
      "Speed: 2.1ms preprocess, 110.5ms inference, 2.0ms postprocess per image at shape (1, 3, 384, 640)\n",
      "\n",
      "0: 384x640 1 alpaca, 97.3ms\n",
      "Speed: 3.1ms preprocess, 97.3ms inference, 1.0ms postprocess per image at shape (1, 3, 384, 640)\n"
     ]
    },
    {
     "name": "stderr",
     "output_type": "stream",
     "text": [
      "Using CPU. Note: This module is much faster with a GPU.\n"
     ]
    },
    {
     "name": "stdout",
     "output_type": "stream",
     "text": [
      "\n",
      "0: 384x640 19 cars, 1 bus, 3 trucks, 94.0ms\n",
      "Speed: 1.6ms preprocess, 94.0ms inference, 1.0ms postprocess per image at shape (1, 3, 384, 640)\n",
      "\n",
      "0: 384x640 1 alpaca, 88.2ms\n",
      "Speed: 1.5ms preprocess, 88.2ms inference, 1.0ms postprocess per image at shape (1, 3, 384, 640)\n"
     ]
    },
    {
     "name": "stderr",
     "output_type": "stream",
     "text": [
      "Using CPU. Note: This module is much faster with a GPU.\n"
     ]
    },
    {
     "name": "stdout",
     "output_type": "stream",
     "text": [
      "\n",
      "0: 384x640 18 cars, 2 buss, 2 trucks, 96.9ms\n",
      "Speed: 3.0ms preprocess, 96.9ms inference, 2.0ms postprocess per image at shape (1, 3, 384, 640)\n",
      "\n",
      "0: 384x640 (no detections), 90.4ms\n",
      "Speed: 2.0ms preprocess, 90.4ms inference, 1.0ms postprocess per image at shape (1, 3, 384, 640)\n",
      "\n",
      "0: 384x640 17 cars, 1 bus, 2 trucks, 95.8ms\n",
      "Speed: 3.0ms preprocess, 95.8ms inference, 1.0ms postprocess per image at shape (1, 3, 384, 640)\n",
      "\n",
      "0: 384x640 (no detections), 87.2ms\n",
      "Speed: 1.9ms preprocess, 87.2ms inference, 0.0ms postprocess per image at shape (1, 3, 384, 640)\n",
      "\n",
      "0: 384x640 18 cars, 1 bus, 2 trucks, 95.5ms\n",
      "Speed: 3.6ms preprocess, 95.5ms inference, 1.0ms postprocess per image at shape (1, 3, 384, 640)\n",
      "\n",
      "0: 384x640 2 alpacas, 86.9ms\n",
      "Speed: 1.5ms preprocess, 86.9ms inference, 1.0ms postprocess per image at shape (1, 3, 384, 640)\n"
     ]
    },
    {
     "name": "stderr",
     "output_type": "stream",
     "text": [
      "Using CPU. Note: This module is much faster with a GPU.\n",
      "Using CPU. Note: This module is much faster with a GPU.\n"
     ]
    },
    {
     "name": "stdout",
     "output_type": "stream",
     "text": [
      "\n",
      "0: 384x640 19 cars, 1 bus, 2 trucks, 94.5ms\n",
      "Speed: 2.3ms preprocess, 94.5ms inference, 2.0ms postprocess per image at shape (1, 3, 384, 640)\n",
      "\n",
      "0: 384x640 1 alpaca, 93.8ms\n",
      "Speed: 2.9ms preprocess, 93.8ms inference, 1.0ms postprocess per image at shape (1, 3, 384, 640)\n"
     ]
    },
    {
     "name": "stderr",
     "output_type": "stream",
     "text": [
      "Using CPU. Note: This module is much faster with a GPU.\n"
     ]
    },
    {
     "name": "stdout",
     "output_type": "stream",
     "text": [
      "\n",
      "0: 384x640 18 cars, 1 bus, 3 trucks, 101.6ms\n",
      "Speed: 2.1ms preprocess, 101.6ms inference, 1.5ms postprocess per image at shape (1, 3, 384, 640)\n",
      "\n",
      "0: 384x640 1 alpaca, 88.7ms\n",
      "Speed: 1.2ms preprocess, 88.7ms inference, 0.6ms postprocess per image at shape (1, 3, 384, 640)\n"
     ]
    },
    {
     "name": "stderr",
     "output_type": "stream",
     "text": [
      "Using CPU. Note: This module is much faster with a GPU.\n"
     ]
    },
    {
     "name": "stdout",
     "output_type": "stream",
     "text": [
      "\n",
      "0: 384x640 20 cars, 1 bus, 1 truck, 129.2ms\n",
      "Speed: 3.7ms preprocess, 129.2ms inference, 1.9ms postprocess per image at shape (1, 3, 384, 640)\n",
      "\n",
      "0: 384x640 (no detections), 95.5ms\n",
      "Speed: 3.0ms preprocess, 95.5ms inference, 0.0ms postprocess per image at shape (1, 3, 384, 640)\n",
      "\n",
      "0: 384x640 22 cars, 2 buss, 2 trucks, 103.3ms\n",
      "Speed: 3.6ms preprocess, 103.3ms inference, 2.1ms postprocess per image at shape (1, 3, 384, 640)\n",
      "\n",
      "0: 384x640 (no detections), 96.4ms\n",
      "Speed: 2.0ms preprocess, 96.4ms inference, 1.0ms postprocess per image at shape (1, 3, 384, 640)\n",
      "\n",
      "0: 384x640 20 cars, 2 buss, 2 trucks, 99.6ms\n",
      "Speed: 3.0ms preprocess, 99.6ms inference, 2.0ms postprocess per image at shape (1, 3, 384, 640)\n",
      "\n",
      "0: 384x640 2 alpacas, 86.9ms\n",
      "Speed: 2.7ms preprocess, 86.9ms inference, 0.0ms postprocess per image at shape (1, 3, 384, 640)\n"
     ]
    },
    {
     "name": "stderr",
     "output_type": "stream",
     "text": [
      "Using CPU. Note: This module is much faster with a GPU.\n",
      "Using CPU. Note: This module is much faster with a GPU.\n"
     ]
    },
    {
     "name": "stdout",
     "output_type": "stream",
     "text": [
      "\n",
      "0: 384x640 19 cars, 1 bus, 1 truck, 98.3ms\n",
      "Speed: 3.5ms preprocess, 98.3ms inference, 1.1ms postprocess per image at shape (1, 3, 384, 640)\n",
      "\n",
      "0: 384x640 2 alpacas, 85.9ms\n",
      "Speed: 1.9ms preprocess, 85.9ms inference, 0.0ms postprocess per image at shape (1, 3, 384, 640)\n"
     ]
    },
    {
     "name": "stderr",
     "output_type": "stream",
     "text": [
      "Using CPU. Note: This module is much faster with a GPU.\n",
      "Using CPU. Note: This module is much faster with a GPU.\n"
     ]
    },
    {
     "name": "stdout",
     "output_type": "stream",
     "text": [
      "\n",
      "0: 384x640 17 cars, 2 buss, 2 trucks, 96.1ms\n",
      "Speed: 1.0ms preprocess, 96.1ms inference, 2.0ms postprocess per image at shape (1, 3, 384, 640)\n",
      "\n",
      "0: 384x640 2 alpacas, 85.4ms\n",
      "Speed: 2.0ms preprocess, 85.4ms inference, 1.0ms postprocess per image at shape (1, 3, 384, 640)\n"
     ]
    },
    {
     "name": "stderr",
     "output_type": "stream",
     "text": [
      "Using CPU. Note: This module is much faster with a GPU.\n",
      "Using CPU. Note: This module is much faster with a GPU.\n"
     ]
    },
    {
     "name": "stdout",
     "output_type": "stream",
     "text": [
      "\n",
      "0: 384x640 16 cars, 2 buss, 1 truck, 122.0ms\n",
      "Speed: 2.0ms preprocess, 122.0ms inference, 1.0ms postprocess per image at shape (1, 3, 384, 640)\n",
      "\n",
      "0: 384x640 (no detections), 87.5ms\n",
      "Speed: 2.5ms preprocess, 87.5ms inference, 0.0ms postprocess per image at shape (1, 3, 384, 640)\n",
      "\n",
      "0: 384x640 17 cars, 1 bus, 1 truck, 98.5ms\n",
      "Speed: 3.0ms preprocess, 98.5ms inference, 1.0ms postprocess per image at shape (1, 3, 384, 640)\n",
      "\n",
      "0: 384x640 (no detections), 88.2ms\n",
      "Speed: 2.0ms preprocess, 88.2ms inference, 1.0ms postprocess per image at shape (1, 3, 384, 640)\n",
      "\n",
      "0: 384x640 18 cars, 2 buss, 1 truck, 100.5ms\n",
      "Speed: 3.0ms preprocess, 100.5ms inference, 1.0ms postprocess per image at shape (1, 3, 384, 640)\n",
      "\n",
      "0: 384x640 1 alpaca, 86.2ms\n",
      "Speed: 2.1ms preprocess, 86.2ms inference, 0.0ms postprocess per image at shape (1, 3, 384, 640)\n"
     ]
    },
    {
     "name": "stderr",
     "output_type": "stream",
     "text": [
      "Using CPU. Note: This module is much faster with a GPU.\n"
     ]
    },
    {
     "name": "stdout",
     "output_type": "stream",
     "text": [
      "\n",
      "0: 384x640 18 cars, 2 buss, 3 trucks, 95.5ms\n",
      "Speed: 3.0ms preprocess, 95.5ms inference, 0.9ms postprocess per image at shape (1, 3, 384, 640)\n",
      "\n",
      "0: 384x640 1 alpaca, 109.8ms\n",
      "Speed: 2.6ms preprocess, 109.8ms inference, 0.0ms postprocess per image at shape (1, 3, 384, 640)\n"
     ]
    },
    {
     "name": "stderr",
     "output_type": "stream",
     "text": [
      "Using CPU. Note: This module is much faster with a GPU.\n"
     ]
    },
    {
     "name": "stdout",
     "output_type": "stream",
     "text": [
      "\n",
      "0: 384x640 19 cars, 2 buss, 3 trucks, 97.9ms\n",
      "Speed: 2.1ms preprocess, 97.9ms inference, 1.1ms postprocess per image at shape (1, 3, 384, 640)\n",
      "\n",
      "0: 384x640 1 alpaca, 85.8ms\n",
      "Speed: 2.0ms preprocess, 85.8ms inference, 0.0ms postprocess per image at shape (1, 3, 384, 640)\n"
     ]
    },
    {
     "name": "stderr",
     "output_type": "stream",
     "text": [
      "Using CPU. Note: This module is much faster with a GPU.\n"
     ]
    },
    {
     "name": "stdout",
     "output_type": "stream",
     "text": [
      "\n",
      "0: 384x640 22 cars, 2 buss, 3 trucks, 95.4ms\n",
      "Speed: 3.0ms preprocess, 95.4ms inference, 0.9ms postprocess per image at shape (1, 3, 384, 640)\n",
      "\n",
      "0: 384x640 1 alpaca, 91.8ms\n",
      "Speed: 2.0ms preprocess, 91.8ms inference, 1.0ms postprocess per image at shape (1, 3, 384, 640)\n"
     ]
    },
    {
     "name": "stderr",
     "output_type": "stream",
     "text": [
      "Using CPU. Note: This module is much faster with a GPU.\n"
     ]
    },
    {
     "name": "stdout",
     "output_type": "stream",
     "text": [
      "\n",
      "0: 384x640 21 cars, 1 bus, 3 trucks, 98.9ms\n",
      "Speed: 2.9ms preprocess, 98.9ms inference, 2.0ms postprocess per image at shape (1, 3, 384, 640)\n",
      "\n",
      "0: 384x640 (no detections), 86.1ms\n",
      "Speed: 2.0ms preprocess, 86.1ms inference, 0.0ms postprocess per image at shape (1, 3, 384, 640)\n",
      "\n",
      "0: 384x640 24 cars, 1 bus, 3 trucks, 98.2ms\n",
      "Speed: 3.5ms preprocess, 98.2ms inference, 1.1ms postprocess per image at shape (1, 3, 384, 640)\n",
      "\n",
      "0: 384x640 (no detections), 85.9ms\n",
      "Speed: 2.0ms preprocess, 85.9ms inference, 0.0ms postprocess per image at shape (1, 3, 384, 640)\n",
      "\n",
      "0: 384x640 23 cars, 1 bus, 3 trucks, 101.2ms\n",
      "Speed: 2.5ms preprocess, 101.2ms inference, 2.0ms postprocess per image at shape (1, 3, 384, 640)\n",
      "\n",
      "0: 384x640 1 alpaca, 89.3ms\n",
      "Speed: 2.0ms preprocess, 89.3ms inference, 1.0ms postprocess per image at shape (1, 3, 384, 640)\n"
     ]
    },
    {
     "name": "stderr",
     "output_type": "stream",
     "text": [
      "Using CPU. Note: This module is much faster with a GPU.\n"
     ]
    },
    {
     "name": "stdout",
     "output_type": "stream",
     "text": [
      "\n",
      "0: 384x640 23 cars, 1 bus, 2 trucks, 98.0ms\n",
      "Speed: 2.8ms preprocess, 98.0ms inference, 1.0ms postprocess per image at shape (1, 3, 384, 640)\n",
      "\n",
      "0: 384x640 (no detections), 86.8ms\n",
      "Speed: 2.0ms preprocess, 86.8ms inference, 1.0ms postprocess per image at shape (1, 3, 384, 640)\n",
      "\n",
      "0: 384x640 23 cars, 1 bus, 2 trucks, 104.3ms\n",
      "Speed: 2.5ms preprocess, 104.3ms inference, 1.9ms postprocess per image at shape (1, 3, 384, 640)\n",
      "\n",
      "0: 384x640 (no detections), 87.7ms\n",
      "Speed: 2.0ms preprocess, 87.7ms inference, 0.0ms postprocess per image at shape (1, 3, 384, 640)\n",
      "\n",
      "0: 384x640 26 cars, 1 bus, 2 trucks, 98.5ms\n",
      "Speed: 3.6ms preprocess, 98.5ms inference, 1.0ms postprocess per image at shape (1, 3, 384, 640)\n",
      "\n",
      "0: 384x640 (no detections), 88.5ms\n",
      "Speed: 2.0ms preprocess, 88.5ms inference, 1.0ms postprocess per image at shape (1, 3, 384, 640)\n",
      "\n",
      "0: 384x640 24 cars, 1 bus, 2 trucks, 100.2ms\n",
      "Speed: 3.2ms preprocess, 100.2ms inference, 1.0ms postprocess per image at shape (1, 3, 384, 640)\n",
      "\n",
      "0: 384x640 1 alpaca, 88.7ms\n",
      "Speed: 2.0ms preprocess, 88.7ms inference, 1.0ms postprocess per image at shape (1, 3, 384, 640)\n"
     ]
    },
    {
     "name": "stderr",
     "output_type": "stream",
     "text": [
      "Using CPU. Note: This module is much faster with a GPU.\n"
     ]
    },
    {
     "name": "stdout",
     "output_type": "stream",
     "text": [
      "\n",
      "0: 384x640 22 cars, 2 buss, 2 trucks, 92.3ms\n",
      "Speed: 3.0ms preprocess, 92.3ms inference, 2.1ms postprocess per image at shape (1, 3, 384, 640)\n",
      "\n",
      "0: 384x640 1 alpaca, 86.4ms\n",
      "Speed: 3.1ms preprocess, 86.4ms inference, 0.1ms postprocess per image at shape (1, 3, 384, 640)\n"
     ]
    },
    {
     "name": "stderr",
     "output_type": "stream",
     "text": [
      "Using CPU. Note: This module is much faster with a GPU.\n"
     ]
    },
    {
     "name": "stdout",
     "output_type": "stream",
     "text": [
      "\n",
      "0: 384x640 22 cars, 2 buss, 2 trucks, 103.7ms\n",
      "Speed: 3.0ms preprocess, 103.7ms inference, 1.2ms postprocess per image at shape (1, 3, 384, 640)\n",
      "\n",
      "0: 384x640 (no detections), 92.5ms\n",
      "Speed: 2.0ms preprocess, 92.5ms inference, 0.0ms postprocess per image at shape (1, 3, 384, 640)\n",
      "\n",
      "0: 384x640 22 cars, 1 bus, 2 trucks, 110.9ms\n",
      "Speed: 1.5ms preprocess, 110.9ms inference, 1.0ms postprocess per image at shape (1, 3, 384, 640)\n",
      "\n",
      "0: 384x640 1 alpaca, 96.7ms\n",
      "Speed: 1.4ms preprocess, 96.7ms inference, 0.0ms postprocess per image at shape (1, 3, 384, 640)\n"
     ]
    },
    {
     "name": "stderr",
     "output_type": "stream",
     "text": [
      "Using CPU. Note: This module is much faster with a GPU.\n"
     ]
    },
    {
     "name": "stdout",
     "output_type": "stream",
     "text": [
      "\n",
      "0: 384x640 24 cars, 1 bus, 1 truck, 97.0ms\n",
      "Speed: 3.0ms preprocess, 97.0ms inference, 2.3ms postprocess per image at shape (1, 3, 384, 640)\n",
      "\n",
      "0: 384x640 (no detections), 86.0ms\n",
      "Speed: 1.6ms preprocess, 86.0ms inference, 0.0ms postprocess per image at shape (1, 3, 384, 640)\n",
      "\n",
      "0: 384x640 25 cars, 1 bus, 1 truck, 93.9ms\n",
      "Speed: 3.0ms preprocess, 93.9ms inference, 0.6ms postprocess per image at shape (1, 3, 384, 640)\n",
      "\n",
      "0: 384x640 1 alpaca, 88.9ms\n",
      "Speed: 2.1ms preprocess, 88.9ms inference, 1.0ms postprocess per image at shape (1, 3, 384, 640)\n"
     ]
    },
    {
     "name": "stderr",
     "output_type": "stream",
     "text": [
      "Using CPU. Note: This module is much faster with a GPU.\n"
     ]
    },
    {
     "name": "stdout",
     "output_type": "stream",
     "text": [
      "\n",
      "0: 384x640 24 cars, 1 bus, 1 truck, 95.3ms\n",
      "Speed: 2.4ms preprocess, 95.3ms inference, 2.0ms postprocess per image at shape (1, 3, 384, 640)\n",
      "\n",
      "0: 384x640 1 alpaca, 88.3ms\n",
      "Speed: 2.0ms preprocess, 88.3ms inference, 1.0ms postprocess per image at shape (1, 3, 384, 640)\n"
     ]
    },
    {
     "name": "stderr",
     "output_type": "stream",
     "text": [
      "Using CPU. Note: This module is much faster with a GPU.\n"
     ]
    },
    {
     "name": "stdout",
     "output_type": "stream",
     "text": [
      "\n",
      "0: 384x640 23 cars, 1 bus, 1 truck, 212.1ms\n",
      "Speed: 5.6ms preprocess, 212.1ms inference, 5.9ms postprocess per image at shape (1, 3, 384, 640)\n",
      "\n",
      "0: 384x640 1 alpaca, 201.3ms\n",
      "Speed: 3.6ms preprocess, 201.3ms inference, 1.0ms postprocess per image at shape (1, 3, 384, 640)\n"
     ]
    },
    {
     "name": "stderr",
     "output_type": "stream",
     "text": [
      "Using CPU. Note: This module is much faster with a GPU.\n"
     ]
    },
    {
     "name": "stdout",
     "output_type": "stream",
     "text": [
      "\n",
      "0: 384x640 25 cars, 1 bus, 1 truck, 96.6ms\n",
      "Speed: 2.5ms preprocess, 96.6ms inference, 1.0ms postprocess per image at shape (1, 3, 384, 640)\n",
      "\n",
      "0: 384x640 (no detections), 86.6ms\n",
      "Speed: 2.0ms preprocess, 86.6ms inference, 0.0ms postprocess per image at shape (1, 3, 384, 640)\n",
      "\n",
      "0: 384x640 23 cars, 1 bus, 1 truck, 95.9ms\n",
      "Speed: 2.9ms preprocess, 95.9ms inference, 1.0ms postprocess per image at shape (1, 3, 384, 640)\n",
      "\n",
      "0: 384x640 (no detections), 85.7ms\n",
      "Speed: 2.5ms preprocess, 85.7ms inference, 0.0ms postprocess per image at shape (1, 3, 384, 640)\n",
      "\n",
      "0: 384x640 21 cars, 1 bus, 1 truck, 99.0ms\n",
      "Speed: 3.0ms preprocess, 99.0ms inference, 1.9ms postprocess per image at shape (1, 3, 384, 640)\n",
      "\n",
      "0: 384x640 1 alpaca, 86.9ms\n",
      "Speed: 1.0ms preprocess, 86.9ms inference, 0.0ms postprocess per image at shape (1, 3, 384, 640)\n"
     ]
    },
    {
     "name": "stderr",
     "output_type": "stream",
     "text": [
      "Using CPU. Note: This module is much faster with a GPU.\n"
     ]
    },
    {
     "name": "stdout",
     "output_type": "stream",
     "text": [
      "\n",
      "0: 384x640 22 cars, 1 bus, 1 truck, 93.5ms\n",
      "Speed: 2.0ms preprocess, 93.5ms inference, 1.9ms postprocess per image at shape (1, 3, 384, 640)\n",
      "\n",
      "0: 384x640 1 alpaca, 87.4ms\n",
      "Speed: 2.0ms preprocess, 87.4ms inference, 0.6ms postprocess per image at shape (1, 3, 384, 640)\n"
     ]
    },
    {
     "name": "stderr",
     "output_type": "stream",
     "text": [
      "Using CPU. Note: This module is much faster with a GPU.\n"
     ]
    },
    {
     "name": "stdout",
     "output_type": "stream",
     "text": [
      "\n",
      "0: 384x640 21 cars, 1 bus, 1 truck, 108.3ms\n",
      "Speed: 3.9ms preprocess, 108.3ms inference, 2.1ms postprocess per image at shape (1, 3, 384, 640)\n",
      "\n",
      "0: 384x640 1 alpaca, 92.5ms\n",
      "Speed: 3.5ms preprocess, 92.5ms inference, 0.0ms postprocess per image at shape (1, 3, 384, 640)\n"
     ]
    },
    {
     "name": "stderr",
     "output_type": "stream",
     "text": [
      "Using CPU. Note: This module is much faster with a GPU.\n"
     ]
    },
    {
     "name": "stdout",
     "output_type": "stream",
     "text": [
      "\n",
      "0: 384x640 21 cars, 1 bus, 1 truck, 102.4ms\n",
      "Speed: 2.0ms preprocess, 102.4ms inference, 1.6ms postprocess per image at shape (1, 3, 384, 640)\n",
      "\n",
      "0: 384x640 (no detections), 89.3ms\n",
      "Speed: 2.3ms preprocess, 89.3ms inference, 0.0ms postprocess per image at shape (1, 3, 384, 640)\n",
      "\n",
      "0: 384x640 21 cars, 1 bus, 1 truck, 104.0ms\n",
      "Speed: 2.5ms preprocess, 104.0ms inference, 1.0ms postprocess per image at shape (1, 3, 384, 640)\n",
      "\n",
      "0: 384x640 (no detections), 86.3ms\n",
      "Speed: 1.0ms preprocess, 86.3ms inference, 1.1ms postprocess per image at shape (1, 3, 384, 640)\n",
      "\n",
      "0: 384x640 22 cars, 1 bus, 1 truck, 94.3ms\n",
      "Speed: 2.0ms preprocess, 94.3ms inference, 1.6ms postprocess per image at shape (1, 3, 384, 640)\n",
      "\n",
      "0: 384x640 (no detections), 88.4ms\n",
      "Speed: 1.6ms preprocess, 88.4ms inference, 0.0ms postprocess per image at shape (1, 3, 384, 640)\n",
      "\n",
      "0: 384x640 23 cars, 1 bus, 2 trucks, 95.2ms\n",
      "Speed: 2.0ms preprocess, 95.2ms inference, 1.0ms postprocess per image at shape (1, 3, 384, 640)\n",
      "\n",
      "0: 384x640 1 alpaca, 87.7ms\n",
      "Speed: 1.7ms preprocess, 87.7ms inference, 0.0ms postprocess per image at shape (1, 3, 384, 640)\n"
     ]
    },
    {
     "name": "stderr",
     "output_type": "stream",
     "text": [
      "Using CPU. Note: This module is much faster with a GPU.\n"
     ]
    },
    {
     "name": "stdout",
     "output_type": "stream",
     "text": [
      "\n",
      "0: 384x640 23 cars, 1 bus, 3 trucks, 96.7ms\n",
      "Speed: 0.0ms preprocess, 96.7ms inference, 2.0ms postprocess per image at shape (1, 3, 384, 640)\n",
      "\n",
      "0: 384x640 (no detections), 83.7ms\n",
      "Speed: 1.0ms preprocess, 83.7ms inference, 0.0ms postprocess per image at shape (1, 3, 384, 640)\n",
      "\n",
      "0: 384x640 20 cars, 1 bus, 3 trucks, 214.7ms\n",
      "Speed: 3.6ms preprocess, 214.7ms inference, 5.6ms postprocess per image at shape (1, 3, 384, 640)\n",
      "\n",
      "0: 384x640 1 alpaca, 198.0ms\n",
      "Speed: 3.1ms preprocess, 198.0ms inference, 1.0ms postprocess per image at shape (1, 3, 384, 640)\n"
     ]
    },
    {
     "name": "stderr",
     "output_type": "stream",
     "text": [
      "Using CPU. Note: This module is much faster with a GPU.\n"
     ]
    },
    {
     "name": "stdout",
     "output_type": "stream",
     "text": [
      "\n",
      "0: 384x640 22 cars, 1 bus, 3 trucks, 102.2ms\n",
      "Speed: 2.6ms preprocess, 102.2ms inference, 2.1ms postprocess per image at shape (1, 3, 384, 640)\n",
      "\n",
      "0: 384x640 1 alpaca, 84.6ms\n",
      "Speed: 3.0ms preprocess, 84.6ms inference, 0.0ms postprocess per image at shape (1, 3, 384, 640)\n"
     ]
    },
    {
     "name": "stderr",
     "output_type": "stream",
     "text": [
      "Using CPU. Note: This module is much faster with a GPU.\n"
     ]
    },
    {
     "name": "stdout",
     "output_type": "stream",
     "text": [
      "\n",
      "0: 384x640 22 cars, 1 bus, 3 trucks, 90.8ms\n",
      "Speed: 3.5ms preprocess, 90.8ms inference, 1.0ms postprocess per image at shape (1, 3, 384, 640)\n",
      "\n",
      "0: 384x640 (no detections), 82.2ms\n",
      "Speed: 2.0ms preprocess, 82.2ms inference, 0.0ms postprocess per image at shape (1, 3, 384, 640)\n",
      "\n",
      "0: 384x640 24 cars, 1 bus, 2 trucks, 92.7ms\n",
      "Speed: 3.0ms preprocess, 92.7ms inference, 1.7ms postprocess per image at shape (1, 3, 384, 640)\n",
      "\n",
      "0: 384x640 1 alpaca, 84.6ms\n",
      "Speed: 1.5ms preprocess, 84.6ms inference, 0.0ms postprocess per image at shape (1, 3, 384, 640)\n"
     ]
    },
    {
     "name": "stderr",
     "output_type": "stream",
     "text": [
      "Using CPU. Note: This module is much faster with a GPU.\n"
     ]
    },
    {
     "name": "stdout",
     "output_type": "stream",
     "text": [
      "\n",
      "0: 384x640 22 cars, 1 bus, 1 truck, 94.6ms\n",
      "Speed: 3.0ms preprocess, 94.6ms inference, 2.0ms postprocess per image at shape (1, 3, 384, 640)\n",
      "\n",
      "0: 384x640 (no detections), 85.0ms\n",
      "Speed: 2.0ms preprocess, 85.0ms inference, 1.7ms postprocess per image at shape (1, 3, 384, 640)\n",
      "\n",
      "0: 384x640 22 cars, 1 bus, 1 truck, 94.0ms\n",
      "Speed: 3.0ms preprocess, 94.0ms inference, 1.9ms postprocess per image at shape (1, 3, 384, 640)\n",
      "\n",
      "0: 384x640 1 alpaca, 85.4ms\n",
      "Speed: 1.9ms preprocess, 85.4ms inference, 0.0ms postprocess per image at shape (1, 3, 384, 640)\n"
     ]
    },
    {
     "name": "stderr",
     "output_type": "stream",
     "text": [
      "Using CPU. Note: This module is much faster with a GPU.\n"
     ]
    },
    {
     "name": "stdout",
     "output_type": "stream",
     "text": [
      "\n",
      "0: 384x640 22 cars, 1 bus, 2 trucks, 96.8ms\n",
      "Speed: 2.0ms preprocess, 96.8ms inference, 2.1ms postprocess per image at shape (1, 3, 384, 640)\n",
      "\n",
      "0: 384x640 1 alpaca, 86.4ms\n",
      "Speed: 2.5ms preprocess, 86.4ms inference, 0.0ms postprocess per image at shape (1, 3, 384, 640)\n"
     ]
    },
    {
     "name": "stderr",
     "output_type": "stream",
     "text": [
      "Using CPU. Note: This module is much faster with a GPU.\n"
     ]
    },
    {
     "name": "stdout",
     "output_type": "stream",
     "text": [
      "\n",
      "0: 384x640 23 cars, 1 bus, 1 truck, 93.6ms\n",
      "Speed: 2.5ms preprocess, 93.6ms inference, 2.1ms postprocess per image at shape (1, 3, 384, 640)\n",
      "\n",
      "0: 384x640 1 alpaca, 81.9ms\n",
      "Speed: 2.0ms preprocess, 81.9ms inference, 1.0ms postprocess per image at shape (1, 3, 384, 640)\n"
     ]
    },
    {
     "name": "stderr",
     "output_type": "stream",
     "text": [
      "Using CPU. Note: This module is much faster with a GPU.\n"
     ]
    },
    {
     "name": "stdout",
     "output_type": "stream",
     "text": [
      "\n",
      "0: 384x640 21 cars, 1 bus, 1 truck, 100.2ms\n",
      "Speed: 4.8ms preprocess, 100.2ms inference, 1.1ms postprocess per image at shape (1, 3, 384, 640)\n",
      "\n",
      "0: 384x640 (no detections), 86.7ms\n",
      "Speed: 3.0ms preprocess, 86.7ms inference, 0.0ms postprocess per image at shape (1, 3, 384, 640)\n",
      "\n",
      "0: 384x640 21 cars, 2 trucks, 97.5ms\n",
      "Speed: 3.3ms preprocess, 97.5ms inference, 1.1ms postprocess per image at shape (1, 3, 384, 640)\n",
      "\n",
      "0: 384x640 (no detections), 87.0ms\n",
      "Speed: 2.0ms preprocess, 87.0ms inference, 0.0ms postprocess per image at shape (1, 3, 384, 640)\n",
      "\n",
      "0: 384x640 20 cars, 2 trucks, 109.5ms\n",
      "Speed: 2.5ms preprocess, 109.5ms inference, 1.8ms postprocess per image at shape (1, 3, 384, 640)\n",
      "\n",
      "0: 384x640 1 alpaca, 86.5ms\n",
      "Speed: 2.0ms preprocess, 86.5ms inference, 1.6ms postprocess per image at shape (1, 3, 384, 640)\n"
     ]
    },
    {
     "name": "stderr",
     "output_type": "stream",
     "text": [
      "Using CPU. Note: This module is much faster with a GPU.\n"
     ]
    },
    {
     "name": "stdout",
     "output_type": "stream",
     "text": [
      "\n",
      "0: 384x640 21 cars, 2 trucks, 95.9ms\n",
      "Speed: 3.2ms preprocess, 95.9ms inference, 2.0ms postprocess per image at shape (1, 3, 384, 640)\n",
      "\n",
      "0: 384x640 1 alpaca, 85.3ms\n",
      "Speed: 2.7ms preprocess, 85.3ms inference, 0.0ms postprocess per image at shape (1, 3, 384, 640)\n"
     ]
    },
    {
     "name": "stderr",
     "output_type": "stream",
     "text": [
      "Using CPU. Note: This module is much faster with a GPU.\n"
     ]
    },
    {
     "name": "stdout",
     "output_type": "stream",
     "text": [
      "\n",
      "0: 384x640 24 cars, 1 bus, 2 trucks, 106.1ms\n",
      "Speed: 3.4ms preprocess, 106.1ms inference, 1.0ms postprocess per image at shape (1, 3, 384, 640)\n",
      "\n",
      "0: 384x640 1 alpaca, 99.4ms\n",
      "Speed: 2.5ms preprocess, 99.4ms inference, 0.9ms postprocess per image at shape (1, 3, 384, 640)\n"
     ]
    },
    {
     "name": "stderr",
     "output_type": "stream",
     "text": [
      "Using CPU. Note: This module is much faster with a GPU.\n"
     ]
    },
    {
     "name": "stdout",
     "output_type": "stream",
     "text": [
      "\n",
      "0: 384x640 21 cars, 1 bus, 1 truck, 95.4ms\n",
      "Speed: 2.0ms preprocess, 95.4ms inference, 1.1ms postprocess per image at shape (1, 3, 384, 640)\n",
      "\n",
      "0: 384x640 (no detections), 86.9ms\n",
      "Speed: 2.0ms preprocess, 86.9ms inference, 0.0ms postprocess per image at shape (1, 3, 384, 640)\n",
      "\n",
      "0: 384x640 21 cars, 1 bus, 2 trucks, 95.4ms\n",
      "Speed: 2.5ms preprocess, 95.4ms inference, 3.0ms postprocess per image at shape (1, 3, 384, 640)\n",
      "\n",
      "0: 384x640 1 alpaca, 85.7ms\n",
      "Speed: 2.6ms preprocess, 85.7ms inference, 0.0ms postprocess per image at shape (1, 3, 384, 640)\n"
     ]
    },
    {
     "name": "stderr",
     "output_type": "stream",
     "text": [
      "Using CPU. Note: This module is much faster with a GPU.\n"
     ]
    },
    {
     "name": "stdout",
     "output_type": "stream",
     "text": [
      "\n",
      "0: 384x640 21 cars, 1 bus, 1 truck, 91.5ms\n",
      "Speed: 3.0ms preprocess, 91.5ms inference, 5.1ms postprocess per image at shape (1, 3, 384, 640)\n",
      "\n",
      "0: 384x640 (no detections), 86.2ms\n",
      "Speed: 2.9ms preprocess, 86.2ms inference, 1.0ms postprocess per image at shape (1, 3, 384, 640)\n",
      "\n",
      "0: 384x640 23 cars, 1 bus, 1 truck, 96.0ms\n",
      "Speed: 3.0ms preprocess, 96.0ms inference, 1.0ms postprocess per image at shape (1, 3, 384, 640)\n",
      "\n",
      "0: 384x640 1 alpaca, 90.6ms\n",
      "Speed: 3.0ms preprocess, 90.6ms inference, 1.0ms postprocess per image at shape (1, 3, 384, 640)\n"
     ]
    },
    {
     "name": "stderr",
     "output_type": "stream",
     "text": [
      "Using CPU. Note: This module is much faster with a GPU.\n"
     ]
    },
    {
     "name": "stdout",
     "output_type": "stream",
     "text": [
      "\n",
      "0: 384x640 22 cars, 1 bus, 1 truck, 93.1ms\n",
      "Speed: 2.0ms preprocess, 93.1ms inference, 1.0ms postprocess per image at shape (1, 3, 384, 640)\n",
      "\n",
      "0: 384x640 1 alpaca, 84.4ms\n",
      "Speed: 3.0ms preprocess, 84.4ms inference, 0.9ms postprocess per image at shape (1, 3, 384, 640)\n"
     ]
    },
    {
     "name": "stderr",
     "output_type": "stream",
     "text": [
      "Using CPU. Note: This module is much faster with a GPU.\n"
     ]
    },
    {
     "name": "stdout",
     "output_type": "stream",
     "text": [
      "\n",
      "0: 384x640 23 cars, 1 bus, 1 truck, 110.2ms\n",
      "Speed: 2.0ms preprocess, 110.2ms inference, 1.0ms postprocess per image at shape (1, 3, 384, 640)\n",
      "\n",
      "0: 384x640 1 alpaca, 93.6ms\n",
      "Speed: 2.0ms preprocess, 93.6ms inference, 0.0ms postprocess per image at shape (1, 3, 384, 640)\n"
     ]
    },
    {
     "name": "stderr",
     "output_type": "stream",
     "text": [
      "Using CPU. Note: This module is much faster with a GPU.\n"
     ]
    },
    {
     "name": "stdout",
     "output_type": "stream",
     "text": [
      "\n",
      "0: 384x640 21 cars, 1 bus, 2 trucks, 230.1ms\n",
      "Speed: 2.8ms preprocess, 230.1ms inference, 5.6ms postprocess per image at shape (1, 3, 384, 640)\n",
      "\n",
      "0: 384x640 1 alpaca, 189.2ms\n",
      "Speed: 3.0ms preprocess, 189.2ms inference, 0.0ms postprocess per image at shape (1, 3, 384, 640)\n"
     ]
    },
    {
     "name": "stderr",
     "output_type": "stream",
     "text": [
      "Using CPU. Note: This module is much faster with a GPU.\n"
     ]
    },
    {
     "name": "stdout",
     "output_type": "stream",
     "text": [
      "\n",
      "0: 384x640 21 cars, 1 bus, 2 trucks, 94.3ms\n",
      "Speed: 3.0ms preprocess, 94.3ms inference, 1.0ms postprocess per image at shape (1, 3, 384, 640)\n",
      "\n",
      "0: 384x640 1 alpaca, 83.4ms\n",
      "Speed: 2.1ms preprocess, 83.4ms inference, 0.0ms postprocess per image at shape (1, 3, 384, 640)\n"
     ]
    },
    {
     "name": "stderr",
     "output_type": "stream",
     "text": [
      "Using CPU. Note: This module is much faster with a GPU.\n"
     ]
    },
    {
     "name": "stdout",
     "output_type": "stream",
     "text": [
      "\n",
      "0: 384x640 21 cars, 1 bus, 3 trucks, 107.8ms\n",
      "Speed: 4.6ms preprocess, 107.8ms inference, 1.0ms postprocess per image at shape (1, 3, 384, 640)\n",
      "\n",
      "0: 384x640 1 alpaca, 84.0ms\n",
      "Speed: 2.8ms preprocess, 84.0ms inference, 1.0ms postprocess per image at shape (1, 3, 384, 640)\n"
     ]
    },
    {
     "name": "stderr",
     "output_type": "stream",
     "text": [
      "Using CPU. Note: This module is much faster with a GPU.\n"
     ]
    },
    {
     "name": "stdout",
     "output_type": "stream",
     "text": [
      "\n",
      "0: 384x640 20 cars, 1 bus, 3 trucks, 107.8ms\n",
      "Speed: 3.2ms preprocess, 107.8ms inference, 1.0ms postprocess per image at shape (1, 3, 384, 640)\n",
      "\n",
      "0: 384x640 1 alpaca, 86.1ms\n",
      "Speed: 2.5ms preprocess, 86.1ms inference, 1.0ms postprocess per image at shape (1, 3, 384, 640)\n"
     ]
    },
    {
     "name": "stderr",
     "output_type": "stream",
     "text": [
      "Using CPU. Note: This module is much faster with a GPU.\n"
     ]
    },
    {
     "name": "stdout",
     "output_type": "stream",
     "text": [
      "\n",
      "0: 384x640 20 cars, 1 bus, 3 trucks, 222.8ms\n",
      "Speed: 3.5ms preprocess, 222.8ms inference, 6.5ms postprocess per image at shape (1, 3, 384, 640)\n",
      "\n",
      "0: 384x640 1 alpaca, 197.5ms\n",
      "Speed: 4.0ms preprocess, 197.5ms inference, 1.0ms postprocess per image at shape (1, 3, 384, 640)\n"
     ]
    },
    {
     "name": "stderr",
     "output_type": "stream",
     "text": [
      "Using CPU. Note: This module is much faster with a GPU.\n"
     ]
    },
    {
     "name": "stdout",
     "output_type": "stream",
     "text": [
      "\n",
      "0: 384x640 22 cars, 1 bus, 4 trucks, 145.9ms\n",
      "Speed: 4.0ms preprocess, 145.9ms inference, 2.0ms postprocess per image at shape (1, 3, 384, 640)\n",
      "\n",
      "0: 384x640 2 alpacas, 114.6ms\n",
      "Speed: 2.0ms preprocess, 114.6ms inference, 1.0ms postprocess per image at shape (1, 3, 384, 640)\n"
     ]
    },
    {
     "name": "stderr",
     "output_type": "stream",
     "text": [
      "Using CPU. Note: This module is much faster with a GPU.\n",
      "Using CPU. Note: This module is much faster with a GPU.\n"
     ]
    },
    {
     "name": "stdout",
     "output_type": "stream",
     "text": [
      "\n",
      "0: 384x640 21 cars, 1 bus, 3 trucks, 142.3ms\n",
      "Speed: 2.3ms preprocess, 142.3ms inference, 2.1ms postprocess per image at shape (1, 3, 384, 640)\n",
      "\n",
      "0: 384x640 1 alpaca, 191.9ms\n",
      "Speed: 3.2ms preprocess, 191.9ms inference, 1.0ms postprocess per image at shape (1, 3, 384, 640)\n"
     ]
    },
    {
     "name": "stderr",
     "output_type": "stream",
     "text": [
      "Using CPU. Note: This module is much faster with a GPU.\n"
     ]
    },
    {
     "name": "stdout",
     "output_type": "stream",
     "text": [
      "\n",
      "0: 384x640 21 cars, 1 bus, 2 trucks, 180.7ms\n",
      "Speed: 4.1ms preprocess, 180.7ms inference, 1.1ms postprocess per image at shape (1, 3, 384, 640)\n",
      "\n",
      "0: 384x640 1 alpaca, 164.0ms\n",
      "Speed: 3.3ms preprocess, 164.0ms inference, 1.1ms postprocess per image at shape (1, 3, 384, 640)\n"
     ]
    },
    {
     "name": "stderr",
     "output_type": "stream",
     "text": [
      "Using CPU. Note: This module is much faster with a GPU.\n"
     ]
    },
    {
     "name": "stdout",
     "output_type": "stream",
     "text": [
      "\n",
      "0: 384x640 22 cars, 1 bus, 2 trucks, 105.3ms\n",
      "Speed: 3.1ms preprocess, 105.3ms inference, 2.0ms postprocess per image at shape (1, 3, 384, 640)\n",
      "\n",
      "0: 384x640 (no detections), 168.8ms\n",
      "Speed: 3.1ms preprocess, 168.8ms inference, 0.0ms postprocess per image at shape (1, 3, 384, 640)\n",
      "\n",
      "0: 384x640 22 cars, 1 bus, 2 trucks, 122.9ms\n",
      "Speed: 4.0ms preprocess, 122.9ms inference, 2.0ms postprocess per image at shape (1, 3, 384, 640)\n",
      "\n",
      "0: 384x640 1 alpaca, 104.2ms\n",
      "Speed: 2.0ms preprocess, 104.2ms inference, 0.0ms postprocess per image at shape (1, 3, 384, 640)\n"
     ]
    },
    {
     "name": "stderr",
     "output_type": "stream",
     "text": [
      "Using CPU. Note: This module is much faster with a GPU.\n"
     ]
    },
    {
     "name": "stdout",
     "output_type": "stream",
     "text": [
      "\n",
      "0: 384x640 22 cars, 1 bus, 1 truck, 179.7ms\n",
      "Speed: 2.2ms preprocess, 179.7ms inference, 4.4ms postprocess per image at shape (1, 3, 384, 640)\n",
      "\n",
      "0: 384x640 1 alpaca, 181.7ms\n",
      "Speed: 3.8ms preprocess, 181.7ms inference, 0.0ms postprocess per image at shape (1, 3, 384, 640)\n"
     ]
    },
    {
     "name": "stderr",
     "output_type": "stream",
     "text": [
      "Using CPU. Note: This module is much faster with a GPU.\n"
     ]
    },
    {
     "name": "stdout",
     "output_type": "stream",
     "text": [
      "\n",
      "0: 384x640 21 cars, 1 bus, 1 truck, 184.8ms\n",
      "Speed: 4.2ms preprocess, 184.8ms inference, 2.1ms postprocess per image at shape (1, 3, 384, 640)\n",
      "\n",
      "0: 384x640 1 alpaca, 209.0ms\n",
      "Speed: 3.0ms preprocess, 209.0ms inference, 0.2ms postprocess per image at shape (1, 3, 384, 640)\n"
     ]
    },
    {
     "name": "stderr",
     "output_type": "stream",
     "text": [
      "Using CPU. Note: This module is much faster with a GPU.\n"
     ]
    },
    {
     "name": "stdout",
     "output_type": "stream",
     "text": [
      "\n",
      "0: 384x640 20 cars, 1 bus, 2 trucks, 117.9ms\n",
      "Speed: 3.1ms preprocess, 117.9ms inference, 1.0ms postprocess per image at shape (1, 3, 384, 640)\n",
      "\n",
      "0: 384x640 (no detections), 107.2ms\n",
      "Speed: 2.0ms preprocess, 107.2ms inference, 1.0ms postprocess per image at shape (1, 3, 384, 640)\n",
      "\n",
      "0: 384x640 23 cars, 1 bus, 1 truck, 99.6ms\n",
      "Speed: 2.9ms preprocess, 99.6ms inference, 2.0ms postprocess per image at shape (1, 3, 384, 640)\n",
      "\n",
      "0: 384x640 1 alpaca, 93.8ms\n",
      "Speed: 2.0ms preprocess, 93.8ms inference, 0.9ms postprocess per image at shape (1, 3, 384, 640)\n"
     ]
    },
    {
     "name": "stderr",
     "output_type": "stream",
     "text": [
      "Using CPU. Note: This module is much faster with a GPU.\n"
     ]
    },
    {
     "name": "stdout",
     "output_type": "stream",
     "text": [
      "\n",
      "0: 384x640 23 cars, 1 bus, 2 trucks, 97.7ms\n",
      "Speed: 3.0ms preprocess, 97.7ms inference, 2.0ms postprocess per image at shape (1, 3, 384, 640)\n",
      "\n",
      "0: 384x640 1 alpaca, 88.3ms\n",
      "Speed: 1.9ms preprocess, 88.3ms inference, 1.0ms postprocess per image at shape (1, 3, 384, 640)\n"
     ]
    },
    {
     "name": "stderr",
     "output_type": "stream",
     "text": [
      "Using CPU. Note: This module is much faster with a GPU.\n"
     ]
    },
    {
     "name": "stdout",
     "output_type": "stream",
     "text": [
      "\n",
      "0: 384x640 25 cars, 1 bus, 2 trucks, 130.0ms\n",
      "Speed: 4.3ms preprocess, 130.0ms inference, 2.3ms postprocess per image at shape (1, 3, 384, 640)\n",
      "\n",
      "0: 384x640 2 alpacas, 149.6ms\n",
      "Speed: 1.9ms preprocess, 149.6ms inference, 1.0ms postprocess per image at shape (1, 3, 384, 640)\n"
     ]
    },
    {
     "name": "stderr",
     "output_type": "stream",
     "text": [
      "Using CPU. Note: This module is much faster with a GPU.\n",
      "Using CPU. Note: This module is much faster with a GPU.\n"
     ]
    },
    {
     "name": "stdout",
     "output_type": "stream",
     "text": [
      "\n",
      "0: 384x640 19 cars, 1 bus, 98.0ms\n",
      "Speed: 2.0ms preprocess, 98.0ms inference, 2.1ms postprocess per image at shape (1, 3, 384, 640)\n",
      "\n",
      "0: 384x640 2 alpacas, 88.6ms\n",
      "Speed: 2.9ms preprocess, 88.6ms inference, 1.5ms postprocess per image at shape (1, 3, 384, 640)\n"
     ]
    },
    {
     "name": "stderr",
     "output_type": "stream",
     "text": [
      "Using CPU. Note: This module is much faster with a GPU.\n",
      "Using CPU. Note: This module is much faster with a GPU.\n"
     ]
    },
    {
     "name": "stdout",
     "output_type": "stream",
     "text": [
      "\n",
      "0: 384x640 19 cars, 1 bus, 1 truck, 145.5ms\n",
      "Speed: 3.2ms preprocess, 145.5ms inference, 1.9ms postprocess per image at shape (1, 3, 384, 640)\n",
      "\n",
      "0: 384x640 2 alpacas, 241.4ms\n",
      "Speed: 2.9ms preprocess, 241.4ms inference, 0.0ms postprocess per image at shape (1, 3, 384, 640)\n"
     ]
    },
    {
     "name": "stderr",
     "output_type": "stream",
     "text": [
      "Using CPU. Note: This module is much faster with a GPU.\n",
      "Using CPU. Note: This module is much faster with a GPU.\n"
     ]
    },
    {
     "name": "stdout",
     "output_type": "stream",
     "text": [
      "\n",
      "0: 384x640 20 cars, 1 bus, 1 truck, 112.2ms\n",
      "Speed: 2.0ms preprocess, 112.2ms inference, 1.0ms postprocess per image at shape (1, 3, 384, 640)\n",
      "\n",
      "0: 384x640 1 alpaca, 151.6ms\n",
      "Speed: 1.0ms preprocess, 151.6ms inference, 1.9ms postprocess per image at shape (1, 3, 384, 640)\n"
     ]
    },
    {
     "name": "stderr",
     "output_type": "stream",
     "text": [
      "Using CPU. Note: This module is much faster with a GPU.\n"
     ]
    },
    {
     "name": "stdout",
     "output_type": "stream",
     "text": [
      "\n",
      "0: 384x640 19 cars, 1 bus, 1 truck, 98.0ms\n",
      "Speed: 3.5ms preprocess, 98.0ms inference, 2.7ms postprocess per image at shape (1, 3, 384, 640)\n",
      "\n",
      "0: 384x640 (no detections), 88.8ms\n",
      "Speed: 3.0ms preprocess, 88.8ms inference, 0.0ms postprocess per image at shape (1, 3, 384, 640)\n",
      "\n",
      "0: 384x640 22 cars, 1 bus, 1 truck, 102.1ms\n",
      "Speed: 3.6ms preprocess, 102.1ms inference, 2.0ms postprocess per image at shape (1, 3, 384, 640)\n",
      "\n",
      "0: 384x640 1 alpaca, 91.2ms\n",
      "Speed: 2.0ms preprocess, 91.2ms inference, 0.0ms postprocess per image at shape (1, 3, 384, 640)\n"
     ]
    },
    {
     "name": "stderr",
     "output_type": "stream",
     "text": [
      "Using CPU. Note: This module is much faster with a GPU.\n"
     ]
    },
    {
     "name": "stdout",
     "output_type": "stream",
     "text": [
      "\n",
      "0: 384x640 20 cars, 1 bus, 1 truck, 188.0ms\n",
      "Speed: 2.5ms preprocess, 188.0ms inference, 5.7ms postprocess per image at shape (1, 3, 384, 640)\n",
      "\n",
      "0: 384x640 2 alpacas, 240.7ms\n",
      "Speed: 2.3ms preprocess, 240.7ms inference, 0.0ms postprocess per image at shape (1, 3, 384, 640)\n"
     ]
    },
    {
     "name": "stderr",
     "output_type": "stream",
     "text": [
      "Using CPU. Note: This module is much faster with a GPU.\n",
      "Using CPU. Note: This module is much faster with a GPU.\n"
     ]
    },
    {
     "name": "stdout",
     "output_type": "stream",
     "text": [
      "\n",
      "0: 384x640 23 cars, 1 bus, 1 truck, 141.1ms\n",
      "Speed: 6.0ms preprocess, 141.1ms inference, 2.0ms postprocess per image at shape (1, 3, 384, 640)\n",
      "\n",
      "0: 384x640 2 alpacas, 143.5ms\n",
      "Speed: 1.0ms preprocess, 143.5ms inference, 1.0ms postprocess per image at shape (1, 3, 384, 640)\n"
     ]
    },
    {
     "name": "stderr",
     "output_type": "stream",
     "text": [
      "Using CPU. Note: This module is much faster with a GPU.\n",
      "Using CPU. Note: This module is much faster with a GPU.\n"
     ]
    },
    {
     "name": "stdout",
     "output_type": "stream",
     "text": [
      "\n",
      "0: 384x640 22 cars, 1 bus, 1 truck, 160.2ms\n",
      "Speed: 3.0ms preprocess, 160.2ms inference, 3.3ms postprocess per image at shape (1, 3, 384, 640)\n",
      "\n",
      "0: 384x640 3 alpacas, 123.2ms\n",
      "Speed: 3.0ms preprocess, 123.2ms inference, 1.6ms postprocess per image at shape (1, 3, 384, 640)\n"
     ]
    },
    {
     "name": "stderr",
     "output_type": "stream",
     "text": [
      "Using CPU. Note: This module is much faster with a GPU.\n",
      "Using CPU. Note: This module is much faster with a GPU.\n",
      "Using CPU. Note: This module is much faster with a GPU.\n"
     ]
    },
    {
     "name": "stdout",
     "output_type": "stream",
     "text": [
      "\n",
      "0: 384x640 24 cars, 1 bus, 1 truck, 103.2ms\n",
      "Speed: 2.0ms preprocess, 103.2ms inference, 1.5ms postprocess per image at shape (1, 3, 384, 640)\n",
      "\n",
      "0: 384x640 1 alpaca, 100.0ms\n",
      "Speed: 1.0ms preprocess, 100.0ms inference, 1.0ms postprocess per image at shape (1, 3, 384, 640)\n"
     ]
    },
    {
     "name": "stderr",
     "output_type": "stream",
     "text": [
      "Using CPU. Note: This module is much faster with a GPU.\n"
     ]
    },
    {
     "name": "stdout",
     "output_type": "stream",
     "text": [
      "\n",
      "0: 384x640 24 cars, 1 bus, 2 trucks, 139.1ms\n",
      "Speed: 3.2ms preprocess, 139.1ms inference, 2.0ms postprocess per image at shape (1, 3, 384, 640)\n",
      "\n",
      "0: 384x640 (no detections), 112.4ms\n",
      "Speed: 1.7ms preprocess, 112.4ms inference, 0.0ms postprocess per image at shape (1, 3, 384, 640)\n",
      "\n",
      "0: 384x640 23 cars, 1 bus, 1 truck, 112.2ms\n",
      "Speed: 2.0ms preprocess, 112.2ms inference, 2.2ms postprocess per image at shape (1, 3, 384, 640)\n",
      "\n",
      "0: 384x640 1 alpaca, 105.6ms\n",
      "Speed: 1.9ms preprocess, 105.6ms inference, 0.9ms postprocess per image at shape (1, 3, 384, 640)\n"
     ]
    },
    {
     "name": "stderr",
     "output_type": "stream",
     "text": [
      "Using CPU. Note: This module is much faster with a GPU.\n"
     ]
    },
    {
     "name": "stdout",
     "output_type": "stream",
     "text": [
      "\n",
      "0: 384x640 27 cars, 1 bus, 1 truck, 114.5ms\n",
      "Speed: 3.2ms preprocess, 114.5ms inference, 2.5ms postprocess per image at shape (1, 3, 384, 640)\n",
      "\n",
      "0: 384x640 (no detections), 101.8ms\n",
      "Speed: 2.0ms preprocess, 101.8ms inference, 0.0ms postprocess per image at shape (1, 3, 384, 640)\n",
      "\n",
      "0: 384x640 23 cars, 1 bus, 1 truck, 116.0ms\n",
      "Speed: 4.5ms preprocess, 116.0ms inference, 2.2ms postprocess per image at shape (1, 3, 384, 640)\n",
      "\n",
      "0: 384x640 1 alpaca, 110.1ms\n",
      "Speed: 2.0ms preprocess, 110.1ms inference, 1.0ms postprocess per image at shape (1, 3, 384, 640)\n"
     ]
    },
    {
     "name": "stderr",
     "output_type": "stream",
     "text": [
      "Using CPU. Note: This module is much faster with a GPU.\n"
     ]
    },
    {
     "name": "stdout",
     "output_type": "stream",
     "text": [
      "\n",
      "0: 384x640 23 cars, 1 bus, 1 truck, 106.1ms\n",
      "Speed: 2.5ms preprocess, 106.1ms inference, 2.0ms postprocess per image at shape (1, 3, 384, 640)\n",
      "\n",
      "0: 384x640 1 alpaca, 90.1ms\n",
      "Speed: 2.5ms preprocess, 90.1ms inference, 1.0ms postprocess per image at shape (1, 3, 384, 640)\n"
     ]
    },
    {
     "name": "stderr",
     "output_type": "stream",
     "text": [
      "Using CPU. Note: This module is much faster with a GPU.\n"
     ]
    },
    {
     "name": "stdout",
     "output_type": "stream",
     "text": [
      "\n",
      "0: 384x640 26 cars, 2 trucks, 147.2ms\n",
      "Speed: 6.9ms preprocess, 147.2ms inference, 1.9ms postprocess per image at shape (1, 3, 384, 640)\n",
      "\n",
      "0: 384x640 (no detections), 97.2ms\n",
      "Speed: 2.0ms preprocess, 97.2ms inference, 0.0ms postprocess per image at shape (1, 3, 384, 640)\n",
      "\n",
      "0: 384x640 26 cars, 2 trucks, 103.1ms\n",
      "Speed: 2.1ms preprocess, 103.1ms inference, 1.0ms postprocess per image at shape (1, 3, 384, 640)\n",
      "\n",
      "0: 384x640 2 alpacas, 89.4ms\n",
      "Speed: 1.9ms preprocess, 89.4ms inference, 1.0ms postprocess per image at shape (1, 3, 384, 640)\n"
     ]
    },
    {
     "name": "stderr",
     "output_type": "stream",
     "text": [
      "Using CPU. Note: This module is much faster with a GPU.\n",
      "Using CPU. Note: This module is much faster with a GPU.\n"
     ]
    },
    {
     "name": "stdout",
     "output_type": "stream",
     "text": [
      "\n",
      "0: 384x640 23 cars, 1 bus, 1 truck, 129.4ms\n",
      "Speed: 4.3ms preprocess, 129.4ms inference, 6.0ms postprocess per image at shape (1, 3, 384, 640)\n",
      "\n",
      "0: 384x640 1 alpaca, 149.5ms\n",
      "Speed: 2.9ms preprocess, 149.5ms inference, 0.0ms postprocess per image at shape (1, 3, 384, 640)\n"
     ]
    },
    {
     "name": "stderr",
     "output_type": "stream",
     "text": [
      "Using CPU. Note: This module is much faster with a GPU.\n"
     ]
    },
    {
     "name": "stdout",
     "output_type": "stream",
     "text": [
      "\n",
      "0: 384x640 23 cars, 1 bus, 2 trucks, 138.6ms\n",
      "Speed: 3.0ms preprocess, 138.6ms inference, 1.0ms postprocess per image at shape (1, 3, 384, 640)\n",
      "\n",
      "0: 384x640 1 alpaca, 183.8ms\n",
      "Speed: 1.7ms preprocess, 183.8ms inference, 1.0ms postprocess per image at shape (1, 3, 384, 640)\n"
     ]
    },
    {
     "name": "stderr",
     "output_type": "stream",
     "text": [
      "Using CPU. Note: This module is much faster with a GPU.\n"
     ]
    },
    {
     "name": "stdout",
     "output_type": "stream",
     "text": [
      "\n",
      "0: 384x640 22 cars, 1 bus, 1 truck, 127.5ms\n",
      "Speed: 2.0ms preprocess, 127.5ms inference, 2.1ms postprocess per image at shape (1, 3, 384, 640)\n",
      "\n",
      "0: 384x640 2 alpacas, 115.1ms\n",
      "Speed: 2.3ms preprocess, 115.1ms inference, 0.0ms postprocess per image at shape (1, 3, 384, 640)\n"
     ]
    },
    {
     "name": "stderr",
     "output_type": "stream",
     "text": [
      "Using CPU. Note: This module is much faster with a GPU.\n",
      "Using CPU. Note: This module is much faster with a GPU.\n"
     ]
    },
    {
     "name": "stdout",
     "output_type": "stream",
     "text": [
      "\n",
      "0: 384x640 25 cars, 1 bus, 1 truck, 139.6ms\n",
      "Speed: 3.0ms preprocess, 139.6ms inference, 2.0ms postprocess per image at shape (1, 3, 384, 640)\n",
      "\n",
      "0: 384x640 (no detections), 93.0ms\n",
      "Speed: 2.0ms preprocess, 93.0ms inference, 0.0ms postprocess per image at shape (1, 3, 384, 640)\n",
      "\n",
      "0: 384x640 26 cars, 1 bus, 2 trucks, 111.8ms\n",
      "Speed: 3.0ms preprocess, 111.8ms inference, 1.7ms postprocess per image at shape (1, 3, 384, 640)\n",
      "\n",
      "0: 384x640 (no detections), 90.6ms\n",
      "Speed: 3.0ms preprocess, 90.6ms inference, 1.0ms postprocess per image at shape (1, 3, 384, 640)\n",
      "\n",
      "0: 384x640 25 cars, 1 bus, 2 trucks, 102.2ms\n",
      "Speed: 3.1ms preprocess, 102.2ms inference, 2.1ms postprocess per image at shape (1, 3, 384, 640)\n",
      "\n",
      "0: 384x640 (no detections), 93.5ms\n",
      "Speed: 1.9ms preprocess, 93.5ms inference, 0.0ms postprocess per image at shape (1, 3, 384, 640)\n",
      "\n",
      "0: 384x640 25 cars, 2 trucks, 101.9ms\n",
      "Speed: 2.0ms preprocess, 101.9ms inference, 2.0ms postprocess per image at shape (1, 3, 384, 640)\n",
      "\n",
      "0: 384x640 (no detections), 90.2ms\n",
      "Speed: 2.0ms preprocess, 90.2ms inference, 1.0ms postprocess per image at shape (1, 3, 384, 640)\n",
      "\n",
      "0: 384x640 24 cars, 1 bus, 2 trucks, 105.6ms\n",
      "Speed: 3.1ms preprocess, 105.6ms inference, 1.1ms postprocess per image at shape (1, 3, 384, 640)\n",
      "\n",
      "0: 384x640 (no detections), 175.9ms\n",
      "Speed: 2.1ms preprocess, 175.9ms inference, 1.0ms postprocess per image at shape (1, 3, 384, 640)\n",
      "\n",
      "0: 384x640 22 cars, 1 bus, 3 trucks, 101.7ms\n",
      "Speed: 2.0ms preprocess, 101.7ms inference, 2.1ms postprocess per image at shape (1, 3, 384, 640)\n",
      "\n",
      "0: 384x640 1 alpaca, 93.2ms\n",
      "Speed: 2.1ms preprocess, 93.2ms inference, 0.0ms postprocess per image at shape (1, 3, 384, 640)\n"
     ]
    },
    {
     "name": "stderr",
     "output_type": "stream",
     "text": [
      "Using CPU. Note: This module is much faster with a GPU.\n"
     ]
    },
    {
     "name": "stdout",
     "output_type": "stream",
     "text": [
      "\n",
      "0: 384x640 21 cars, 1 bus, 3 trucks, 114.6ms\n",
      "Speed: 4.6ms preprocess, 114.6ms inference, 2.0ms postprocess per image at shape (1, 3, 384, 640)\n",
      "\n",
      "0: 384x640 1 alpaca, 104.6ms\n",
      "Speed: 2.9ms preprocess, 104.6ms inference, 0.0ms postprocess per image at shape (1, 3, 384, 640)\n"
     ]
    },
    {
     "name": "stderr",
     "output_type": "stream",
     "text": [
      "Using CPU. Note: This module is much faster with a GPU.\n"
     ]
    },
    {
     "name": "stdout",
     "output_type": "stream",
     "text": [
      "\n",
      "0: 384x640 22 cars, 1 bus, 2 trucks, 128.6ms\n",
      "Speed: 3.2ms preprocess, 128.6ms inference, 2.1ms postprocess per image at shape (1, 3, 384, 640)\n",
      "\n",
      "0: 384x640 2 alpacas, 126.6ms\n",
      "Speed: 2.1ms preprocess, 126.6ms inference, 0.0ms postprocess per image at shape (1, 3, 384, 640)\n"
     ]
    },
    {
     "name": "stderr",
     "output_type": "stream",
     "text": [
      "Using CPU. Note: This module is much faster with a GPU.\n",
      "Using CPU. Note: This module is much faster with a GPU.\n"
     ]
    },
    {
     "name": "stdout",
     "output_type": "stream",
     "text": [
      "\n",
      "0: 384x640 21 cars, 1 bus, 1 truck, 197.7ms\n",
      "Speed: 2.6ms preprocess, 197.7ms inference, 6.6ms postprocess per image at shape (1, 3, 384, 640)\n",
      "\n",
      "0: 384x640 1 alpaca, 202.2ms\n",
      "Speed: 3.5ms preprocess, 202.2ms inference, 1.0ms postprocess per image at shape (1, 3, 384, 640)\n"
     ]
    },
    {
     "name": "stderr",
     "output_type": "stream",
     "text": [
      "Using CPU. Note: This module is much faster with a GPU.\n"
     ]
    },
    {
     "name": "stdout",
     "output_type": "stream",
     "text": [
      "\n",
      "0: 384x640 22 cars, 1 bus, 2 trucks, 98.9ms\n",
      "Speed: 3.0ms preprocess, 98.9ms inference, 3.0ms postprocess per image at shape (1, 3, 384, 640)\n",
      "\n",
      "0: 384x640 (no detections), 90.2ms\n",
      "Speed: 2.0ms preprocess, 90.2ms inference, 1.0ms postprocess per image at shape (1, 3, 384, 640)\n",
      "\n",
      "0: 384x640 24 cars, 1 bus, 2 trucks, 108.7ms\n",
      "Speed: 3.0ms preprocess, 108.7ms inference, 1.9ms postprocess per image at shape (1, 3, 384, 640)\n",
      "\n",
      "0: 384x640 (no detections), 96.5ms\n",
      "Speed: 2.0ms preprocess, 96.5ms inference, 1.1ms postprocess per image at shape (1, 3, 384, 640)\n",
      "\n",
      "0: 384x640 24 cars, 1 bus, 2 trucks, 155.1ms\n",
      "Speed: 3.2ms preprocess, 155.1ms inference, 2.0ms postprocess per image at shape (1, 3, 384, 640)\n",
      "\n",
      "0: 384x640 1 alpaca, 136.3ms\n",
      "Speed: 2.1ms preprocess, 136.3ms inference, 1.0ms postprocess per image at shape (1, 3, 384, 640)\n"
     ]
    },
    {
     "name": "stderr",
     "output_type": "stream",
     "text": [
      "Using CPU. Note: This module is much faster with a GPU.\n"
     ]
    },
    {
     "name": "stdout",
     "output_type": "stream",
     "text": [
      "\n",
      "0: 384x640 24 cars, 1 bus, 2 trucks, 148.5ms\n",
      "Speed: 2.7ms preprocess, 148.5ms inference, 1.2ms postprocess per image at shape (1, 3, 384, 640)\n",
      "\n",
      "0: 384x640 2 alpacas, 155.3ms\n",
      "Speed: 2.2ms preprocess, 155.3ms inference, 0.9ms postprocess per image at shape (1, 3, 384, 640)\n"
     ]
    },
    {
     "name": "stderr",
     "output_type": "stream",
     "text": [
      "Using CPU. Note: This module is much faster with a GPU.\n",
      "Using CPU. Note: This module is much faster with a GPU.\n"
     ]
    },
    {
     "name": "stdout",
     "output_type": "stream",
     "text": [
      "\n",
      "0: 384x640 25 cars, 1 bus, 2 trucks, 119.4ms\n",
      "Speed: 3.0ms preprocess, 119.4ms inference, 2.0ms postprocess per image at shape (1, 3, 384, 640)\n",
      "\n",
      "0: 384x640 (no detections), 103.9ms\n",
      "Speed: 2.9ms preprocess, 103.9ms inference, 0.0ms postprocess per image at shape (1, 3, 384, 640)\n",
      "\n",
      "0: 384x640 25 cars, 1 bus, 2 trucks, 150.9ms\n",
      "Speed: 3.0ms preprocess, 150.9ms inference, 5.7ms postprocess per image at shape (1, 3, 384, 640)\n",
      "\n",
      "0: 384x640 (no detections), 186.4ms\n",
      "Speed: 2.5ms preprocess, 186.4ms inference, 0.0ms postprocess per image at shape (1, 3, 384, 640)\n",
      "\n",
      "0: 384x640 23 cars, 2 trucks, 102.2ms\n",
      "Speed: 2.0ms preprocess, 102.2ms inference, 2.0ms postprocess per image at shape (1, 3, 384, 640)\n",
      "\n",
      "0: 384x640 1 alpaca, 134.0ms\n",
      "Speed: 2.0ms preprocess, 134.0ms inference, 0.0ms postprocess per image at shape (1, 3, 384, 640)\n"
     ]
    },
    {
     "name": "stderr",
     "output_type": "stream",
     "text": [
      "Using CPU. Note: This module is much faster with a GPU.\n"
     ]
    },
    {
     "name": "stdout",
     "output_type": "stream",
     "text": [
      "\n",
      "0: 384x640 23 cars, 1 bus, 3 trucks, 164.0ms\n",
      "Speed: 3.4ms preprocess, 164.0ms inference, 6.5ms postprocess per image at shape (1, 3, 384, 640)\n",
      "\n",
      "0: 384x640 1 alpaca, 130.2ms\n",
      "Speed: 3.4ms preprocess, 130.2ms inference, 1.0ms postprocess per image at shape (1, 3, 384, 640)\n"
     ]
    },
    {
     "name": "stderr",
     "output_type": "stream",
     "text": [
      "Using CPU. Note: This module is much faster with a GPU.\n"
     ]
    },
    {
     "name": "stdout",
     "output_type": "stream",
     "text": [
      "\n",
      "0: 384x640 1 person, 22 cars, 3 trucks, 145.9ms\n",
      "Speed: 3.0ms preprocess, 145.9ms inference, 1.6ms postprocess per image at shape (1, 3, 384, 640)\n",
      "\n",
      "0: 384x640 (no detections), 183.3ms\n",
      "Speed: 4.5ms preprocess, 183.3ms inference, 0.0ms postprocess per image at shape (1, 3, 384, 640)\n",
      "\n",
      "0: 384x640 22 cars, 2 trucks, 187.8ms\n",
      "Speed: 4.7ms preprocess, 187.8ms inference, 1.7ms postprocess per image at shape (1, 3, 384, 640)\n",
      "\n",
      "0: 384x640 1 alpaca, 193.3ms\n",
      "Speed: 3.6ms preprocess, 193.3ms inference, 1.0ms postprocess per image at shape (1, 3, 384, 640)\n"
     ]
    },
    {
     "name": "stderr",
     "output_type": "stream",
     "text": [
      "Using CPU. Note: This module is much faster with a GPU.\n"
     ]
    },
    {
     "name": "stdout",
     "output_type": "stream",
     "text": [
      "\n",
      "0: 384x640 24 cars, 3 trucks, 96.1ms\n",
      "Speed: 3.0ms preprocess, 96.1ms inference, 1.0ms postprocess per image at shape (1, 3, 384, 640)\n",
      "\n",
      "0: 384x640 (no detections), 87.9ms\n",
      "Speed: 1.0ms preprocess, 87.9ms inference, 0.0ms postprocess per image at shape (1, 3, 384, 640)\n",
      "\n",
      "0: 384x640 24 cars, 3 trucks, 94.1ms\n",
      "Speed: 3.0ms preprocess, 94.1ms inference, 1.0ms postprocess per image at shape (1, 3, 384, 640)\n",
      "\n",
      "0: 384x640 1 alpaca, 88.4ms\n",
      "Speed: 2.7ms preprocess, 88.4ms inference, 0.0ms postprocess per image at shape (1, 3, 384, 640)\n"
     ]
    },
    {
     "name": "stderr",
     "output_type": "stream",
     "text": [
      "Using CPU. Note: This module is much faster with a GPU.\n"
     ]
    },
    {
     "name": "stdout",
     "output_type": "stream",
     "text": [
      "\n",
      "0: 384x640 22 cars, 3 trucks, 91.7ms\n",
      "Speed: 3.1ms preprocess, 91.7ms inference, 2.5ms postprocess per image at shape (1, 3, 384, 640)\n",
      "\n",
      "0: 384x640 (no detections), 83.5ms\n",
      "Speed: 2.0ms preprocess, 83.5ms inference, 0.0ms postprocess per image at shape (1, 3, 384, 640)\n",
      "\n",
      "0: 384x640 24 cars, 2 trucks, 97.7ms\n",
      "Speed: 3.0ms preprocess, 97.7ms inference, 1.0ms postprocess per image at shape (1, 3, 384, 640)\n",
      "\n",
      "0: 384x640 2 alpacas, 90.0ms\n",
      "Speed: 2.0ms preprocess, 90.0ms inference, 1.0ms postprocess per image at shape (1, 3, 384, 640)\n"
     ]
    },
    {
     "name": "stderr",
     "output_type": "stream",
     "text": [
      "Using CPU. Note: This module is much faster with a GPU.\n",
      "Using CPU. Note: This module is much faster with a GPU.\n"
     ]
    },
    {
     "name": "stdout",
     "output_type": "stream",
     "text": [
      "\n",
      "0: 384x640 22 cars, 2 trucks, 113.4ms\n",
      "Speed: 2.0ms preprocess, 113.4ms inference, 2.0ms postprocess per image at shape (1, 3, 384, 640)\n",
      "\n",
      "0: 384x640 1 alpaca, 112.6ms\n",
      "Speed: 2.0ms preprocess, 112.6ms inference, 0.0ms postprocess per image at shape (1, 3, 384, 640)\n"
     ]
    },
    {
     "name": "stderr",
     "output_type": "stream",
     "text": [
      "Using CPU. Note: This module is much faster with a GPU.\n"
     ]
    },
    {
     "name": "stdout",
     "output_type": "stream",
     "text": [
      "\n",
      "0: 384x640 21 cars, 2 trucks, 186.9ms\n",
      "Speed: 3.7ms preprocess, 186.9ms inference, 2.0ms postprocess per image at shape (1, 3, 384, 640)\n",
      "\n",
      "0: 384x640 1 alpaca, 172.3ms\n",
      "Speed: 4.7ms preprocess, 172.3ms inference, 1.0ms postprocess per image at shape (1, 3, 384, 640)\n"
     ]
    },
    {
     "name": "stderr",
     "output_type": "stream",
     "text": [
      "Using CPU. Note: This module is much faster with a GPU.\n"
     ]
    },
    {
     "name": "stdout",
     "output_type": "stream",
     "text": [
      "\n",
      "0: 384x640 22 cars, 1 bus, 3 trucks, 215.1ms\n",
      "Speed: 6.2ms preprocess, 215.1ms inference, 5.0ms postprocess per image at shape (1, 3, 384, 640)\n",
      "\n",
      "0: 384x640 (no detections), 197.2ms\n",
      "Speed: 3.1ms preprocess, 197.2ms inference, 1.0ms postprocess per image at shape (1, 3, 384, 640)\n",
      "\n",
      "0: 384x640 24 cars, 1 bus, 3 trucks, 108.1ms\n",
      "Speed: 3.0ms preprocess, 108.1ms inference, 1.0ms postprocess per image at shape (1, 3, 384, 640)\n",
      "\n",
      "0: 384x640 (no detections), 85.1ms\n",
      "Speed: 2.0ms preprocess, 85.1ms inference, 0.0ms postprocess per image at shape (1, 3, 384, 640)\n",
      "\n",
      "0: 384x640 24 cars, 2 trucks, 95.2ms\n",
      "Speed: 2.1ms preprocess, 95.2ms inference, 1.0ms postprocess per image at shape (1, 3, 384, 640)\n",
      "\n",
      "0: 384x640 2 alpacas, 85.4ms\n",
      "Speed: 2.5ms preprocess, 85.4ms inference, 0.0ms postprocess per image at shape (1, 3, 384, 640)\n"
     ]
    },
    {
     "name": "stderr",
     "output_type": "stream",
     "text": [
      "Using CPU. Note: This module is much faster with a GPU.\n",
      "Using CPU. Note: This module is much faster with a GPU.\n"
     ]
    },
    {
     "name": "stdout",
     "output_type": "stream",
     "text": [
      "\n",
      "0: 384x640 22 cars, 2 trucks, 121.8ms\n",
      "Speed: 4.5ms preprocess, 121.8ms inference, 1.0ms postprocess per image at shape (1, 3, 384, 640)\n",
      "\n",
      "0: 384x640 (no detections), 99.2ms\n",
      "Speed: 2.8ms preprocess, 99.2ms inference, 0.0ms postprocess per image at shape (1, 3, 384, 640)\n",
      "\n",
      "0: 384x640 23 cars, 3 trucks, 220.5ms\n",
      "Speed: 3.7ms preprocess, 220.5ms inference, 6.2ms postprocess per image at shape (1, 3, 384, 640)\n",
      "\n",
      "0: 384x640 1 alpaca, 205.2ms\n",
      "Speed: 3.6ms preprocess, 205.2ms inference, 1.1ms postprocess per image at shape (1, 3, 384, 640)\n"
     ]
    },
    {
     "name": "stderr",
     "output_type": "stream",
     "text": [
      "Using CPU. Note: This module is much faster with a GPU.\n"
     ]
    },
    {
     "name": "stdout",
     "output_type": "stream",
     "text": [
      "\n",
      "0: 384x640 21 cars, 3 trucks, 124.4ms\n",
      "Speed: 4.4ms preprocess, 124.4ms inference, 2.0ms postprocess per image at shape (1, 3, 384, 640)\n",
      "\n",
      "0: 384x640 1 alpaca, 86.9ms\n",
      "Speed: 3.6ms preprocess, 86.9ms inference, 0.0ms postprocess per image at shape (1, 3, 384, 640)\n"
     ]
    },
    {
     "name": "stderr",
     "output_type": "stream",
     "text": [
      "Using CPU. Note: This module is much faster with a GPU.\n"
     ]
    },
    {
     "name": "stdout",
     "output_type": "stream",
     "text": [
      "\n",
      "0: 384x640 24 cars, 3 trucks, 106.1ms\n",
      "Speed: 2.6ms preprocess, 106.1ms inference, 1.0ms postprocess per image at shape (1, 3, 384, 640)\n",
      "\n",
      "0: 384x640 1 alpaca, 105.7ms\n",
      "Speed: 1.4ms preprocess, 105.7ms inference, 1.8ms postprocess per image at shape (1, 3, 384, 640)\n"
     ]
    },
    {
     "name": "stderr",
     "output_type": "stream",
     "text": [
      "Using CPU. Note: This module is much faster with a GPU.\n"
     ]
    },
    {
     "name": "stdout",
     "output_type": "stream",
     "text": [
      "\n",
      "0: 384x640 22 cars, 2 trucks, 93.7ms\n",
      "Speed: 2.0ms preprocess, 93.7ms inference, 2.0ms postprocess per image at shape (1, 3, 384, 640)\n",
      "\n",
      "0: 384x640 (no detections), 86.3ms\n",
      "Speed: 2.0ms preprocess, 86.3ms inference, 0.0ms postprocess per image at shape (1, 3, 384, 640)\n",
      "\n",
      "0: 384x640 24 cars, 1 bus, 2 trucks, 98.7ms\n",
      "Speed: 3.3ms preprocess, 98.7ms inference, 2.0ms postprocess per image at shape (1, 3, 384, 640)\n",
      "\n",
      "0: 384x640 1 alpaca, 85.1ms\n",
      "Speed: 2.0ms preprocess, 85.1ms inference, 0.0ms postprocess per image at shape (1, 3, 384, 640)\n"
     ]
    },
    {
     "name": "stderr",
     "output_type": "stream",
     "text": [
      "Using CPU. Note: This module is much faster with a GPU.\n"
     ]
    },
    {
     "name": "stdout",
     "output_type": "stream",
     "text": [
      "\n",
      "0: 384x640 21 cars, 1 bus, 2 trucks, 107.3ms\n",
      "Speed: 2.0ms preprocess, 107.3ms inference, 1.0ms postprocess per image at shape (1, 3, 384, 640)\n",
      "\n",
      "0: 384x640 (no detections), 96.3ms\n",
      "Speed: 2.6ms preprocess, 96.3ms inference, 0.0ms postprocess per image at shape (1, 3, 384, 640)\n",
      "\n",
      "0: 384x640 22 cars, 1 bus, 3 trucks, 111.2ms\n",
      "Speed: 2.0ms preprocess, 111.2ms inference, 2.7ms postprocess per image at shape (1, 3, 384, 640)\n",
      "\n",
      "0: 384x640 1 alpaca, 99.4ms\n",
      "Speed: 3.1ms preprocess, 99.4ms inference, 1.0ms postprocess per image at shape (1, 3, 384, 640)\n"
     ]
    },
    {
     "name": "stderr",
     "output_type": "stream",
     "text": [
      "Using CPU. Note: This module is much faster with a GPU.\n"
     ]
    },
    {
     "name": "stdout",
     "output_type": "stream",
     "text": [
      "\n",
      "0: 384x640 24 cars, 2 buss, 2 trucks, 95.2ms\n",
      "Speed: 2.9ms preprocess, 95.2ms inference, 1.7ms postprocess per image at shape (1, 3, 384, 640)\n",
      "\n",
      "0: 384x640 1 alpaca, 87.1ms\n",
      "Speed: 2.1ms preprocess, 87.1ms inference, 0.0ms postprocess per image at shape (1, 3, 384, 640)\n"
     ]
    },
    {
     "name": "stderr",
     "output_type": "stream",
     "text": [
      "Using CPU. Note: This module is much faster with a GPU.\n"
     ]
    },
    {
     "name": "stdout",
     "output_type": "stream",
     "text": [
      "\n",
      "0: 384x640 23 cars, 1 bus, 1 truck, 100.5ms\n",
      "Speed: 4.0ms preprocess, 100.5ms inference, 1.6ms postprocess per image at shape (1, 3, 384, 640)\n",
      "\n",
      "0: 384x640 2 alpacas, 99.0ms\n",
      "Speed: 2.2ms preprocess, 99.0ms inference, 0.0ms postprocess per image at shape (1, 3, 384, 640)\n"
     ]
    },
    {
     "name": "stderr",
     "output_type": "stream",
     "text": [
      "Using CPU. Note: This module is much faster with a GPU.\n",
      "Using CPU. Note: This module is much faster with a GPU.\n"
     ]
    },
    {
     "name": "stdout",
     "output_type": "stream",
     "text": [
      "\n",
      "0: 384x640 23 cars, 1 bus, 1 truck, 107.0ms\n",
      "Speed: 4.2ms preprocess, 107.0ms inference, 2.0ms postprocess per image at shape (1, 3, 384, 640)\n",
      "\n",
      "0: 384x640 2 alpacas, 86.0ms\n",
      "Speed: 1.5ms preprocess, 86.0ms inference, 1.1ms postprocess per image at shape (1, 3, 384, 640)\n"
     ]
    },
    {
     "name": "stderr",
     "output_type": "stream",
     "text": [
      "Using CPU. Note: This module is much faster with a GPU.\n",
      "Using CPU. Note: This module is much faster with a GPU.\n"
     ]
    },
    {
     "name": "stdout",
     "output_type": "stream",
     "text": [
      "\n",
      "0: 384x640 21 cars, 1 bus, 2 trucks, 117.0ms\n",
      "Speed: 3.0ms preprocess, 117.0ms inference, 1.0ms postprocess per image at shape (1, 3, 384, 640)\n",
      "\n",
      "0: 384x640 1 alpaca, 110.1ms\n",
      "Speed: 2.0ms preprocess, 110.1ms inference, 1.1ms postprocess per image at shape (1, 3, 384, 640)\n"
     ]
    },
    {
     "name": "stderr",
     "output_type": "stream",
     "text": [
      "Using CPU. Note: This module is much faster with a GPU.\n"
     ]
    },
    {
     "name": "stdout",
     "output_type": "stream",
     "text": [
      "\n",
      "0: 384x640 19 cars, 1 bus, 1 truck, 99.5ms\n",
      "Speed: 2.0ms preprocess, 99.5ms inference, 2.0ms postprocess per image at shape (1, 3, 384, 640)\n",
      "\n",
      "0: 384x640 (no detections), 91.7ms\n",
      "Speed: 1.6ms preprocess, 91.7ms inference, 0.9ms postprocess per image at shape (1, 3, 384, 640)\n",
      "\n",
      "0: 384x640 21 cars, 1 bus, 2 trucks, 98.3ms\n",
      "Speed: 2.3ms preprocess, 98.3ms inference, 2.0ms postprocess per image at shape (1, 3, 384, 640)\n",
      "\n",
      "0: 384x640 2 alpacas, 85.8ms\n",
      "Speed: 2.3ms preprocess, 85.8ms inference, 0.0ms postprocess per image at shape (1, 3, 384, 640)\n"
     ]
    },
    {
     "name": "stderr",
     "output_type": "stream",
     "text": [
      "Using CPU. Note: This module is much faster with a GPU.\n",
      "Using CPU. Note: This module is much faster with a GPU.\n"
     ]
    },
    {
     "name": "stdout",
     "output_type": "stream",
     "text": [
      "\n",
      "0: 384x640 21 cars, 1 bus, 1 truck, 134.2ms\n",
      "Speed: 3.3ms preprocess, 134.2ms inference, 1.3ms postprocess per image at shape (1, 3, 384, 640)\n",
      "\n",
      "0: 384x640 1 alpaca, 142.5ms\n",
      "Speed: 3.1ms preprocess, 142.5ms inference, 1.1ms postprocess per image at shape (1, 3, 384, 640)\n"
     ]
    },
    {
     "name": "stderr",
     "output_type": "stream",
     "text": [
      "Using CPU. Note: This module is much faster with a GPU.\n"
     ]
    },
    {
     "name": "stdout",
     "output_type": "stream",
     "text": [
      "\n",
      "0: 384x640 22 cars, 1 bus, 2 trucks, 101.0ms\n",
      "Speed: 3.4ms preprocess, 101.0ms inference, 2.2ms postprocess per image at shape (1, 3, 384, 640)\n",
      "\n",
      "0: 384x640 (no detections), 95.8ms\n",
      "Speed: 2.3ms preprocess, 95.8ms inference, 1.1ms postprocess per image at shape (1, 3, 384, 640)\n",
      "\n",
      "0: 384x640 24 cars, 2 buss, 1 truck, 209.4ms\n",
      "Speed: 3.5ms preprocess, 209.4ms inference, 2.1ms postprocess per image at shape (1, 3, 384, 640)\n",
      "\n",
      "0: 384x640 2 alpacas, 92.0ms\n",
      "Speed: 2.9ms preprocess, 92.0ms inference, 0.0ms postprocess per image at shape (1, 3, 384, 640)\n"
     ]
    },
    {
     "name": "stderr",
     "output_type": "stream",
     "text": [
      "Using CPU. Note: This module is much faster with a GPU.\n",
      "Using CPU. Note: This module is much faster with a GPU.\n"
     ]
    },
    {
     "name": "stdout",
     "output_type": "stream",
     "text": [
      "\n",
      "0: 384x640 22 cars, 2 buss, 1 truck, 103.2ms\n",
      "Speed: 4.4ms preprocess, 103.2ms inference, 2.3ms postprocess per image at shape (1, 3, 384, 640)\n",
      "\n",
      "0: 384x640 1 alpaca, 91.1ms\n",
      "Speed: 2.0ms preprocess, 91.1ms inference, 0.9ms postprocess per image at shape (1, 3, 384, 640)\n"
     ]
    },
    {
     "name": "stderr",
     "output_type": "stream",
     "text": [
      "Using CPU. Note: This module is much faster with a GPU.\n"
     ]
    },
    {
     "name": "stdout",
     "output_type": "stream",
     "text": [
      "\n",
      "0: 384x640 22 cars, 3 trucks, 192.8ms\n",
      "Speed: 3.0ms preprocess, 192.8ms inference, 3.5ms postprocess per image at shape (1, 3, 384, 640)\n",
      "\n",
      "0: 384x640 1 alpaca, 135.8ms\n",
      "Speed: 3.9ms preprocess, 135.8ms inference, 0.0ms postprocess per image at shape (1, 3, 384, 640)\n"
     ]
    },
    {
     "name": "stderr",
     "output_type": "stream",
     "text": [
      "Using CPU. Note: This module is much faster with a GPU.\n"
     ]
    },
    {
     "name": "stdout",
     "output_type": "stream",
     "text": [
      "\n",
      "0: 384x640 24 cars, 1 bus, 2 trucks, 166.2ms\n",
      "Speed: 2.6ms preprocess, 166.2ms inference, 2.0ms postprocess per image at shape (1, 3, 384, 640)\n",
      "\n",
      "0: 384x640 1 alpaca, 111.2ms\n",
      "Speed: 2.0ms preprocess, 111.2ms inference, 0.0ms postprocess per image at shape (1, 3, 384, 640)\n"
     ]
    },
    {
     "name": "stderr",
     "output_type": "stream",
     "text": [
      "Using CPU. Note: This module is much faster with a GPU.\n"
     ]
    },
    {
     "name": "stdout",
     "output_type": "stream",
     "text": [
      "\n",
      "0: 384x640 22 cars, 3 trucks, 113.7ms\n",
      "Speed: 3.2ms preprocess, 113.7ms inference, 2.3ms postprocess per image at shape (1, 3, 384, 640)\n",
      "\n",
      "0: 384x640 (no detections), 113.3ms\n",
      "Speed: 3.3ms preprocess, 113.3ms inference, 0.0ms postprocess per image at shape (1, 3, 384, 640)\n",
      "\n",
      "0: 384x640 22 cars, 2 trucks, 118.9ms\n",
      "Speed: 2.2ms preprocess, 118.9ms inference, 1.0ms postprocess per image at shape (1, 3, 384, 640)\n",
      "\n",
      "0: 384x640 2 alpacas, 109.2ms\n",
      "Speed: 2.6ms preprocess, 109.2ms inference, 0.9ms postprocess per image at shape (1, 3, 384, 640)\n"
     ]
    },
    {
     "name": "stderr",
     "output_type": "stream",
     "text": [
      "Using CPU. Note: This module is much faster with a GPU.\n",
      "Using CPU. Note: This module is much faster with a GPU.\n"
     ]
    },
    {
     "name": "stdout",
     "output_type": "stream",
     "text": [
      "\n",
      "0: 384x640 21 cars, 4 trucks, 94.4ms\n",
      "Speed: 3.0ms preprocess, 94.4ms inference, 1.0ms postprocess per image at shape (1, 3, 384, 640)\n",
      "\n",
      "0: 384x640 1 alpaca, 84.3ms\n",
      "Speed: 2.0ms preprocess, 84.3ms inference, 0.0ms postprocess per image at shape (1, 3, 384, 640)\n"
     ]
    },
    {
     "name": "stderr",
     "output_type": "stream",
     "text": [
      "Using CPU. Note: This module is much faster with a GPU.\n"
     ]
    },
    {
     "name": "stdout",
     "output_type": "stream",
     "text": [
      "\n",
      "0: 384x640 23 cars, 3 trucks, 96.0ms\n",
      "Speed: 3.0ms preprocess, 96.0ms inference, 1.8ms postprocess per image at shape (1, 3, 384, 640)\n",
      "\n",
      "0: 384x640 (no detections), 87.9ms\n",
      "Speed: 2.0ms preprocess, 87.9ms inference, 1.0ms postprocess per image at shape (1, 3, 384, 640)\n",
      "\n",
      "0: 384x640 25 cars, 3 trucks, 102.7ms\n",
      "Speed: 2.0ms preprocess, 102.7ms inference, 1.0ms postprocess per image at shape (1, 3, 384, 640)\n",
      "\n",
      "0: 384x640 1 alpaca, 86.1ms\n",
      "Speed: 1.9ms preprocess, 86.1ms inference, 1.6ms postprocess per image at shape (1, 3, 384, 640)\n"
     ]
    },
    {
     "name": "stderr",
     "output_type": "stream",
     "text": [
      "Using CPU. Note: This module is much faster with a GPU.\n"
     ]
    },
    {
     "name": "stdout",
     "output_type": "stream",
     "text": [
      "\n",
      "0: 384x640 25 cars, 4 trucks, 289.7ms\n",
      "Speed: 5.2ms preprocess, 289.7ms inference, 5.2ms postprocess per image at shape (1, 3, 384, 640)\n",
      "\n",
      "0: 384x640 1 alpaca, 227.5ms\n",
      "Speed: 0.0ms preprocess, 227.5ms inference, 2.2ms postprocess per image at shape (1, 3, 384, 640)\n"
     ]
    },
    {
     "name": "stderr",
     "output_type": "stream",
     "text": [
      "Using CPU. Note: This module is much faster with a GPU.\n"
     ]
    },
    {
     "name": "stdout",
     "output_type": "stream",
     "text": [
      "\n",
      "0: 384x640 25 cars, 1 bus, 2 trucks, 109.3ms\n",
      "Speed: 3.9ms preprocess, 109.3ms inference, 1.1ms postprocess per image at shape (1, 3, 384, 640)\n",
      "\n",
      "0: 384x640 (no detections), 108.9ms\n",
      "Speed: 3.0ms preprocess, 108.9ms inference, 0.0ms postprocess per image at shape (1, 3, 384, 640)\n",
      "\n",
      "0: 384x640 24 cars, 1 bus, 2 trucks, 157.5ms\n",
      "Speed: 3.1ms preprocess, 157.5ms inference, 2.2ms postprocess per image at shape (1, 3, 384, 640)\n",
      "\n",
      "0: 384x640 2 alpacas, 108.1ms\n",
      "Speed: 2.1ms preprocess, 108.1ms inference, 0.0ms postprocess per image at shape (1, 3, 384, 640)\n"
     ]
    },
    {
     "name": "stderr",
     "output_type": "stream",
     "text": [
      "Using CPU. Note: This module is much faster with a GPU.\n",
      "Using CPU. Note: This module is much faster with a GPU.\n"
     ]
    },
    {
     "name": "stdout",
     "output_type": "stream",
     "text": [
      "\n",
      "0: 384x640 25 cars, 1 bus, 2 trucks, 97.8ms\n",
      "Speed: 2.0ms preprocess, 97.8ms inference, 1.0ms postprocess per image at shape (1, 3, 384, 640)\n",
      "\n",
      "0: 384x640 2 alpacas, 87.2ms\n",
      "Speed: 2.4ms preprocess, 87.2ms inference, 0.0ms postprocess per image at shape (1, 3, 384, 640)\n"
     ]
    },
    {
     "name": "stderr",
     "output_type": "stream",
     "text": [
      "Using CPU. Note: This module is much faster with a GPU.\n",
      "Using CPU. Note: This module is much faster with a GPU.\n"
     ]
    },
    {
     "name": "stdout",
     "output_type": "stream",
     "text": [
      "\n",
      "0: 384x640 22 cars, 1 bus, 1 truck, 117.3ms\n",
      "Speed: 3.2ms preprocess, 117.3ms inference, 2.0ms postprocess per image at shape (1, 3, 384, 640)\n",
      "\n",
      "0: 384x640 1 alpaca, 94.2ms\n",
      "Speed: 3.1ms preprocess, 94.2ms inference, 0.0ms postprocess per image at shape (1, 3, 384, 640)\n"
     ]
    },
    {
     "name": "stderr",
     "output_type": "stream",
     "text": [
      "Using CPU. Note: This module is much faster with a GPU.\n"
     ]
    },
    {
     "name": "stdout",
     "output_type": "stream",
     "text": [
      "\n",
      "0: 384x640 24 cars, 1 bus, 1 truck, 138.4ms\n",
      "Speed: 5.0ms preprocess, 138.4ms inference, 1.9ms postprocess per image at shape (1, 3, 384, 640)\n",
      "\n",
      "0: 384x640 (no detections), 101.2ms\n",
      "Speed: 2.2ms preprocess, 101.2ms inference, 0.0ms postprocess per image at shape (1, 3, 384, 640)\n",
      "\n",
      "0: 384x640 25 cars, 1 bus, 2 trucks, 123.5ms\n",
      "Speed: 2.3ms preprocess, 123.5ms inference, 2.1ms postprocess per image at shape (1, 3, 384, 640)\n",
      "\n",
      "0: 384x640 1 alpaca, 108.9ms\n",
      "Speed: 2.0ms preprocess, 108.9ms inference, 0.0ms postprocess per image at shape (1, 3, 384, 640)\n"
     ]
    },
    {
     "name": "stderr",
     "output_type": "stream",
     "text": [
      "Using CPU. Note: This module is much faster with a GPU.\n"
     ]
    },
    {
     "name": "stdout",
     "output_type": "stream",
     "text": [
      "\n",
      "0: 384x640 21 cars, 1 bus, 2 trucks, 97.4ms\n",
      "Speed: 2.0ms preprocess, 97.4ms inference, 2.0ms postprocess per image at shape (1, 3, 384, 640)\n",
      "\n",
      "0: 384x640 2 alpacas, 85.7ms\n",
      "Speed: 2.0ms preprocess, 85.7ms inference, 1.0ms postprocess per image at shape (1, 3, 384, 640)\n"
     ]
    },
    {
     "name": "stderr",
     "output_type": "stream",
     "text": [
      "Using CPU. Note: This module is much faster with a GPU.\n",
      "Using CPU. Note: This module is much faster with a GPU.\n"
     ]
    },
    {
     "name": "stdout",
     "output_type": "stream",
     "text": [
      "\n",
      "0: 384x640 20 cars, 1 bus, 1 truck, 105.5ms\n",
      "Speed: 3.0ms preprocess, 105.5ms inference, 1.0ms postprocess per image at shape (1, 3, 384, 640)\n",
      "\n",
      "0: 384x640 (no detections), 87.3ms\n",
      "Speed: 1.7ms preprocess, 87.3ms inference, 1.0ms postprocess per image at shape (1, 3, 384, 640)\n",
      "\n",
      "0: 384x640 20 cars, 1 bus, 1 truck, 100.0ms\n",
      "Speed: 2.7ms preprocess, 100.0ms inference, 1.0ms postprocess per image at shape (1, 3, 384, 640)\n",
      "\n",
      "0: 384x640 1 alpaca, 87.4ms\n",
      "Speed: 3.0ms preprocess, 87.4ms inference, 0.0ms postprocess per image at shape (1, 3, 384, 640)\n"
     ]
    },
    {
     "name": "stderr",
     "output_type": "stream",
     "text": [
      "Using CPU. Note: This module is much faster with a GPU.\n"
     ]
    },
    {
     "name": "stdout",
     "output_type": "stream",
     "text": [
      "\n",
      "0: 384x640 25 cars, 1 bus, 1 truck, 122.2ms\n",
      "Speed: 6.3ms preprocess, 122.2ms inference, 1.9ms postprocess per image at shape (1, 3, 384, 640)\n",
      "\n",
      "0: 384x640 2 alpacas, 140.2ms\n",
      "Speed: 2.7ms preprocess, 140.2ms inference, 1.0ms postprocess per image at shape (1, 3, 384, 640)\n"
     ]
    },
    {
     "name": "stderr",
     "output_type": "stream",
     "text": [
      "Using CPU. Note: This module is much faster with a GPU.\n",
      "Using CPU. Note: This module is much faster with a GPU.\n"
     ]
    },
    {
     "name": "stdout",
     "output_type": "stream",
     "text": [
      "\n",
      "0: 384x640 25 cars, 1 bus, 1 truck, 211.4ms\n",
      "Speed: 4.0ms preprocess, 211.4ms inference, 5.6ms postprocess per image at shape (1, 3, 384, 640)\n",
      "\n",
      "0: 384x640 1 alpaca, 198.9ms\n",
      "Speed: 3.3ms preprocess, 198.9ms inference, 1.0ms postprocess per image at shape (1, 3, 384, 640)\n"
     ]
    },
    {
     "name": "stderr",
     "output_type": "stream",
     "text": [
      "Using CPU. Note: This module is much faster with a GPU.\n"
     ]
    },
    {
     "name": "stdout",
     "output_type": "stream",
     "text": [
      "\n",
      "0: 384x640 25 cars, 1 bus, 1 truck, 97.6ms\n",
      "Speed: 2.0ms preprocess, 97.6ms inference, 1.9ms postprocess per image at shape (1, 3, 384, 640)\n",
      "\n",
      "0: 384x640 1 alpaca, 88.4ms\n",
      "Speed: 1.9ms preprocess, 88.4ms inference, 0.0ms postprocess per image at shape (1, 3, 384, 640)\n"
     ]
    },
    {
     "name": "stderr",
     "output_type": "stream",
     "text": [
      "Using CPU. Note: This module is much faster with a GPU.\n"
     ]
    },
    {
     "name": "stdout",
     "output_type": "stream",
     "text": [
      "\n",
      "0: 384x640 23 cars, 1 bus, 1 truck, 129.7ms\n",
      "Speed: 4.0ms preprocess, 129.7ms inference, 1.7ms postprocess per image at shape (1, 3, 384, 640)\n",
      "\n",
      "0: 384x640 1 alpaca, 115.7ms\n",
      "Speed: 1.3ms preprocess, 115.7ms inference, 0.0ms postprocess per image at shape (1, 3, 384, 640)\n"
     ]
    },
    {
     "name": "stderr",
     "output_type": "stream",
     "text": [
      "Using CPU. Note: This module is much faster with a GPU.\n"
     ]
    },
    {
     "name": "stdout",
     "output_type": "stream",
     "text": [
      "\n",
      "0: 384x640 25 cars, 1 bus, 2 trucks, 226.2ms\n",
      "Speed: 8.5ms preprocess, 226.2ms inference, 2.1ms postprocess per image at shape (1, 3, 384, 640)\n",
      "\n",
      "0: 384x640 2 alpacas, 96.1ms\n",
      "Speed: 3.0ms preprocess, 96.1ms inference, 0.0ms postprocess per image at shape (1, 3, 384, 640)\n"
     ]
    },
    {
     "name": "stderr",
     "output_type": "stream",
     "text": [
      "Using CPU. Note: This module is much faster with a GPU.\n",
      "Using CPU. Note: This module is much faster with a GPU.\n"
     ]
    },
    {
     "name": "stdout",
     "output_type": "stream",
     "text": [
      "\n",
      "0: 384x640 23 cars, 1 bus, 2 trucks, 216.2ms\n",
      "Speed: 3.0ms preprocess, 216.2ms inference, 4.9ms postprocess per image at shape (1, 3, 384, 640)\n",
      "\n",
      "0: 384x640 1 alpaca, 199.2ms\n",
      "Speed: 4.0ms preprocess, 199.2ms inference, 1.0ms postprocess per image at shape (1, 3, 384, 640)\n"
     ]
    },
    {
     "name": "stderr",
     "output_type": "stream",
     "text": [
      "Using CPU. Note: This module is much faster with a GPU.\n"
     ]
    },
    {
     "name": "stdout",
     "output_type": "stream",
     "text": [
      "\n",
      "0: 384x640 21 cars, 1 bus, 1 truck, 113.5ms\n",
      "Speed: 3.2ms preprocess, 113.5ms inference, 2.3ms postprocess per image at shape (1, 3, 384, 640)\n",
      "\n",
      "0: 384x640 1 alpaca, 97.1ms\n",
      "Speed: 3.0ms preprocess, 97.1ms inference, 0.0ms postprocess per image at shape (1, 3, 384, 640)\n"
     ]
    },
    {
     "name": "stderr",
     "output_type": "stream",
     "text": [
      "Using CPU. Note: This module is much faster with a GPU.\n"
     ]
    },
    {
     "name": "stdout",
     "output_type": "stream",
     "text": [
      "\n",
      "0: 384x640 22 cars, 1 bus, 2 trucks, 123.8ms\n",
      "Speed: 3.4ms preprocess, 123.8ms inference, 1.4ms postprocess per image at shape (1, 3, 384, 640)\n",
      "\n",
      "0: 384x640 (no detections), 102.5ms\n",
      "Speed: 2.4ms preprocess, 102.5ms inference, 1.0ms postprocess per image at shape (1, 3, 384, 640)\n",
      "\n",
      "0: 384x640 20 cars, 2 trucks, 112.1ms\n",
      "Speed: 3.0ms preprocess, 112.1ms inference, 2.6ms postprocess per image at shape (1, 3, 384, 640)\n",
      "\n",
      "0: 384x640 (no detections), 112.6ms\n",
      "Speed: 2.0ms preprocess, 112.6ms inference, 0.6ms postprocess per image at shape (1, 3, 384, 640)\n",
      "\n",
      "0: 384x640 19 cars, 1 bus, 2 trucks, 127.3ms\n",
      "Speed: 4.2ms preprocess, 127.3ms inference, 2.3ms postprocess per image at shape (1, 3, 384, 640)\n",
      "\n",
      "0: 384x640 1 alpaca, 111.0ms\n",
      "Speed: 2.0ms preprocess, 111.0ms inference, 0.0ms postprocess per image at shape (1, 3, 384, 640)\n"
     ]
    },
    {
     "name": "stderr",
     "output_type": "stream",
     "text": [
      "Using CPU. Note: This module is much faster with a GPU.\n"
     ]
    },
    {
     "name": "stdout",
     "output_type": "stream",
     "text": [
      "\n",
      "0: 384x640 20 cars, 2 trucks, 270.9ms\n",
      "Speed: 3.0ms preprocess, 270.9ms inference, 6.2ms postprocess per image at shape (1, 3, 384, 640)\n",
      "\n",
      "0: 384x640 1 alpaca, 203.4ms\n",
      "Speed: 2.9ms preprocess, 203.4ms inference, 1.1ms postprocess per image at shape (1, 3, 384, 640)\n"
     ]
    },
    {
     "name": "stderr",
     "output_type": "stream",
     "text": [
      "Using CPU. Note: This module is much faster with a GPU.\n"
     ]
    },
    {
     "name": "stdout",
     "output_type": "stream",
     "text": [
      "\n",
      "0: 384x640 20 cars, 2 trucks, 116.0ms\n",
      "Speed: 4.7ms preprocess, 116.0ms inference, 2.0ms postprocess per image at shape (1, 3, 384, 640)\n",
      "\n",
      "0: 384x640 (no detections), 98.7ms\n",
      "Speed: 2.0ms preprocess, 98.7ms inference, 1.0ms postprocess per image at shape (1, 3, 384, 640)\n",
      "\n",
      "0: 384x640 17 cars, 1 bus, 2 trucks, 105.7ms\n",
      "Speed: 2.6ms preprocess, 105.7ms inference, 1.0ms postprocess per image at shape (1, 3, 384, 640)\n",
      "\n",
      "0: 384x640 1 alpaca, 100.0ms\n",
      "Speed: 1.9ms preprocess, 100.0ms inference, 1.0ms postprocess per image at shape (1, 3, 384, 640)\n"
     ]
    },
    {
     "name": "stderr",
     "output_type": "stream",
     "text": [
      "Using CPU. Note: This module is much faster with a GPU.\n"
     ]
    },
    {
     "name": "stdout",
     "output_type": "stream",
     "text": [
      "\n",
      "0: 384x640 21 cars, 2 trucks, 134.5ms\n",
      "Speed: 2.0ms preprocess, 134.5ms inference, 2.0ms postprocess per image at shape (1, 3, 384, 640)\n",
      "\n",
      "0: 384x640 (no detections), 101.3ms\n",
      "Speed: 2.0ms preprocess, 101.3ms inference, 0.0ms postprocess per image at shape (1, 3, 384, 640)\n",
      "\n",
      "0: 384x640 21 cars, 2 trucks, 113.3ms\n",
      "Speed: 2.2ms preprocess, 113.3ms inference, 1.7ms postprocess per image at shape (1, 3, 384, 640)\n",
      "\n",
      "0: 384x640 (no detections), 97.7ms\n",
      "Speed: 1.0ms preprocess, 97.7ms inference, 0.0ms postprocess per image at shape (1, 3, 384, 640)\n",
      "\n",
      "0: 384x640 24 cars, 2 trucks, 113.0ms\n",
      "Speed: 3.0ms preprocess, 113.0ms inference, 1.0ms postprocess per image at shape (1, 3, 384, 640)\n",
      "\n",
      "0: 384x640 1 alpaca, 94.5ms\n",
      "Speed: 2.0ms preprocess, 94.5ms inference, 0.0ms postprocess per image at shape (1, 3, 384, 640)\n"
     ]
    },
    {
     "name": "stderr",
     "output_type": "stream",
     "text": [
      "Using CPU. Note: This module is much faster with a GPU.\n"
     ]
    },
    {
     "name": "stdout",
     "output_type": "stream",
     "text": [
      "\n",
      "0: 384x640 22 cars, 2 trucks, 110.5ms\n",
      "Speed: 2.0ms preprocess, 110.5ms inference, 2.0ms postprocess per image at shape (1, 3, 384, 640)\n",
      "\n",
      "0: 384x640 1 alpaca, 97.3ms\n",
      "Speed: 3.0ms preprocess, 97.3ms inference, 1.1ms postprocess per image at shape (1, 3, 384, 640)\n"
     ]
    },
    {
     "name": "stderr",
     "output_type": "stream",
     "text": [
      "Using CPU. Note: This module is much faster with a GPU.\n"
     ]
    },
    {
     "name": "stdout",
     "output_type": "stream",
     "text": [
      "\n",
      "0: 384x640 22 cars, 2 trucks, 111.3ms\n",
      "Speed: 1.3ms preprocess, 111.3ms inference, 2.1ms postprocess per image at shape (1, 3, 384, 640)\n",
      "\n",
      "0: 384x640 (no detections), 110.1ms\n",
      "Speed: 1.9ms preprocess, 110.1ms inference, 0.0ms postprocess per image at shape (1, 3, 384, 640)\n",
      "\n",
      "0: 384x640 25 cars, 2 trucks, 115.3ms\n",
      "Speed: 3.0ms preprocess, 115.3ms inference, 1.0ms postprocess per image at shape (1, 3, 384, 640)\n",
      "\n",
      "0: 384x640 1 alpaca, 103.6ms\n",
      "Speed: 1.0ms preprocess, 103.6ms inference, 0.9ms postprocess per image at shape (1, 3, 384, 640)\n"
     ]
    },
    {
     "name": "stderr",
     "output_type": "stream",
     "text": [
      "Using CPU. Note: This module is much faster with a GPU.\n"
     ]
    },
    {
     "name": "stdout",
     "output_type": "stream",
     "text": [
      "\n",
      "0: 384x640 21 cars, 2 trucks, 232.5ms\n",
      "Speed: 2.0ms preprocess, 232.5ms inference, 5.0ms postprocess per image at shape (1, 3, 384, 640)\n",
      "\n",
      "0: 384x640 (no detections), 155.8ms\n",
      "Speed: 4.0ms preprocess, 155.8ms inference, 0.0ms postprocess per image at shape (1, 3, 384, 640)\n",
      "\n",
      "0: 384x640 23 cars, 2 trucks, 93.7ms\n",
      "Speed: 2.6ms preprocess, 93.7ms inference, 1.0ms postprocess per image at shape (1, 3, 384, 640)\n",
      "\n",
      "0: 384x640 (no detections), 85.5ms\n",
      "Speed: 2.6ms preprocess, 85.5ms inference, 0.0ms postprocess per image at shape (1, 3, 384, 640)\n",
      "\n",
      "0: 384x640 23 cars, 2 trucks, 97.5ms\n",
      "Speed: 2.0ms preprocess, 97.5ms inference, 1.0ms postprocess per image at shape (1, 3, 384, 640)\n",
      "\n",
      "0: 384x640 1 alpaca, 85.2ms\n",
      "Speed: 2.7ms preprocess, 85.2ms inference, 1.0ms postprocess per image at shape (1, 3, 384, 640)\n"
     ]
    },
    {
     "name": "stderr",
     "output_type": "stream",
     "text": [
      "Using CPU. Note: This module is much faster with a GPU.\n"
     ]
    },
    {
     "name": "stdout",
     "output_type": "stream",
     "text": [
      "\n",
      "0: 384x640 24 cars, 2 trucks, 275.2ms\n",
      "Speed: 3.7ms preprocess, 275.2ms inference, 6.1ms postprocess per image at shape (1, 3, 384, 640)\n",
      "\n",
      "0: 384x640 1 alpaca, 236.6ms\n",
      "Speed: 4.3ms preprocess, 236.6ms inference, 0.8ms postprocess per image at shape (1, 3, 384, 640)\n"
     ]
    },
    {
     "name": "stderr",
     "output_type": "stream",
     "text": [
      "Using CPU. Note: This module is much faster with a GPU.\n"
     ]
    },
    {
     "name": "stdout",
     "output_type": "stream",
     "text": [
      "\n",
      "0: 384x640 24 cars, 2 trucks, 116.1ms\n",
      "Speed: 3.2ms preprocess, 116.1ms inference, 1.3ms postprocess per image at shape (1, 3, 384, 640)\n",
      "\n",
      "0: 384x640 (no detections), 107.6ms\n",
      "Speed: 2.9ms preprocess, 107.6ms inference, 0.0ms postprocess per image at shape (1, 3, 384, 640)\n",
      "\n",
      "0: 384x640 22 cars, 2 trucks, 105.2ms\n",
      "Speed: 2.7ms preprocess, 105.2ms inference, 2.0ms postprocess per image at shape (1, 3, 384, 640)\n",
      "\n",
      "0: 384x640 (no detections), 109.1ms\n",
      "Speed: 2.0ms preprocess, 109.1ms inference, 0.0ms postprocess per image at shape (1, 3, 384, 640)\n",
      "\n",
      "0: 384x640 19 cars, 2 trucks, 113.8ms\n",
      "Speed: 2.0ms preprocess, 113.8ms inference, 1.0ms postprocess per image at shape (1, 3, 384, 640)\n",
      "\n",
      "0: 384x640 (no detections), 111.4ms\n",
      "Speed: 2.6ms preprocess, 111.4ms inference, 0.6ms postprocess per image at shape (1, 3, 384, 640)\n",
      "\n",
      "0: 384x640 20 cars, 2 trucks, 109.0ms\n",
      "Speed: 2.1ms preprocess, 109.0ms inference, 2.1ms postprocess per image at shape (1, 3, 384, 640)\n",
      "\n",
      "0: 384x640 1 alpaca, 100.8ms\n",
      "Speed: 2.0ms preprocess, 100.8ms inference, 1.0ms postprocess per image at shape (1, 3, 384, 640)\n"
     ]
    },
    {
     "name": "stderr",
     "output_type": "stream",
     "text": [
      "Using CPU. Note: This module is much faster with a GPU.\n"
     ]
    },
    {
     "name": "stdout",
     "output_type": "stream",
     "text": [
      "\n",
      "0: 384x640 22 cars, 2 trucks, 221.8ms\n",
      "Speed: 5.0ms preprocess, 221.8ms inference, 4.6ms postprocess per image at shape (1, 3, 384, 640)\n",
      "\n",
      "0: 384x640 (no detections), 239.6ms\n",
      "Speed: 3.9ms preprocess, 239.6ms inference, 1.0ms postprocess per image at shape (1, 3, 384, 640)\n",
      "\n",
      "0: 384x640 20 cars, 2 trucks, 104.8ms\n",
      "Speed: 2.0ms preprocess, 104.8ms inference, 1.0ms postprocess per image at shape (1, 3, 384, 640)\n",
      "\n",
      "0: 384x640 (no detections), 87.2ms\n",
      "Speed: 2.0ms preprocess, 87.2ms inference, 1.0ms postprocess per image at shape (1, 3, 384, 640)\n",
      "\n",
      "0: 384x640 20 cars, 2 trucks, 110.6ms\n",
      "Speed: 2.9ms preprocess, 110.6ms inference, 1.0ms postprocess per image at shape (1, 3, 384, 640)\n",
      "\n",
      "0: 384x640 (no detections), 90.8ms\n",
      "Speed: 3.7ms preprocess, 90.8ms inference, 1.0ms postprocess per image at shape (1, 3, 384, 640)\n",
      "\n",
      "0: 384x640 18 cars, 2 trucks, 97.3ms\n",
      "Speed: 2.9ms preprocess, 97.3ms inference, 1.0ms postprocess per image at shape (1, 3, 384, 640)\n",
      "\n",
      "0: 384x640 (no detections), 85.2ms\n",
      "Speed: 2.0ms preprocess, 85.2ms inference, 0.0ms postprocess per image at shape (1, 3, 384, 640)\n",
      "\n",
      "0: 384x640 20 cars, 2 trucks, 100.9ms\n",
      "Speed: 2.4ms preprocess, 100.9ms inference, 2.0ms postprocess per image at shape (1, 3, 384, 640)\n",
      "\n",
      "0: 384x640 (no detections), 113.7ms\n",
      "Speed: 2.0ms preprocess, 113.7ms inference, 1.0ms postprocess per image at shape (1, 3, 384, 640)\n",
      "\n",
      "0: 384x640 21 cars, 2 trucks, 260.1ms\n",
      "Speed: 6.5ms preprocess, 260.1ms inference, 8.2ms postprocess per image at shape (1, 3, 384, 640)\n",
      "\n",
      "0: 384x640 (no detections), 200.2ms\n",
      "Speed: 4.0ms preprocess, 200.2ms inference, 1.0ms postprocess per image at shape (1, 3, 384, 640)\n",
      "\n",
      "0: 384x640 20 cars, 2 trucks, 101.9ms\n",
      "Speed: 3.7ms preprocess, 101.9ms inference, 1.0ms postprocess per image at shape (1, 3, 384, 640)\n",
      "\n",
      "0: 384x640 (no detections), 92.4ms\n",
      "Speed: 2.5ms preprocess, 92.4ms inference, 0.0ms postprocess per image at shape (1, 3, 384, 640)\n",
      "\n",
      "0: 384x640 21 cars, 2 trucks, 94.0ms\n",
      "Speed: 3.1ms preprocess, 94.0ms inference, 1.9ms postprocess per image at shape (1, 3, 384, 640)\n",
      "\n",
      "0: 384x640 1 alpaca, 84.5ms\n",
      "Speed: 2.0ms preprocess, 84.5ms inference, 1.1ms postprocess per image at shape (1, 3, 384, 640)\n",
      "\n",
      "0: 384x640 22 cars, 2 trucks, 101.0ms\n",
      "Speed: 2.9ms preprocess, 101.0ms inference, 2.0ms postprocess per image at shape (1, 3, 384, 640)\n",
      "\n",
      "0: 384x640 (no detections), 89.1ms\n",
      "Speed: 2.0ms preprocess, 89.1ms inference, 0.0ms postprocess per image at shape (1, 3, 384, 640)\n",
      "\n",
      "0: 384x640 22 cars, 2 trucks, 100.8ms\n",
      "Speed: 2.6ms preprocess, 100.8ms inference, 2.0ms postprocess per image at shape (1, 3, 384, 640)\n",
      "\n",
      "0: 384x640 (no detections), 120.2ms\n",
      "Speed: 2.0ms preprocess, 120.2ms inference, 1.0ms postprocess per image at shape (1, 3, 384, 640)\n",
      "\n",
      "0: 384x640 23 cars, 2 trucks, 158.4ms\n",
      "Speed: 2.7ms preprocess, 158.4ms inference, 2.6ms postprocess per image at shape (1, 3, 384, 640)\n",
      "\n",
      "0: 384x640 1 alpaca, 92.1ms\n",
      "Speed: 2.1ms preprocess, 92.1ms inference, 0.0ms postprocess per image at shape (1, 3, 384, 640)\n"
     ]
    },
    {
     "name": "stderr",
     "output_type": "stream",
     "text": [
      "Using CPU. Note: This module is much faster with a GPU.\n"
     ]
    },
    {
     "name": "stdout",
     "output_type": "stream",
     "text": [
      "\n",
      "0: 384x640 26 cars, 2 trucks, 228.2ms\n",
      "Speed: 3.4ms preprocess, 228.2ms inference, 6.1ms postprocess per image at shape (1, 3, 384, 640)\n",
      "\n",
      "0: 384x640 (no detections), 201.5ms\n",
      "Speed: 4.0ms preprocess, 201.5ms inference, 0.0ms postprocess per image at shape (1, 3, 384, 640)\n",
      "\n",
      "0: 384x640 22 cars, 2 trucks, 109.0ms\n",
      "Speed: 2.8ms preprocess, 109.0ms inference, 2.2ms postprocess per image at shape (1, 3, 384, 640)\n",
      "\n",
      "0: 384x640 (no detections), 99.3ms\n",
      "Speed: 1.6ms preprocess, 99.3ms inference, 0.0ms postprocess per image at shape (1, 3, 384, 640)\n",
      "\n",
      "0: 384x640 23 cars, 2 trucks, 110.7ms\n",
      "Speed: 2.9ms preprocess, 110.7ms inference, 2.0ms postprocess per image at shape (1, 3, 384, 640)\n",
      "\n",
      "0: 384x640 (no detections), 102.7ms\n",
      "Speed: 2.9ms preprocess, 102.7ms inference, 1.1ms postprocess per image at shape (1, 3, 384, 640)\n",
      "\n",
      "0: 384x640 25 cars, 2 trucks, 245.4ms\n",
      "Speed: 6.0ms preprocess, 245.4ms inference, 6.3ms postprocess per image at shape (1, 3, 384, 640)\n",
      "\n",
      "0: 384x640 (no detections), 91.9ms\n",
      "Speed: 3.0ms preprocess, 91.9ms inference, 0.0ms postprocess per image at shape (1, 3, 384, 640)\n",
      "\n",
      "0: 384x640 26 cars, 2 trucks, 105.6ms\n",
      "Speed: 2.9ms preprocess, 105.6ms inference, 2.0ms postprocess per image at shape (1, 3, 384, 640)\n",
      "\n",
      "0: 384x640 (no detections), 96.8ms\n",
      "Speed: 2.0ms preprocess, 96.8ms inference, 1.0ms postprocess per image at shape (1, 3, 384, 640)\n",
      "\n",
      "0: 384x640 23 cars, 2 trucks, 109.1ms\n",
      "Speed: 3.2ms preprocess, 109.1ms inference, 2.0ms postprocess per image at shape (1, 3, 384, 640)\n",
      "\n",
      "0: 384x640 1 alpaca, 99.4ms\n",
      "Speed: 2.7ms preprocess, 99.4ms inference, 0.2ms postprocess per image at shape (1, 3, 384, 640)\n"
     ]
    },
    {
     "name": "stderr",
     "output_type": "stream",
     "text": [
      "Using CPU. Note: This module is much faster with a GPU.\n"
     ]
    },
    {
     "name": "stdout",
     "output_type": "stream",
     "text": [
      "\n",
      "0: 384x640 24 cars, 2 trucks, 101.4ms\n",
      "Speed: 2.6ms preprocess, 101.4ms inference, 1.0ms postprocess per image at shape (1, 3, 384, 640)\n",
      "\n",
      "0: 384x640 (no detections), 82.5ms\n",
      "Speed: 1.0ms preprocess, 82.5ms inference, 1.5ms postprocess per image at shape (1, 3, 384, 640)\n",
      "\n",
      "0: 384x640 22 cars, 2 trucks, 95.3ms\n",
      "Speed: 2.0ms preprocess, 95.3ms inference, 1.0ms postprocess per image at shape (1, 3, 384, 640)\n",
      "\n",
      "0: 384x640 (no detections), 85.5ms\n",
      "Speed: 1.9ms preprocess, 85.5ms inference, 0.0ms postprocess per image at shape (1, 3, 384, 640)\n",
      "\n",
      "0: 384x640 22 cars, 2 trucks, 104.9ms\n",
      "Speed: 2.0ms preprocess, 104.9ms inference, 2.6ms postprocess per image at shape (1, 3, 384, 640)\n",
      "\n",
      "0: 384x640 (no detections), 84.6ms\n",
      "Speed: 1.0ms preprocess, 84.6ms inference, 0.0ms postprocess per image at shape (1, 3, 384, 640)\n",
      "\n",
      "0: 384x640 22 cars, 2 trucks, 93.1ms\n",
      "Speed: 2.0ms preprocess, 93.1ms inference, 1.6ms postprocess per image at shape (1, 3, 384, 640)\n",
      "\n",
      "0: 384x640 (no detections), 83.1ms\n",
      "Speed: 2.1ms preprocess, 83.1ms inference, 0.0ms postprocess per image at shape (1, 3, 384, 640)\n",
      "\n",
      "0: 384x640 22 cars, 2 trucks, 97.5ms\n",
      "Speed: 2.0ms preprocess, 97.5ms inference, 2.0ms postprocess per image at shape (1, 3, 384, 640)\n",
      "\n",
      "0: 384x640 1 alpaca, 85.8ms\n",
      "Speed: 2.1ms preprocess, 85.8ms inference, 1.0ms postprocess per image at shape (1, 3, 384, 640)\n"
     ]
    },
    {
     "name": "stderr",
     "output_type": "stream",
     "text": [
      "Using CPU. Note: This module is much faster with a GPU.\n"
     ]
    },
    {
     "name": "stdout",
     "output_type": "stream",
     "text": [
      "\n",
      "0: 384x640 21 cars, 1 bus, 1 truck, 105.9ms\n",
      "Speed: 3.2ms preprocess, 105.9ms inference, 1.0ms postprocess per image at shape (1, 3, 384, 640)\n",
      "\n",
      "0: 384x640 (no detections), 82.8ms\n",
      "Speed: 2.0ms preprocess, 82.8ms inference, 1.0ms postprocess per image at shape (1, 3, 384, 640)\n",
      "\n",
      "0: 384x640 25 cars, 1 bus, 1 truck, 142.0ms\n",
      "Speed: 1.6ms preprocess, 142.0ms inference, 5.0ms postprocess per image at shape (1, 3, 384, 640)\n",
      "\n",
      "0: 384x640 (no detections), 131.4ms\n",
      "Speed: 4.0ms preprocess, 131.4ms inference, 0.0ms postprocess per image at shape (1, 3, 384, 640)\n",
      "\n",
      "0: 384x640 22 cars, 1 bus, 2 trucks, 101.4ms\n",
      "Speed: 2.9ms preprocess, 101.4ms inference, 1.0ms postprocess per image at shape (1, 3, 384, 640)\n",
      "\n",
      "0: 384x640 (no detections), 87.1ms\n",
      "Speed: 2.6ms preprocess, 87.1ms inference, 1.0ms postprocess per image at shape (1, 3, 384, 640)\n",
      "\n",
      "0: 384x640 20 cars, 2 trucks, 113.2ms\n",
      "Speed: 2.0ms preprocess, 113.2ms inference, 2.0ms postprocess per image at shape (1, 3, 384, 640)\n",
      "\n",
      "0: 384x640 1 alpaca, 204.1ms\n",
      "Speed: 4.2ms preprocess, 204.1ms inference, 0.9ms postprocess per image at shape (1, 3, 384, 640)\n"
     ]
    },
    {
     "name": "stderr",
     "output_type": "stream",
     "text": [
      "Using CPU. Note: This module is much faster with a GPU.\n"
     ]
    },
    {
     "name": "stdout",
     "output_type": "stream",
     "text": [
      "\n",
      "0: 384x640 21 cars, 2 trucks, 142.0ms\n",
      "Speed: 3.8ms preprocess, 142.0ms inference, 2.0ms postprocess per image at shape (1, 3, 384, 640)\n",
      "\n",
      "0: 384x640 1 alpaca, 99.6ms\n",
      "Speed: 2.1ms preprocess, 99.6ms inference, 1.1ms postprocess per image at shape (1, 3, 384, 640)\n"
     ]
    },
    {
     "name": "stderr",
     "output_type": "stream",
     "text": [
      "Using CPU. Note: This module is much faster with a GPU.\n"
     ]
    },
    {
     "name": "stdout",
     "output_type": "stream",
     "text": [
      "\n",
      "0: 384x640 20 cars, 2 trucks, 104.7ms\n",
      "Speed: 2.0ms preprocess, 104.7ms inference, 1.9ms postprocess per image at shape (1, 3, 384, 640)\n",
      "\n",
      "0: 384x640 (no detections), 110.9ms\n",
      "Speed: 2.9ms preprocess, 110.9ms inference, 1.4ms postprocess per image at shape (1, 3, 384, 640)\n",
      "\n",
      "0: 384x640 23 cars, 2 trucks, 184.8ms\n",
      "Speed: 2.7ms preprocess, 184.8ms inference, 2.5ms postprocess per image at shape (1, 3, 384, 640)\n",
      "\n",
      "0: 384x640 1 alpaca, 223.0ms\n",
      "Speed: 3.4ms preprocess, 223.0ms inference, 1.4ms postprocess per image at shape (1, 3, 384, 640)\n"
     ]
    },
    {
     "name": "stderr",
     "output_type": "stream",
     "text": [
      "Using CPU. Note: This module is much faster with a GPU.\n"
     ]
    },
    {
     "name": "stdout",
     "output_type": "stream",
     "text": [
      "\n",
      "0: 384x640 22 cars, 2 trucks, 212.9ms\n",
      "Speed: 4.0ms preprocess, 212.9ms inference, 4.5ms postprocess per image at shape (1, 3, 384, 640)\n",
      "\n",
      "0: 384x640 2 alpacas, 174.9ms\n",
      "Speed: 4.5ms preprocess, 174.9ms inference, 1.0ms postprocess per image at shape (1, 3, 384, 640)\n"
     ]
    },
    {
     "name": "stderr",
     "output_type": "stream",
     "text": [
      "Using CPU. Note: This module is much faster with a GPU.\n",
      "Using CPU. Note: This module is much faster with a GPU.\n"
     ]
    },
    {
     "name": "stdout",
     "output_type": "stream",
     "text": [
      "\n",
      "0: 384x640 25 cars, 2 trucks, 108.5ms\n",
      "Speed: 2.6ms preprocess, 108.5ms inference, 1.9ms postprocess per image at shape (1, 3, 384, 640)\n",
      "\n",
      "0: 384x640 (no detections), 100.2ms\n",
      "Speed: 2.0ms preprocess, 100.2ms inference, 0.0ms postprocess per image at shape (1, 3, 384, 640)\n",
      "\n",
      "0: 384x640 24 cars, 2 trucks, 114.1ms\n",
      "Speed: 3.3ms preprocess, 114.1ms inference, 1.6ms postprocess per image at shape (1, 3, 384, 640)\n",
      "\n",
      "0: 384x640 1 alpaca, 107.5ms\n",
      "Speed: 2.0ms preprocess, 107.5ms inference, 0.0ms postprocess per image at shape (1, 3, 384, 640)\n"
     ]
    },
    {
     "name": "stderr",
     "output_type": "stream",
     "text": [
      "Using CPU. Note: This module is much faster with a GPU.\n"
     ]
    },
    {
     "name": "stdout",
     "output_type": "stream",
     "text": [
      "\n",
      "0: 384x640 24 cars, 2 trucks, 117.6ms\n",
      "Speed: 6.3ms preprocess, 117.6ms inference, 1.2ms postprocess per image at shape (1, 3, 384, 640)\n",
      "\n",
      "0: 384x640 1 alpaca, 97.8ms\n",
      "Speed: 2.0ms preprocess, 97.8ms inference, 1.0ms postprocess per image at shape (1, 3, 384, 640)\n"
     ]
    },
    {
     "name": "stderr",
     "output_type": "stream",
     "text": [
      "Using CPU. Note: This module is much faster with a GPU.\n"
     ]
    },
    {
     "name": "stdout",
     "output_type": "stream",
     "text": [
      "\n",
      "0: 384x640 24 cars, 3 trucks, 94.6ms\n",
      "Speed: 2.9ms preprocess, 94.6ms inference, 1.1ms postprocess per image at shape (1, 3, 384, 640)\n",
      "\n",
      "0: 384x640 (no detections), 86.3ms\n",
      "Speed: 2.9ms preprocess, 86.3ms inference, 0.0ms postprocess per image at shape (1, 3, 384, 640)\n",
      "\n",
      "0: 384x640 24 cars, 3 trucks, 98.9ms\n",
      "Speed: 2.1ms preprocess, 98.9ms inference, 1.0ms postprocess per image at shape (1, 3, 384, 640)\n",
      "\n",
      "0: 384x640 (no detections), 94.3ms\n",
      "Speed: 2.0ms preprocess, 94.3ms inference, 0.0ms postprocess per image at shape (1, 3, 384, 640)\n",
      "\n",
      "0: 384x640 27 cars, 3 trucks, 95.0ms\n",
      "Speed: 2.0ms preprocess, 95.0ms inference, 1.9ms postprocess per image at shape (1, 3, 384, 640)\n",
      "\n",
      "0: 384x640 (no detections), 85.7ms\n",
      "Speed: 1.6ms preprocess, 85.7ms inference, 0.0ms postprocess per image at shape (1, 3, 384, 640)\n",
      "\n",
      "0: 384x640 24 cars, 3 trucks, 95.4ms\n",
      "Speed: 1.0ms preprocess, 95.4ms inference, 1.6ms postprocess per image at shape (1, 3, 384, 640)\n",
      "\n",
      "0: 384x640 2 alpacas, 87.8ms\n",
      "Speed: 1.9ms preprocess, 87.8ms inference, 1.0ms postprocess per image at shape (1, 3, 384, 640)\n"
     ]
    },
    {
     "name": "stderr",
     "output_type": "stream",
     "text": [
      "Using CPU. Note: This module is much faster with a GPU.\n",
      "Using CPU. Note: This module is much faster with a GPU.\n"
     ]
    },
    {
     "name": "stdout",
     "output_type": "stream",
     "text": [
      "\n",
      "0: 384x640 26 cars, 3 trucks, 111.1ms\n",
      "Speed: 2.6ms preprocess, 111.1ms inference, 2.0ms postprocess per image at shape (1, 3, 384, 640)\n",
      "\n",
      "0: 384x640 1 alpaca, 103.4ms\n",
      "Speed: 2.1ms preprocess, 103.4ms inference, 1.0ms postprocess per image at shape (1, 3, 384, 640)\n"
     ]
    },
    {
     "name": "stderr",
     "output_type": "stream",
     "text": [
      "Using CPU. Note: This module is much faster with a GPU.\n"
     ]
    },
    {
     "name": "stdout",
     "output_type": "stream",
     "text": [
      "\n",
      "0: 384x640 25 cars, 3 trucks, 111.3ms\n",
      "Speed: 2.6ms preprocess, 111.3ms inference, 1.4ms postprocess per image at shape (1, 3, 384, 640)\n",
      "\n",
      "0: 384x640 (no detections), 100.9ms\n",
      "Speed: 1.8ms preprocess, 100.9ms inference, 0.0ms postprocess per image at shape (1, 3, 384, 640)\n",
      "\n",
      "0: 384x640 25 cars, 3 trucks, 104.9ms\n",
      "Speed: 3.6ms preprocess, 104.9ms inference, 1.7ms postprocess per image at shape (1, 3, 384, 640)\n",
      "\n",
      "0: 384x640 (no detections), 104.5ms\n",
      "Speed: 2.5ms preprocess, 104.5ms inference, 0.0ms postprocess per image at shape (1, 3, 384, 640)\n",
      "\n",
      "0: 384x640 24 cars, 2 trucks, 112.6ms\n",
      "Speed: 3.0ms preprocess, 112.6ms inference, 1.7ms postprocess per image at shape (1, 3, 384, 640)\n",
      "\n",
      "0: 384x640 (no detections), 96.8ms\n",
      "Speed: 2.0ms preprocess, 96.8ms inference, 0.0ms postprocess per image at shape (1, 3, 384, 640)\n",
      "\n",
      "0: 384x640 23 cars, 2 trucks, 108.7ms\n",
      "Speed: 2.0ms preprocess, 108.7ms inference, 2.0ms postprocess per image at shape (1, 3, 384, 640)\n",
      "\n",
      "0: 384x640 3 alpacas, 92.6ms\n",
      "Speed: 3.8ms preprocess, 92.6ms inference, 0.7ms postprocess per image at shape (1, 3, 384, 640)\n"
     ]
    },
    {
     "name": "stderr",
     "output_type": "stream",
     "text": [
      "Using CPU. Note: This module is much faster with a GPU.\n",
      "Using CPU. Note: This module is much faster with a GPU.\n",
      "Using CPU. Note: This module is much faster with a GPU.\n"
     ]
    },
    {
     "name": "stdout",
     "output_type": "stream",
     "text": [
      "\n",
      "0: 384x640 23 cars, 1 bus, 2 trucks, 100.0ms\n",
      "Speed: 2.6ms preprocess, 100.0ms inference, 1.0ms postprocess per image at shape (1, 3, 384, 640)\n",
      "\n",
      "0: 384x640 (no detections), 92.1ms\n",
      "Speed: 2.0ms preprocess, 92.1ms inference, 1.8ms postprocess per image at shape (1, 3, 384, 640)\n",
      "\n",
      "0: 384x640 23 cars, 1 bus, 2 trucks, 99.1ms\n",
      "Speed: 1.0ms preprocess, 99.1ms inference, 1.0ms postprocess per image at shape (1, 3, 384, 640)\n",
      "\n",
      "0: 384x640 1 alpaca, 147.4ms\n",
      "Speed: 1.0ms preprocess, 147.4ms inference, 1.0ms postprocess per image at shape (1, 3, 384, 640)\n"
     ]
    },
    {
     "name": "stderr",
     "output_type": "stream",
     "text": [
      "Using CPU. Note: This module is much faster with a GPU.\n"
     ]
    },
    {
     "name": "stdout",
     "output_type": "stream",
     "text": [
      "\n",
      "0: 384x640 24 cars, 1 bus, 2 trucks, 113.3ms\n",
      "Speed: 2.9ms preprocess, 113.3ms inference, 2.0ms postprocess per image at shape (1, 3, 384, 640)\n",
      "\n",
      "0: 384x640 1 alpaca, 94.0ms\n",
      "Speed: 2.3ms preprocess, 94.0ms inference, 0.0ms postprocess per image at shape (1, 3, 384, 640)\n"
     ]
    },
    {
     "name": "stderr",
     "output_type": "stream",
     "text": [
      "Using CPU. Note: This module is much faster with a GPU.\n"
     ]
    },
    {
     "name": "stdout",
     "output_type": "stream",
     "text": [
      "\n",
      "0: 384x640 26 cars, 1 bus, 2 trucks, 122.2ms\n",
      "Speed: 3.0ms preprocess, 122.2ms inference, 2.5ms postprocess per image at shape (1, 3, 384, 640)\n",
      "\n",
      "0: 384x640 (no detections), 115.2ms\n",
      "Speed: 4.0ms preprocess, 115.2ms inference, 0.0ms postprocess per image at shape (1, 3, 384, 640)\n",
      "\n",
      "0: 384x640 23 cars, 1 bus, 2 trucks, 110.5ms\n",
      "Speed: 3.2ms preprocess, 110.5ms inference, 2.1ms postprocess per image at shape (1, 3, 384, 640)\n",
      "\n",
      "0: 384x640 1 alpaca, 105.2ms\n",
      "Speed: 2.2ms preprocess, 105.2ms inference, 1.0ms postprocess per image at shape (1, 3, 384, 640)\n"
     ]
    },
    {
     "name": "stderr",
     "output_type": "stream",
     "text": [
      "Using CPU. Note: This module is much faster with a GPU.\n"
     ]
    },
    {
     "name": "stdout",
     "output_type": "stream",
     "text": [
      "\n",
      "0: 384x640 22 cars, 1 bus, 2 trucks, 94.5ms\n",
      "Speed: 2.3ms preprocess, 94.5ms inference, 1.2ms postprocess per image at shape (1, 3, 384, 640)\n",
      "\n",
      "0: 384x640 2 alpacas, 87.3ms\n",
      "Speed: 2.7ms preprocess, 87.3ms inference, 0.0ms postprocess per image at shape (1, 3, 384, 640)\n"
     ]
    },
    {
     "name": "stderr",
     "output_type": "stream",
     "text": [
      "Using CPU. Note: This module is much faster with a GPU.\n",
      "Using CPU. Note: This module is much faster with a GPU.\n"
     ]
    },
    {
     "name": "stdout",
     "output_type": "stream",
     "text": [
      "\n",
      "0: 384x640 25 cars, 2 trucks, 101.7ms\n",
      "Speed: 3.5ms preprocess, 101.7ms inference, 2.0ms postprocess per image at shape (1, 3, 384, 640)\n",
      "\n",
      "0: 384x640 2 alpacas, 92.3ms\n",
      "Speed: 1.0ms preprocess, 92.3ms inference, 0.0ms postprocess per image at shape (1, 3, 384, 640)\n"
     ]
    },
    {
     "name": "stderr",
     "output_type": "stream",
     "text": [
      "Using CPU. Note: This module is much faster with a GPU.\n",
      "Using CPU. Note: This module is much faster with a GPU.\n"
     ]
    },
    {
     "name": "stdout",
     "output_type": "stream",
     "text": [
      "\n",
      "0: 384x640 25 cars, 2 trucks, 98.6ms\n",
      "Speed: 3.0ms preprocess, 98.6ms inference, 2.0ms postprocess per image at shape (1, 3, 384, 640)\n",
      "\n",
      "0: 384x640 1 alpaca, 86.4ms\n",
      "Speed: 3.0ms preprocess, 86.4ms inference, 0.0ms postprocess per image at shape (1, 3, 384, 640)\n"
     ]
    },
    {
     "name": "stderr",
     "output_type": "stream",
     "text": [
      "Using CPU. Note: This module is much faster with a GPU.\n"
     ]
    },
    {
     "name": "stdout",
     "output_type": "stream",
     "text": [
      "\n",
      "0: 384x640 23 cars, 2 trucks, 98.4ms\n",
      "Speed: 3.2ms preprocess, 98.4ms inference, 1.0ms postprocess per image at shape (1, 3, 384, 640)\n",
      "\n",
      "0: 384x640 1 alpaca, 85.3ms\n",
      "Speed: 1.0ms preprocess, 85.3ms inference, 0.0ms postprocess per image at shape (1, 3, 384, 640)\n"
     ]
    },
    {
     "name": "stderr",
     "output_type": "stream",
     "text": [
      "Using CPU. Note: This module is much faster with a GPU.\n"
     ]
    },
    {
     "name": "stdout",
     "output_type": "stream",
     "text": [
      "\n",
      "0: 384x640 22 cars, 2 trucks, 107.2ms\n",
      "Speed: 4.0ms preprocess, 107.2ms inference, 2.0ms postprocess per image at shape (1, 3, 384, 640)\n",
      "\n",
      "0: 384x640 1 alpaca, 85.3ms\n",
      "Speed: 1.9ms preprocess, 85.3ms inference, 1.0ms postprocess per image at shape (1, 3, 384, 640)\n"
     ]
    },
    {
     "name": "stderr",
     "output_type": "stream",
     "text": [
      "Using CPU. Note: This module is much faster with a GPU.\n"
     ]
    },
    {
     "name": "stdout",
     "output_type": "stream",
     "text": [
      "\n",
      "0: 384x640 22 cars, 3 trucks, 107.7ms\n",
      "Speed: 3.3ms preprocess, 107.7ms inference, 1.0ms postprocess per image at shape (1, 3, 384, 640)\n",
      "\n",
      "0: 384x640 1 alpaca, 95.5ms\n",
      "Speed: 3.0ms preprocess, 95.5ms inference, 1.2ms postprocess per image at shape (1, 3, 384, 640)\n"
     ]
    },
    {
     "name": "stderr",
     "output_type": "stream",
     "text": [
      "Using CPU. Note: This module is much faster with a GPU.\n"
     ]
    },
    {
     "name": "stdout",
     "output_type": "stream",
     "text": [
      "\n",
      "0: 384x640 22 cars, 2 trucks, 95.6ms\n",
      "Speed: 2.0ms preprocess, 95.6ms inference, 1.0ms postprocess per image at shape (1, 3, 384, 640)\n",
      "\n",
      "0: 384x640 1 alpaca, 88.1ms\n",
      "Speed: 2.0ms preprocess, 88.1ms inference, 0.0ms postprocess per image at shape (1, 3, 384, 640)\n"
     ]
    },
    {
     "name": "stderr",
     "output_type": "stream",
     "text": [
      "Using CPU. Note: This module is much faster with a GPU.\n"
     ]
    },
    {
     "name": "stdout",
     "output_type": "stream",
     "text": [
      "\n",
      "0: 384x640 22 cars, 2 trucks, 177.8ms\n",
      "Speed: 2.4ms preprocess, 177.8ms inference, 5.4ms postprocess per image at shape (1, 3, 384, 640)\n",
      "\n",
      "0: 384x640 1 alpaca, 194.8ms\n",
      "Speed: 3.1ms preprocess, 194.8ms inference, 1.0ms postprocess per image at shape (1, 3, 384, 640)\n"
     ]
    },
    {
     "name": "stderr",
     "output_type": "stream",
     "text": [
      "Using CPU. Note: This module is much faster with a GPU.\n"
     ]
    },
    {
     "name": "stdout",
     "output_type": "stream",
     "text": [
      "\n",
      "0: 384x640 21 cars, 2 trucks, 111.3ms\n",
      "Speed: 3.1ms preprocess, 111.3ms inference, 2.0ms postprocess per image at shape (1, 3, 384, 640)\n",
      "\n",
      "0: 384x640 1 alpaca, 99.7ms\n",
      "Speed: 2.3ms preprocess, 99.7ms inference, 1.0ms postprocess per image at shape (1, 3, 384, 640)\n"
     ]
    },
    {
     "name": "stderr",
     "output_type": "stream",
     "text": [
      "Using CPU. Note: This module is much faster with a GPU.\n"
     ]
    },
    {
     "name": "stdout",
     "output_type": "stream",
     "text": [
      "\n",
      "0: 384x640 22 cars, 2 trucks, 98.7ms\n",
      "Speed: 3.1ms preprocess, 98.7ms inference, 2.0ms postprocess per image at shape (1, 3, 384, 640)\n",
      "\n",
      "0: 384x640 2 alpacas, 87.0ms\n",
      "Speed: 3.0ms preprocess, 87.0ms inference, 1.0ms postprocess per image at shape (1, 3, 384, 640)\n"
     ]
    },
    {
     "name": "stderr",
     "output_type": "stream",
     "text": [
      "Using CPU. Note: This module is much faster with a GPU.\n",
      "Using CPU. Note: This module is much faster with a GPU.\n"
     ]
    },
    {
     "name": "stdout",
     "output_type": "stream",
     "text": [
      "\n",
      "0: 384x640 24 cars, 3 trucks, 96.9ms\n",
      "Speed: 2.6ms preprocess, 96.9ms inference, 1.7ms postprocess per image at shape (1, 3, 384, 640)\n",
      "\n",
      "0: 384x640 2 alpacas, 85.9ms\n",
      "Speed: 2.1ms preprocess, 85.9ms inference, 0.0ms postprocess per image at shape (1, 3, 384, 640)\n"
     ]
    },
    {
     "name": "stderr",
     "output_type": "stream",
     "text": [
      "Using CPU. Note: This module is much faster with a GPU.\n",
      "Using CPU. Note: This module is much faster with a GPU.\n"
     ]
    },
    {
     "name": "stdout",
     "output_type": "stream",
     "text": [
      "\n",
      "0: 384x640 23 cars, 2 trucks, 125.0ms\n",
      "Speed: 4.1ms preprocess, 125.0ms inference, 2.0ms postprocess per image at shape (1, 3, 384, 640)\n",
      "\n",
      "0: 384x640 1 alpaca, 163.6ms\n",
      "Speed: 4.2ms preprocess, 163.6ms inference, 0.0ms postprocess per image at shape (1, 3, 384, 640)\n"
     ]
    },
    {
     "name": "stderr",
     "output_type": "stream",
     "text": [
      "Using CPU. Note: This module is much faster with a GPU.\n"
     ]
    },
    {
     "name": "stdout",
     "output_type": "stream",
     "text": [
      "\n",
      "0: 384x640 23 cars, 1 bus, 2 trucks, 126.7ms\n",
      "Speed: 4.0ms preprocess, 126.7ms inference, 3.0ms postprocess per image at shape (1, 3, 384, 640)\n",
      "\n",
      "0: 384x640 2 alpacas, 125.8ms\n",
      "Speed: 3.0ms preprocess, 125.8ms inference, 1.0ms postprocess per image at shape (1, 3, 384, 640)\n"
     ]
    },
    {
     "name": "stderr",
     "output_type": "stream",
     "text": [
      "Using CPU. Note: This module is much faster with a GPU.\n",
      "Using CPU. Note: This module is much faster with a GPU.\n"
     ]
    },
    {
     "name": "stdout",
     "output_type": "stream",
     "text": [
      "\n",
      "0: 384x640 21 cars, 2 trucks, 135.9ms\n",
      "Speed: 3.4ms preprocess, 135.9ms inference, 2.0ms postprocess per image at shape (1, 3, 384, 640)\n",
      "\n",
      "0: 384x640 1 alpaca, 109.6ms\n",
      "Speed: 2.4ms preprocess, 109.6ms inference, 1.0ms postprocess per image at shape (1, 3, 384, 640)\n"
     ]
    },
    {
     "name": "stderr",
     "output_type": "stream",
     "text": [
      "Using CPU. Note: This module is much faster with a GPU.\n"
     ]
    },
    {
     "name": "stdout",
     "output_type": "stream",
     "text": [
      "\n",
      "0: 384x640 22 cars, 2 trucks, 207.5ms\n",
      "Speed: 3.0ms preprocess, 207.5ms inference, 2.3ms postprocess per image at shape (1, 3, 384, 640)\n",
      "\n",
      "0: 384x640 2 alpacas, 187.1ms\n",
      "Speed: 3.5ms preprocess, 187.1ms inference, 1.7ms postprocess per image at shape (1, 3, 384, 640)\n"
     ]
    },
    {
     "name": "stderr",
     "output_type": "stream",
     "text": [
      "Using CPU. Note: This module is much faster with a GPU.\n",
      "Using CPU. Note: This module is much faster with a GPU.\n"
     ]
    },
    {
     "name": "stdout",
     "output_type": "stream",
     "text": [
      "\n",
      "0: 384x640 21 cars, 2 trucks, 183.4ms\n",
      "Speed: 3.0ms preprocess, 183.4ms inference, 5.8ms postprocess per image at shape (1, 3, 384, 640)\n",
      "\n",
      "0: 384x640 1 alpaca, 180.8ms\n",
      "Speed: 4.0ms preprocess, 180.8ms inference, 0.5ms postprocess per image at shape (1, 3, 384, 640)\n"
     ]
    },
    {
     "name": "stderr",
     "output_type": "stream",
     "text": [
      "Using CPU. Note: This module is much faster with a GPU.\n"
     ]
    },
    {
     "name": "stdout",
     "output_type": "stream",
     "text": [
      "\n",
      "0: 384x640 20 cars, 2 trucks, 198.9ms\n",
      "Speed: 3.0ms preprocess, 198.9ms inference, 1.0ms postprocess per image at shape (1, 3, 384, 640)\n",
      "\n",
      "0: 384x640 1 alpaca, 150.9ms\n",
      "Speed: 4.0ms preprocess, 150.9ms inference, 1.0ms postprocess per image at shape (1, 3, 384, 640)\n"
     ]
    },
    {
     "name": "stderr",
     "output_type": "stream",
     "text": [
      "Using CPU. Note: This module is much faster with a GPU.\n"
     ]
    },
    {
     "name": "stdout",
     "output_type": "stream",
     "text": [
      "\n",
      "0: 384x640 22 cars, 2 trucks, 112.9ms\n",
      "Speed: 2.9ms preprocess, 112.9ms inference, 1.0ms postprocess per image at shape (1, 3, 384, 640)\n",
      "\n",
      "0: 384x640 1 alpaca, 97.2ms\n",
      "Speed: 2.0ms preprocess, 97.2ms inference, 0.0ms postprocess per image at shape (1, 3, 384, 640)\n"
     ]
    },
    {
     "name": "stderr",
     "output_type": "stream",
     "text": [
      "Using CPU. Note: This module is much faster with a GPU.\n"
     ]
    },
    {
     "name": "stdout",
     "output_type": "stream",
     "text": [
      "\n",
      "0: 384x640 22 cars, 2 trucks, 101.5ms\n",
      "Speed: 2.0ms preprocess, 101.5ms inference, 1.9ms postprocess per image at shape (1, 3, 384, 640)\n",
      "\n",
      "0: 384x640 1 alpaca, 86.7ms\n",
      "Speed: 2.0ms preprocess, 86.7ms inference, 0.0ms postprocess per image at shape (1, 3, 384, 640)\n"
     ]
    },
    {
     "name": "stderr",
     "output_type": "stream",
     "text": [
      "Using CPU. Note: This module is much faster with a GPU.\n"
     ]
    },
    {
     "name": "stdout",
     "output_type": "stream",
     "text": [
      "\n",
      "0: 384x640 21 cars, 2 trucks, 173.7ms\n",
      "Speed: 4.0ms preprocess, 173.7ms inference, 2.0ms postprocess per image at shape (1, 3, 384, 640)\n",
      "\n",
      "0: 384x640 1 alpaca, 116.7ms\n",
      "Speed: 3.6ms preprocess, 116.7ms inference, 1.0ms postprocess per image at shape (1, 3, 384, 640)\n"
     ]
    },
    {
     "name": "stderr",
     "output_type": "stream",
     "text": [
      "Using CPU. Note: This module is much faster with a GPU.\n"
     ]
    },
    {
     "name": "stdout",
     "output_type": "stream",
     "text": [
      "\n",
      "0: 384x640 21 cars, 2 trucks, 133.5ms\n",
      "Speed: 3.0ms preprocess, 133.5ms inference, 1.6ms postprocess per image at shape (1, 3, 384, 640)\n",
      "\n",
      "0: 384x640 1 alpaca, 96.6ms\n",
      "Speed: 3.3ms preprocess, 96.6ms inference, 1.0ms postprocess per image at shape (1, 3, 384, 640)\n"
     ]
    },
    {
     "name": "stderr",
     "output_type": "stream",
     "text": [
      "Using CPU. Note: This module is much faster with a GPU.\n"
     ]
    },
    {
     "name": "stdout",
     "output_type": "stream",
     "text": [
      "\n",
      "0: 384x640 22 cars, 1 bus, 2 trucks, 195.0ms\n",
      "Speed: 5.2ms preprocess, 195.0ms inference, 0.9ms postprocess per image at shape (1, 3, 384, 640)\n",
      "\n",
      "0: 384x640 (no detections), 96.2ms\n",
      "Speed: 2.0ms preprocess, 96.2ms inference, 1.1ms postprocess per image at shape (1, 3, 384, 640)\n",
      "\n",
      "0: 384x640 25 cars, 1 bus, 2 trucks, 103.3ms\n",
      "Speed: 3.0ms preprocess, 103.3ms inference, 1.1ms postprocess per image at shape (1, 3, 384, 640)\n",
      "\n",
      "0: 384x640 1 alpaca, 143.2ms\n",
      "Speed: 2.0ms preprocess, 143.2ms inference, 0.0ms postprocess per image at shape (1, 3, 384, 640)\n"
     ]
    },
    {
     "name": "stderr",
     "output_type": "stream",
     "text": [
      "Using CPU. Note: This module is much faster with a GPU.\n"
     ]
    },
    {
     "name": "stdout",
     "output_type": "stream",
     "text": [
      "\n",
      "0: 384x640 23 cars, 2 trucks, 100.2ms\n",
      "Speed: 4.5ms preprocess, 100.2ms inference, 1.0ms postprocess per image at shape (1, 3, 384, 640)\n",
      "\n",
      "0: 384x640 1 alpaca, 84.5ms\n",
      "Speed: 1.7ms preprocess, 84.5ms inference, 0.0ms postprocess per image at shape (1, 3, 384, 640)\n"
     ]
    },
    {
     "name": "stderr",
     "output_type": "stream",
     "text": [
      "Using CPU. Note: This module is much faster with a GPU.\n"
     ]
    },
    {
     "name": "stdout",
     "output_type": "stream",
     "text": [
      "\n",
      "0: 384x640 23 cars, 2 trucks, 97.5ms\n",
      "Speed: 1.3ms preprocess, 97.5ms inference, 1.7ms postprocess per image at shape (1, 3, 384, 640)\n",
      "\n",
      "0: 384x640 1 alpaca, 90.4ms\n",
      "Speed: 2.0ms preprocess, 90.4ms inference, 0.0ms postprocess per image at shape (1, 3, 384, 640)\n"
     ]
    },
    {
     "name": "stderr",
     "output_type": "stream",
     "text": [
      "Using CPU. Note: This module is much faster with a GPU.\n"
     ]
    },
    {
     "name": "stdout",
     "output_type": "stream",
     "text": [
      "\n",
      "0: 384x640 21 cars, 1 bus, 2 trucks, 114.0ms\n",
      "Speed: 4.0ms preprocess, 114.0ms inference, 1.0ms postprocess per image at shape (1, 3, 384, 640)\n",
      "\n",
      "0: 384x640 1 alpaca, 90.1ms\n",
      "Speed: 1.9ms preprocess, 90.1ms inference, 0.0ms postprocess per image at shape (1, 3, 384, 640)\n"
     ]
    },
    {
     "name": "stderr",
     "output_type": "stream",
     "text": [
      "Using CPU. Note: This module is much faster with a GPU.\n"
     ]
    },
    {
     "name": "stdout",
     "output_type": "stream",
     "text": [
      "\n",
      "0: 384x640 21 cars, 1 bus, 2 trucks, 109.1ms\n",
      "Speed: 3.5ms preprocess, 109.1ms inference, 1.0ms postprocess per image at shape (1, 3, 384, 640)\n",
      "\n",
      "0: 384x640 2 alpacas, 87.5ms\n",
      "Speed: 2.7ms preprocess, 87.5ms inference, 0.0ms postprocess per image at shape (1, 3, 384, 640)\n"
     ]
    },
    {
     "name": "stderr",
     "output_type": "stream",
     "text": [
      "Using CPU. Note: This module is much faster with a GPU.\n",
      "Using CPU. Note: This module is much faster with a GPU.\n"
     ]
    },
    {
     "name": "stdout",
     "output_type": "stream",
     "text": [
      "\n",
      "0: 384x640 22 cars, 1 bus, 2 trucks, 97.8ms\n",
      "Speed: 2.0ms preprocess, 97.8ms inference, 1.0ms postprocess per image at shape (1, 3, 384, 640)\n",
      "\n",
      "0: 384x640 1 alpaca, 87.3ms\n",
      "Speed: 2.2ms preprocess, 87.3ms inference, 0.0ms postprocess per image at shape (1, 3, 384, 640)\n"
     ]
    },
    {
     "name": "stderr",
     "output_type": "stream",
     "text": [
      "Using CPU. Note: This module is much faster with a GPU.\n"
     ]
    },
    {
     "name": "stdout",
     "output_type": "stream",
     "text": [
      "\n",
      "0: 384x640 21 cars, 1 bus, 2 trucks, 111.7ms\n",
      "Speed: 3.0ms preprocess, 111.7ms inference, 1.9ms postprocess per image at shape (1, 3, 384, 640)\n",
      "\n",
      "0: 384x640 1 alpaca, 139.9ms\n",
      "Speed: 2.0ms preprocess, 139.9ms inference, 1.0ms postprocess per image at shape (1, 3, 384, 640)\n"
     ]
    },
    {
     "name": "stderr",
     "output_type": "stream",
     "text": [
      "Using CPU. Note: This module is much faster with a GPU.\n"
     ]
    },
    {
     "name": "stdout",
     "output_type": "stream",
     "text": [
      "\n",
      "0: 384x640 24 cars, 1 bus, 2 trucks, 152.5ms\n",
      "Speed: 4.0ms preprocess, 152.5ms inference, 5.5ms postprocess per image at shape (1, 3, 384, 640)\n",
      "\n",
      "0: 384x640 1 alpaca, 95.9ms\n",
      "Speed: 3.7ms preprocess, 95.9ms inference, 1.0ms postprocess per image at shape (1, 3, 384, 640)\n"
     ]
    },
    {
     "name": "stderr",
     "output_type": "stream",
     "text": [
      "Using CPU. Note: This module is much faster with a GPU.\n"
     ]
    },
    {
     "name": "stdout",
     "output_type": "stream",
     "text": [
      "\n",
      "0: 384x640 21 cars, 2 trucks, 104.2ms\n",
      "Speed: 4.5ms preprocess, 104.2ms inference, 1.5ms postprocess per image at shape (1, 3, 384, 640)\n",
      "\n",
      "0: 384x640 (no detections), 87.9ms\n",
      "Speed: 2.0ms preprocess, 87.9ms inference, 0.0ms postprocess per image at shape (1, 3, 384, 640)\n",
      "\n",
      "0: 384x640 23 cars, 2 trucks, 95.9ms\n",
      "Speed: 3.3ms preprocess, 95.9ms inference, 2.0ms postprocess per image at shape (1, 3, 384, 640)\n",
      "\n",
      "0: 384x640 2 alpacas, 140.1ms\n",
      "Speed: 2.0ms preprocess, 140.1ms inference, 1.7ms postprocess per image at shape (1, 3, 384, 640)\n"
     ]
    },
    {
     "name": "stderr",
     "output_type": "stream",
     "text": [
      "Using CPU. Note: This module is much faster with a GPU.\n",
      "Using CPU. Note: This module is much faster with a GPU.\n"
     ]
    },
    {
     "name": "stdout",
     "output_type": "stream",
     "text": [
      "\n",
      "0: 384x640 19 cars, 1 bus, 2 trucks, 226.0ms\n",
      "Speed: 4.6ms preprocess, 226.0ms inference, 5.5ms postprocess per image at shape (1, 3, 384, 640)\n",
      "\n",
      "0: 384x640 1 alpaca, 203.1ms\n",
      "Speed: 2.0ms preprocess, 203.1ms inference, 1.0ms postprocess per image at shape (1, 3, 384, 640)\n"
     ]
    },
    {
     "name": "stderr",
     "output_type": "stream",
     "text": [
      "Using CPU. Note: This module is much faster with a GPU.\n"
     ]
    },
    {
     "name": "stdout",
     "output_type": "stream",
     "text": [
      "\n",
      "0: 384x640 19 cars, 2 trucks, 100.8ms\n",
      "Speed: 2.0ms preprocess, 100.8ms inference, 2.0ms postprocess per image at shape (1, 3, 384, 640)\n",
      "\n",
      "0: 384x640 1 alpaca, 96.8ms\n",
      "Speed: 3.2ms preprocess, 96.8ms inference, 0.0ms postprocess per image at shape (1, 3, 384, 640)\n"
     ]
    },
    {
     "name": "stderr",
     "output_type": "stream",
     "text": [
      "Using CPU. Note: This module is much faster with a GPU.\n"
     ]
    },
    {
     "name": "stdout",
     "output_type": "stream",
     "text": [
      "\n",
      "0: 384x640 21 cars, 2 trucks, 116.0ms\n",
      "Speed: 3.8ms preprocess, 116.0ms inference, 2.0ms postprocess per image at shape (1, 3, 384, 640)\n",
      "\n",
      "0: 384x640 1 alpaca, 88.6ms\n",
      "Speed: 2.0ms preprocess, 88.6ms inference, 0.0ms postprocess per image at shape (1, 3, 384, 640)\n"
     ]
    },
    {
     "name": "stderr",
     "output_type": "stream",
     "text": [
      "Using CPU. Note: This module is much faster with a GPU.\n"
     ]
    },
    {
     "name": "stdout",
     "output_type": "stream",
     "text": [
      "\n",
      "0: 384x640 20 cars, 2 trucks, 120.2ms\n",
      "Speed: 4.5ms preprocess, 120.2ms inference, 1.0ms postprocess per image at shape (1, 3, 384, 640)\n",
      "\n",
      "0: 384x640 1 alpaca, 121.0ms\n",
      "Speed: 2.6ms preprocess, 121.0ms inference, 0.0ms postprocess per image at shape (1, 3, 384, 640)\n"
     ]
    },
    {
     "name": "stderr",
     "output_type": "stream",
     "text": [
      "Using CPU. Note: This module is much faster with a GPU.\n"
     ]
    },
    {
     "name": "stdout",
     "output_type": "stream",
     "text": [
      "\n",
      "0: 384x640 20 cars, 1 bus, 2 trucks, 141.0ms\n",
      "Speed: 3.0ms preprocess, 141.0ms inference, 2.0ms postprocess per image at shape (1, 3, 384, 640)\n",
      "\n",
      "0: 384x640 1 alpaca, 122.0ms\n",
      "Speed: 2.0ms preprocess, 122.0ms inference, 1.0ms postprocess per image at shape (1, 3, 384, 640)\n"
     ]
    },
    {
     "name": "stderr",
     "output_type": "stream",
     "text": [
      "Using CPU. Note: This module is much faster with a GPU.\n"
     ]
    },
    {
     "name": "stdout",
     "output_type": "stream",
     "text": [
      "\n",
      "0: 384x640 18 cars, 1 bus, 2 trucks, 97.8ms\n",
      "Speed: 3.0ms preprocess, 97.8ms inference, 1.0ms postprocess per image at shape (1, 3, 384, 640)\n",
      "\n",
      "0: 384x640 1 alpaca, 85.7ms\n",
      "Speed: 2.6ms preprocess, 85.7ms inference, 1.0ms postprocess per image at shape (1, 3, 384, 640)\n"
     ]
    },
    {
     "name": "stderr",
     "output_type": "stream",
     "text": [
      "Using CPU. Note: This module is much faster with a GPU.\n"
     ]
    },
    {
     "name": "stdout",
     "output_type": "stream",
     "text": [
      "\n",
      "0: 384x640 19 cars, 1 bus, 2 trucks, 225.6ms\n",
      "Speed: 3.4ms preprocess, 225.6ms inference, 4.7ms postprocess per image at shape (1, 3, 384, 640)\n",
      "\n",
      "0: 384x640 1 alpaca, 190.5ms\n",
      "Speed: 3.3ms preprocess, 190.5ms inference, 0.0ms postprocess per image at shape (1, 3, 384, 640)\n"
     ]
    },
    {
     "name": "stderr",
     "output_type": "stream",
     "text": [
      "Using CPU. Note: This module is much faster with a GPU.\n"
     ]
    },
    {
     "name": "stdout",
     "output_type": "stream",
     "text": [
      "\n",
      "0: 384x640 19 cars, 2 trucks, 92.2ms\n",
      "Speed: 3.1ms preprocess, 92.2ms inference, 2.0ms postprocess per image at shape (1, 3, 384, 640)\n",
      "\n",
      "0: 384x640 1 alpaca, 82.2ms\n",
      "Speed: 2.1ms preprocess, 82.2ms inference, 0.0ms postprocess per image at shape (1, 3, 384, 640)\n"
     ]
    },
    {
     "name": "stderr",
     "output_type": "stream",
     "text": [
      "Using CPU. Note: This module is much faster with a GPU.\n"
     ]
    },
    {
     "name": "stdout",
     "output_type": "stream",
     "text": [
      "\n",
      "0: 384x640 20 cars, 2 trucks, 103.2ms\n",
      "Speed: 4.0ms preprocess, 103.2ms inference, 0.9ms postprocess per image at shape (1, 3, 384, 640)\n",
      "\n",
      "0: 384x640 (no detections), 84.5ms\n",
      "Speed: 2.1ms preprocess, 84.5ms inference, 0.0ms postprocess per image at shape (1, 3, 384, 640)\n",
      "\n",
      "0: 384x640 20 cars, 1 bus, 2 trucks, 91.1ms\n",
      "Speed: 2.9ms preprocess, 91.1ms inference, 2.1ms postprocess per image at shape (1, 3, 384, 640)\n",
      "\n",
      "0: 384x640 (no detections), 82.6ms\n",
      "Speed: 2.0ms preprocess, 82.6ms inference, 0.0ms postprocess per image at shape (1, 3, 384, 640)\n",
      "\n",
      "0: 384x640 19 cars, 1 bus, 2 trucks, 92.8ms\n",
      "Speed: 2.5ms preprocess, 92.8ms inference, 2.0ms postprocess per image at shape (1, 3, 384, 640)\n",
      "\n",
      "0: 384x640 (no detections), 84.0ms\n",
      "Speed: 1.0ms preprocess, 84.0ms inference, 0.0ms postprocess per image at shape (1, 3, 384, 640)\n",
      "\n",
      "0: 384x640 20 cars, 1 bus, 2 trucks, 95.9ms\n",
      "Speed: 2.0ms preprocess, 95.9ms inference, 2.5ms postprocess per image at shape (1, 3, 384, 640)\n",
      "\n",
      "0: 384x640 (no detections), 83.2ms\n",
      "Speed: 3.0ms preprocess, 83.2ms inference, 0.0ms postprocess per image at shape (1, 3, 384, 640)\n",
      "\n",
      "0: 384x640 19 cars, 1 bus, 2 trucks, 100.3ms\n",
      "Speed: 3.3ms preprocess, 100.3ms inference, 1.0ms postprocess per image at shape (1, 3, 384, 640)\n",
      "\n",
      "0: 384x640 1 alpaca, 110.6ms\n",
      "Speed: 4.0ms preprocess, 110.6ms inference, 1.0ms postprocess per image at shape (1, 3, 384, 640)\n"
     ]
    },
    {
     "name": "stderr",
     "output_type": "stream",
     "text": [
      "Using CPU. Note: This module is much faster with a GPU.\n"
     ]
    },
    {
     "name": "stdout",
     "output_type": "stream",
     "text": [
      "\n",
      "0: 384x640 20 cars, 1 bus, 2 trucks, 107.5ms\n",
      "Speed: 4.8ms preprocess, 107.5ms inference, 2.0ms postprocess per image at shape (1, 3, 384, 640)\n",
      "\n",
      "0: 384x640 1 alpaca, 86.7ms\n",
      "Speed: 2.0ms preprocess, 86.7ms inference, 1.0ms postprocess per image at shape (1, 3, 384, 640)\n"
     ]
    },
    {
     "name": "stderr",
     "output_type": "stream",
     "text": [
      "Using CPU. Note: This module is much faster with a GPU.\n"
     ]
    },
    {
     "name": "stdout",
     "output_type": "stream",
     "text": [
      "\n",
      "0: 384x640 21 cars, 1 bus, 2 trucks, 90.6ms\n",
      "Speed: 2.1ms preprocess, 90.6ms inference, 2.1ms postprocess per image at shape (1, 3, 384, 640)\n",
      "\n",
      "0: 384x640 (no detections), 82.3ms\n",
      "Speed: 2.2ms preprocess, 82.3ms inference, 0.0ms postprocess per image at shape (1, 3, 384, 640)\n",
      "\n",
      "0: 384x640 20 cars, 1 bus, 2 trucks, 94.3ms\n",
      "Speed: 2.5ms preprocess, 94.3ms inference, 2.1ms postprocess per image at shape (1, 3, 384, 640)\n",
      "\n",
      "0: 384x640 1 alpaca, 83.7ms\n",
      "Speed: 2.1ms preprocess, 83.7ms inference, 0.0ms postprocess per image at shape (1, 3, 384, 640)\n"
     ]
    },
    {
     "name": "stderr",
     "output_type": "stream",
     "text": [
      "Using CPU. Note: This module is much faster with a GPU.\n"
     ]
    },
    {
     "name": "stdout",
     "output_type": "stream",
     "text": [
      "\n",
      "0: 384x640 20 cars, 1 bus, 3 trucks, 93.4ms\n",
      "Speed: 2.0ms preprocess, 93.4ms inference, 2.0ms postprocess per image at shape (1, 3, 384, 640)\n",
      "\n",
      "0: 384x640 1 alpaca, 87.5ms\n",
      "Speed: 2.0ms preprocess, 87.5ms inference, 1.0ms postprocess per image at shape (1, 3, 384, 640)\n"
     ]
    },
    {
     "name": "stderr",
     "output_type": "stream",
     "text": [
      "Using CPU. Note: This module is much faster with a GPU.\n"
     ]
    },
    {
     "name": "stdout",
     "output_type": "stream",
     "text": [
      "\n",
      "0: 384x640 19 cars, 1 bus, 2 trucks, 95.3ms\n",
      "Speed: 3.5ms preprocess, 95.3ms inference, 2.3ms postprocess per image at shape (1, 3, 384, 640)\n",
      "\n",
      "0: 384x640 1 alpaca, 83.4ms\n",
      "Speed: 2.2ms preprocess, 83.4ms inference, 0.0ms postprocess per image at shape (1, 3, 384, 640)\n"
     ]
    },
    {
     "name": "stderr",
     "output_type": "stream",
     "text": [
      "Using CPU. Note: This module is much faster with a GPU.\n"
     ]
    },
    {
     "name": "stdout",
     "output_type": "stream",
     "text": [
      "\n",
      "0: 384x640 22 cars, 1 bus, 3 trucks, 109.5ms\n",
      "Speed: 3.6ms preprocess, 109.5ms inference, 2.0ms postprocess per image at shape (1, 3, 384, 640)\n",
      "\n",
      "0: 384x640 1 alpaca, 102.3ms\n",
      "Speed: 1.0ms preprocess, 102.3ms inference, 0.0ms postprocess per image at shape (1, 3, 384, 640)\n"
     ]
    },
    {
     "name": "stderr",
     "output_type": "stream",
     "text": [
      "Using CPU. Note: This module is much faster with a GPU.\n"
     ]
    },
    {
     "name": "stdout",
     "output_type": "stream",
     "text": [
      "\n",
      "0: 384x640 25 cars, 1 bus, 3 trucks, 93.6ms\n",
      "Speed: 2.5ms preprocess, 93.6ms inference, 0.2ms postprocess per image at shape (1, 3, 384, 640)\n",
      "\n",
      "0: 384x640 (no detections), 83.6ms\n",
      "Speed: 2.0ms preprocess, 83.6ms inference, 0.0ms postprocess per image at shape (1, 3, 384, 640)\n",
      "\n",
      "0: 384x640 25 cars, 1 bus, 3 trucks, 220.1ms\n",
      "Speed: 3.3ms preprocess, 220.1ms inference, 5.6ms postprocess per image at shape (1, 3, 384, 640)\n",
      "\n",
      "0: 384x640 (no detections), 196.8ms\n",
      "Speed: 3.3ms preprocess, 196.8ms inference, 1.4ms postprocess per image at shape (1, 3, 384, 640)\n",
      "\n",
      "0: 384x640 22 cars, 1 bus, 2 trucks, 93.3ms\n",
      "Speed: 3.2ms preprocess, 93.3ms inference, 1.0ms postprocess per image at shape (1, 3, 384, 640)\n",
      "\n",
      "0: 384x640 1 alpaca, 83.5ms\n",
      "Speed: 1.3ms preprocess, 83.5ms inference, 1.0ms postprocess per image at shape (1, 3, 384, 640)\n"
     ]
    },
    {
     "name": "stderr",
     "output_type": "stream",
     "text": [
      "Using CPU. Note: This module is much faster with a GPU.\n"
     ]
    },
    {
     "name": "stdout",
     "output_type": "stream",
     "text": [
      "\n",
      "0: 384x640 22 cars, 1 bus, 3 trucks, 183.4ms\n",
      "Speed: 4.7ms preprocess, 183.4ms inference, 5.3ms postprocess per image at shape (1, 3, 384, 640)\n",
      "\n",
      "0: 384x640 (no detections), 150.7ms\n",
      "Speed: 3.6ms preprocess, 150.7ms inference, 0.0ms postprocess per image at shape (1, 3, 384, 640)\n",
      "\n",
      "0: 384x640 24 cars, 1 bus, 3 trucks, 109.9ms\n",
      "Speed: 3.0ms preprocess, 109.9ms inference, 2.0ms postprocess per image at shape (1, 3, 384, 640)\n",
      "\n",
      "0: 384x640 (no detections), 86.5ms\n",
      "Speed: 2.0ms preprocess, 86.5ms inference, 0.0ms postprocess per image at shape (1, 3, 384, 640)\n",
      "\n",
      "0: 384x640 22 cars, 1 bus, 3 trucks, 92.1ms\n",
      "Speed: 2.3ms preprocess, 92.1ms inference, 2.4ms postprocess per image at shape (1, 3, 384, 640)\n",
      "\n",
      "0: 384x640 1 alpaca, 83.9ms\n",
      "Speed: 2.1ms preprocess, 83.9ms inference, 1.0ms postprocess per image at shape (1, 3, 384, 640)\n"
     ]
    },
    {
     "name": "stderr",
     "output_type": "stream",
     "text": [
      "Using CPU. Note: This module is much faster with a GPU.\n"
     ]
    },
    {
     "name": "stdout",
     "output_type": "stream",
     "text": [
      "\n",
      "0: 384x640 22 cars, 1 bus, 3 trucks, 138.7ms\n",
      "Speed: 3.6ms preprocess, 138.7ms inference, 3.0ms postprocess per image at shape (1, 3, 384, 640)\n",
      "\n",
      "0: 384x640 1 alpaca, 160.5ms\n",
      "Speed: 2.5ms preprocess, 160.5ms inference, 1.0ms postprocess per image at shape (1, 3, 384, 640)\n"
     ]
    },
    {
     "name": "stderr",
     "output_type": "stream",
     "text": [
      "Using CPU. Note: This module is much faster with a GPU.\n"
     ]
    },
    {
     "name": "stdout",
     "output_type": "stream",
     "text": [
      "\n",
      "0: 384x640 22 cars, 1 bus, 3 trucks, 166.8ms\n",
      "Speed: 3.5ms preprocess, 166.8ms inference, 2.0ms postprocess per image at shape (1, 3, 384, 640)\n",
      "\n",
      "0: 384x640 (no detections), 196.6ms\n",
      "Speed: 4.0ms preprocess, 196.6ms inference, 0.0ms postprocess per image at shape (1, 3, 384, 640)\n",
      "\n",
      "0: 384x640 22 cars, 3 trucks, 107.4ms\n",
      "Speed: 3.0ms preprocess, 107.4ms inference, 2.0ms postprocess per image at shape (1, 3, 384, 640)\n",
      "\n",
      "0: 384x640 (no detections), 89.6ms\n",
      "Speed: 3.1ms preprocess, 89.6ms inference, 0.0ms postprocess per image at shape (1, 3, 384, 640)\n",
      "\n",
      "0: 384x640 21 cars, 3 trucks, 157.3ms\n",
      "Speed: 3.6ms preprocess, 157.3ms inference, 2.9ms postprocess per image at shape (1, 3, 384, 640)\n",
      "\n",
      "0: 384x640 1 alpaca, 140.0ms\n",
      "Speed: 2.5ms preprocess, 140.0ms inference, 1.0ms postprocess per image at shape (1, 3, 384, 640)\n"
     ]
    },
    {
     "name": "stderr",
     "output_type": "stream",
     "text": [
      "Using CPU. Note: This module is much faster with a GPU.\n"
     ]
    },
    {
     "name": "stdout",
     "output_type": "stream",
     "text": [
      "\n",
      "0: 384x640 21 cars, 1 bus, 3 trucks, 143.9ms\n",
      "Speed: 4.3ms preprocess, 143.9ms inference, 2.4ms postprocess per image at shape (1, 3, 384, 640)\n",
      "\n",
      "0: 384x640 1 alpaca, 134.2ms\n",
      "Speed: 2.3ms preprocess, 134.2ms inference, 0.0ms postprocess per image at shape (1, 3, 384, 640)\n"
     ]
    },
    {
     "name": "stderr",
     "output_type": "stream",
     "text": [
      "Using CPU. Note: This module is much faster with a GPU.\n"
     ]
    },
    {
     "name": "stdout",
     "output_type": "stream",
     "text": [
      "\n",
      "0: 384x640 23 cars, 1 bus, 3 trucks, 97.3ms\n",
      "Speed: 2.1ms preprocess, 97.3ms inference, 2.0ms postprocess per image at shape (1, 3, 384, 640)\n",
      "\n",
      "0: 384x640 1 alpaca, 92.0ms\n",
      "Speed: 1.0ms preprocess, 92.0ms inference, 0.0ms postprocess per image at shape (1, 3, 384, 640)\n"
     ]
    },
    {
     "name": "stderr",
     "output_type": "stream",
     "text": [
      "Using CPU. Note: This module is much faster with a GPU.\n"
     ]
    },
    {
     "name": "stdout",
     "output_type": "stream",
     "text": [
      "\n",
      "0: 384x640 24 cars, 1 bus, 3 trucks, 97.5ms\n",
      "Speed: 3.3ms preprocess, 97.5ms inference, 1.0ms postprocess per image at shape (1, 3, 384, 640)\n",
      "\n",
      "0: 384x640 1 alpaca, 83.5ms\n",
      "Speed: 1.0ms preprocess, 83.5ms inference, 0.0ms postprocess per image at shape (1, 3, 384, 640)\n"
     ]
    },
    {
     "name": "stderr",
     "output_type": "stream",
     "text": [
      "Using CPU. Note: This module is much faster with a GPU.\n"
     ]
    },
    {
     "name": "stdout",
     "output_type": "stream",
     "text": [
      "\n",
      "0: 384x640 22 cars, 1 bus, 3 trucks, 105.0ms\n",
      "Speed: 4.0ms preprocess, 105.0ms inference, 1.0ms postprocess per image at shape (1, 3, 384, 640)\n",
      "\n",
      "0: 384x640 1 alpaca, 83.9ms\n",
      "Speed: 3.0ms preprocess, 83.9ms inference, 0.0ms postprocess per image at shape (1, 3, 384, 640)\n"
     ]
    },
    {
     "name": "stderr",
     "output_type": "stream",
     "text": [
      "Using CPU. Note: This module is much faster with a GPU.\n"
     ]
    },
    {
     "name": "stdout",
     "output_type": "stream",
     "text": [
      "\n",
      "0: 384x640 24 cars, 3 trucks, 111.7ms\n",
      "Speed: 5.1ms preprocess, 111.7ms inference, 2.1ms postprocess per image at shape (1, 3, 384, 640)\n",
      "\n",
      "0: 384x640 1 alpaca, 110.0ms\n",
      "Speed: 2.0ms preprocess, 110.0ms inference, 1.2ms postprocess per image at shape (1, 3, 384, 640)\n"
     ]
    },
    {
     "name": "stderr",
     "output_type": "stream",
     "text": [
      "Using CPU. Note: This module is much faster with a GPU.\n"
     ]
    },
    {
     "name": "stdout",
     "output_type": "stream",
     "text": [
      "\n",
      "0: 384x640 25 cars, 3 trucks, 105.6ms\n",
      "Speed: 2.0ms preprocess, 105.6ms inference, 1.0ms postprocess per image at shape (1, 3, 384, 640)\n",
      "\n",
      "0: 384x640 (no detections), 90.9ms\n",
      "Speed: 1.7ms preprocess, 90.9ms inference, 1.1ms postprocess per image at shape (1, 3, 384, 640)\n",
      "\n",
      "0: 384x640 25 cars, 3 trucks, 240.4ms\n",
      "Speed: 4.6ms preprocess, 240.4ms inference, 1.6ms postprocess per image at shape (1, 3, 384, 640)\n",
      "\n",
      "0: 384x640 1 alpaca, 190.6ms\n",
      "Speed: 3.0ms preprocess, 190.6ms inference, 0.8ms postprocess per image at shape (1, 3, 384, 640)\n",
      "\n",
      "0: 384x640 24 cars, 1 bus, 3 trucks, 103.3ms\n",
      "Speed: 2.0ms preprocess, 103.3ms inference, 2.0ms postprocess per image at shape (1, 3, 384, 640)\n",
      "\n",
      "0: 384x640 (no detections), 93.3ms\n",
      "Speed: 2.0ms preprocess, 93.3ms inference, 0.0ms postprocess per image at shape (1, 3, 384, 640)\n",
      "\n",
      "0: 384x640 24 cars, 4 trucks, 108.9ms\n",
      "Speed: 2.6ms preprocess, 108.9ms inference, 1.9ms postprocess per image at shape (1, 3, 384, 640)\n",
      "\n",
      "0: 384x640 1 alpaca, 93.5ms\n",
      "Speed: 2.0ms preprocess, 93.5ms inference, 0.0ms postprocess per image at shape (1, 3, 384, 640)\n",
      "\n",
      "0: 384x640 24 cars, 4 trucks, 110.9ms\n",
      "Speed: 3.1ms preprocess, 110.9ms inference, 1.6ms postprocess per image at shape (1, 3, 384, 640)\n",
      "\n",
      "0: 384x640 1 alpaca, 115.2ms\n",
      "Speed: 2.0ms preprocess, 115.2ms inference, 0.0ms postprocess per image at shape (1, 3, 384, 640)\n",
      "\n",
      "0: 384x640 22 cars, 4 trucks, 103.8ms\n",
      "Speed: 2.9ms preprocess, 103.8ms inference, 1.0ms postprocess per image at shape (1, 3, 384, 640)\n",
      "\n",
      "0: 384x640 (no detections), 94.2ms\n",
      "Speed: 1.0ms preprocess, 94.2ms inference, 0.0ms postprocess per image at shape (1, 3, 384, 640)\n",
      "\n",
      "0: 384x640 23 cars, 6 trucks, 100.9ms\n",
      "Speed: 3.0ms preprocess, 100.9ms inference, 2.1ms postprocess per image at shape (1, 3, 384, 640)\n",
      "\n",
      "0: 384x640 (no detections), 151.8ms\n",
      "Speed: 2.0ms preprocess, 151.8ms inference, 0.0ms postprocess per image at shape (1, 3, 384, 640)\n",
      "\n",
      "0: 384x640 22 cars, 4 trucks, 100.2ms\n",
      "Speed: 3.6ms preprocess, 100.2ms inference, 2.0ms postprocess per image at shape (1, 3, 384, 640)\n",
      "\n",
      "0: 384x640 (no detections), 92.0ms\n",
      "Speed: 3.3ms preprocess, 92.0ms inference, 0.0ms postprocess per image at shape (1, 3, 384, 640)\n",
      "\n",
      "0: 384x640 22 cars, 1 bus, 6 trucks, 202.3ms\n",
      "Speed: 4.8ms preprocess, 202.3ms inference, 1.8ms postprocess per image at shape (1, 3, 384, 640)\n",
      "\n",
      "0: 384x640 (no detections), 99.7ms\n",
      "Speed: 2.0ms preprocess, 99.7ms inference, 1.0ms postprocess per image at shape (1, 3, 384, 640)\n",
      "\n",
      "0: 384x640 21 cars, 5 trucks, 100.5ms\n",
      "Speed: 2.0ms preprocess, 100.5ms inference, 1.8ms postprocess per image at shape (1, 3, 384, 640)\n",
      "\n",
      "0: 384x640 (no detections), 86.6ms\n",
      "Speed: 1.9ms preprocess, 86.6ms inference, 0.0ms postprocess per image at shape (1, 3, 384, 640)\n",
      "\n",
      "0: 384x640 19 cars, 4 trucks, 93.0ms\n",
      "Speed: 2.2ms preprocess, 93.0ms inference, 2.0ms postprocess per image at shape (1, 3, 384, 640)\n",
      "\n",
      "0: 384x640 (no detections), 94.2ms\n",
      "Speed: 2.0ms preprocess, 94.2ms inference, 0.0ms postprocess per image at shape (1, 3, 384, 640)\n",
      "\n",
      "0: 384x640 20 cars, 4 trucks, 97.2ms\n",
      "Speed: 2.6ms preprocess, 97.2ms inference, 2.0ms postprocess per image at shape (1, 3, 384, 640)\n",
      "\n",
      "0: 384x640 (no detections), 82.9ms\n",
      "Speed: 1.0ms preprocess, 82.9ms inference, 0.0ms postprocess per image at shape (1, 3, 384, 640)\n",
      "\n",
      "0: 384x640 17 cars, 4 trucks, 90.8ms\n",
      "Speed: 2.0ms preprocess, 90.8ms inference, 2.4ms postprocess per image at shape (1, 3, 384, 640)\n",
      "\n",
      "0: 384x640 (no detections), 84.9ms\n",
      "Speed: 2.3ms preprocess, 84.9ms inference, 0.0ms postprocess per image at shape (1, 3, 384, 640)\n",
      "\n",
      "0: 384x640 16 cars, 3 trucks, 99.9ms\n",
      "Speed: 2.6ms preprocess, 99.9ms inference, 1.1ms postprocess per image at shape (1, 3, 384, 640)\n",
      "\n",
      "0: 384x640 (no detections), 82.7ms\n",
      "Speed: 2.3ms preprocess, 82.7ms inference, 0.0ms postprocess per image at shape (1, 3, 384, 640)\n",
      "\n",
      "0: 384x640 19 cars, 4 trucks, 98.0ms\n",
      "Speed: 3.0ms preprocess, 98.0ms inference, 1.1ms postprocess per image at shape (1, 3, 384, 640)\n",
      "\n",
      "0: 384x640 (no detections), 81.5ms\n",
      "Speed: 1.1ms preprocess, 81.5ms inference, 1.6ms postprocess per image at shape (1, 3, 384, 640)\n",
      "\n",
      "0: 384x640 17 cars, 2 trucks, 98.6ms\n",
      "Speed: 3.0ms preprocess, 98.6ms inference, 2.6ms postprocess per image at shape (1, 3, 384, 640)\n",
      "\n",
      "0: 384x640 (no detections), 93.0ms\n",
      "Speed: 2.0ms preprocess, 93.0ms inference, 0.0ms postprocess per image at shape (1, 3, 384, 640)\n",
      "\n",
      "0: 384x640 20 cars, 4 trucks, 99.3ms\n",
      "Speed: 3.0ms preprocess, 99.3ms inference, 2.0ms postprocess per image at shape (1, 3, 384, 640)\n",
      "\n",
      "0: 384x640 (no detections), 83.7ms\n",
      "Speed: 2.0ms preprocess, 83.7ms inference, 0.0ms postprocess per image at shape (1, 3, 384, 640)\n",
      "\n",
      "0: 384x640 19 cars, 5 trucks, 102.8ms\n",
      "Speed: 2.0ms preprocess, 102.8ms inference, 1.1ms postprocess per image at shape (1, 3, 384, 640)\n",
      "\n",
      "0: 384x640 (no detections), 91.7ms\n",
      "Speed: 2.0ms preprocess, 91.7ms inference, 0.0ms postprocess per image at shape (1, 3, 384, 640)\n",
      "\n",
      "0: 384x640 22 cars, 2 buss, 4 trucks, 93.0ms\n",
      "Speed: 2.0ms preprocess, 93.0ms inference, 2.1ms postprocess per image at shape (1, 3, 384, 640)\n",
      "\n",
      "0: 384x640 (no detections), 86.4ms\n",
      "Speed: 3.0ms preprocess, 86.4ms inference, 0.0ms postprocess per image at shape (1, 3, 384, 640)\n",
      "\n",
      "0: 384x640 21 cars, 2 buss, 4 trucks, 98.2ms\n",
      "Speed: 2.0ms preprocess, 98.2ms inference, 1.0ms postprocess per image at shape (1, 3, 384, 640)\n",
      "\n",
      "0: 384x640 (no detections), 88.8ms\n",
      "Speed: 2.1ms preprocess, 88.8ms inference, 1.0ms postprocess per image at shape (1, 3, 384, 640)\n",
      "\n",
      "0: 384x640 20 cars, 1 bus, 3 trucks, 95.8ms\n",
      "Speed: 3.0ms preprocess, 95.8ms inference, 1.7ms postprocess per image at shape (1, 3, 384, 640)\n",
      "\n",
      "0: 384x640 (no detections), 84.6ms\n",
      "Speed: 2.0ms preprocess, 84.6ms inference, 1.0ms postprocess per image at shape (1, 3, 384, 640)\n",
      "\n",
      "0: 384x640 21 cars, 1 bus, 3 trucks, 94.0ms\n",
      "Speed: 2.6ms preprocess, 94.0ms inference, 2.0ms postprocess per image at shape (1, 3, 384, 640)\n",
      "\n",
      "0: 384x640 (no detections), 82.1ms\n",
      "Speed: 2.2ms preprocess, 82.1ms inference, 0.0ms postprocess per image at shape (1, 3, 384, 640)\n",
      "\n",
      "0: 384x640 20 cars, 2 buss, 3 trucks, 99.7ms\n",
      "Speed: 3.1ms preprocess, 99.7ms inference, 2.1ms postprocess per image at shape (1, 3, 384, 640)\n",
      "\n",
      "0: 384x640 (no detections), 82.3ms\n",
      "Speed: 2.2ms preprocess, 82.3ms inference, 0.0ms postprocess per image at shape (1, 3, 384, 640)\n",
      "\n",
      "0: 384x640 22 cars, 3 trucks, 105.0ms\n",
      "Speed: 2.2ms preprocess, 105.0ms inference, 1.7ms postprocess per image at shape (1, 3, 384, 640)\n",
      "\n",
      "0: 384x640 (no detections), 81.8ms\n",
      "Speed: 2.0ms preprocess, 81.8ms inference, 0.6ms postprocess per image at shape (1, 3, 384, 640)\n",
      "\n",
      "0: 384x640 20 cars, 3 trucks, 96.3ms\n",
      "Speed: 2.2ms preprocess, 96.3ms inference, 2.3ms postprocess per image at shape (1, 3, 384, 640)\n",
      "\n",
      "0: 384x640 (no detections), 84.5ms\n",
      "Speed: 2.3ms preprocess, 84.5ms inference, 0.0ms postprocess per image at shape (1, 3, 384, 640)\n",
      "\n",
      "0: 384x640 20 cars, 3 trucks, 98.0ms\n",
      "Speed: 2.0ms preprocess, 98.0ms inference, 1.0ms postprocess per image at shape (1, 3, 384, 640)\n",
      "\n",
      "0: 384x640 (no detections), 86.8ms\n",
      "Speed: 2.0ms preprocess, 86.8ms inference, 0.0ms postprocess per image at shape (1, 3, 384, 640)\n",
      "\n",
      "0: 384x640 21 cars, 3 trucks, 95.2ms\n",
      "Speed: 3.3ms preprocess, 95.2ms inference, 1.3ms postprocess per image at shape (1, 3, 384, 640)\n",
      "\n",
      "0: 384x640 (no detections), 85.9ms\n",
      "Speed: 2.2ms preprocess, 85.9ms inference, 1.0ms postprocess per image at shape (1, 3, 384, 640)\n",
      "\n",
      "0: 384x640 23 cars, 3 trucks, 93.2ms\n",
      "Speed: 3.1ms preprocess, 93.2ms inference, 1.9ms postprocess per image at shape (1, 3, 384, 640)\n",
      "\n",
      "0: 384x640 (no detections), 85.5ms\n",
      "Speed: 2.1ms preprocess, 85.5ms inference, 1.0ms postprocess per image at shape (1, 3, 384, 640)\n",
      "\n",
      "0: 384x640 21 cars, 1 bus, 4 trucks, 96.5ms\n",
      "Speed: 3.0ms preprocess, 96.5ms inference, 2.0ms postprocess per image at shape (1, 3, 384, 640)\n",
      "\n",
      "0: 384x640 (no detections), 84.2ms\n",
      "Speed: 1.6ms preprocess, 84.2ms inference, 0.0ms postprocess per image at shape (1, 3, 384, 640)\n",
      "\n",
      "0: 384x640 20 cars, 1 bus, 3 trucks, 95.2ms\n",
      "Speed: 2.2ms preprocess, 95.2ms inference, 2.3ms postprocess per image at shape (1, 3, 384, 640)\n",
      "\n",
      "0: 384x640 (no detections), 87.1ms\n",
      "Speed: 2.0ms preprocess, 87.1ms inference, 1.0ms postprocess per image at shape (1, 3, 384, 640)\n",
      "\n",
      "0: 384x640 20 cars, 1 bus, 4 trucks, 97.4ms\n",
      "Speed: 1.2ms preprocess, 97.4ms inference, 2.0ms postprocess per image at shape (1, 3, 384, 640)\n",
      "\n",
      "0: 384x640 1 alpaca, 82.8ms\n",
      "Speed: 2.3ms preprocess, 82.8ms inference, 0.0ms postprocess per image at shape (1, 3, 384, 640)\n"
     ]
    },
    {
     "name": "stderr",
     "output_type": "stream",
     "text": [
      "Using CPU. Note: This module is much faster with a GPU.\n"
     ]
    },
    {
     "name": "stdout",
     "output_type": "stream",
     "text": [
      "\n",
      "0: 384x640 18 cars, 1 bus, 3 trucks, 110.4ms\n",
      "Speed: 3.5ms preprocess, 110.4ms inference, 2.0ms postprocess per image at shape (1, 3, 384, 640)\n",
      "\n",
      "0: 384x640 (no detections), 91.3ms\n",
      "Speed: 2.7ms preprocess, 91.3ms inference, 0.0ms postprocess per image at shape (1, 3, 384, 640)\n",
      "\n",
      "0: 384x640 23 cars, 1 bus, 3 trucks, 106.7ms\n",
      "Speed: 2.0ms preprocess, 106.7ms inference, 1.0ms postprocess per image at shape (1, 3, 384, 640)\n",
      "\n",
      "0: 384x640 (no detections), 98.1ms\n",
      "Speed: 2.0ms preprocess, 98.1ms inference, 0.0ms postprocess per image at shape (1, 3, 384, 640)\n",
      "\n",
      "0: 384x640 21 cars, 1 bus, 3 trucks, 91.1ms\n",
      "Speed: 2.1ms preprocess, 91.1ms inference, 2.3ms postprocess per image at shape (1, 3, 384, 640)\n",
      "\n",
      "0: 384x640 1 alpaca, 82.4ms\n",
      "Speed: 1.8ms preprocess, 82.4ms inference, 0.0ms postprocess per image at shape (1, 3, 384, 640)\n"
     ]
    },
    {
     "name": "stderr",
     "output_type": "stream",
     "text": [
      "Using CPU. Note: This module is much faster with a GPU.\n"
     ]
    },
    {
     "name": "stdout",
     "output_type": "stream",
     "text": [
      "\n",
      "0: 384x640 19 cars, 1 bus, 2 trucks, 114.3ms\n",
      "Speed: 3.7ms preprocess, 114.3ms inference, 1.2ms postprocess per image at shape (1, 3, 384, 640)\n",
      "\n",
      "0: 384x640 1 alpaca, 81.7ms\n",
      "Speed: 2.0ms preprocess, 81.7ms inference, 1.0ms postprocess per image at shape (1, 3, 384, 640)\n"
     ]
    },
    {
     "name": "stderr",
     "output_type": "stream",
     "text": [
      "Using CPU. Note: This module is much faster with a GPU.\n"
     ]
    },
    {
     "name": "stdout",
     "output_type": "stream",
     "text": [
      "\n",
      "0: 384x640 22 cars, 1 truck, 229.5ms\n",
      "Speed: 3.9ms preprocess, 229.5ms inference, 6.8ms postprocess per image at shape (1, 3, 384, 640)\n",
      "\n",
      "0: 384x640 1 alpaca, 217.4ms\n",
      "Speed: 3.9ms preprocess, 217.4ms inference, 0.9ms postprocess per image at shape (1, 3, 384, 640)\n"
     ]
    },
    {
     "name": "stderr",
     "output_type": "stream",
     "text": [
      "Using CPU. Note: This module is much faster with a GPU.\n"
     ]
    },
    {
     "name": "stdout",
     "output_type": "stream",
     "text": [
      "\n",
      "0: 384x640 20 cars, 1 bus, 3 trucks, 152.2ms\n",
      "Speed: 3.7ms preprocess, 152.2ms inference, 2.1ms postprocess per image at shape (1, 3, 384, 640)\n",
      "\n",
      "0: 384x640 (no detections), 128.3ms\n",
      "Speed: 2.2ms preprocess, 128.3ms inference, 0.0ms postprocess per image at shape (1, 3, 384, 640)\n",
      "\n",
      "0: 384x640 22 cars, 2 trucks, 143.0ms\n",
      "Speed: 4.3ms preprocess, 143.0ms inference, 3.1ms postprocess per image at shape (1, 3, 384, 640)\n",
      "\n",
      "0: 384x640 (no detections), 123.2ms\n",
      "Speed: 2.1ms preprocess, 123.2ms inference, 1.1ms postprocess per image at shape (1, 3, 384, 640)\n",
      "\n",
      "0: 384x640 24 cars, 4 trucks, 147.6ms\n",
      "Speed: 3.6ms preprocess, 147.6ms inference, 2.6ms postprocess per image at shape (1, 3, 384, 640)\n",
      "\n",
      "0: 384x640 1 alpaca, 126.6ms\n",
      "Speed: 2.0ms preprocess, 126.6ms inference, 0.0ms postprocess per image at shape (1, 3, 384, 640)\n"
     ]
    },
    {
     "name": "stderr",
     "output_type": "stream",
     "text": [
      "Using CPU. Note: This module is much faster with a GPU.\n"
     ]
    },
    {
     "name": "stdout",
     "output_type": "stream",
     "text": [
      "\n",
      "0: 384x640 22 cars, 2 trucks, 141.5ms\n",
      "Speed: 4.1ms preprocess, 141.5ms inference, 2.0ms postprocess per image at shape (1, 3, 384, 640)\n",
      "\n",
      "0: 384x640 1 alpaca, 126.1ms\n",
      "Speed: 2.1ms preprocess, 126.1ms inference, 0.2ms postprocess per image at shape (1, 3, 384, 640)\n"
     ]
    },
    {
     "name": "stderr",
     "output_type": "stream",
     "text": [
      "Using CPU. Note: This module is much faster with a GPU.\n"
     ]
    },
    {
     "name": "stdout",
     "output_type": "stream",
     "text": [
      "\n",
      "0: 384x640 22 cars, 2 trucks, 137.3ms\n",
      "Speed: 4.7ms preprocess, 137.3ms inference, 2.1ms postprocess per image at shape (1, 3, 384, 640)\n",
      "\n",
      "0: 384x640 1 alpaca, 124.5ms\n",
      "Speed: 3.3ms preprocess, 124.5ms inference, 1.0ms postprocess per image at shape (1, 3, 384, 640)\n"
     ]
    },
    {
     "name": "stderr",
     "output_type": "stream",
     "text": [
      "Using CPU. Note: This module is much faster with a GPU.\n"
     ]
    },
    {
     "name": "stdout",
     "output_type": "stream",
     "text": [
      "\n",
      "0: 384x640 23 cars, 3 trucks, 92.3ms\n",
      "Speed: 3.0ms preprocess, 92.3ms inference, 1.1ms postprocess per image at shape (1, 3, 384, 640)\n",
      "\n",
      "0: 384x640 (no detections), 83.6ms\n",
      "Speed: 2.0ms preprocess, 83.6ms inference, 1.0ms postprocess per image at shape (1, 3, 384, 640)\n",
      "\n",
      "0: 384x640 24 cars, 3 trucks, 126.5ms\n",
      "Speed: 2.3ms preprocess, 126.5ms inference, 2.8ms postprocess per image at shape (1, 3, 384, 640)\n",
      "\n",
      "0: 384x640 (no detections), 84.6ms\n",
      "Speed: 2.9ms preprocess, 84.6ms inference, 0.0ms postprocess per image at shape (1, 3, 384, 640)\n",
      "\n",
      "0: 384x640 21 cars, 3 trucks, 96.5ms\n",
      "Speed: 3.0ms preprocess, 96.5ms inference, 1.0ms postprocess per image at shape (1, 3, 384, 640)\n",
      "\n",
      "0: 384x640 (no detections), 83.5ms\n",
      "Speed: 1.7ms preprocess, 83.5ms inference, 0.0ms postprocess per image at shape (1, 3, 384, 640)\n",
      "\n",
      "0: 384x640 23 cars, 3 trucks, 90.9ms\n",
      "Speed: 2.2ms preprocess, 90.9ms inference, 1.0ms postprocess per image at shape (1, 3, 384, 640)\n",
      "\n",
      "0: 384x640 (no detections), 82.4ms\n",
      "Speed: 1.2ms preprocess, 82.4ms inference, 0.3ms postprocess per image at shape (1, 3, 384, 640)\n",
      "\n",
      "0: 384x640 21 cars, 3 trucks, 97.6ms\n",
      "Speed: 2.3ms preprocess, 97.6ms inference, 1.0ms postprocess per image at shape (1, 3, 384, 640)\n",
      "\n",
      "0: 384x640 (no detections), 83.3ms\n",
      "Speed: 2.0ms preprocess, 83.3ms inference, 0.0ms postprocess per image at shape (1, 3, 384, 640)\n",
      "\n",
      "0: 384x640 25 cars, 2 trucks, 94.0ms\n",
      "Speed: 3.0ms preprocess, 94.0ms inference, 1.0ms postprocess per image at shape (1, 3, 384, 640)\n",
      "\n",
      "0: 384x640 (no detections), 82.9ms\n",
      "Speed: 2.0ms preprocess, 82.9ms inference, 0.0ms postprocess per image at shape (1, 3, 384, 640)\n",
      "\n",
      "0: 384x640 22 cars, 3 trucks, 95.2ms\n",
      "Speed: 2.5ms preprocess, 95.2ms inference, 1.0ms postprocess per image at shape (1, 3, 384, 640)\n",
      "\n",
      "0: 384x640 (no detections), 85.6ms\n",
      "Speed: 2.0ms preprocess, 85.6ms inference, 0.0ms postprocess per image at shape (1, 3, 384, 640)\n",
      "\n",
      "0: 384x640 22 cars, 2 trucks, 132.4ms\n",
      "Speed: 2.6ms preprocess, 132.4ms inference, 3.0ms postprocess per image at shape (1, 3, 384, 640)\n",
      "\n",
      "0: 384x640 1 alpaca, 125.0ms\n",
      "Speed: 3.6ms preprocess, 125.0ms inference, 0.0ms postprocess per image at shape (1, 3, 384, 640)\n"
     ]
    },
    {
     "name": "stderr",
     "output_type": "stream",
     "text": [
      "Using CPU. Note: This module is much faster with a GPU.\n"
     ]
    },
    {
     "name": "stdout",
     "output_type": "stream",
     "text": [
      "\n",
      "0: 384x640 20 cars, 3 trucks, 99.5ms\n",
      "Speed: 2.0ms preprocess, 99.5ms inference, 1.0ms postprocess per image at shape (1, 3, 384, 640)\n",
      "\n",
      "0: 384x640 (no detections), 83.9ms\n",
      "Speed: 2.6ms preprocess, 83.9ms inference, 0.0ms postprocess per image at shape (1, 3, 384, 640)\n",
      "\n",
      "0: 384x640 23 cars, 1 truck, 92.9ms\n",
      "Speed: 3.6ms preprocess, 92.9ms inference, 1.0ms postprocess per image at shape (1, 3, 384, 640)\n",
      "\n",
      "0: 384x640 (no detections), 86.7ms\n",
      "Speed: 2.7ms preprocess, 86.7ms inference, 1.0ms postprocess per image at shape (1, 3, 384, 640)\n",
      "\n",
      "0: 384x640 23 cars, 1 truck, 137.1ms\n",
      "Speed: 4.0ms preprocess, 137.1ms inference, 2.3ms postprocess per image at shape (1, 3, 384, 640)\n",
      "\n",
      "0: 384x640 (no detections), 95.6ms\n",
      "Speed: 2.0ms preprocess, 95.6ms inference, 0.0ms postprocess per image at shape (1, 3, 384, 640)\n",
      "\n",
      "0: 384x640 23 cars, 2 trucks, 107.4ms\n",
      "Speed: 2.8ms preprocess, 107.4ms inference, 1.7ms postprocess per image at shape (1, 3, 384, 640)\n",
      "\n",
      "0: 384x640 (no detections), 96.5ms\n",
      "Speed: 2.0ms preprocess, 96.5ms inference, 0.0ms postprocess per image at shape (1, 3, 384, 640)\n",
      "\n",
      "0: 384x640 20 cars, 1 truck, 112.6ms\n",
      "Speed: 2.0ms preprocess, 112.6ms inference, 2.0ms postprocess per image at shape (1, 3, 384, 640)\n",
      "\n",
      "0: 384x640 (no detections), 98.5ms\n",
      "Speed: 3.0ms preprocess, 98.5ms inference, 0.0ms postprocess per image at shape (1, 3, 384, 640)\n",
      "\n",
      "0: 384x640 22 cars, 2 trucks, 134.8ms\n",
      "Speed: 2.6ms preprocess, 134.8ms inference, 2.0ms postprocess per image at shape (1, 3, 384, 640)\n",
      "\n",
      "0: 384x640 (no detections), 127.4ms\n",
      "Speed: 2.6ms preprocess, 127.4ms inference, 0.0ms postprocess per image at shape (1, 3, 384, 640)\n",
      "\n",
      "0: 384x640 24 cars, 2 trucks, 139.9ms\n",
      "Speed: 2.6ms preprocess, 139.9ms inference, 2.1ms postprocess per image at shape (1, 3, 384, 640)\n",
      "\n",
      "0: 384x640 (no detections), 126.3ms\n",
      "Speed: 2.0ms preprocess, 126.3ms inference, 1.7ms postprocess per image at shape (1, 3, 384, 640)\n",
      "\n",
      "0: 384x640 23 cars, 2 trucks, 133.3ms\n",
      "Speed: 2.3ms preprocess, 133.3ms inference, 2.7ms postprocess per image at shape (1, 3, 384, 640)\n",
      "\n",
      "0: 384x640 (no detections), 127.6ms\n",
      "Speed: 3.0ms preprocess, 127.6ms inference, 1.0ms postprocess per image at shape (1, 3, 384, 640)\n",
      "\n",
      "0: 384x640 23 cars, 1 bus, 2 trucks, 137.8ms\n",
      "Speed: 2.9ms preprocess, 137.8ms inference, 2.0ms postprocess per image at shape (1, 3, 384, 640)\n",
      "\n",
      "0: 384x640 (no detections), 127.6ms\n",
      "Speed: 2.6ms preprocess, 127.6ms inference, 1.0ms postprocess per image at shape (1, 3, 384, 640)\n",
      "\n",
      "0: 384x640 24 cars, 2 trucks, 139.4ms\n",
      "Speed: 4.1ms preprocess, 139.4ms inference, 2.0ms postprocess per image at shape (1, 3, 384, 640)\n",
      "\n",
      "0: 384x640 2 alpacas, 86.9ms\n",
      "Speed: 1.9ms preprocess, 86.9ms inference, 1.0ms postprocess per image at shape (1, 3, 384, 640)\n"
     ]
    },
    {
     "name": "stderr",
     "output_type": "stream",
     "text": [
      "Using CPU. Note: This module is much faster with a GPU.\n",
      "Using CPU. Note: This module is much faster with a GPU.\n"
     ]
    },
    {
     "name": "stdout",
     "output_type": "stream",
     "text": [
      "\n",
      "0: 384x640 24 cars, 1 bus, 2 trucks, 98.9ms\n",
      "Speed: 2.2ms preprocess, 98.9ms inference, 0.9ms postprocess per image at shape (1, 3, 384, 640)\n",
      "\n",
      "0: 384x640 1 alpaca, 87.8ms\n",
      "Speed: 2.0ms preprocess, 87.8ms inference, 0.9ms postprocess per image at shape (1, 3, 384, 640)\n"
     ]
    },
    {
     "name": "stderr",
     "output_type": "stream",
     "text": [
      "Using CPU. Note: This module is much faster with a GPU.\n"
     ]
    },
    {
     "name": "stdout",
     "output_type": "stream",
     "text": [
      "\n",
      "0: 384x640 23 cars, 1 bus, 2 trucks, 109.8ms\n",
      "Speed: 2.7ms preprocess, 109.8ms inference, 1.2ms postprocess per image at shape (1, 3, 384, 640)\n",
      "\n",
      "0: 384x640 (no detections), 90.1ms\n",
      "Speed: 1.8ms preprocess, 90.1ms inference, 0.2ms postprocess per image at shape (1, 3, 384, 640)\n",
      "\n",
      "0: 384x640 24 cars, 2 trucks, 140.2ms\n",
      "Speed: 2.2ms preprocess, 140.2ms inference, 1.4ms postprocess per image at shape (1, 3, 384, 640)\n",
      "\n",
      "0: 384x640 (no detections), 85.6ms\n",
      "Speed: 2.2ms preprocess, 85.6ms inference, 0.0ms postprocess per image at shape (1, 3, 384, 640)\n",
      "\n",
      "0: 384x640 23 cars, 2 trucks, 95.3ms\n",
      "Speed: 2.1ms preprocess, 95.3ms inference, 3.0ms postprocess per image at shape (1, 3, 384, 640)\n",
      "\n",
      "0: 384x640 (no detections), 90.1ms\n",
      "Speed: 2.0ms preprocess, 90.1ms inference, 0.0ms postprocess per image at shape (1, 3, 384, 640)\n",
      "\n",
      "0: 384x640 21 cars, 2 trucks, 92.3ms\n",
      "Speed: 3.1ms preprocess, 92.3ms inference, 0.0ms postprocess per image at shape (1, 3, 384, 640)\n",
      "\n",
      "0: 384x640 (no detections), 81.5ms\n",
      "Speed: 3.1ms preprocess, 81.5ms inference, 1.0ms postprocess per image at shape (1, 3, 384, 640)\n",
      "\n",
      "0: 384x640 24 cars, 2 trucks, 92.3ms\n",
      "Speed: 3.2ms preprocess, 92.3ms inference, 2.0ms postprocess per image at shape (1, 3, 384, 640)\n",
      "\n",
      "0: 384x640 (no detections), 84.0ms\n",
      "Speed: 1.6ms preprocess, 84.0ms inference, 1.0ms postprocess per image at shape (1, 3, 384, 640)\n",
      "\n",
      "0: 384x640 23 cars, 1 truck, 98.7ms\n",
      "Speed: 3.0ms preprocess, 98.7ms inference, 2.3ms postprocess per image at shape (1, 3, 384, 640)\n",
      "\n",
      "0: 384x640 1 alpaca, 82.9ms\n",
      "Speed: 1.1ms preprocess, 82.9ms inference, 1.0ms postprocess per image at shape (1, 3, 384, 640)\n",
      "\n",
      "0: 384x640 21 cars, 2 trucks, 91.7ms\n",
      "Speed: 1.0ms preprocess, 91.7ms inference, 1.0ms postprocess per image at shape (1, 3, 384, 640)\n",
      "\n",
      "0: 384x640 1 alpaca, 86.4ms\n",
      "Speed: 2.8ms preprocess, 86.4ms inference, 0.0ms postprocess per image at shape (1, 3, 384, 640)\n",
      "\n",
      "0: 384x640 22 cars, 2 trucks, 103.4ms\n",
      "Speed: 3.1ms preprocess, 103.4ms inference, 2.3ms postprocess per image at shape (1, 3, 384, 640)\n",
      "\n",
      "0: 384x640 1 alpaca, 89.4ms\n",
      "Speed: 1.6ms preprocess, 89.4ms inference, 0.0ms postprocess per image at shape (1, 3, 384, 640)\n"
     ]
    },
    {
     "name": "stderr",
     "output_type": "stream",
     "text": [
      "Using CPU. Note: This module is much faster with a GPU.\n"
     ]
    },
    {
     "name": "stdout",
     "output_type": "stream",
     "text": [
      "\n",
      "0: 384x640 21 cars, 2 trucks, 106.3ms\n",
      "Speed: 2.4ms preprocess, 106.3ms inference, 1.2ms postprocess per image at shape (1, 3, 384, 640)\n",
      "\n",
      "0: 384x640 (no detections), 88.4ms\n",
      "Speed: 2.4ms preprocess, 88.4ms inference, 1.1ms postprocess per image at shape (1, 3, 384, 640)\n",
      "\n",
      "0: 384x640 22 cars, 2 trucks, 100.4ms\n",
      "Speed: 1.7ms preprocess, 100.4ms inference, 2.0ms postprocess per image at shape (1, 3, 384, 640)\n",
      "\n",
      "0: 384x640 1 alpaca, 89.5ms\n",
      "Speed: 2.1ms preprocess, 89.5ms inference, 0.0ms postprocess per image at shape (1, 3, 384, 640)\n"
     ]
    },
    {
     "name": "stderr",
     "output_type": "stream",
     "text": [
      "Using CPU. Note: This module is much faster with a GPU.\n"
     ]
    },
    {
     "name": "stdout",
     "output_type": "stream",
     "text": [
      "\n",
      "0: 384x640 23 cars, 2 trucks, 93.2ms\n",
      "Speed: 2.8ms preprocess, 93.2ms inference, 1.2ms postprocess per image at shape (1, 3, 384, 640)\n",
      "\n",
      "0: 384x640 (no detections), 84.2ms\n",
      "Speed: 1.2ms preprocess, 84.2ms inference, 0.1ms postprocess per image at shape (1, 3, 384, 640)\n",
      "\n",
      "0: 384x640 23 cars, 1 truck, 91.0ms\n",
      "Speed: 1.0ms preprocess, 91.0ms inference, 1.8ms postprocess per image at shape (1, 3, 384, 640)\n",
      "\n",
      "0: 384x640 1 alpaca, 85.2ms\n",
      "Speed: 2.0ms preprocess, 85.2ms inference, 0.0ms postprocess per image at shape (1, 3, 384, 640)\n",
      "\n",
      "0: 384x640 21 cars, 1 truck, 93.6ms\n",
      "Speed: 2.3ms preprocess, 93.6ms inference, 1.0ms postprocess per image at shape (1, 3, 384, 640)\n",
      "\n",
      "0: 384x640 2 alpacas, 87.6ms\n",
      "Speed: 2.7ms preprocess, 87.6ms inference, 0.6ms postprocess per image at shape (1, 3, 384, 640)\n"
     ]
    },
    {
     "name": "stderr",
     "output_type": "stream",
     "text": [
      "Using CPU. Note: This module is much faster with a GPU.\n"
     ]
    },
    {
     "name": "stdout",
     "output_type": "stream",
     "text": [
      "\n",
      "0: 384x640 21 cars, 1 truck, 94.3ms\n",
      "Speed: 2.1ms preprocess, 94.3ms inference, 1.2ms postprocess per image at shape (1, 3, 384, 640)\n",
      "\n",
      "0: 384x640 1 alpaca, 82.2ms\n",
      "Speed: 2.3ms preprocess, 82.2ms inference, 0.0ms postprocess per image at shape (1, 3, 384, 640)\n",
      "\n",
      "0: 384x640 20 cars, 1 bus, 2 trucks, 92.0ms\n",
      "Speed: 1.8ms preprocess, 92.0ms inference, 1.1ms postprocess per image at shape (1, 3, 384, 640)\n",
      "\n",
      "0: 384x640 1 alpaca, 82.8ms\n",
      "Speed: 2.2ms preprocess, 82.8ms inference, 0.0ms postprocess per image at shape (1, 3, 384, 640)\n"
     ]
    },
    {
     "name": "stderr",
     "output_type": "stream",
     "text": [
      "Using CPU. Note: This module is much faster with a GPU.\n"
     ]
    },
    {
     "name": "stdout",
     "output_type": "stream",
     "text": [
      "\n",
      "0: 384x640 20 cars, 1 bus, 2 trucks, 96.1ms\n",
      "Speed: 2.8ms preprocess, 96.1ms inference, 2.0ms postprocess per image at shape (1, 3, 384, 640)\n",
      "\n",
      "0: 384x640 2 alpacas, 86.3ms\n",
      "Speed: 2.0ms preprocess, 86.3ms inference, 1.0ms postprocess per image at shape (1, 3, 384, 640)\n"
     ]
    },
    {
     "name": "stderr",
     "output_type": "stream",
     "text": [
      "Using CPU. Note: This module is much faster with a GPU.\n",
      "Using CPU. Note: This module is much faster with a GPU.\n"
     ]
    },
    {
     "name": "stdout",
     "output_type": "stream",
     "text": [
      "\n",
      "0: 384x640 19 cars, 1 bus, 1 truck, 93.6ms\n",
      "Speed: 3.0ms preprocess, 93.6ms inference, 1.6ms postprocess per image at shape (1, 3, 384, 640)\n",
      "\n",
      "0: 384x640 (no detections), 87.4ms\n",
      "Speed: 3.0ms preprocess, 87.4ms inference, 0.0ms postprocess per image at shape (1, 3, 384, 640)\n",
      "\n",
      "0: 384x640 20 cars, 1 bus, 2 trucks, 93.5ms\n",
      "Speed: 3.0ms preprocess, 93.5ms inference, 1.6ms postprocess per image at shape (1, 3, 384, 640)\n",
      "\n",
      "0: 384x640 1 alpaca, 96.9ms\n",
      "Speed: 3.0ms preprocess, 96.9ms inference, 0.0ms postprocess per image at shape (1, 3, 384, 640)\n"
     ]
    },
    {
     "name": "stderr",
     "output_type": "stream",
     "text": [
      "Using CPU. Note: This module is much faster with a GPU.\n"
     ]
    },
    {
     "name": "stdout",
     "output_type": "stream",
     "text": [
      "\n",
      "0: 384x640 20 cars, 1 bus, 2 trucks, 117.5ms\n",
      "Speed: 3.5ms preprocess, 117.5ms inference, 1.0ms postprocess per image at shape (1, 3, 384, 640)\n",
      "\n",
      "0: 384x640 1 alpaca, 90.0ms\n",
      "Speed: 1.9ms preprocess, 90.0ms inference, 1.1ms postprocess per image at shape (1, 3, 384, 640)\n"
     ]
    },
    {
     "name": "stderr",
     "output_type": "stream",
     "text": [
      "Using CPU. Note: This module is much faster with a GPU.\n"
     ]
    },
    {
     "name": "stdout",
     "output_type": "stream",
     "text": [
      "\n",
      "0: 384x640 22 cars, 1 bus, 2 trucks, 104.1ms\n",
      "Speed: 3.0ms preprocess, 104.1ms inference, 2.1ms postprocess per image at shape (1, 3, 384, 640)\n",
      "\n",
      "0: 384x640 2 alpacas, 88.1ms\n",
      "Speed: 2.0ms preprocess, 88.1ms inference, 1.0ms postprocess per image at shape (1, 3, 384, 640)\n"
     ]
    },
    {
     "name": "stderr",
     "output_type": "stream",
     "text": [
      "Using CPU. Note: This module is much faster with a GPU.\n",
      "Using CPU. Note: This module is much faster with a GPU.\n"
     ]
    },
    {
     "name": "stdout",
     "output_type": "stream",
     "text": [
      "\n",
      "0: 384x640 24 cars, 2 trucks, 226.8ms\n",
      "Speed: 5.0ms preprocess, 226.8ms inference, 2.2ms postprocess per image at shape (1, 3, 384, 640)\n",
      "\n",
      "0: 384x640 1 alpaca, 210.6ms\n",
      "Speed: 3.0ms preprocess, 210.6ms inference, 1.5ms postprocess per image at shape (1, 3, 384, 640)\n"
     ]
    },
    {
     "name": "stderr",
     "output_type": "stream",
     "text": [
      "Using CPU. Note: This module is much faster with a GPU.\n"
     ]
    },
    {
     "name": "stdout",
     "output_type": "stream",
     "text": [
      "\n",
      "0: 384x640 25 cars, 4 trucks, 105.3ms\n",
      "Speed: 5.0ms preprocess, 105.3ms inference, 2.0ms postprocess per image at shape (1, 3, 384, 640)\n",
      "\n",
      "0: 384x640 1 alpaca, 86.3ms\n",
      "Speed: 3.0ms preprocess, 86.3ms inference, 1.0ms postprocess per image at shape (1, 3, 384, 640)\n"
     ]
    },
    {
     "name": "stderr",
     "output_type": "stream",
     "text": [
      "Using CPU. Note: This module is much faster with a GPU.\n"
     ]
    },
    {
     "name": "stdout",
     "output_type": "stream",
     "text": [
      "\n",
      "0: 384x640 23 cars, 1 bus, 4 trucks, 93.8ms\n",
      "Speed: 3.1ms preprocess, 93.8ms inference, 2.3ms postprocess per image at shape (1, 3, 384, 640)\n",
      "\n",
      "0: 384x640 1 alpaca, 86.5ms\n",
      "Speed: 3.0ms preprocess, 86.5ms inference, 0.6ms postprocess per image at shape (1, 3, 384, 640)\n"
     ]
    },
    {
     "name": "stderr",
     "output_type": "stream",
     "text": [
      "Using CPU. Note: This module is much faster with a GPU.\n"
     ]
    },
    {
     "name": "stdout",
     "output_type": "stream",
     "text": [
      "\n",
      "0: 384x640 21 cars, 3 trucks, 107.8ms\n",
      "Speed: 3.0ms preprocess, 107.8ms inference, 1.0ms postprocess per image at shape (1, 3, 384, 640)\n",
      "\n",
      "0: 384x640 (no detections), 89.4ms\n",
      "Speed: 2.0ms preprocess, 89.4ms inference, 0.0ms postprocess per image at shape (1, 3, 384, 640)\n",
      "\n",
      "0: 384x640 20 cars, 4 trucks, 246.7ms\n",
      "Speed: 2.0ms preprocess, 246.7ms inference, 6.0ms postprocess per image at shape (1, 3, 384, 640)\n",
      "\n",
      "0: 384x640 1 alpaca, 165.0ms\n",
      "Speed: 3.5ms preprocess, 165.0ms inference, 1.1ms postprocess per image at shape (1, 3, 384, 640)\n"
     ]
    },
    {
     "name": "stderr",
     "output_type": "stream",
     "text": [
      "Using CPU. Note: This module is much faster with a GPU.\n"
     ]
    },
    {
     "name": "stdout",
     "output_type": "stream",
     "text": [
      "\n",
      "0: 384x640 21 cars, 3 trucks, 128.8ms\n",
      "Speed: 4.5ms preprocess, 128.8ms inference, 0.8ms postprocess per image at shape (1, 3, 384, 640)\n",
      "\n",
      "0: 384x640 1 alpaca, 90.0ms\n",
      "Speed: 2.5ms preprocess, 90.0ms inference, 0.7ms postprocess per image at shape (1, 3, 384, 640)\n"
     ]
    },
    {
     "name": "stderr",
     "output_type": "stream",
     "text": [
      "Using CPU. Note: This module is much faster with a GPU.\n"
     ]
    },
    {
     "name": "stdout",
     "output_type": "stream",
     "text": [
      "\n",
      "0: 384x640 25 cars, 1 bus, 3 trucks, 114.7ms\n",
      "Speed: 4.5ms preprocess, 114.7ms inference, 1.1ms postprocess per image at shape (1, 3, 384, 640)\n",
      "\n",
      "0: 384x640 2 alpacas, 90.4ms\n",
      "Speed: 2.0ms preprocess, 90.4ms inference, 0.0ms postprocess per image at shape (1, 3, 384, 640)\n"
     ]
    },
    {
     "name": "stderr",
     "output_type": "stream",
     "text": [
      "Using CPU. Note: This module is much faster with a GPU.\n"
     ]
    },
    {
     "name": "stdout",
     "output_type": "stream",
     "text": [
      "\n",
      "0: 384x640 25 cars, 1 bus, 4 trucks, 211.7ms\n",
      "Speed: 3.5ms preprocess, 211.7ms inference, 5.8ms postprocess per image at shape (1, 3, 384, 640)\n",
      "\n",
      "0: 384x640 1 alpaca, 164.1ms\n",
      "Speed: 3.6ms preprocess, 164.1ms inference, 0.0ms postprocess per image at shape (1, 3, 384, 640)\n"
     ]
    },
    {
     "name": "stderr",
     "output_type": "stream",
     "text": [
      "Using CPU. Note: This module is much faster with a GPU.\n"
     ]
    },
    {
     "name": "stdout",
     "output_type": "stream",
     "text": [
      "\n",
      "0: 384x640 25 cars, 4 trucks, 124.0ms\n",
      "Speed: 4.5ms preprocess, 124.0ms inference, 2.1ms postprocess per image at shape (1, 3, 384, 640)\n",
      "\n",
      "0: 384x640 2 alpacas, 104.7ms\n",
      "Speed: 2.3ms preprocess, 104.7ms inference, 1.0ms postprocess per image at shape (1, 3, 384, 640)\n"
     ]
    },
    {
     "name": "stderr",
     "output_type": "stream",
     "text": [
      "Using CPU. Note: This module is much faster with a GPU.\n",
      "Using CPU. Note: This module is much faster with a GPU.\n"
     ]
    },
    {
     "name": "stdout",
     "output_type": "stream",
     "text": [
      "\n",
      "0: 384x640 24 cars, 4 trucks, 313.3ms\n",
      "Speed: 3.5ms preprocess, 313.3ms inference, 6.6ms postprocess per image at shape (1, 3, 384, 640)\n",
      "\n",
      "0: 384x640 2 alpacas, 132.2ms\n",
      "Speed: 3.0ms preprocess, 132.2ms inference, 1.7ms postprocess per image at shape (1, 3, 384, 640)\n"
     ]
    },
    {
     "name": "stderr",
     "output_type": "stream",
     "text": [
      "Using CPU. Note: This module is much faster with a GPU.\n",
      "Using CPU. Note: This module is much faster with a GPU.\n"
     ]
    },
    {
     "name": "stdout",
     "output_type": "stream",
     "text": [
      "\n",
      "0: 384x640 23 cars, 4 trucks, 148.0ms\n",
      "Speed: 4.0ms preprocess, 148.0ms inference, 2.0ms postprocess per image at shape (1, 3, 384, 640)\n",
      "\n",
      "0: 384x640 1 alpaca, 116.9ms\n",
      "Speed: 3.1ms preprocess, 116.9ms inference, 1.0ms postprocess per image at shape (1, 3, 384, 640)\n"
     ]
    },
    {
     "name": "stderr",
     "output_type": "stream",
     "text": [
      "Using CPU. Note: This module is much faster with a GPU.\n"
     ]
    },
    {
     "name": "stdout",
     "output_type": "stream",
     "text": [
      "\n",
      "0: 384x640 23 cars, 4 trucks, 168.3ms\n",
      "Speed: 3.0ms preprocess, 168.3ms inference, 5.5ms postprocess per image at shape (1, 3, 384, 640)\n",
      "\n",
      "0: 384x640 1 alpaca, 181.5ms\n",
      "Speed: 3.4ms preprocess, 181.5ms inference, 2.5ms postprocess per image at shape (1, 3, 384, 640)\n"
     ]
    },
    {
     "name": "stderr",
     "output_type": "stream",
     "text": [
      "Using CPU. Note: This module is much faster with a GPU.\n"
     ]
    },
    {
     "name": "stdout",
     "output_type": "stream",
     "text": [
      "\n",
      "0: 384x640 24 cars, 4 trucks, 105.2ms\n",
      "Speed: 2.0ms preprocess, 105.2ms inference, 1.7ms postprocess per image at shape (1, 3, 384, 640)\n",
      "\n",
      "0: 384x640 2 alpacas, 114.1ms\n",
      "Speed: 3.0ms preprocess, 114.1ms inference, 1.0ms postprocess per image at shape (1, 3, 384, 640)\n"
     ]
    },
    {
     "name": "stderr",
     "output_type": "stream",
     "text": [
      "Using CPU. Note: This module is much faster with a GPU.\n",
      "Using CPU. Note: This module is much faster with a GPU.\n"
     ]
    },
    {
     "name": "stdout",
     "output_type": "stream",
     "text": [
      "\n",
      "0: 384x640 24 cars, 4 trucks, 200.4ms\n",
      "Speed: 3.2ms preprocess, 200.4ms inference, 1.0ms postprocess per image at shape (1, 3, 384, 640)\n",
      "\n",
      "0: 384x640 2 alpacas, 100.2ms\n",
      "Speed: 2.0ms preprocess, 100.2ms inference, 0.0ms postprocess per image at shape (1, 3, 384, 640)\n"
     ]
    },
    {
     "name": "stderr",
     "output_type": "stream",
     "text": [
      "Using CPU. Note: This module is much faster with a GPU.\n",
      "Using CPU. Note: This module is much faster with a GPU.\n"
     ]
    },
    {
     "name": "stdout",
     "output_type": "stream",
     "text": [
      "\n",
      "0: 384x640 22 cars, 4 trucks, 198.5ms\n",
      "Speed: 4.0ms preprocess, 198.5ms inference, 2.0ms postprocess per image at shape (1, 3, 384, 640)\n",
      "\n",
      "0: 384x640 2 alpacas, 223.2ms\n",
      "Speed: 4.0ms preprocess, 223.2ms inference, 1.0ms postprocess per image at shape (1, 3, 384, 640)\n"
     ]
    },
    {
     "name": "stderr",
     "output_type": "stream",
     "text": [
      "Using CPU. Note: This module is much faster with a GPU.\n",
      "Using CPU. Note: This module is much faster with a GPU.\n"
     ]
    },
    {
     "name": "stdout",
     "output_type": "stream",
     "text": [
      "\n",
      "0: 384x640 22 cars, 1 bus, 3 trucks, 204.1ms\n",
      "Speed: 2.9ms preprocess, 204.1ms inference, 5.6ms postprocess per image at shape (1, 3, 384, 640)\n",
      "\n",
      "0: 384x640 1 alpaca, 177.9ms\n",
      "Speed: 2.5ms preprocess, 177.9ms inference, 1.6ms postprocess per image at shape (1, 3, 384, 640)\n"
     ]
    },
    {
     "name": "stderr",
     "output_type": "stream",
     "text": [
      "Using CPU. Note: This module is much faster with a GPU.\n"
     ]
    },
    {
     "name": "stdout",
     "output_type": "stream",
     "text": [
      "\n",
      "0: 384x640 21 cars, 1 bus, 4 trucks, 100.6ms\n",
      "Speed: 3.6ms preprocess, 100.6ms inference, 1.0ms postprocess per image at shape (1, 3, 384, 640)\n",
      "\n",
      "0: 384x640 2 alpacas, 94.5ms\n",
      "Speed: 2.6ms preprocess, 94.5ms inference, 1.0ms postprocess per image at shape (1, 3, 384, 640)\n"
     ]
    },
    {
     "name": "stderr",
     "output_type": "stream",
     "text": [
      "Using CPU. Note: This module is much faster with a GPU.\n",
      "Using CPU. Note: This module is much faster with a GPU.\n"
     ]
    },
    {
     "name": "stdout",
     "output_type": "stream",
     "text": [
      "\n",
      "0: 384x640 22 cars, 1 bus, 4 trucks, 214.3ms\n",
      "Speed: 4.3ms preprocess, 214.3ms inference, 6.7ms postprocess per image at shape (1, 3, 384, 640)\n",
      "\n",
      "0: 384x640 2 alpacas, 163.4ms\n",
      "Speed: 2.2ms preprocess, 163.4ms inference, 0.0ms postprocess per image at shape (1, 3, 384, 640)\n"
     ]
    },
    {
     "name": "stderr",
     "output_type": "stream",
     "text": [
      "Using CPU. Note: This module is much faster with a GPU.\n",
      "Using CPU. Note: This module is much faster with a GPU.\n"
     ]
    },
    {
     "name": "stdout",
     "output_type": "stream",
     "text": [
      "\n",
      "0: 384x640 23 cars, 1 bus, 3 trucks, 223.7ms\n",
      "Speed: 4.0ms preprocess, 223.7ms inference, 2.5ms postprocess per image at shape (1, 3, 384, 640)\n",
      "\n",
      "0: 384x640 2 alpacas, 178.5ms\n",
      "Speed: 3.0ms preprocess, 178.5ms inference, 0.8ms postprocess per image at shape (1, 3, 384, 640)\n"
     ]
    },
    {
     "name": "stderr",
     "output_type": "stream",
     "text": [
      "Using CPU. Note: This module is much faster with a GPU.\n",
      "Using CPU. Note: This module is much faster with a GPU.\n"
     ]
    },
    {
     "name": "stdout",
     "output_type": "stream",
     "text": [
      "\n",
      "0: 384x640 23 cars, 1 bus, 3 trucks, 196.5ms\n",
      "Speed: 3.3ms preprocess, 196.5ms inference, 5.1ms postprocess per image at shape (1, 3, 384, 640)\n",
      "\n",
      "0: 384x640 1 alpaca, 171.1ms\n",
      "Speed: 3.8ms preprocess, 171.1ms inference, 1.0ms postprocess per image at shape (1, 3, 384, 640)\n"
     ]
    },
    {
     "name": "stderr",
     "output_type": "stream",
     "text": [
      "Using CPU. Note: This module is much faster with a GPU.\n"
     ]
    },
    {
     "name": "stdout",
     "output_type": "stream",
     "text": [
      "\n",
      "0: 384x640 21 cars, 1 bus, 3 trucks, 126.0ms\n",
      "Speed: 3.3ms preprocess, 126.0ms inference, 2.1ms postprocess per image at shape (1, 3, 384, 640)\n",
      "\n",
      "0: 384x640 1 alpaca, 102.4ms\n",
      "Speed: 4.3ms preprocess, 102.4ms inference, 1.7ms postprocess per image at shape (1, 3, 384, 640)\n"
     ]
    },
    {
     "name": "stderr",
     "output_type": "stream",
     "text": [
      "Using CPU. Note: This module is much faster with a GPU.\n"
     ]
    },
    {
     "name": "stdout",
     "output_type": "stream",
     "text": [
      "\n",
      "0: 384x640 25 cars, 1 bus, 3 trucks, 116.5ms\n",
      "Speed: 3.1ms preprocess, 116.5ms inference, 2.1ms postprocess per image at shape (1, 3, 384, 640)\n",
      "\n",
      "0: 384x640 3 alpacas, 188.8ms\n",
      "Speed: 3.2ms preprocess, 188.8ms inference, 1.0ms postprocess per image at shape (1, 3, 384, 640)\n"
     ]
    },
    {
     "name": "stderr",
     "output_type": "stream",
     "text": [
      "Using CPU. Note: This module is much faster with a GPU.\n",
      "Using CPU. Note: This module is much faster with a GPU.\n",
      "Using CPU. Note: This module is much faster with a GPU.\n"
     ]
    },
    {
     "name": "stdout",
     "output_type": "stream",
     "text": [
      "\n",
      "0: 384x640 25 cars, 1 bus, 3 trucks, 134.1ms\n",
      "Speed: 2.0ms preprocess, 134.1ms inference, 2.7ms postprocess per image at shape (1, 3, 384, 640)\n",
      "\n",
      "0: 384x640 2 alpacas, 139.9ms\n",
      "Speed: 1.1ms preprocess, 139.9ms inference, 1.6ms postprocess per image at shape (1, 3, 384, 640)\n"
     ]
    },
    {
     "name": "stderr",
     "output_type": "stream",
     "text": [
      "Using CPU. Note: This module is much faster with a GPU.\n",
      "Using CPU. Note: This module is much faster with a GPU.\n"
     ]
    },
    {
     "name": "stdout",
     "output_type": "stream",
     "text": [
      "\n",
      "0: 384x640 23 cars, 1 bus, 4 trucks, 117.9ms\n",
      "Speed: 5.0ms preprocess, 117.9ms inference, 2.0ms postprocess per image at shape (1, 3, 384, 640)\n",
      "\n",
      "0: 384x640 1 alpaca, 100.0ms\n",
      "Speed: 2.0ms preprocess, 100.0ms inference, 0.0ms postprocess per image at shape (1, 3, 384, 640)\n"
     ]
    },
    {
     "name": "stderr",
     "output_type": "stream",
     "text": [
      "Using CPU. Note: This module is much faster with a GPU.\n"
     ]
    },
    {
     "name": "stdout",
     "output_type": "stream",
     "text": [
      "\n",
      "0: 384x640 24 cars, 4 trucks, 99.4ms\n",
      "Speed: 3.0ms preprocess, 99.4ms inference, 1.9ms postprocess per image at shape (1, 3, 384, 640)\n",
      "\n",
      "0: 384x640 2 alpacas, 90.3ms\n",
      "Speed: 2.3ms preprocess, 90.3ms inference, 1.0ms postprocess per image at shape (1, 3, 384, 640)\n"
     ]
    },
    {
     "name": "stderr",
     "output_type": "stream",
     "text": [
      "Using CPU. Note: This module is much faster with a GPU.\n",
      "Using CPU. Note: This module is much faster with a GPU.\n"
     ]
    },
    {
     "name": "stdout",
     "output_type": "stream",
     "text": [
      "\n",
      "0: 384x640 22 cars, 4 trucks, 165.1ms\n",
      "Speed: 3.0ms preprocess, 165.1ms inference, 2.3ms postprocess per image at shape (1, 3, 384, 640)\n",
      "\n",
      "0: 384x640 3 alpacas, 95.6ms\n",
      "Speed: 3.0ms preprocess, 95.6ms inference, 1.0ms postprocess per image at shape (1, 3, 384, 640)\n"
     ]
    },
    {
     "name": "stderr",
     "output_type": "stream",
     "text": [
      "Using CPU. Note: This module is much faster with a GPU.\n",
      "Using CPU. Note: This module is much faster with a GPU.\n",
      "Using CPU. Note: This module is much faster with a GPU.\n"
     ]
    },
    {
     "name": "stdout",
     "output_type": "stream",
     "text": [
      "\n",
      "0: 384x640 20 cars, 4 trucks, 114.9ms\n",
      "Speed: 2.5ms preprocess, 114.9ms inference, 2.0ms postprocess per image at shape (1, 3, 384, 640)\n",
      "\n",
      "0: 384x640 3 alpacas, 98.6ms\n",
      "Speed: 3.0ms preprocess, 98.6ms inference, 0.0ms postprocess per image at shape (1, 3, 384, 640)\n"
     ]
    },
    {
     "name": "stderr",
     "output_type": "stream",
     "text": [
      "Using CPU. Note: This module is much faster with a GPU.\n",
      "Using CPU. Note: This module is much faster with a GPU.\n",
      "Using CPU. Note: This module is much faster with a GPU.\n"
     ]
    },
    {
     "name": "stdout",
     "output_type": "stream",
     "text": [
      "\n",
      "0: 384x640 20 cars, 4 trucks, 103.6ms\n",
      "Speed: 4.2ms preprocess, 103.6ms inference, 2.0ms postprocess per image at shape (1, 3, 384, 640)\n",
      "\n",
      "0: 384x640 1 alpaca, 85.7ms\n",
      "Speed: 2.0ms preprocess, 85.7ms inference, 1.1ms postprocess per image at shape (1, 3, 384, 640)\n"
     ]
    },
    {
     "name": "stderr",
     "output_type": "stream",
     "text": [
      "Using CPU. Note: This module is much faster with a GPU.\n"
     ]
    },
    {
     "name": "stdout",
     "output_type": "stream",
     "text": [
      "\n",
      "0: 384x640 19 cars, 4 trucks, 94.5ms\n",
      "Speed: 2.0ms preprocess, 94.5ms inference, 1.1ms postprocess per image at shape (1, 3, 384, 640)\n",
      "\n",
      "0: 384x640 1 alpaca, 90.0ms\n",
      "Speed: 2.0ms preprocess, 90.0ms inference, 0.9ms postprocess per image at shape (1, 3, 384, 640)\n"
     ]
    },
    {
     "name": "stderr",
     "output_type": "stream",
     "text": [
      "Using CPU. Note: This module is much faster with a GPU.\n"
     ]
    },
    {
     "name": "stdout",
     "output_type": "stream",
     "text": [
      "\n",
      "0: 384x640 21 cars, 4 trucks, 101.8ms\n",
      "Speed: 2.8ms preprocess, 101.8ms inference, 1.5ms postprocess per image at shape (1, 3, 384, 640)\n",
      "\n",
      "0: 384x640 1 alpaca, 137.6ms\n",
      "Speed: 2.5ms preprocess, 137.6ms inference, 0.0ms postprocess per image at shape (1, 3, 384, 640)\n"
     ]
    },
    {
     "name": "stderr",
     "output_type": "stream",
     "text": [
      "Using CPU. Note: This module is much faster with a GPU.\n"
     ]
    },
    {
     "name": "stdout",
     "output_type": "stream",
     "text": [
      "\n",
      "0: 384x640 20 cars, 5 trucks, 103.5ms\n",
      "Speed: 2.3ms preprocess, 103.5ms inference, 1.3ms postprocess per image at shape (1, 3, 384, 640)\n",
      "\n",
      "0: 384x640 1 alpaca, 91.9ms\n",
      "Speed: 3.0ms preprocess, 91.9ms inference, 1.8ms postprocess per image at shape (1, 3, 384, 640)\n"
     ]
    },
    {
     "name": "stderr",
     "output_type": "stream",
     "text": [
      "Using CPU. Note: This module is much faster with a GPU.\n"
     ]
    },
    {
     "name": "stdout",
     "output_type": "stream",
     "text": [
      "\n",
      "0: 384x640 22 cars, 5 trucks, 94.8ms\n",
      "Speed: 3.1ms preprocess, 94.8ms inference, 1.2ms postprocess per image at shape (1, 3, 384, 640)\n",
      "\n",
      "0: 384x640 1 alpaca, 88.9ms\n",
      "Speed: 2.6ms preprocess, 88.9ms inference, 0.0ms postprocess per image at shape (1, 3, 384, 640)\n",
      "\n",
      "0: 384x640 21 cars, 4 trucks, 93.2ms\n",
      "Speed: 3.0ms preprocess, 93.2ms inference, 2.0ms postprocess per image at shape (1, 3, 384, 640)\n",
      "\n",
      "0: 384x640 1 alpaca, 85.1ms\n",
      "Speed: 3.0ms preprocess, 85.1ms inference, 0.0ms postprocess per image at shape (1, 3, 384, 640)\n"
     ]
    },
    {
     "name": "stderr",
     "output_type": "stream",
     "text": [
      "Using CPU. Note: This module is much faster with a GPU.\n"
     ]
    },
    {
     "name": "stdout",
     "output_type": "stream",
     "text": [
      "\n",
      "0: 384x640 24 cars, 4 trucks, 95.9ms\n",
      "Speed: 2.3ms preprocess, 95.9ms inference, 1.3ms postprocess per image at shape (1, 3, 384, 640)\n",
      "\n",
      "0: 384x640 2 alpacas, 98.3ms\n",
      "Speed: 2.0ms preprocess, 98.3ms inference, 0.0ms postprocess per image at shape (1, 3, 384, 640)\n"
     ]
    },
    {
     "name": "stderr",
     "output_type": "stream",
     "text": [
      "Using CPU. Note: This module is much faster with a GPU.\n",
      "Using CPU. Note: This module is much faster with a GPU.\n"
     ]
    },
    {
     "name": "stdout",
     "output_type": "stream",
     "text": [
      "\n",
      "0: 384x640 22 cars, 4 trucks, 92.1ms\n",
      "Speed: 2.3ms preprocess, 92.1ms inference, 2.0ms postprocess per image at shape (1, 3, 384, 640)\n",
      "\n",
      "0: 384x640 2 alpacas, 85.2ms\n",
      "Speed: 2.0ms preprocess, 85.2ms inference, 0.0ms postprocess per image at shape (1, 3, 384, 640)\n"
     ]
    },
    {
     "name": "stderr",
     "output_type": "stream",
     "text": [
      "Using CPU. Note: This module is much faster with a GPU.\n"
     ]
    },
    {
     "name": "stdout",
     "output_type": "stream",
     "text": [
      "\n",
      "0: 384x640 18 cars, 4 trucks, 95.6ms\n",
      "Speed: 2.9ms preprocess, 95.6ms inference, 1.3ms postprocess per image at shape (1, 3, 384, 640)\n",
      "\n",
      "0: 384x640 2 alpacas, 102.3ms\n",
      "Speed: 0.9ms preprocess, 102.3ms inference, 0.0ms postprocess per image at shape (1, 3, 384, 640)\n"
     ]
    },
    {
     "name": "stderr",
     "output_type": "stream",
     "text": [
      "Using CPU. Note: This module is much faster with a GPU.\n"
     ]
    },
    {
     "name": "stdout",
     "output_type": "stream",
     "text": [
      "\n",
      "0: 384x640 19 cars, 5 trucks, 110.7ms\n",
      "Speed: 2.0ms preprocess, 110.7ms inference, 1.5ms postprocess per image at shape (1, 3, 384, 640)\n",
      "\n",
      "0: 384x640 2 alpacas, 84.1ms\n",
      "Speed: 3.0ms preprocess, 84.1ms inference, 1.0ms postprocess per image at shape (1, 3, 384, 640)\n"
     ]
    },
    {
     "name": "stderr",
     "output_type": "stream",
     "text": [
      "Using CPU. Note: This module is much faster with a GPU.\n",
      "Using CPU. Note: This module is much faster with a GPU.\n"
     ]
    },
    {
     "name": "stdout",
     "output_type": "stream",
     "text": [
      "\n",
      "0: 384x640 21 cars, 5 trucks, 96.1ms\n",
      "Speed: 2.0ms preprocess, 96.1ms inference, 1.0ms postprocess per image at shape (1, 3, 384, 640)\n",
      "\n",
      "0: 384x640 1 alpaca, 115.7ms\n",
      "Speed: 2.0ms preprocess, 115.7ms inference, 1.0ms postprocess per image at shape (1, 3, 384, 640)\n"
     ]
    },
    {
     "name": "stderr",
     "output_type": "stream",
     "text": [
      "Using CPU. Note: This module is much faster with a GPU.\n"
     ]
    },
    {
     "name": "stdout",
     "output_type": "stream",
     "text": [
      "\n",
      "0: 384x640 21 cars, 5 trucks, 97.1ms\n",
      "Speed: 3.6ms preprocess, 97.1ms inference, 1.7ms postprocess per image at shape (1, 3, 384, 640)\n",
      "\n",
      "0: 384x640 1 alpaca, 83.9ms\n",
      "Speed: 2.1ms preprocess, 83.9ms inference, 0.0ms postprocess per image at shape (1, 3, 384, 640)\n",
      "\n",
      "0: 384x640 21 cars, 1 bus, 4 trucks, 95.2ms\n",
      "Speed: 3.0ms preprocess, 95.2ms inference, 2.1ms postprocess per image at shape (1, 3, 384, 640)\n",
      "\n",
      "0: 384x640 2 alpacas, 95.0ms\n",
      "Speed: 2.1ms preprocess, 95.0ms inference, 0.0ms postprocess per image at shape (1, 3, 384, 640)\n"
     ]
    },
    {
     "name": "stderr",
     "output_type": "stream",
     "text": [
      "Using CPU. Note: This module is much faster with a GPU.\n"
     ]
    },
    {
     "name": "stdout",
     "output_type": "stream",
     "text": [
      "\n",
      "0: 384x640 23 cars, 1 bus, 4 trucks, 103.8ms\n",
      "Speed: 2.1ms preprocess, 103.8ms inference, 2.0ms postprocess per image at shape (1, 3, 384, 640)\n",
      "\n",
      "0: 384x640 1 alpaca, 88.5ms\n",
      "Speed: 2.0ms preprocess, 88.5ms inference, 0.0ms postprocess per image at shape (1, 3, 384, 640)\n"
     ]
    },
    {
     "name": "stderr",
     "output_type": "stream",
     "text": [
      "Using CPU. Note: This module is much faster with a GPU.\n"
     ]
    },
    {
     "name": "stdout",
     "output_type": "stream",
     "text": [
      "\n",
      "0: 384x640 24 cars, 5 trucks, 264.4ms\n",
      "Speed: 2.3ms preprocess, 264.4ms inference, 6.4ms postprocess per image at shape (1, 3, 384, 640)\n",
      "\n",
      "0: 384x640 1 alpaca, 94.7ms\n",
      "Speed: 2.8ms preprocess, 94.7ms inference, 0.7ms postprocess per image at shape (1, 3, 384, 640)\n"
     ]
    },
    {
     "name": "stderr",
     "output_type": "stream",
     "text": [
      "Using CPU. Note: This module is much faster with a GPU.\n"
     ]
    },
    {
     "name": "stdout",
     "output_type": "stream",
     "text": [
      "\n",
      "0: 384x640 22 cars, 1 bus, 4 trucks, 92.8ms\n",
      "Speed: 2.0ms preprocess, 92.8ms inference, 2.0ms postprocess per image at shape (1, 3, 384, 640)\n",
      "\n",
      "0: 384x640 1 alpaca, 85.5ms\n",
      "Speed: 2.9ms preprocess, 85.5ms inference, 1.0ms postprocess per image at shape (1, 3, 384, 640)\n"
     ]
    },
    {
     "name": "stderr",
     "output_type": "stream",
     "text": [
      "Using CPU. Note: This module is much faster with a GPU.\n"
     ]
    },
    {
     "name": "stdout",
     "output_type": "stream",
     "text": [
      "\n",
      "0: 384x640 17 cars, 1 bus, 4 trucks, 210.7ms\n",
      "Speed: 3.4ms preprocess, 210.7ms inference, 4.8ms postprocess per image at shape (1, 3, 384, 640)\n",
      "\n",
      "0: 384x640 1 alpaca, 194.0ms\n",
      "Speed: 3.8ms preprocess, 194.0ms inference, 1.2ms postprocess per image at shape (1, 3, 384, 640)\n"
     ]
    },
    {
     "name": "stderr",
     "output_type": "stream",
     "text": [
      "Using CPU. Note: This module is much faster with a GPU.\n"
     ]
    },
    {
     "name": "stdout",
     "output_type": "stream",
     "text": [
      "\n",
      "0: 384x640 18 cars, 4 trucks, 248.9ms\n",
      "Speed: 5.3ms preprocess, 248.9ms inference, 2.1ms postprocess per image at shape (1, 3, 384, 640)\n",
      "\n",
      "0: 384x640 1 alpaca, 151.6ms\n",
      "Speed: 5.5ms preprocess, 151.6ms inference, 0.0ms postprocess per image at shape (1, 3, 384, 640)\n"
     ]
    },
    {
     "name": "stderr",
     "output_type": "stream",
     "text": [
      "Using CPU. Note: This module is much faster with a GPU.\n"
     ]
    },
    {
     "name": "stdout",
     "output_type": "stream",
     "text": [
      "\n",
      "0: 384x640 18 cars, 1 bus, 4 trucks, 101.8ms\n",
      "Speed: 2.1ms preprocess, 101.8ms inference, 1.0ms postprocess per image at shape (1, 3, 384, 640)\n",
      "\n",
      "0: 384x640 2 alpacas, 88.1ms\n",
      "Speed: 2.0ms preprocess, 88.1ms inference, 1.0ms postprocess per image at shape (1, 3, 384, 640)\n"
     ]
    },
    {
     "name": "stderr",
     "output_type": "stream",
     "text": [
      "Using CPU. Note: This module is much faster with a GPU.\n",
      "Using CPU. Note: This module is much faster with a GPU.\n"
     ]
    },
    {
     "name": "stdout",
     "output_type": "stream",
     "text": [
      "\n",
      "0: 384x640 21 cars, 1 bus, 4 trucks, 100.6ms\n",
      "Speed: 2.0ms preprocess, 100.6ms inference, 1.4ms postprocess per image at shape (1, 3, 384, 640)\n",
      "\n",
      "0: 384x640 1 alpaca, 89.5ms\n",
      "Speed: 2.0ms preprocess, 89.5ms inference, 0.0ms postprocess per image at shape (1, 3, 384, 640)\n"
     ]
    },
    {
     "name": "stderr",
     "output_type": "stream",
     "text": [
      "Using CPU. Note: This module is much faster with a GPU.\n"
     ]
    },
    {
     "name": "stdout",
     "output_type": "stream",
     "text": [
      "\n",
      "0: 384x640 20 cars, 2 buss, 4 trucks, 123.6ms\n",
      "Speed: 2.4ms preprocess, 123.6ms inference, 1.0ms postprocess per image at shape (1, 3, 384, 640)\n",
      "\n",
      "0: 384x640 2 alpacas, 100.3ms\n",
      "Speed: 2.5ms preprocess, 100.3ms inference, 1.1ms postprocess per image at shape (1, 3, 384, 640)\n"
     ]
    },
    {
     "name": "stderr",
     "output_type": "stream",
     "text": [
      "Using CPU. Note: This module is much faster with a GPU.\n",
      "Using CPU. Note: This module is much faster with a GPU.\n"
     ]
    },
    {
     "name": "stdout",
     "output_type": "stream",
     "text": [
      "\n",
      "0: 384x640 23 cars, 2 buss, 6 trucks, 105.0ms\n",
      "Speed: 3.8ms preprocess, 105.0ms inference, 2.0ms postprocess per image at shape (1, 3, 384, 640)\n",
      "\n",
      "0: 384x640 1 alpaca, 91.3ms\n",
      "Speed: 1.9ms preprocess, 91.3ms inference, 1.0ms postprocess per image at shape (1, 3, 384, 640)\n"
     ]
    },
    {
     "name": "stderr",
     "output_type": "stream",
     "text": [
      "Using CPU. Note: This module is much faster with a GPU.\n"
     ]
    },
    {
     "name": "stdout",
     "output_type": "stream",
     "text": [
      "\n",
      "0: 384x640 21 cars, 2 buss, 6 trucks, 134.0ms\n",
      "Speed: 3.4ms preprocess, 134.0ms inference, 2.0ms postprocess per image at shape (1, 3, 384, 640)\n",
      "\n",
      "0: 384x640 1 alpaca, 108.4ms\n",
      "Speed: 3.4ms preprocess, 108.4ms inference, 0.0ms postprocess per image at shape (1, 3, 384, 640)\n"
     ]
    },
    {
     "name": "stderr",
     "output_type": "stream",
     "text": [
      "Using CPU. Note: This module is much faster with a GPU.\n"
     ]
    },
    {
     "name": "stdout",
     "output_type": "stream",
     "text": [
      "\n",
      "0: 384x640 21 cars, 2 buss, 4 trucks, 113.8ms\n",
      "Speed: 3.3ms preprocess, 113.8ms inference, 2.3ms postprocess per image at shape (1, 3, 384, 640)\n",
      "\n",
      "0: 384x640 1 alpaca, 103.5ms\n",
      "Speed: 3.0ms preprocess, 103.5ms inference, 1.0ms postprocess per image at shape (1, 3, 384, 640)\n"
     ]
    },
    {
     "name": "stderr",
     "output_type": "stream",
     "text": [
      "Using CPU. Note: This module is much faster with a GPU.\n"
     ]
    },
    {
     "name": "stdout",
     "output_type": "stream",
     "text": [
      "\n",
      "0: 384x640 21 cars, 2 buss, 5 trucks, 170.5ms\n",
      "Speed: 1.4ms preprocess, 170.5ms inference, 6.0ms postprocess per image at shape (1, 3, 384, 640)\n",
      "\n",
      "0: 384x640 (no detections), 177.5ms\n",
      "Speed: 2.2ms preprocess, 177.5ms inference, 1.2ms postprocess per image at shape (1, 3, 384, 640)\n",
      "\n",
      "0: 384x640 20 cars, 2 buss, 5 trucks, 105.9ms\n",
      "Speed: 1.8ms preprocess, 105.9ms inference, 1.7ms postprocess per image at shape (1, 3, 384, 640)\n",
      "\n",
      "0: 384x640 (no detections), 97.5ms\n",
      "Speed: 3.1ms preprocess, 97.5ms inference, 0.0ms postprocess per image at shape (1, 3, 384, 640)\n",
      "\n",
      "0: 384x640 19 cars, 2 buss, 5 trucks, 103.3ms\n",
      "Speed: 2.6ms preprocess, 103.3ms inference, 2.0ms postprocess per image at shape (1, 3, 384, 640)\n",
      "\n",
      "0: 384x640 (no detections), 155.0ms\n",
      "Speed: 3.0ms preprocess, 155.0ms inference, 0.0ms postprocess per image at shape (1, 3, 384, 640)\n",
      "\n",
      "0: 384x640 21 cars, 2 buss, 4 trucks, 133.9ms\n",
      "Speed: 3.6ms preprocess, 133.9ms inference, 5.6ms postprocess per image at shape (1, 3, 384, 640)\n",
      "\n",
      "0: 384x640 2 alpacas, 112.2ms\n",
      "Speed: 3.0ms preprocess, 112.2ms inference, 0.0ms postprocess per image at shape (1, 3, 384, 640)\n"
     ]
    },
    {
     "name": "stderr",
     "output_type": "stream",
     "text": [
      "Using CPU. Note: This module is much faster with a GPU.\n",
      "Using CPU. Note: This module is much faster with a GPU.\n"
     ]
    },
    {
     "name": "stdout",
     "output_type": "stream",
     "text": [
      "\n",
      "0: 384x640 19 cars, 3 buss, 4 trucks, 171.4ms\n",
      "Speed: 3.5ms preprocess, 171.4ms inference, 5.5ms postprocess per image at shape (1, 3, 384, 640)\n",
      "\n",
      "0: 384x640 1 alpaca, 129.6ms\n",
      "Speed: 1.0ms preprocess, 129.6ms inference, 1.0ms postprocess per image at shape (1, 3, 384, 640)\n"
     ]
    },
    {
     "name": "stderr",
     "output_type": "stream",
     "text": [
      "Using CPU. Note: This module is much faster with a GPU.\n"
     ]
    },
    {
     "name": "stdout",
     "output_type": "stream",
     "text": [
      "\n",
      "0: 384x640 24 cars, 2 buss, 4 trucks, 141.1ms\n",
      "Speed: 3.4ms preprocess, 141.1ms inference, 2.3ms postprocess per image at shape (1, 3, 384, 640)\n",
      "\n",
      "0: 384x640 1 alpaca, 122.5ms\n",
      "Speed: 3.3ms preprocess, 122.5ms inference, 1.0ms postprocess per image at shape (1, 3, 384, 640)\n"
     ]
    },
    {
     "name": "stderr",
     "output_type": "stream",
     "text": [
      "Using CPU. Note: This module is much faster with a GPU.\n"
     ]
    },
    {
     "name": "stdout",
     "output_type": "stream",
     "text": [
      "\n",
      "0: 384x640 21 cars, 2 buss, 4 trucks, 133.4ms\n",
      "Speed: 3.1ms preprocess, 133.4ms inference, 1.0ms postprocess per image at shape (1, 3, 384, 640)\n",
      "\n",
      "0: 384x640 1 alpaca, 120.4ms\n",
      "Speed: 1.9ms preprocess, 120.4ms inference, 1.2ms postprocess per image at shape (1, 3, 384, 640)\n"
     ]
    },
    {
     "name": "stderr",
     "output_type": "stream",
     "text": [
      "Using CPU. Note: This module is much faster with a GPU.\n"
     ]
    },
    {
     "name": "stdout",
     "output_type": "stream",
     "text": [
      "\n",
      "0: 384x640 22 cars, 2 buss, 4 trucks, 101.5ms\n",
      "Speed: 3.0ms preprocess, 101.5ms inference, 1.0ms postprocess per image at shape (1, 3, 384, 640)\n",
      "\n",
      "0: 384x640 1 alpaca, 89.8ms\n",
      "Speed: 1.6ms preprocess, 89.8ms inference, 1.0ms postprocess per image at shape (1, 3, 384, 640)\n"
     ]
    },
    {
     "name": "stderr",
     "output_type": "stream",
     "text": [
      "Using CPU. Note: This module is much faster with a GPU.\n"
     ]
    },
    {
     "name": "stdout",
     "output_type": "stream",
     "text": [
      "\n",
      "0: 384x640 20 cars, 2 buss, 3 trucks, 221.2ms\n",
      "Speed: 6.1ms preprocess, 221.2ms inference, 6.1ms postprocess per image at shape (1, 3, 384, 640)\n",
      "\n",
      "0: 384x640 1 alpaca, 239.4ms\n",
      "Speed: 4.5ms preprocess, 239.4ms inference, 2.1ms postprocess per image at shape (1, 3, 384, 640)\n"
     ]
    },
    {
     "name": "stderr",
     "output_type": "stream",
     "text": [
      "Using CPU. Note: This module is much faster with a GPU.\n"
     ]
    },
    {
     "name": "stdout",
     "output_type": "stream",
     "text": [
      "\n",
      "0: 384x640 20 cars, 2 buss, 2 trucks, 118.0ms\n",
      "Speed: 3.9ms preprocess, 118.0ms inference, 2.4ms postprocess per image at shape (1, 3, 384, 640)\n",
      "\n",
      "0: 384x640 (no detections), 101.3ms\n",
      "Speed: 2.0ms preprocess, 101.3ms inference, 0.0ms postprocess per image at shape (1, 3, 384, 640)\n",
      "\n",
      "0: 384x640 21 cars, 2 buss, 2 trucks, 123.6ms\n",
      "Speed: 3.3ms preprocess, 123.6ms inference, 2.0ms postprocess per image at shape (1, 3, 384, 640)\n",
      "\n",
      "0: 384x640 1 alpaca, 109.5ms\n",
      "Speed: 3.7ms preprocess, 109.5ms inference, 0.6ms postprocess per image at shape (1, 3, 384, 640)\n"
     ]
    },
    {
     "name": "stderr",
     "output_type": "stream",
     "text": [
      "Using CPU. Note: This module is much faster with a GPU.\n"
     ]
    },
    {
     "name": "stdout",
     "output_type": "stream",
     "text": [
      "\n",
      "0: 384x640 22 cars, 2 buss, 2 trucks, 158.6ms\n",
      "Speed: 3.6ms preprocess, 158.6ms inference, 5.0ms postprocess per image at shape (1, 3, 384, 640)\n",
      "\n",
      "0: 384x640 1 alpaca, 150.4ms\n",
      "Speed: 3.7ms preprocess, 150.4ms inference, 1.0ms postprocess per image at shape (1, 3, 384, 640)\n"
     ]
    },
    {
     "name": "stderr",
     "output_type": "stream",
     "text": [
      "Using CPU. Note: This module is much faster with a GPU.\n"
     ]
    },
    {
     "name": "stdout",
     "output_type": "stream",
     "text": [
      "\n",
      "0: 384x640 18 cars, 2 buss, 3 trucks, 109.9ms\n",
      "Speed: 2.6ms preprocess, 109.9ms inference, 0.9ms postprocess per image at shape (1, 3, 384, 640)\n",
      "\n",
      "0: 384x640 1 alpaca, 89.5ms\n",
      "Speed: 1.6ms preprocess, 89.5ms inference, 0.0ms postprocess per image at shape (1, 3, 384, 640)\n"
     ]
    },
    {
     "name": "stderr",
     "output_type": "stream",
     "text": [
      "Using CPU. Note: This module is much faster with a GPU.\n"
     ]
    },
    {
     "name": "stdout",
     "output_type": "stream",
     "text": [
      "\n",
      "0: 384x640 22 cars, 2 buss, 3 trucks, 102.2ms\n",
      "Speed: 2.6ms preprocess, 102.2ms inference, 2.0ms postprocess per image at shape (1, 3, 384, 640)\n",
      "\n",
      "0: 384x640 1 alpaca, 89.2ms\n",
      "Speed: 2.0ms preprocess, 89.2ms inference, 1.0ms postprocess per image at shape (1, 3, 384, 640)\n"
     ]
    },
    {
     "name": "stderr",
     "output_type": "stream",
     "text": [
      "Using CPU. Note: This module is much faster with a GPU.\n"
     ]
    },
    {
     "name": "stdout",
     "output_type": "stream",
     "text": [
      "\n",
      "0: 384x640 21 cars, 2 buss, 3 trucks, 218.5ms\n",
      "Speed: 4.4ms preprocess, 218.5ms inference, 6.1ms postprocess per image at shape (1, 3, 384, 640)\n",
      "\n",
      "0: 384x640 1 alpaca, 154.7ms\n",
      "Speed: 2.9ms preprocess, 154.7ms inference, 1.0ms postprocess per image at shape (1, 3, 384, 640)\n"
     ]
    },
    {
     "name": "stderr",
     "output_type": "stream",
     "text": [
      "Using CPU. Note: This module is much faster with a GPU.\n"
     ]
    },
    {
     "name": "stdout",
     "output_type": "stream",
     "text": [
      "\n",
      "0: 384x640 22 cars, 1 bus, 3 trucks, 143.5ms\n",
      "Speed: 4.0ms preprocess, 143.5ms inference, 3.0ms postprocess per image at shape (1, 3, 384, 640)\n",
      "\n",
      "0: 384x640 1 alpaca, 147.3ms\n",
      "Speed: 4.0ms preprocess, 147.3ms inference, 1.1ms postprocess per image at shape (1, 3, 384, 640)\n"
     ]
    },
    {
     "name": "stderr",
     "output_type": "stream",
     "text": [
      "Using CPU. Note: This module is much faster with a GPU.\n"
     ]
    },
    {
     "name": "stdout",
     "output_type": "stream",
     "text": [
      "\n",
      "0: 384x640 21 cars, 2 buss, 4 trucks, 299.9ms\n",
      "Speed: 4.1ms preprocess, 299.9ms inference, 6.0ms postprocess per image at shape (1, 3, 384, 640)\n",
      "\n",
      "0: 384x640 1 alpaca, 252.9ms\n",
      "Speed: 4.0ms preprocess, 252.9ms inference, 1.8ms postprocess per image at shape (1, 3, 384, 640)\n"
     ]
    },
    {
     "name": "stderr",
     "output_type": "stream",
     "text": [
      "Using CPU. Note: This module is much faster with a GPU.\n"
     ]
    },
    {
     "name": "stdout",
     "output_type": "stream",
     "text": [
      "\n",
      "0: 384x640 21 cars, 1 bus, 4 trucks, 111.4ms\n",
      "Speed: 3.2ms preprocess, 111.4ms inference, 1.7ms postprocess per image at shape (1, 3, 384, 640)\n",
      "\n",
      "0: 384x640 1 alpaca, 95.3ms\n",
      "Speed: 2.5ms preprocess, 95.3ms inference, 0.0ms postprocess per image at shape (1, 3, 384, 640)\n"
     ]
    },
    {
     "name": "stderr",
     "output_type": "stream",
     "text": [
      "Using CPU. Note: This module is much faster with a GPU.\n"
     ]
    },
    {
     "name": "stdout",
     "output_type": "stream",
     "text": [
      "\n",
      "0: 384x640 22 cars, 1 bus, 4 trucks, 100.1ms\n",
      "Speed: 3.0ms preprocess, 100.1ms inference, 2.0ms postprocess per image at shape (1, 3, 384, 640)\n",
      "\n",
      "0: 384x640 2 alpacas, 84.1ms\n",
      "Speed: 2.0ms preprocess, 84.1ms inference, 0.0ms postprocess per image at shape (1, 3, 384, 640)\n"
     ]
    },
    {
     "name": "stderr",
     "output_type": "stream",
     "text": [
      "Using CPU. Note: This module is much faster with a GPU.\n",
      "Using CPU. Note: This module is much faster with a GPU.\n"
     ]
    },
    {
     "name": "stdout",
     "output_type": "stream",
     "text": [
      "\n",
      "0: 384x640 24 cars, 2 buss, 3 trucks, 109.9ms\n",
      "Speed: 2.7ms preprocess, 109.9ms inference, 1.3ms postprocess per image at shape (1, 3, 384, 640)\n",
      "\n",
      "0: 384x640 1 alpaca, 115.9ms\n",
      "Speed: 3.0ms preprocess, 115.9ms inference, 0.0ms postprocess per image at shape (1, 3, 384, 640)\n"
     ]
    },
    {
     "name": "stderr",
     "output_type": "stream",
     "text": [
      "Using CPU. Note: This module is much faster with a GPU.\n"
     ]
    },
    {
     "name": "stdout",
     "output_type": "stream",
     "text": [
      "\n",
      "0: 384x640 23 cars, 2 buss, 3 trucks, 179.8ms\n",
      "Speed: 4.3ms preprocess, 179.8ms inference, 3.0ms postprocess per image at shape (1, 3, 384, 640)\n",
      "\n",
      "0: 384x640 2 alpacas, 148.1ms\n",
      "Speed: 2.4ms preprocess, 148.1ms inference, 1.1ms postprocess per image at shape (1, 3, 384, 640)\n"
     ]
    },
    {
     "name": "stderr",
     "output_type": "stream",
     "text": [
      "Using CPU. Note: This module is much faster with a GPU.\n",
      "Using CPU. Note: This module is much faster with a GPU.\n"
     ]
    },
    {
     "name": "stdout",
     "output_type": "stream",
     "text": [
      "\n",
      "0: 384x640 23 cars, 1 bus, 4 trucks, 92.4ms\n",
      "Speed: 2.0ms preprocess, 92.4ms inference, 1.9ms postprocess per image at shape (1, 3, 384, 640)\n",
      "\n",
      "0: 384x640 1 alpaca, 89.0ms\n",
      "Speed: 1.0ms preprocess, 89.0ms inference, 1.0ms postprocess per image at shape (1, 3, 384, 640)\n"
     ]
    },
    {
     "name": "stderr",
     "output_type": "stream",
     "text": [
      "Using CPU. Note: This module is much faster with a GPU.\n"
     ]
    },
    {
     "name": "stdout",
     "output_type": "stream",
     "text": [
      "\n",
      "0: 384x640 21 cars, 1 bus, 4 trucks, 96.6ms\n",
      "Speed: 1.0ms preprocess, 96.6ms inference, 1.9ms postprocess per image at shape (1, 3, 384, 640)\n",
      "\n",
      "0: 384x640 1 alpaca, 89.1ms\n",
      "Speed: 2.0ms preprocess, 89.1ms inference, 1.0ms postprocess per image at shape (1, 3, 384, 640)\n"
     ]
    },
    {
     "name": "stderr",
     "output_type": "stream",
     "text": [
      "Using CPU. Note: This module is much faster with a GPU.\n"
     ]
    },
    {
     "name": "stdout",
     "output_type": "stream",
     "text": [
      "\n",
      "0: 384x640 23 cars, 2 buss, 4 trucks, 109.0ms\n",
      "Speed: 3.7ms preprocess, 109.0ms inference, 1.6ms postprocess per image at shape (1, 3, 384, 640)\n",
      "\n",
      "0: 384x640 1 alpaca, 100.9ms\n",
      "Speed: 1.0ms preprocess, 100.9ms inference, 1.0ms postprocess per image at shape (1, 3, 384, 640)\n"
     ]
    },
    {
     "name": "stderr",
     "output_type": "stream",
     "text": [
      "Using CPU. Note: This module is much faster with a GPU.\n"
     ]
    },
    {
     "name": "stdout",
     "output_type": "stream",
     "text": [
      "\n",
      "0: 384x640 22 cars, 2 buss, 4 trucks, 249.0ms\n",
      "Speed: 4.8ms preprocess, 249.0ms inference, 6.0ms postprocess per image at shape (1, 3, 384, 640)\n",
      "\n",
      "0: 384x640 1 alpaca, 205.0ms\n",
      "Speed: 4.0ms preprocess, 205.0ms inference, 1.0ms postprocess per image at shape (1, 3, 384, 640)\n"
     ]
    },
    {
     "name": "stderr",
     "output_type": "stream",
     "text": [
      "Using CPU. Note: This module is much faster with a GPU.\n"
     ]
    },
    {
     "name": "stdout",
     "output_type": "stream",
     "text": [
      "\n",
      "0: 384x640 22 cars, 2 buss, 4 trucks, 100.1ms\n",
      "Speed: 2.0ms preprocess, 100.1ms inference, 1.0ms postprocess per image at shape (1, 3, 384, 640)\n",
      "\n",
      "0: 384x640 1 alpaca, 87.0ms\n",
      "Speed: 3.0ms preprocess, 87.0ms inference, 0.0ms postprocess per image at shape (1, 3, 384, 640)\n"
     ]
    },
    {
     "name": "stderr",
     "output_type": "stream",
     "text": [
      "Using CPU. Note: This module is much faster with a GPU.\n"
     ]
    },
    {
     "name": "stdout",
     "output_type": "stream",
     "text": [
      "\n",
      "0: 384x640 21 cars, 2 buss, 4 trucks, 96.9ms\n",
      "Speed: 3.1ms preprocess, 96.9ms inference, 1.0ms postprocess per image at shape (1, 3, 384, 640)\n",
      "\n",
      "0: 384x640 1 alpaca, 90.9ms\n",
      "Speed: 2.9ms preprocess, 90.9ms inference, 0.0ms postprocess per image at shape (1, 3, 384, 640)\n"
     ]
    },
    {
     "name": "stderr",
     "output_type": "stream",
     "text": [
      "Using CPU. Note: This module is much faster with a GPU.\n"
     ]
    },
    {
     "name": "stdout",
     "output_type": "stream",
     "text": [
      "\n",
      "0: 384x640 21 cars, 3 trucks, 121.4ms\n",
      "Speed: 4.5ms preprocess, 121.4ms inference, 2.3ms postprocess per image at shape (1, 3, 384, 640)\n",
      "\n",
      "0: 384x640 2 alpacas, 111.0ms\n",
      "Speed: 2.0ms preprocess, 111.0ms inference, 1.0ms postprocess per image at shape (1, 3, 384, 640)\n"
     ]
    },
    {
     "name": "stderr",
     "output_type": "stream",
     "text": [
      "Using CPU. Note: This module is much faster with a GPU.\n",
      "Using CPU. Note: This module is much faster with a GPU.\n"
     ]
    },
    {
     "name": "stdout",
     "output_type": "stream",
     "text": [
      "\n",
      "0: 384x640 22 cars, 3 trucks, 237.0ms\n",
      "Speed: 3.6ms preprocess, 237.0ms inference, 5.0ms postprocess per image at shape (1, 3, 384, 640)\n",
      "\n",
      "0: 384x640 1 alpaca, 197.5ms\n",
      "Speed: 5.2ms preprocess, 197.5ms inference, 1.0ms postprocess per image at shape (1, 3, 384, 640)\n"
     ]
    },
    {
     "name": "stderr",
     "output_type": "stream",
     "text": [
      "Using CPU. Note: This module is much faster with a GPU.\n"
     ]
    },
    {
     "name": "stdout",
     "output_type": "stream",
     "text": [
      "\n",
      "0: 384x640 23 cars, 4 trucks, 98.3ms\n",
      "Speed: 4.0ms preprocess, 98.3ms inference, 2.0ms postprocess per image at shape (1, 3, 384, 640)\n",
      "\n",
      "0: 384x640 1 alpaca, 86.8ms\n",
      "Speed: 1.9ms preprocess, 86.8ms inference, 0.0ms postprocess per image at shape (1, 3, 384, 640)\n"
     ]
    },
    {
     "name": "stderr",
     "output_type": "stream",
     "text": [
      "Using CPU. Note: This module is much faster with a GPU.\n"
     ]
    },
    {
     "name": "stdout",
     "output_type": "stream",
     "text": [
      "\n",
      "0: 384x640 24 cars, 3 trucks, 125.6ms\n",
      "Speed: 4.1ms preprocess, 125.6ms inference, 1.1ms postprocess per image at shape (1, 3, 384, 640)\n",
      "\n",
      "0: 384x640 1 alpaca, 86.1ms\n",
      "Speed: 2.0ms preprocess, 86.1ms inference, 0.0ms postprocess per image at shape (1, 3, 384, 640)\n"
     ]
    },
    {
     "name": "stderr",
     "output_type": "stream",
     "text": [
      "Using CPU. Note: This module is much faster with a GPU.\n"
     ]
    },
    {
     "name": "stdout",
     "output_type": "stream",
     "text": [
      "\n",
      "0: 384x640 25 cars, 1 bus, 3 trucks, 112.5ms\n",
      "Speed: 3.2ms preprocess, 112.5ms inference, 1.1ms postprocess per image at shape (1, 3, 384, 640)\n",
      "\n",
      "0: 384x640 1 alpaca, 93.0ms\n",
      "Speed: 2.1ms preprocess, 93.0ms inference, 0.0ms postprocess per image at shape (1, 3, 384, 640)\n"
     ]
    },
    {
     "name": "stderr",
     "output_type": "stream",
     "text": [
      "Using CPU. Note: This module is much faster with a GPU.\n"
     ]
    },
    {
     "name": "stdout",
     "output_type": "stream",
     "text": [
      "\n",
      "0: 384x640 24 cars, 3 trucks, 109.8ms\n",
      "Speed: 2.0ms preprocess, 109.8ms inference, 2.7ms postprocess per image at shape (1, 3, 384, 640)\n",
      "\n",
      "0: 384x640 1 alpaca, 109.2ms\n",
      "Speed: 1.7ms preprocess, 109.2ms inference, 0.0ms postprocess per image at shape (1, 3, 384, 640)\n"
     ]
    },
    {
     "name": "stderr",
     "output_type": "stream",
     "text": [
      "Using CPU. Note: This module is much faster with a GPU.\n"
     ]
    },
    {
     "name": "stdout",
     "output_type": "stream",
     "text": [
      "\n",
      "0: 384x640 23 cars, 3 trucks, 97.0ms\n",
      "Speed: 3.1ms preprocess, 97.0ms inference, 2.0ms postprocess per image at shape (1, 3, 384, 640)\n",
      "\n",
      "0: 384x640 (no detections), 85.1ms\n",
      "Speed: 1.9ms preprocess, 85.1ms inference, 0.0ms postprocess per image at shape (1, 3, 384, 640)\n",
      "\n",
      "0: 384x640 23 cars, 3 trucks, 95.4ms\n",
      "Speed: 2.8ms preprocess, 95.4ms inference, 1.0ms postprocess per image at shape (1, 3, 384, 640)\n",
      "\n",
      "0: 384x640 2 alpacas, 87.2ms\n",
      "Speed: 2.0ms preprocess, 87.2ms inference, 0.0ms postprocess per image at shape (1, 3, 384, 640)\n"
     ]
    },
    {
     "name": "stderr",
     "output_type": "stream",
     "text": [
      "Using CPU. Note: This module is much faster with a GPU.\n",
      "Using CPU. Note: This module is much faster with a GPU.\n"
     ]
    },
    {
     "name": "stdout",
     "output_type": "stream",
     "text": [
      "\n",
      "0: 384x640 21 cars, 3 trucks, 99.4ms\n",
      "Speed: 2.6ms preprocess, 99.4ms inference, 1.9ms postprocess per image at shape (1, 3, 384, 640)\n",
      "\n",
      "0: 384x640 2 alpacas, 107.4ms\n",
      "Speed: 3.0ms preprocess, 107.4ms inference, 0.6ms postprocess per image at shape (1, 3, 384, 640)\n"
     ]
    },
    {
     "name": "stderr",
     "output_type": "stream",
     "text": [
      "Using CPU. Note: This module is much faster with a GPU.\n",
      "Using CPU. Note: This module is much faster with a GPU.\n"
     ]
    },
    {
     "name": "stdout",
     "output_type": "stream",
     "text": [
      "\n",
      "0: 384x640 20 cars, 2 buss, 3 trucks, 95.1ms\n",
      "Speed: 3.0ms preprocess, 95.1ms inference, 1.0ms postprocess per image at shape (1, 3, 384, 640)\n",
      "\n",
      "0: 384x640 2 alpacas, 85.8ms\n",
      "Speed: 2.1ms preprocess, 85.8ms inference, 1.0ms postprocess per image at shape (1, 3, 384, 640)\n"
     ]
    },
    {
     "name": "stderr",
     "output_type": "stream",
     "text": [
      "Using CPU. Note: This module is much faster with a GPU.\n",
      "Using CPU. Note: This module is much faster with a GPU.\n"
     ]
    },
    {
     "name": "stdout",
     "output_type": "stream",
     "text": [
      "\n",
      "0: 384x640 22 cars, 2 buss, 3 trucks, 109.5ms\n",
      "Speed: 3.6ms preprocess, 109.5ms inference, 1.4ms postprocess per image at shape (1, 3, 384, 640)\n",
      "\n",
      "0: 384x640 1 alpaca, 100.6ms\n",
      "Speed: 3.1ms preprocess, 100.6ms inference, 1.0ms postprocess per image at shape (1, 3, 384, 640)\n"
     ]
    },
    {
     "name": "stderr",
     "output_type": "stream",
     "text": [
      "Using CPU. Note: This module is much faster with a GPU.\n"
     ]
    },
    {
     "name": "stdout",
     "output_type": "stream",
     "text": [
      "\n",
      "0: 384x640 21 cars, 1 bus, 3 trucks, 151.1ms\n",
      "Speed: 4.3ms preprocess, 151.1ms inference, 2.2ms postprocess per image at shape (1, 3, 384, 640)\n",
      "\n",
      "0: 384x640 1 alpaca, 119.1ms\n",
      "Speed: 2.4ms preprocess, 119.1ms inference, 1.1ms postprocess per image at shape (1, 3, 384, 640)\n"
     ]
    },
    {
     "name": "stderr",
     "output_type": "stream",
     "text": [
      "Using CPU. Note: This module is much faster with a GPU.\n"
     ]
    },
    {
     "name": "stdout",
     "output_type": "stream",
     "text": [
      "\n",
      "0: 384x640 23 cars, 1 bus, 3 trucks, 212.9ms\n",
      "Speed: 4.0ms preprocess, 212.9ms inference, 5.5ms postprocess per image at shape (1, 3, 384, 640)\n",
      "\n",
      "0: 384x640 1 alpaca, 197.8ms\n",
      "Speed: 3.2ms preprocess, 197.8ms inference, 0.9ms postprocess per image at shape (1, 3, 384, 640)\n"
     ]
    },
    {
     "name": "stderr",
     "output_type": "stream",
     "text": [
      "Using CPU. Note: This module is much faster with a GPU.\n"
     ]
    },
    {
     "name": "stdout",
     "output_type": "stream",
     "text": [
      "\n",
      "0: 384x640 24 cars, 1 bus, 3 trucks, 116.6ms\n",
      "Speed: 3.0ms preprocess, 116.6ms inference, 1.0ms postprocess per image at shape (1, 3, 384, 640)\n",
      "\n",
      "0: 384x640 1 alpaca, 86.1ms\n",
      "Speed: 1.9ms preprocess, 86.1ms inference, 1.0ms postprocess per image at shape (1, 3, 384, 640)\n"
     ]
    },
    {
     "name": "stderr",
     "output_type": "stream",
     "text": [
      "Using CPU. Note: This module is much faster with a GPU.\n"
     ]
    },
    {
     "name": "stdout",
     "output_type": "stream",
     "text": [
      "\n",
      "0: 384x640 23 cars, 1 bus, 3 trucks, 107.8ms\n",
      "Speed: 5.0ms preprocess, 107.8ms inference, 3.1ms postprocess per image at shape (1, 3, 384, 640)\n",
      "\n",
      "0: 384x640 1 alpaca, 168.7ms\n",
      "Speed: 2.4ms preprocess, 168.7ms inference, 1.0ms postprocess per image at shape (1, 3, 384, 640)\n"
     ]
    },
    {
     "name": "stderr",
     "output_type": "stream",
     "text": [
      "Using CPU. Note: This module is much faster with a GPU.\n"
     ]
    },
    {
     "name": "stdout",
     "output_type": "stream",
     "text": [
      "\n",
      "0: 384x640 20 cars, 1 bus, 3 trucks, 228.6ms\n",
      "Speed: 5.0ms preprocess, 228.6ms inference, 5.9ms postprocess per image at shape (1, 3, 384, 640)\n",
      "\n",
      "0: 384x640 1 alpaca, 195.0ms\n",
      "Speed: 3.6ms preprocess, 195.0ms inference, 1.0ms postprocess per image at shape (1, 3, 384, 640)\n"
     ]
    },
    {
     "name": "stderr",
     "output_type": "stream",
     "text": [
      "Using CPU. Note: This module is much faster with a GPU.\n"
     ]
    },
    {
     "name": "stdout",
     "output_type": "stream",
     "text": [
      "\n",
      "0: 384x640 20 cars, 1 bus, 2 trucks, 125.8ms\n",
      "Speed: 3.6ms preprocess, 125.8ms inference, 2.3ms postprocess per image at shape (1, 3, 384, 640)\n",
      "\n",
      "0: 384x640 1 alpaca, 108.8ms\n",
      "Speed: 2.6ms preprocess, 108.8ms inference, 1.0ms postprocess per image at shape (1, 3, 384, 640)\n"
     ]
    },
    {
     "name": "stderr",
     "output_type": "stream",
     "text": [
      "Using CPU. Note: This module is much faster with a GPU.\n"
     ]
    },
    {
     "name": "stdout",
     "output_type": "stream",
     "text": [
      "\n",
      "0: 384x640 22 cars, 1 bus, 3 trucks, 99.2ms\n",
      "Speed: 1.9ms preprocess, 99.2ms inference, 1.0ms postprocess per image at shape (1, 3, 384, 640)\n",
      "\n",
      "0: 384x640 1 alpaca, 86.4ms\n",
      "Speed: 2.9ms preprocess, 86.4ms inference, 1.0ms postprocess per image at shape (1, 3, 384, 640)\n"
     ]
    },
    {
     "name": "stderr",
     "output_type": "stream",
     "text": [
      "Using CPU. Note: This module is much faster with a GPU.\n"
     ]
    },
    {
     "name": "stdout",
     "output_type": "stream",
     "text": [
      "\n",
      "0: 384x640 23 cars, 1 bus, 4 trucks, 97.0ms\n",
      "Speed: 2.0ms preprocess, 97.0ms inference, 2.1ms postprocess per image at shape (1, 3, 384, 640)\n",
      "\n",
      "0: 384x640 1 alpaca, 87.1ms\n",
      "Speed: 2.1ms preprocess, 87.1ms inference, 0.6ms postprocess per image at shape (1, 3, 384, 640)\n"
     ]
    },
    {
     "name": "stderr",
     "output_type": "stream",
     "text": [
      "Using CPU. Note: This module is much faster with a GPU.\n"
     ]
    },
    {
     "name": "stdout",
     "output_type": "stream",
     "text": [
      "\n",
      "0: 384x640 23 cars, 1 bus, 4 trucks, 218.5ms\n",
      "Speed: 3.6ms preprocess, 218.5ms inference, 5.5ms postprocess per image at shape (1, 3, 384, 640)\n",
      "\n",
      "0: 384x640 1 alpaca, 197.3ms\n",
      "Speed: 3.5ms preprocess, 197.3ms inference, 0.0ms postprocess per image at shape (1, 3, 384, 640)\n"
     ]
    },
    {
     "name": "stderr",
     "output_type": "stream",
     "text": [
      "Using CPU. Note: This module is much faster with a GPU.\n"
     ]
    },
    {
     "name": "stdout",
     "output_type": "stream",
     "text": [
      "\n",
      "0: 384x640 21 cars, 1 bus, 3 trucks, 115.2ms\n",
      "Speed: 3.6ms preprocess, 115.2ms inference, 2.8ms postprocess per image at shape (1, 3, 384, 640)\n",
      "\n",
      "0: 384x640 1 alpaca, 96.7ms\n",
      "Speed: 2.6ms preprocess, 96.7ms inference, 0.0ms postprocess per image at shape (1, 3, 384, 640)\n"
     ]
    },
    {
     "name": "stderr",
     "output_type": "stream",
     "text": [
      "Using CPU. Note: This module is much faster with a GPU.\n"
     ]
    },
    {
     "name": "stdout",
     "output_type": "stream",
     "text": [
      "\n",
      "0: 384x640 24 cars, 1 bus, 4 trucks, 109.1ms\n",
      "Speed: 3.0ms preprocess, 109.1ms inference, 2.1ms postprocess per image at shape (1, 3, 384, 640)\n",
      "\n",
      "0: 384x640 (no detections), 97.3ms\n",
      "Speed: 1.7ms preprocess, 97.3ms inference, 0.2ms postprocess per image at shape (1, 3, 384, 640)\n",
      "\n",
      "0: 384x640 21 cars, 1 bus, 3 trucks, 115.5ms\n",
      "Speed: 3.1ms preprocess, 115.5ms inference, 1.2ms postprocess per image at shape (1, 3, 384, 640)\n",
      "\n",
      "0: 384x640 1 alpaca, 96.3ms\n",
      "Speed: 2.0ms preprocess, 96.3ms inference, 0.0ms postprocess per image at shape (1, 3, 384, 640)\n"
     ]
    },
    {
     "name": "stderr",
     "output_type": "stream",
     "text": [
      "Using CPU. Note: This module is much faster with a GPU.\n"
     ]
    },
    {
     "name": "stdout",
     "output_type": "stream",
     "text": [
      "\n",
      "0: 384x640 21 cars, 1 bus, 4 trucks, 121.5ms\n",
      "Speed: 4.6ms preprocess, 121.5ms inference, 1.0ms postprocess per image at shape (1, 3, 384, 640)\n",
      "\n",
      "0: 384x640 1 alpaca, 90.7ms\n",
      "Speed: 2.0ms preprocess, 90.7ms inference, 0.0ms postprocess per image at shape (1, 3, 384, 640)\n"
     ]
    },
    {
     "name": "stderr",
     "output_type": "stream",
     "text": [
      "Using CPU. Note: This module is much faster with a GPU.\n"
     ]
    },
    {
     "name": "stdout",
     "output_type": "stream",
     "text": [
      "\n",
      "0: 384x640 23 cars, 1 bus, 3 trucks, 106.9ms\n",
      "Speed: 4.5ms preprocess, 106.9ms inference, 2.0ms postprocess per image at shape (1, 3, 384, 640)\n",
      "\n",
      "0: 384x640 2 alpacas, 96.3ms\n",
      "Speed: 2.4ms preprocess, 96.3ms inference, 1.0ms postprocess per image at shape (1, 3, 384, 640)\n"
     ]
    },
    {
     "name": "stderr",
     "output_type": "stream",
     "text": [
      "Using CPU. Note: This module is much faster with a GPU.\n",
      "Using CPU. Note: This module is much faster with a GPU.\n"
     ]
    },
    {
     "name": "stdout",
     "output_type": "stream",
     "text": [
      "\n",
      "0: 384x640 22 cars, 1 bus, 3 trucks, 106.9ms\n",
      "Speed: 4.0ms preprocess, 106.9ms inference, 1.1ms postprocess per image at shape (1, 3, 384, 640)\n",
      "\n",
      "0: 384x640 1 alpaca, 178.0ms\n",
      "Speed: 2.0ms preprocess, 178.0ms inference, 0.0ms postprocess per image at shape (1, 3, 384, 640)\n"
     ]
    },
    {
     "name": "stderr",
     "output_type": "stream",
     "text": [
      "Using CPU. Note: This module is much faster with a GPU.\n"
     ]
    },
    {
     "name": "stdout",
     "output_type": "stream",
     "text": [
      "\n",
      "0: 384x640 20 cars, 1 bus, 3 trucks, 136.4ms\n",
      "Speed: 4.0ms preprocess, 136.4ms inference, 2.7ms postprocess per image at shape (1, 3, 384, 640)\n",
      "\n",
      "0: 384x640 1 alpaca, 97.2ms\n",
      "Speed: 2.0ms preprocess, 97.2ms inference, 0.0ms postprocess per image at shape (1, 3, 384, 640)\n"
     ]
    },
    {
     "name": "stderr",
     "output_type": "stream",
     "text": [
      "Using CPU. Note: This module is much faster with a GPU.\n"
     ]
    },
    {
     "name": "stdout",
     "output_type": "stream",
     "text": [
      "\n",
      "0: 384x640 23 cars, 1 bus, 3 trucks, 95.4ms\n",
      "Speed: 1.9ms preprocess, 95.4ms inference, 1.9ms postprocess per image at shape (1, 3, 384, 640)\n",
      "\n",
      "0: 384x640 1 alpaca, 89.7ms\n",
      "Speed: 2.0ms preprocess, 89.7ms inference, 0.0ms postprocess per image at shape (1, 3, 384, 640)\n"
     ]
    },
    {
     "name": "stderr",
     "output_type": "stream",
     "text": [
      "Using CPU. Note: This module is much faster with a GPU.\n"
     ]
    },
    {
     "name": "stdout",
     "output_type": "stream",
     "text": [
      "\n",
      "0: 384x640 23 cars, 1 bus, 3 trucks, 227.0ms\n",
      "Speed: 3.1ms preprocess, 227.0ms inference, 5.9ms postprocess per image at shape (1, 3, 384, 640)\n",
      "\n",
      "0: 384x640 1 alpaca, 195.4ms\n",
      "Speed: 3.6ms preprocess, 195.4ms inference, 0.0ms postprocess per image at shape (1, 3, 384, 640)\n"
     ]
    },
    {
     "name": "stderr",
     "output_type": "stream",
     "text": [
      "Using CPU. Note: This module is much faster with a GPU.\n"
     ]
    },
    {
     "name": "stdout",
     "output_type": "stream",
     "text": [
      "\n",
      "0: 384x640 23 cars, 1 bus, 3 trucks, 96.3ms\n",
      "Speed: 3.0ms preprocess, 96.3ms inference, 1.2ms postprocess per image at shape (1, 3, 384, 640)\n",
      "\n",
      "0: 384x640 1 alpaca, 85.0ms\n",
      "Speed: 1.9ms preprocess, 85.0ms inference, 1.0ms postprocess per image at shape (1, 3, 384, 640)\n"
     ]
    },
    {
     "name": "stderr",
     "output_type": "stream",
     "text": [
      "Using CPU. Note: This module is much faster with a GPU.\n"
     ]
    },
    {
     "name": "stdout",
     "output_type": "stream",
     "text": [
      "\n",
      "0: 384x640 21 cars, 1 bus, 3 trucks, 99.8ms\n",
      "Speed: 4.7ms preprocess, 99.8ms inference, 1.2ms postprocess per image at shape (1, 3, 384, 640)\n",
      "\n",
      "0: 384x640 1 alpaca, 90.9ms\n",
      "Speed: 1.6ms preprocess, 90.9ms inference, 0.0ms postprocess per image at shape (1, 3, 384, 640)\n"
     ]
    },
    {
     "name": "stderr",
     "output_type": "stream",
     "text": [
      "Using CPU. Note: This module is much faster with a GPU.\n"
     ]
    },
    {
     "name": "stdout",
     "output_type": "stream",
     "text": [
      "\n",
      "0: 384x640 22 cars, 1 bus, 3 trucks, 104.2ms\n",
      "Speed: 4.2ms preprocess, 104.2ms inference, 1.9ms postprocess per image at shape (1, 3, 384, 640)\n",
      "\n",
      "0: 384x640 2 alpacas, 86.9ms\n",
      "Speed: 2.1ms preprocess, 86.9ms inference, 0.0ms postprocess per image at shape (1, 3, 384, 640)\n"
     ]
    },
    {
     "name": "stderr",
     "output_type": "stream",
     "text": [
      "Using CPU. Note: This module is much faster with a GPU.\n",
      "Using CPU. Note: This module is much faster with a GPU.\n"
     ]
    },
    {
     "name": "stdout",
     "output_type": "stream",
     "text": [
      "\n",
      "0: 384x640 22 cars, 1 bus, 3 trucks, 97.6ms\n",
      "Speed: 3.7ms preprocess, 97.6ms inference, 1.2ms postprocess per image at shape (1, 3, 384, 640)\n",
      "\n",
      "0: 384x640 1 alpaca, 87.0ms\n",
      "Speed: 2.0ms preprocess, 87.0ms inference, 0.0ms postprocess per image at shape (1, 3, 384, 640)\n"
     ]
    },
    {
     "name": "stderr",
     "output_type": "stream",
     "text": [
      "Using CPU. Note: This module is much faster with a GPU.\n"
     ]
    },
    {
     "name": "stdout",
     "output_type": "stream",
     "text": [
      "\n",
      "0: 384x640 26 cars, 1 bus, 4 trucks, 92.5ms\n",
      "Speed: 2.3ms preprocess, 92.5ms inference, 2.2ms postprocess per image at shape (1, 3, 384, 640)\n",
      "\n",
      "0: 384x640 2 alpacas, 93.5ms\n",
      "Speed: 2.0ms preprocess, 93.5ms inference, 0.0ms postprocess per image at shape (1, 3, 384, 640)\n"
     ]
    },
    {
     "name": "stderr",
     "output_type": "stream",
     "text": [
      "Using CPU. Note: This module is much faster with a GPU.\n",
      "Using CPU. Note: This module is much faster with a GPU.\n"
     ]
    },
    {
     "name": "stdout",
     "output_type": "stream",
     "text": [
      "\n",
      "0: 384x640 26 cars, 1 bus, 4 trucks, 180.8ms\n",
      "Speed: 5.6ms preprocess, 180.8ms inference, 5.1ms postprocess per image at shape (1, 3, 384, 640)\n",
      "\n",
      "0: 384x640 1 alpaca, 201.7ms\n",
      "Speed: 3.0ms preprocess, 201.7ms inference, 1.0ms postprocess per image at shape (1, 3, 384, 640)\n"
     ]
    },
    {
     "name": "stderr",
     "output_type": "stream",
     "text": [
      "Using CPU. Note: This module is much faster with a GPU.\n"
     ]
    },
    {
     "name": "stdout",
     "output_type": "stream",
     "text": [
      "\n",
      "0: 384x640 21 cars, 1 bus, 3 trucks, 118.0ms\n",
      "Speed: 3.5ms preprocess, 118.0ms inference, 1.6ms postprocess per image at shape (1, 3, 384, 640)\n",
      "\n",
      "0: 384x640 1 alpaca, 89.4ms\n",
      "Speed: 2.4ms preprocess, 89.4ms inference, 1.0ms postprocess per image at shape (1, 3, 384, 640)\n"
     ]
    },
    {
     "name": "stderr",
     "output_type": "stream",
     "text": [
      "Using CPU. Note: This module is much faster with a GPU.\n"
     ]
    },
    {
     "name": "stdout",
     "output_type": "stream",
     "text": [
      "\n",
      "0: 384x640 22 cars, 1 bus, 3 trucks, 93.2ms\n",
      "Speed: 4.1ms preprocess, 93.2ms inference, 1.9ms postprocess per image at shape (1, 3, 384, 640)\n",
      "\n",
      "0: 384x640 2 alpacas, 85.6ms\n",
      "Speed: 2.0ms preprocess, 85.6ms inference, 0.0ms postprocess per image at shape (1, 3, 384, 640)\n"
     ]
    },
    {
     "name": "stderr",
     "output_type": "stream",
     "text": [
      "Using CPU. Note: This module is much faster with a GPU.\n",
      "Using CPU. Note: This module is much faster with a GPU.\n"
     ]
    },
    {
     "name": "stdout",
     "output_type": "stream",
     "text": [
      "\n",
      "0: 384x640 21 cars, 1 bus, 2 trucks, 125.4ms\n",
      "Speed: 4.2ms preprocess, 125.4ms inference, 2.0ms postprocess per image at shape (1, 3, 384, 640)\n",
      "\n",
      "0: 384x640 1 alpaca, 96.6ms\n",
      "Speed: 2.3ms preprocess, 96.6ms inference, 0.0ms postprocess per image at shape (1, 3, 384, 640)\n"
     ]
    },
    {
     "name": "stderr",
     "output_type": "stream",
     "text": [
      "Using CPU. Note: This module is much faster with a GPU.\n"
     ]
    },
    {
     "name": "stdout",
     "output_type": "stream",
     "text": [
      "\n",
      "0: 384x640 19 cars, 1 bus, 2 trucks, 176.6ms\n",
      "Speed: 4.3ms preprocess, 176.6ms inference, 6.2ms postprocess per image at shape (1, 3, 384, 640)\n",
      "\n",
      "0: 384x640 2 alpacas, 202.4ms\n",
      "Speed: 3.0ms preprocess, 202.4ms inference, 1.7ms postprocess per image at shape (1, 3, 384, 640)\n"
     ]
    },
    {
     "name": "stderr",
     "output_type": "stream",
     "text": [
      "Using CPU. Note: This module is much faster with a GPU.\n",
      "Using CPU. Note: This module is much faster with a GPU.\n"
     ]
    },
    {
     "name": "stdout",
     "output_type": "stream",
     "text": [
      "\n",
      "0: 384x640 20 cars, 1 bus, 2 trucks, 99.2ms\n",
      "Speed: 3.0ms preprocess, 99.2ms inference, 1.0ms postprocess per image at shape (1, 3, 384, 640)\n",
      "\n",
      "0: 384x640 2 alpacas, 89.2ms\n",
      "Speed: 1.0ms preprocess, 89.2ms inference, 1.0ms postprocess per image at shape (1, 3, 384, 640)\n"
     ]
    },
    {
     "name": "stderr",
     "output_type": "stream",
     "text": [
      "Using CPU. Note: This module is much faster with a GPU.\n",
      "Using CPU. Note: This module is much faster with a GPU.\n"
     ]
    },
    {
     "name": "stdout",
     "output_type": "stream",
     "text": [
      "\n",
      "0: 384x640 22 cars, 1 bus, 2 trucks, 213.6ms\n",
      "Speed: 4.5ms preprocess, 213.6ms inference, 5.8ms postprocess per image at shape (1, 3, 384, 640)\n",
      "\n",
      "0: 384x640 2 alpacas, 200.9ms\n",
      "Speed: 3.0ms preprocess, 200.9ms inference, 1.0ms postprocess per image at shape (1, 3, 384, 640)\n"
     ]
    },
    {
     "name": "stderr",
     "output_type": "stream",
     "text": [
      "Using CPU. Note: This module is much faster with a GPU.\n",
      "Using CPU. Note: This module is much faster with a GPU.\n"
     ]
    },
    {
     "name": "stdout",
     "output_type": "stream",
     "text": [
      "\n",
      "0: 384x640 21 cars, 1 bus, 2 trucks, 104.1ms\n",
      "Speed: 4.0ms preprocess, 104.1ms inference, 1.6ms postprocess per image at shape (1, 3, 384, 640)\n",
      "\n",
      "0: 384x640 1 alpaca, 88.2ms\n",
      "Speed: 3.7ms preprocess, 88.2ms inference, 1.0ms postprocess per image at shape (1, 3, 384, 640)\n"
     ]
    },
    {
     "name": "stderr",
     "output_type": "stream",
     "text": [
      "Using CPU. Note: This module is much faster with a GPU.\n"
     ]
    },
    {
     "name": "stdout",
     "output_type": "stream",
     "text": [
      "\n",
      "0: 384x640 21 cars, 1 bus, 2 trucks, 97.0ms\n",
      "Speed: 3.0ms preprocess, 97.0ms inference, 1.9ms postprocess per image at shape (1, 3, 384, 640)\n",
      "\n",
      "0: 384x640 1 alpaca, 87.8ms\n",
      "Speed: 2.0ms preprocess, 87.8ms inference, 0.9ms postprocess per image at shape (1, 3, 384, 640)\n"
     ]
    },
    {
     "name": "stderr",
     "output_type": "stream",
     "text": [
      "Using CPU. Note: This module is much faster with a GPU.\n"
     ]
    },
    {
     "name": "stdout",
     "output_type": "stream",
     "text": [
      "\n",
      "0: 384x640 21 cars, 1 bus, 2 trucks, 127.6ms\n",
      "Speed: 4.2ms preprocess, 127.6ms inference, 1.0ms postprocess per image at shape (1, 3, 384, 640)\n",
      "\n",
      "0: 384x640 1 alpaca, 102.4ms\n",
      "Speed: 2.4ms preprocess, 102.4ms inference, 0.0ms postprocess per image at shape (1, 3, 384, 640)\n"
     ]
    },
    {
     "name": "stderr",
     "output_type": "stream",
     "text": [
      "Using CPU. Note: This module is much faster with a GPU.\n"
     ]
    },
    {
     "name": "stdout",
     "output_type": "stream",
     "text": [
      "\n",
      "0: 384x640 20 cars, 1 bus, 2 trucks, 120.1ms\n",
      "Speed: 4.5ms preprocess, 120.1ms inference, 1.0ms postprocess per image at shape (1, 3, 384, 640)\n",
      "\n",
      "0: 384x640 1 alpaca, 118.6ms\n",
      "Speed: 3.9ms preprocess, 118.6ms inference, 1.0ms postprocess per image at shape (1, 3, 384, 640)\n"
     ]
    },
    {
     "name": "stderr",
     "output_type": "stream",
     "text": [
      "Using CPU. Note: This module is much faster with a GPU.\n"
     ]
    },
    {
     "name": "stdout",
     "output_type": "stream",
     "text": [
      "\n",
      "0: 384x640 20 cars, 1 bus, 2 trucks, 113.4ms\n",
      "Speed: 4.1ms preprocess, 113.4ms inference, 2.0ms postprocess per image at shape (1, 3, 384, 640)\n",
      "\n",
      "0: 384x640 2 alpacas, 95.4ms\n",
      "Speed: 2.0ms preprocess, 95.4ms inference, 0.0ms postprocess per image at shape (1, 3, 384, 640)\n"
     ]
    },
    {
     "name": "stderr",
     "output_type": "stream",
     "text": [
      "Using CPU. Note: This module is much faster with a GPU.\n",
      "Using CPU. Note: This module is much faster with a GPU.\n"
     ]
    },
    {
     "name": "stdout",
     "output_type": "stream",
     "text": [
      "\n",
      "0: 384x640 22 cars, 1 bus, 2 trucks, 110.1ms\n",
      "Speed: 4.0ms preprocess, 110.1ms inference, 1.1ms postprocess per image at shape (1, 3, 384, 640)\n",
      "\n",
      "0: 384x640 1 alpaca, 87.6ms\n",
      "Speed: 1.0ms preprocess, 87.6ms inference, 1.0ms postprocess per image at shape (1, 3, 384, 640)\n"
     ]
    },
    {
     "name": "stderr",
     "output_type": "stream",
     "text": [
      "Using CPU. Note: This module is much faster with a GPU.\n"
     ]
    },
    {
     "name": "stdout",
     "output_type": "stream",
     "text": [
      "\n",
      "0: 384x640 22 cars, 1 bus, 2 trucks, 114.9ms\n",
      "Speed: 2.0ms preprocess, 114.9ms inference, 1.0ms postprocess per image at shape (1, 3, 384, 640)\n",
      "\n",
      "0: 384x640 1 alpaca, 99.7ms\n",
      "Speed: 2.0ms preprocess, 99.7ms inference, 0.0ms postprocess per image at shape (1, 3, 384, 640)\n"
     ]
    },
    {
     "name": "stderr",
     "output_type": "stream",
     "text": [
      "Using CPU. Note: This module is much faster with a GPU.\n"
     ]
    },
    {
     "name": "stdout",
     "output_type": "stream",
     "text": [
      "\n",
      "0: 384x640 22 cars, 1 bus, 2 trucks, 125.1ms\n",
      "Speed: 4.7ms preprocess, 125.1ms inference, 1.1ms postprocess per image at shape (1, 3, 384, 640)\n",
      "\n",
      "0: 384x640 1 alpaca, 120.6ms\n",
      "Speed: 2.2ms preprocess, 120.6ms inference, 0.0ms postprocess per image at shape (1, 3, 384, 640)\n"
     ]
    },
    {
     "name": "stderr",
     "output_type": "stream",
     "text": [
      "Using CPU. Note: This module is much faster with a GPU.\n"
     ]
    },
    {
     "name": "stdout",
     "output_type": "stream",
     "text": [
      "\n",
      "0: 384x640 22 cars, 1 bus, 2 trucks, 99.2ms\n",
      "Speed: 5.5ms preprocess, 99.2ms inference, 2.1ms postprocess per image at shape (1, 3, 384, 640)\n",
      "\n",
      "0: 384x640 1 alpaca, 90.8ms\n",
      "Speed: 1.9ms preprocess, 90.8ms inference, 1.0ms postprocess per image at shape (1, 3, 384, 640)\n"
     ]
    },
    {
     "name": "stderr",
     "output_type": "stream",
     "text": [
      "Using CPU. Note: This module is much faster with a GPU.\n"
     ]
    },
    {
     "name": "stdout",
     "output_type": "stream",
     "text": [
      "\n",
      "0: 384x640 22 cars, 1 bus, 2 trucks, 98.1ms\n",
      "Speed: 4.0ms preprocess, 98.1ms inference, 1.0ms postprocess per image at shape (1, 3, 384, 640)\n",
      "\n",
      "0: 384x640 2 alpacas, 88.4ms\n",
      "Speed: 2.0ms preprocess, 88.4ms inference, 0.0ms postprocess per image at shape (1, 3, 384, 640)\n"
     ]
    },
    {
     "name": "stderr",
     "output_type": "stream",
     "text": [
      "Using CPU. Note: This module is much faster with a GPU.\n",
      "Using CPU. Note: This module is much faster with a GPU.\n"
     ]
    },
    {
     "name": "stdout",
     "output_type": "stream",
     "text": [
      "\n",
      "0: 384x640 24 cars, 1 bus, 2 trucks, 187.6ms\n",
      "Speed: 4.0ms preprocess, 187.6ms inference, 6.6ms postprocess per image at shape (1, 3, 384, 640)\n",
      "\n",
      "0: 384x640 1 alpaca, 207.1ms\n",
      "Speed: 4.0ms preprocess, 207.1ms inference, 1.0ms postprocess per image at shape (1, 3, 384, 640)\n"
     ]
    },
    {
     "name": "stderr",
     "output_type": "stream",
     "text": [
      "Using CPU. Note: This module is much faster with a GPU.\n"
     ]
    },
    {
     "name": "stdout",
     "output_type": "stream",
     "text": [
      "\n",
      "0: 384x640 24 cars, 2 trucks, 127.2ms\n",
      "Speed: 4.9ms preprocess, 127.2ms inference, 4.5ms postprocess per image at shape (1, 3, 384, 640)\n",
      "\n",
      "0: 384x640 2 alpacas, 108.2ms\n",
      "Speed: 3.1ms preprocess, 108.2ms inference, 0.0ms postprocess per image at shape (1, 3, 384, 640)\n"
     ]
    },
    {
     "name": "stderr",
     "output_type": "stream",
     "text": [
      "Using CPU. Note: This module is much faster with a GPU.\n",
      "Using CPU. Note: This module is much faster with a GPU.\n"
     ]
    },
    {
     "name": "stdout",
     "output_type": "stream",
     "text": [
      "\n",
      "0: 384x640 23 cars, 2 trucks, 99.2ms\n",
      "Speed: 2.6ms preprocess, 99.2ms inference, 2.0ms postprocess per image at shape (1, 3, 384, 640)\n",
      "\n",
      "0: 384x640 2 alpacas, 89.5ms\n",
      "Speed: 1.9ms preprocess, 89.5ms inference, 0.0ms postprocess per image at shape (1, 3, 384, 640)\n"
     ]
    },
    {
     "name": "stderr",
     "output_type": "stream",
     "text": [
      "Using CPU. Note: This module is much faster with a GPU.\n",
      "Using CPU. Note: This module is much faster with a GPU.\n"
     ]
    },
    {
     "name": "stdout",
     "output_type": "stream",
     "text": [
      "\n",
      "0: 384x640 22 cars, 2 trucks, 122.6ms\n",
      "Speed: 2.8ms preprocess, 122.6ms inference, 2.1ms postprocess per image at shape (1, 3, 384, 640)\n",
      "\n",
      "0: 384x640 2 alpacas, 105.0ms\n",
      "Speed: 0.9ms preprocess, 105.0ms inference, 0.0ms postprocess per image at shape (1, 3, 384, 640)\n"
     ]
    },
    {
     "name": "stderr",
     "output_type": "stream",
     "text": [
      "Using CPU. Note: This module is much faster with a GPU.\n",
      "Using CPU. Note: This module is much faster with a GPU.\n"
     ]
    },
    {
     "name": "stdout",
     "output_type": "stream",
     "text": [
      "\n",
      "0: 384x640 19 cars, 2 trucks, 97.9ms\n",
      "Speed: 2.0ms preprocess, 97.9ms inference, 1.0ms postprocess per image at shape (1, 3, 384, 640)\n",
      "\n",
      "0: 384x640 2 alpacas, 86.5ms\n",
      "Speed: 2.0ms preprocess, 86.5ms inference, 1.1ms postprocess per image at shape (1, 3, 384, 640)\n"
     ]
    },
    {
     "name": "stderr",
     "output_type": "stream",
     "text": [
      "Using CPU. Note: This module is much faster with a GPU.\n",
      "Using CPU. Note: This module is much faster with a GPU.\n"
     ]
    },
    {
     "name": "stdout",
     "output_type": "stream",
     "text": [
      "\n",
      "0: 384x640 19 cars, 2 trucks, 109.9ms\n",
      "Speed: 2.0ms preprocess, 109.9ms inference, 1.6ms postprocess per image at shape (1, 3, 384, 640)\n",
      "\n",
      "0: 384x640 1 alpaca, 97.0ms\n",
      "Speed: 2.6ms preprocess, 97.0ms inference, 0.0ms postprocess per image at shape (1, 3, 384, 640)\n"
     ]
    },
    {
     "name": "stderr",
     "output_type": "stream",
     "text": [
      "Using CPU. Note: This module is much faster with a GPU.\n"
     ]
    },
    {
     "name": "stdout",
     "output_type": "stream",
     "text": [
      "\n",
      "0: 384x640 21 cars, 2 trucks, 120.8ms\n",
      "Speed: 3.4ms preprocess, 120.8ms inference, 2.0ms postprocess per image at shape (1, 3, 384, 640)\n",
      "\n",
      "0: 384x640 1 alpaca, 110.2ms\n",
      "Speed: 3.1ms preprocess, 110.2ms inference, 1.8ms postprocess per image at shape (1, 3, 384, 640)\n"
     ]
    },
    {
     "name": "stderr",
     "output_type": "stream",
     "text": [
      "Using CPU. Note: This module is much faster with a GPU.\n"
     ]
    },
    {
     "name": "stdout",
     "output_type": "stream",
     "text": [
      "\n",
      "0: 384x640 22 cars, 2 trucks, 108.2ms\n",
      "Speed: 2.1ms preprocess, 108.2ms inference, 2.1ms postprocess per image at shape (1, 3, 384, 640)\n",
      "\n",
      "0: 384x640 2 alpacas, 97.6ms\n",
      "Speed: 3.0ms preprocess, 97.6ms inference, 0.0ms postprocess per image at shape (1, 3, 384, 640)\n"
     ]
    },
    {
     "name": "stderr",
     "output_type": "stream",
     "text": [
      "Using CPU. Note: This module is much faster with a GPU.\n",
      "Using CPU. Note: This module is much faster with a GPU.\n"
     ]
    },
    {
     "name": "stdout",
     "output_type": "stream",
     "text": [
      "\n",
      "0: 384x640 20 cars, 3 trucks, 99.8ms\n",
      "Speed: 2.0ms preprocess, 99.8ms inference, 2.0ms postprocess per image at shape (1, 3, 384, 640)\n",
      "\n",
      "0: 384x640 2 alpacas, 85.6ms\n",
      "Speed: 2.0ms preprocess, 85.6ms inference, 1.0ms postprocess per image at shape (1, 3, 384, 640)\n"
     ]
    },
    {
     "name": "stderr",
     "output_type": "stream",
     "text": [
      "Using CPU. Note: This module is much faster with a GPU.\n",
      "Using CPU. Note: This module is much faster with a GPU.\n"
     ]
    },
    {
     "name": "stdout",
     "output_type": "stream",
     "text": [
      "\n",
      "0: 384x640 17 cars, 3 trucks, 327.1ms\n",
      "Speed: 6.7ms preprocess, 327.1ms inference, 8.8ms postprocess per image at shape (1, 3, 384, 640)\n",
      "\n",
      "0: 384x640 2 alpacas, 105.3ms\n",
      "Speed: 4.4ms preprocess, 105.3ms inference, 0.0ms postprocess per image at shape (1, 3, 384, 640)\n"
     ]
    },
    {
     "name": "stderr",
     "output_type": "stream",
     "text": [
      "Using CPU. Note: This module is much faster with a GPU.\n",
      "Using CPU. Note: This module is much faster with a GPU.\n"
     ]
    },
    {
     "name": "stdout",
     "output_type": "stream",
     "text": [
      "\n",
      "0: 384x640 17 cars, 2 trucks, 100.9ms\n",
      "Speed: 2.0ms preprocess, 100.9ms inference, 1.0ms postprocess per image at shape (1, 3, 384, 640)\n",
      "\n",
      "0: 384x640 2 alpacas, 88.4ms\n",
      "Speed: 1.7ms preprocess, 88.4ms inference, 0.0ms postprocess per image at shape (1, 3, 384, 640)\n"
     ]
    },
    {
     "name": "stderr",
     "output_type": "stream",
     "text": [
      "Using CPU. Note: This module is much faster with a GPU.\n",
      "Using CPU. Note: This module is much faster with a GPU.\n"
     ]
    },
    {
     "name": "stdout",
     "output_type": "stream",
     "text": [
      "\n",
      "0: 384x640 15 cars, 3 trucks, 96.8ms\n",
      "Speed: 3.0ms preprocess, 96.8ms inference, 1.0ms postprocess per image at shape (1, 3, 384, 640)\n",
      "\n",
      "0: 384x640 1 alpaca, 87.0ms\n",
      "Speed: 1.0ms preprocess, 87.0ms inference, 0.5ms postprocess per image at shape (1, 3, 384, 640)\n"
     ]
    },
    {
     "name": "stderr",
     "output_type": "stream",
     "text": [
      "Using CPU. Note: This module is much faster with a GPU.\n"
     ]
    },
    {
     "name": "stdout",
     "output_type": "stream",
     "text": [
      "\n",
      "0: 384x640 18 cars, 3 trucks, 103.2ms\n",
      "Speed: 4.2ms preprocess, 103.2ms inference, 1.0ms postprocess per image at shape (1, 3, 384, 640)\n",
      "\n",
      "0: 384x640 2 alpacas, 116.7ms\n",
      "Speed: 3.0ms preprocess, 116.7ms inference, 1.0ms postprocess per image at shape (1, 3, 384, 640)\n"
     ]
    },
    {
     "name": "stderr",
     "output_type": "stream",
     "text": [
      "Using CPU. Note: This module is much faster with a GPU.\n",
      "Using CPU. Note: This module is much faster with a GPU.\n"
     ]
    },
    {
     "name": "stdout",
     "output_type": "stream",
     "text": [
      "\n",
      "0: 384x640 19 cars, 3 trucks, 107.6ms\n",
      "Speed: 3.6ms preprocess, 107.6ms inference, 1.0ms postprocess per image at shape (1, 3, 384, 640)\n",
      "\n",
      "0: 384x640 2 alpacas, 86.2ms\n",
      "Speed: 2.5ms preprocess, 86.2ms inference, 0.0ms postprocess per image at shape (1, 3, 384, 640)\n"
     ]
    },
    {
     "name": "stderr",
     "output_type": "stream",
     "text": [
      "Using CPU. Note: This module is much faster with a GPU.\n",
      "Using CPU. Note: This module is much faster with a GPU.\n"
     ]
    },
    {
     "name": "stdout",
     "output_type": "stream",
     "text": [
      "\n",
      "0: 384x640 21 cars, 3 trucks, 105.2ms\n",
      "Speed: 5.0ms preprocess, 105.2ms inference, 2.0ms postprocess per image at shape (1, 3, 384, 640)\n",
      "\n",
      "0: 384x640 2 alpacas, 95.9ms\n",
      "Speed: 3.5ms preprocess, 95.9ms inference, 0.0ms postprocess per image at shape (1, 3, 384, 640)\n"
     ]
    },
    {
     "name": "stderr",
     "output_type": "stream",
     "text": [
      "Using CPU. Note: This module is much faster with a GPU.\n",
      "Using CPU. Note: This module is much faster with a GPU.\n"
     ]
    },
    {
     "name": "stdout",
     "output_type": "stream",
     "text": [
      "\n",
      "0: 384x640 20 cars, 2 trucks, 99.6ms\n",
      "Speed: 4.5ms preprocess, 99.6ms inference, 1.7ms postprocess per image at shape (1, 3, 384, 640)\n",
      "\n",
      "0: 384x640 2 alpacas, 91.4ms\n",
      "Speed: 2.0ms preprocess, 91.4ms inference, 0.0ms postprocess per image at shape (1, 3, 384, 640)\n"
     ]
    },
    {
     "name": "stderr",
     "output_type": "stream",
     "text": [
      "Using CPU. Note: This module is much faster with a GPU.\n",
      "Using CPU. Note: This module is much faster with a GPU.\n"
     ]
    },
    {
     "name": "stdout",
     "output_type": "stream",
     "text": [
      "\n",
      "0: 384x640 23 cars, 3 trucks, 104.3ms\n",
      "Speed: 4.0ms preprocess, 104.3ms inference, 2.0ms postprocess per image at shape (1, 3, 384, 640)\n",
      "\n",
      "0: 384x640 2 alpacas, 86.0ms\n",
      "Speed: 2.0ms preprocess, 86.0ms inference, 0.0ms postprocess per image at shape (1, 3, 384, 640)\n"
     ]
    },
    {
     "name": "stderr",
     "output_type": "stream",
     "text": [
      "Using CPU. Note: This module is much faster with a GPU.\n",
      "Using CPU. Note: This module is much faster with a GPU.\n"
     ]
    },
    {
     "name": "stdout",
     "output_type": "stream",
     "text": [
      "\n",
      "0: 384x640 19 cars, 3 trucks, 128.8ms\n",
      "Speed: 4.4ms preprocess, 128.8ms inference, 3.0ms postprocess per image at shape (1, 3, 384, 640)\n",
      "\n",
      "0: 384x640 2 alpacas, 142.3ms\n",
      "Speed: 3.1ms preprocess, 142.3ms inference, 0.0ms postprocess per image at shape (1, 3, 384, 640)\n"
     ]
    },
    {
     "name": "stderr",
     "output_type": "stream",
     "text": [
      "Using CPU. Note: This module is much faster with a GPU.\n",
      "Using CPU. Note: This module is much faster with a GPU.\n"
     ]
    },
    {
     "name": "stdout",
     "output_type": "stream",
     "text": [
      "\n",
      "0: 384x640 19 cars, 3 trucks, 98.7ms\n",
      "Speed: 3.0ms preprocess, 98.7ms inference, 2.0ms postprocess per image at shape (1, 3, 384, 640)\n",
      "\n",
      "0: 384x640 2 alpacas, 88.0ms\n",
      "Speed: 2.0ms preprocess, 88.0ms inference, 0.6ms postprocess per image at shape (1, 3, 384, 640)\n"
     ]
    },
    {
     "name": "stderr",
     "output_type": "stream",
     "text": [
      "Using CPU. Note: This module is much faster with a GPU.\n",
      "Using CPU. Note: This module is much faster with a GPU.\n"
     ]
    },
    {
     "name": "stdout",
     "output_type": "stream",
     "text": [
      "\n",
      "0: 384x640 19 cars, 2 trucks, 99.8ms\n",
      "Speed: 3.0ms preprocess, 99.8ms inference, 1.9ms postprocess per image at shape (1, 3, 384, 640)\n",
      "\n",
      "0: 384x640 2 alpacas, 88.9ms\n",
      "Speed: 1.6ms preprocess, 88.9ms inference, 0.0ms postprocess per image at shape (1, 3, 384, 640)\n"
     ]
    },
    {
     "name": "stderr",
     "output_type": "stream",
     "text": [
      "Using CPU. Note: This module is much faster with a GPU.\n",
      "Using CPU. Note: This module is much faster with a GPU.\n"
     ]
    },
    {
     "name": "stdout",
     "output_type": "stream",
     "text": [
      "\n",
      "0: 384x640 18 cars, 2 trucks, 227.8ms\n",
      "Speed: 4.3ms preprocess, 227.8ms inference, 5.4ms postprocess per image at shape (1, 3, 384, 640)\n",
      "\n",
      "0: 384x640 3 alpacas, 211.1ms\n",
      "Speed: 3.8ms preprocess, 211.1ms inference, 0.7ms postprocess per image at shape (1, 3, 384, 640)\n"
     ]
    },
    {
     "name": "stderr",
     "output_type": "stream",
     "text": [
      "Using CPU. Note: This module is much faster with a GPU.\n",
      "Using CPU. Note: This module is much faster with a GPU.\n",
      "Using CPU. Note: This module is much faster with a GPU.\n"
     ]
    },
    {
     "name": "stdout",
     "output_type": "stream",
     "text": [
      "\n",
      "0: 384x640 18 cars, 2 trucks, 116.4ms\n",
      "Speed: 3.2ms preprocess, 116.4ms inference, 2.0ms postprocess per image at shape (1, 3, 384, 640)\n",
      "\n",
      "0: 384x640 2 alpacas, 98.9ms\n",
      "Speed: 2.5ms preprocess, 98.9ms inference, 0.0ms postprocess per image at shape (1, 3, 384, 640)\n"
     ]
    },
    {
     "name": "stderr",
     "output_type": "stream",
     "text": [
      "Using CPU. Note: This module is much faster with a GPU.\n",
      "Using CPU. Note: This module is much faster with a GPU.\n"
     ]
    },
    {
     "name": "stdout",
     "output_type": "stream",
     "text": [
      "\n",
      "0: 384x640 16 cars, 2 trucks, 132.6ms\n",
      "Speed: 2.0ms preprocess, 132.6ms inference, 2.0ms postprocess per image at shape (1, 3, 384, 640)\n",
      "\n",
      "0: 384x640 3 alpacas, 109.4ms\n",
      "Speed: 2.1ms preprocess, 109.4ms inference, 0.0ms postprocess per image at shape (1, 3, 384, 640)\n"
     ]
    },
    {
     "name": "stderr",
     "output_type": "stream",
     "text": [
      "Using CPU. Note: This module is much faster with a GPU.\n",
      "Using CPU. Note: This module is much faster with a GPU.\n",
      "Using CPU. Note: This module is much faster with a GPU.\n"
     ]
    },
    {
     "name": "stdout",
     "output_type": "stream",
     "text": [
      "\n",
      "0: 384x640 18 cars, 2 trucks, 125.8ms\n",
      "Speed: 4.6ms preprocess, 125.8ms inference, 1.0ms postprocess per image at shape (1, 3, 384, 640)\n",
      "\n",
      "0: 384x640 2 alpacas, 104.3ms\n",
      "Speed: 2.0ms preprocess, 104.3ms inference, 0.0ms postprocess per image at shape (1, 3, 384, 640)\n"
     ]
    },
    {
     "name": "stderr",
     "output_type": "stream",
     "text": [
      "Using CPU. Note: This module is much faster with a GPU.\n",
      "Using CPU. Note: This module is much faster with a GPU.\n"
     ]
    },
    {
     "name": "stdout",
     "output_type": "stream",
     "text": [
      "\n",
      "0: 384x640 18 cars, 2 trucks, 107.5ms\n",
      "Speed: 2.0ms preprocess, 107.5ms inference, 2.0ms postprocess per image at shape (1, 3, 384, 640)\n",
      "\n",
      "0: 384x640 2 alpacas, 85.7ms\n",
      "Speed: 2.9ms preprocess, 85.7ms inference, 0.0ms postprocess per image at shape (1, 3, 384, 640)\n"
     ]
    },
    {
     "name": "stderr",
     "output_type": "stream",
     "text": [
      "Using CPU. Note: This module is much faster with a GPU.\n",
      "Using CPU. Note: This module is much faster with a GPU.\n"
     ]
    },
    {
     "name": "stdout",
     "output_type": "stream",
     "text": [
      "\n",
      "0: 384x640 17 cars, 2 trucks, 109.2ms\n",
      "Speed: 5.0ms preprocess, 109.2ms inference, 2.0ms postprocess per image at shape (1, 3, 384, 640)\n",
      "\n",
      "0: 384x640 1 alpaca, 87.3ms\n",
      "Speed: 2.0ms preprocess, 87.3ms inference, 0.0ms postprocess per image at shape (1, 3, 384, 640)\n"
     ]
    },
    {
     "name": "stderr",
     "output_type": "stream",
     "text": [
      "Using CPU. Note: This module is much faster with a GPU.\n"
     ]
    },
    {
     "name": "stdout",
     "output_type": "stream",
     "text": [
      "\n",
      "0: 384x640 17 cars, 2 trucks, 227.0ms\n",
      "Speed: 4.5ms preprocess, 227.0ms inference, 5.6ms postprocess per image at shape (1, 3, 384, 640)\n",
      "\n",
      "0: 384x640 2 alpacas, 191.0ms\n",
      "Speed: 4.1ms preprocess, 191.0ms inference, 1.2ms postprocess per image at shape (1, 3, 384, 640)\n"
     ]
    },
    {
     "name": "stderr",
     "output_type": "stream",
     "text": [
      "Using CPU. Note: This module is much faster with a GPU.\n",
      "Using CPU. Note: This module is much faster with a GPU.\n"
     ]
    },
    {
     "name": "stdout",
     "output_type": "stream",
     "text": [
      "\n",
      "0: 384x640 18 cars, 2 trucks, 248.4ms\n",
      "Speed: 5.7ms preprocess, 248.4ms inference, 6.3ms postprocess per image at shape (1, 3, 384, 640)\n",
      "\n",
      "0: 384x640 2 alpacas, 211.8ms\n",
      "Speed: 3.7ms preprocess, 211.8ms inference, 1.6ms postprocess per image at shape (1, 3, 384, 640)\n"
     ]
    },
    {
     "name": "stderr",
     "output_type": "stream",
     "text": [
      "Using CPU. Note: This module is much faster with a GPU.\n",
      "Using CPU. Note: This module is much faster with a GPU.\n"
     ]
    },
    {
     "name": "stdout",
     "output_type": "stream",
     "text": [
      "\n",
      "0: 384x640 17 cars, 2 trucks, 95.9ms\n",
      "Speed: 2.7ms preprocess, 95.9ms inference, 1.0ms postprocess per image at shape (1, 3, 384, 640)\n",
      "\n",
      "0: 384x640 2 alpacas, 90.0ms\n",
      "Speed: 3.0ms preprocess, 90.0ms inference, 0.0ms postprocess per image at shape (1, 3, 384, 640)\n"
     ]
    },
    {
     "name": "stderr",
     "output_type": "stream",
     "text": [
      "Using CPU. Note: This module is much faster with a GPU.\n",
      "Using CPU. Note: This module is much faster with a GPU.\n"
     ]
    },
    {
     "name": "stdout",
     "output_type": "stream",
     "text": [
      "\n",
      "0: 384x640 17 cars, 2 trucks, 102.1ms\n",
      "Speed: 2.9ms preprocess, 102.1ms inference, 2.0ms postprocess per image at shape (1, 3, 384, 640)\n",
      "\n",
      "0: 384x640 2 alpacas, 99.6ms\n",
      "Speed: 1.6ms preprocess, 99.6ms inference, 0.9ms postprocess per image at shape (1, 3, 384, 640)\n"
     ]
    },
    {
     "name": "stderr",
     "output_type": "stream",
     "text": [
      "Using CPU. Note: This module is much faster with a GPU.\n",
      "Using CPU. Note: This module is much faster with a GPU.\n"
     ]
    },
    {
     "name": "stdout",
     "output_type": "stream",
     "text": [
      "\n",
      "0: 384x640 17 cars, 2 trucks, 98.7ms\n",
      "Speed: 3.6ms preprocess, 98.7ms inference, 1.9ms postprocess per image at shape (1, 3, 384, 640)\n",
      "\n",
      "0: 384x640 2 alpacas, 86.4ms\n",
      "Speed: 2.2ms preprocess, 86.4ms inference, 0.0ms postprocess per image at shape (1, 3, 384, 640)\n"
     ]
    },
    {
     "name": "stderr",
     "output_type": "stream",
     "text": [
      "Using CPU. Note: This module is much faster with a GPU.\n",
      "Using CPU. Note: This module is much faster with a GPU.\n"
     ]
    },
    {
     "name": "stdout",
     "output_type": "stream",
     "text": [
      "\n",
      "0: 384x640 17 cars, 2 trucks, 120.8ms\n",
      "Speed: 3.6ms preprocess, 120.8ms inference, 2.1ms postprocess per image at shape (1, 3, 384, 640)\n",
      "\n",
      "0: 384x640 2 alpacas, 110.2ms\n",
      "Speed: 3.3ms preprocess, 110.2ms inference, 1.0ms postprocess per image at shape (1, 3, 384, 640)\n"
     ]
    },
    {
     "name": "stderr",
     "output_type": "stream",
     "text": [
      "Using CPU. Note: This module is much faster with a GPU.\n",
      "Using CPU. Note: This module is much faster with a GPU.\n"
     ]
    },
    {
     "name": "stdout",
     "output_type": "stream",
     "text": [
      "\n",
      "0: 384x640 17 cars, 2 trucks, 113.7ms\n",
      "Speed: 4.6ms preprocess, 113.7ms inference, 1.0ms postprocess per image at shape (1, 3, 384, 640)\n",
      "\n",
      "0: 384x640 2 alpacas, 87.5ms\n",
      "Speed: 2.6ms preprocess, 87.5ms inference, 0.0ms postprocess per image at shape (1, 3, 384, 640)\n"
     ]
    },
    {
     "name": "stderr",
     "output_type": "stream",
     "text": [
      "Using CPU. Note: This module is much faster with a GPU.\n",
      "Using CPU. Note: This module is much faster with a GPU.\n"
     ]
    },
    {
     "name": "stdout",
     "output_type": "stream",
     "text": [
      "\n",
      "0: 384x640 17 cars, 3 trucks, 110.1ms\n",
      "Speed: 3.6ms preprocess, 110.1ms inference, 2.0ms postprocess per image at shape (1, 3, 384, 640)\n",
      "\n",
      "0: 384x640 2 alpacas, 97.9ms\n",
      "Speed: 1.9ms preprocess, 97.9ms inference, 0.0ms postprocess per image at shape (1, 3, 384, 640)\n"
     ]
    },
    {
     "name": "stderr",
     "output_type": "stream",
     "text": [
      "Using CPU. Note: This module is much faster with a GPU.\n",
      "Using CPU. Note: This module is much faster with a GPU.\n"
     ]
    },
    {
     "name": "stdout",
     "output_type": "stream",
     "text": [
      "\n",
      "0: 384x640 17 cars, 3 trucks, 132.2ms\n",
      "Speed: 2.7ms preprocess, 132.2ms inference, 2.0ms postprocess per image at shape (1, 3, 384, 640)\n",
      "\n",
      "0: 384x640 2 alpacas, 165.2ms\n",
      "Speed: 2.0ms preprocess, 165.2ms inference, 0.0ms postprocess per image at shape (1, 3, 384, 640)\n"
     ]
    },
    {
     "name": "stderr",
     "output_type": "stream",
     "text": [
      "Using CPU. Note: This module is much faster with a GPU.\n",
      "Using CPU. Note: This module is much faster with a GPU.\n"
     ]
    },
    {
     "name": "stdout",
     "output_type": "stream",
     "text": [
      "\n",
      "0: 384x640 16 cars, 3 trucks, 203.4ms\n",
      "Speed: 3.4ms preprocess, 203.4ms inference, 6.8ms postprocess per image at shape (1, 3, 384, 640)\n",
      "\n",
      "0: 384x640 2 alpacas, 197.4ms\n",
      "Speed: 3.0ms preprocess, 197.4ms inference, 1.0ms postprocess per image at shape (1, 3, 384, 640)\n"
     ]
    },
    {
     "name": "stderr",
     "output_type": "stream",
     "text": [
      "Using CPU. Note: This module is much faster with a GPU.\n",
      "Using CPU. Note: This module is much faster with a GPU.\n"
     ]
    },
    {
     "name": "stdout",
     "output_type": "stream",
     "text": [
      "\n",
      "0: 384x640 19 cars, 2 trucks, 241.7ms\n",
      "Speed: 3.5ms preprocess, 241.7ms inference, 5.3ms postprocess per image at shape (1, 3, 384, 640)\n",
      "\n",
      "0: 384x640 2 alpacas, 193.4ms\n",
      "Speed: 4.0ms preprocess, 193.4ms inference, 0.0ms postprocess per image at shape (1, 3, 384, 640)\n"
     ]
    },
    {
     "name": "stderr",
     "output_type": "stream",
     "text": [
      "Using CPU. Note: This module is much faster with a GPU.\n",
      "Using CPU. Note: This module is much faster with a GPU.\n"
     ]
    },
    {
     "name": "stdout",
     "output_type": "stream",
     "text": [
      "\n",
      "0: 384x640 18 cars, 1 bus, 2 trucks, 98.8ms\n",
      "Speed: 5.5ms preprocess, 98.8ms inference, 1.0ms postprocess per image at shape (1, 3, 384, 640)\n",
      "\n",
      "0: 384x640 2 alpacas, 90.5ms\n",
      "Speed: 2.0ms preprocess, 90.5ms inference, 0.0ms postprocess per image at shape (1, 3, 384, 640)\n"
     ]
    },
    {
     "name": "stderr",
     "output_type": "stream",
     "text": [
      "Using CPU. Note: This module is much faster with a GPU.\n"
     ]
    },
    {
     "name": "stdout",
     "output_type": "stream",
     "text": [
      "\n",
      "0: 384x640 19 cars, 1 bus, 2 trucks, 111.0ms\n",
      "Speed: 4.6ms preprocess, 111.0ms inference, 2.1ms postprocess per image at shape (1, 3, 384, 640)\n",
      "\n",
      "0: 384x640 2 alpacas, 86.2ms\n",
      "Speed: 2.1ms preprocess, 86.2ms inference, 0.0ms postprocess per image at shape (1, 3, 384, 640)\n"
     ]
    },
    {
     "name": "stderr",
     "output_type": "stream",
     "text": [
      "Using CPU. Note: This module is much faster with a GPU.\n"
     ]
    },
    {
     "name": "stdout",
     "output_type": "stream",
     "text": [
      "\n",
      "0: 384x640 20 cars, 1 bus, 2 trucks, 96.6ms\n",
      "Speed: 2.7ms preprocess, 96.6ms inference, 2.6ms postprocess per image at shape (1, 3, 384, 640)\n",
      "\n",
      "0: 384x640 2 alpacas, 92.3ms\n",
      "Speed: 2.4ms preprocess, 92.3ms inference, 0.0ms postprocess per image at shape (1, 3, 384, 640)\n"
     ]
    },
    {
     "name": "stderr",
     "output_type": "stream",
     "text": [
      "Using CPU. Note: This module is much faster with a GPU.\n"
     ]
    },
    {
     "name": "stdout",
     "output_type": "stream",
     "text": [
      "\n",
      "0: 384x640 20 cars, 1 bus, 2 trucks, 106.5ms\n",
      "Speed: 2.4ms preprocess, 106.5ms inference, 0.9ms postprocess per image at shape (1, 3, 384, 640)\n",
      "\n",
      "0: 384x640 2 alpacas, 98.4ms\n",
      "Speed: 2.4ms preprocess, 98.4ms inference, 0.0ms postprocess per image at shape (1, 3, 384, 640)\n"
     ]
    },
    {
     "name": "stderr",
     "output_type": "stream",
     "text": [
      "Using CPU. Note: This module is much faster with a GPU.\n"
     ]
    },
    {
     "name": "stdout",
     "output_type": "stream",
     "text": [
      "\n",
      "0: 384x640 19 cars, 1 bus, 2 trucks, 111.8ms\n",
      "Speed: 4.2ms preprocess, 111.8ms inference, 1.9ms postprocess per image at shape (1, 3, 384, 640)\n",
      "\n",
      "0: 384x640 1 alpaca, 238.5ms\n",
      "Speed: 2.0ms preprocess, 238.5ms inference, 1.0ms postprocess per image at shape (1, 3, 384, 640)\n"
     ]
    },
    {
     "name": "stderr",
     "output_type": "stream",
     "text": [
      "Using CPU. Note: This module is much faster with a GPU.\n"
     ]
    },
    {
     "name": "stdout",
     "output_type": "stream",
     "text": [
      "\n",
      "0: 384x640 17 cars, 1 bus, 2 trucks, 126.7ms\n",
      "Speed: 2.0ms preprocess, 126.7ms inference, 1.0ms postprocess per image at shape (1, 3, 384, 640)\n",
      "\n",
      "0: 384x640 1 alpaca, 91.3ms\n",
      "Speed: 2.0ms preprocess, 91.3ms inference, 0.0ms postprocess per image at shape (1, 3, 384, 640)\n",
      "\n",
      "0: 384x640 18 cars, 2 trucks, 99.3ms\n",
      "Speed: 2.0ms preprocess, 99.3ms inference, 0.9ms postprocess per image at shape (1, 3, 384, 640)\n",
      "\n",
      "0: 384x640 2 alpacas, 90.4ms\n",
      "Speed: 1.7ms preprocess, 90.4ms inference, 1.0ms postprocess per image at shape (1, 3, 384, 640)\n"
     ]
    },
    {
     "name": "stderr",
     "output_type": "stream",
     "text": [
      "Using CPU. Note: This module is much faster with a GPU.\n"
     ]
    },
    {
     "name": "stdout",
     "output_type": "stream",
     "text": [
      "\n",
      "0: 384x640 19 cars, 2 trucks, 108.5ms\n",
      "Speed: 4.0ms preprocess, 108.5ms inference, 2.0ms postprocess per image at shape (1, 3, 384, 640)\n",
      "\n",
      "0: 384x640 1 alpaca, 90.3ms\n",
      "Speed: 2.1ms preprocess, 90.3ms inference, 0.0ms postprocess per image at shape (1, 3, 384, 640)\n"
     ]
    },
    {
     "name": "stderr",
     "output_type": "stream",
     "text": [
      "Using CPU. Note: This module is much faster with a GPU.\n"
     ]
    },
    {
     "name": "stdout",
     "output_type": "stream",
     "text": [
      "\n",
      "0: 384x640 18 cars, 2 trucks, 135.6ms\n",
      "Speed: 5.0ms preprocess, 135.6ms inference, 3.1ms postprocess per image at shape (1, 3, 384, 640)\n",
      "\n",
      "0: 384x640 1 alpaca, 194.5ms\n",
      "Speed: 2.0ms preprocess, 194.5ms inference, 1.0ms postprocess per image at shape (1, 3, 384, 640)\n"
     ]
    },
    {
     "name": "stderr",
     "output_type": "stream",
     "text": [
      "Using CPU. Note: This module is much faster with a GPU.\n"
     ]
    },
    {
     "name": "stdout",
     "output_type": "stream",
     "text": [
      "\n",
      "0: 384x640 17 cars, 2 trucks, 131.9ms\n",
      "Speed: 2.9ms preprocess, 131.9ms inference, 2.0ms postprocess per image at shape (1, 3, 384, 640)\n",
      "\n",
      "0: 384x640 1 alpaca, 111.1ms\n",
      "Speed: 2.7ms preprocess, 111.1ms inference, 0.0ms postprocess per image at shape (1, 3, 384, 640)\n"
     ]
    },
    {
     "name": "stderr",
     "output_type": "stream",
     "text": [
      "Using CPU. Note: This module is much faster with a GPU.\n"
     ]
    },
    {
     "name": "stdout",
     "output_type": "stream",
     "text": [
      "\n",
      "0: 384x640 18 cars, 2 trucks, 114.4ms\n",
      "Speed: 2.0ms preprocess, 114.4ms inference, 1.5ms postprocess per image at shape (1, 3, 384, 640)\n",
      "\n",
      "0: 384x640 1 alpaca, 90.2ms\n",
      "Speed: 1.0ms preprocess, 90.2ms inference, 1.0ms postprocess per image at shape (1, 3, 384, 640)\n"
     ]
    },
    {
     "name": "stderr",
     "output_type": "stream",
     "text": [
      "Using CPU. Note: This module is much faster with a GPU.\n"
     ]
    },
    {
     "name": "stdout",
     "output_type": "stream",
     "text": [
      "\n",
      "0: 384x640 17 cars, 2 trucks, 224.0ms\n",
      "Speed: 4.9ms preprocess, 224.0ms inference, 6.0ms postprocess per image at shape (1, 3, 384, 640)\n",
      "\n",
      "0: 384x640 1 alpaca, 217.6ms\n",
      "Speed: 2.7ms preprocess, 217.6ms inference, 1.1ms postprocess per image at shape (1, 3, 384, 640)\n"
     ]
    },
    {
     "name": "stderr",
     "output_type": "stream",
     "text": [
      "Using CPU. Note: This module is much faster with a GPU.\n"
     ]
    },
    {
     "name": "stdout",
     "output_type": "stream",
     "text": [
      "\n",
      "0: 384x640 17 cars, 2 trucks, 213.1ms\n",
      "Speed: 6.0ms preprocess, 213.1ms inference, 6.6ms postprocess per image at shape (1, 3, 384, 640)\n",
      "\n",
      "0: 384x640 1 alpaca, 169.0ms\n",
      "Speed: 3.8ms preprocess, 169.0ms inference, 0.0ms postprocess per image at shape (1, 3, 384, 640)\n"
     ]
    },
    {
     "name": "stderr",
     "output_type": "stream",
     "text": [
      "Using CPU. Note: This module is much faster with a GPU.\n"
     ]
    },
    {
     "name": "stdout",
     "output_type": "stream",
     "text": [
      "\n",
      "0: 384x640 17 cars, 2 trucks, 120.0ms\n",
      "Speed: 2.8ms preprocess, 120.0ms inference, 2.1ms postprocess per image at shape (1, 3, 384, 640)\n",
      "\n",
      "0: 384x640 1 alpaca, 112.2ms\n",
      "Speed: 1.9ms preprocess, 112.2ms inference, 0.8ms postprocess per image at shape (1, 3, 384, 640)\n"
     ]
    },
    {
     "name": "stderr",
     "output_type": "stream",
     "text": [
      "Using CPU. Note: This module is much faster with a GPU.\n"
     ]
    },
    {
     "name": "stdout",
     "output_type": "stream",
     "text": [
      "{'car': {'bbox': [2200.512764860929, 1167.8990650992769, 2784.2158236990103, 1738.9937909271048]}, 'license_plate': {'bbox': [2419.925537109375, 1529.8604736328125, 2595.2548828125, 1654.1495361328125], 'text': 'NT51VSU', 'bbox_score': 0.3681076765060425, 'text_score': 0.3410085517512139}}\n",
      "{'car': {'bbox': [2197.0203904301893, 1176.7199161278977, 2788.888916479255, 1757.891831162729]}, 'license_plate': {'bbox': [2411.711669921875, 1544.181884765625, 2591.00341796875, 1664.47998046875], 'text': 'HU51VSU', 'bbox_score': 0.36614373326301575, 'text_score': 0.38989032191443945}}\n",
      "{'car': {'bbox': [2189.185352672709, 1177.5594096351563, 2794.1882869853853, 1767.9809032239652]}, 'license_plate': {'bbox': [2420.381591796875, 1549.7581787109375, 2589.820068359375, 1679.2283935546875], 'text': 'HL51VSU', 'bbox_score': 0.27100300788879395, 'text_score': 0.15904538820417213}}\n",
      "{'car': {'bbox': [727.8561318402883, 1404.15468900304, 1424.190550245061, 2040.6976146147867]}, 'license_plate': {'bbox': [959.7967529296875, 1788.1453857421875, 1161.736572265625, 1917.2222900390625], 'text': 'NA13NRU', 'bbox_score': 0.31303343176841736, 'text_score': 0.31952368625189465}}\n",
      "{'car': {'bbox': [724.4856688633828, 1408.0932084904375, 1425.0458850713003, 2052.9281250585977]}, 'license_plate': {'bbox': [952.7179565429688, 1780.94091796875, 1189.1226806640625, 1920.819580078125], 'text': 'NA13NRU', 'bbox_score': 0.33347976207733154, 'text_score': 0.4948735477385303}}\n",
      "{'car': {'bbox': [2193.375206506648, 1197.2170692862421, 2820.45394192553, 1803.3022325454874]}, 'license_plate': {'bbox': [2395.62841796875, 1586.3837890625, 2610.937744140625, 1713.604736328125], 'text': 'MT51VSU', 'bbox_score': 0.38442757725715637, 'text_score': 0.1675886187028437}}\n",
      "{'car': {'bbox': [680.8392217554874, 1463.6359843131015, 1400.417660669772, 2118.021010711103]}, 'license_plate': {'bbox': [925.8955078125, 1862.296142578125, 1160.6466064453125, 2000.508544921875], 'text': 'NA13NRU', 'bbox_score': 0.34018638730049133, 'text_score': 0.2694362191904332}}\n",
      "{'car': {'bbox': [2204.3753434782657, 1250.164528764233, 2841.0974755926118, 1867.0648769395232]}, 'license_plate': {'bbox': [2421.618408203125, 1648.1441650390625, 2620.949951171875, 1769.8236083984375], 'text': 'HV51VSU', 'bbox_score': 0.2943290174007416, 'text_score': 0.4192763991706139}}\n",
      "{'car': {'bbox': [648.899260563392, 1525.7782488270263, 1379.538990965083, 2155.3683604302855]}, 'license_plate': {'bbox': [877.2020874023438, 1939.729736328125, 1139.355224609375, 2075.48779296875], 'text': 'NA13NRU', 'bbox_score': 0.3358989357948303, 'text_score': 0.25430529780762123}}\n",
      "{'car': {'bbox': [640.9438046879047, 1547.3557668284707, 1378.9522689760272, 2157.008495081949]}, 'license_plate': {'bbox': [868.8779907226562, 1971.919921875, 1109.1953125, 2105.926025390625], 'text': 'NA13NRU', 'bbox_score': 0.4088502526283264, 'text_score': 0.30504812135077297}}\n",
      "{'car': {'bbox': [2210.064765781924, 1290.1804261045331, 2867.638541412323, 1947.12467306377]}, 'license_plate': {'bbox': [2459.837646484375, 1722.357421875, 2638.360107421875, 1840.2301025390625], 'text': 'NV51TSU', 'bbox_score': 0.31286630034446716, 'text_score': 0.15706849357573532}}\n",
      "{'car': {'bbox': [2223.125035371484, 1377.1616957869303, 2906.7550483270497, 2061.0731656676912]}, 'license_plate': {'bbox': [2478.09423828125, 1829.18017578125, 2674.21875, 1949.591064453125], 'text': 'KL51VSU', 'bbox_score': 0.33210456371307373, 'text_score': 0.06299796820247947}}\n",
      "{'car': {'bbox': [2232.186865666061, 1398.4500096407514, 2940.2139475498207, 2095.8516627233384]}, 'license_plate': {'bbox': [2479.695068359375, 1864.1619873046875, 2692.286865234375, 1988.1280517578125], 'text': 'NI51VSU', 'bbox_score': 0.29774996638298035, 'text_score': 0.05044683295216962}}\n",
      "{'car': {'bbox': [2233.4065356286565, 1410.4054168436642, 2945.0465932644256, 2110.2280477751497]}, 'license_plate': {'bbox': [2476.8525390625, 1880.722900390625, 2694.67919921875, 2003.25634765625], 'text': 'LO51VSU', 'bbox_score': 0.3058077096939087, 'text_score': 0.08003753360428749}}\n",
      "{'car': {'bbox': [2236.5781125437375, 1449.553092364202, 2958.1795256117816, 2145.927766500357]}, 'license_plate': {'bbox': [2499.146484375, 1924.3956298828125, 2711.484130859375, 2042.0914306640625], 'text': 'MQ51VSU', 'bbox_score': 0.3239113390445709, 'text_score': 0.31013581474382107}}\n",
      "{'car': {'bbox': [1089.872733214808, 1194.8753312688025, 1704.4120800135022, 1680.997116441444]}, 'license_plate': {'bbox': [1304.79345703125, 1451.4114990234375, 1470.542724609375, 1579.4110107421875], 'text': 'GY15OCJ', 'bbox_score': 0.2743563950061798, 'text_score': 0.24207506437720258}}\n",
      "{'car': {'bbox': [2241.824429096626, 1475.5655041480513, 2959.075678245752, 2151.7121263401896]}, 'license_plate': {'bbox': [2502.919189453125, 1966.09423828125, 2719.42529296875, 2091.68994140625], 'text': 'MO51VSU', 'bbox_score': 0.33939608931541443, 'text_score': 0.24421210095135604}}\n",
      "{'car': {'bbox': [2265.4675248307585, 1526.2870745853927, 2983.6621189257485, 2154.33223167014]}, 'license_plate': {'bbox': [2523.794189453125, 2025.4478759765625, 2750.5439453125, 2152.5244140625], 'text': 'MT51VSU', 'bbox_score': 0.38773679733276367, 'text_score': 0.318336947198801}}\n",
      "{'car': {'bbox': [1051.2508470072999, 1266.1076230734059, 1682.5349220316552, 1766.5759707412287]}, 'license_plate': {'bbox': [1267.2879638671875, 1542.1673583984375, 1457.4407958984375, 1672.031982421875], 'text': 'GX15OCJ', 'bbox_score': 0.3539380431175232, 'text_score': 0.4602467230025755}}\n",
      "{'car': {'bbox': [1039.2705569111374, 1287.3867847491024, 1683.9307976486687, 1798.627542595269]}, 'license_plate': {'bbox': [1264.882568359375, 1577.610107421875, 1484.38427734375, 1707.3575439453125], 'text': 'GX15OGJ', 'bbox_score': 0.27046769857406616, 'text_score': 0.3770874755820227}}\n",
      "{'car': {'bbox': [1029.0851475011943, 1297.167025929033, 1683.0542376063888, 1810.4737779637028]}, 'license_plate': {'bbox': [1245.689208984375, 1588.768798828125, 1446.4344482421875, 1718.319580078125], 'text': 'GX15OGJ', 'bbox_score': 0.2553505599498749, 'text_score': 0.1038907954881369}}\n",
      "{'car': {'bbox': [994.4298657963386, 1340.5496324128303, 1685.5574267176453, 1875.716017301358]}, 'license_plate': {'bbox': [1244.6220703125, 1647.3753662109375, 1439.21044921875, 1773.1058349609375], 'text': 'GX15OGJ', 'bbox_score': 0.2565670609474182, 'text_score': 0.6526743923128193}}\n",
      "{'car': {'bbox': [978.935955220173, 1365.7438307010057, 1684.7581080662721, 1906.1939022335405]}, 'license_plate': {'bbox': [1214.8046875, 1678.6171875, 1442.8883056640625, 1807.99365234375], 'text': 'GX15OGJ', 'bbox_score': 0.33701255917549133, 'text_score': 0.36008210930197954}}\n",
      "{'car': {'bbox': [971.2260007637535, 1371.2841642460614, 1683.0953073721596, 1917.835950180793]}, 'license_plate': {'bbox': [1193.6851806640625, 1687.5155029296875, 1420.0390625, 1819.06103515625], 'text': 'GX15OCJ', 'bbox_score': 0.4356224834918976, 'text_score': 0.21283274835437008}}\n",
      "{'car': {'bbox': [969.3156343520284, 1379.7151541131814, 1681.8151342655844, 1928.8256748551369]}, 'license_plate': {'bbox': [1202.9432373046875, 1693.0902099609375, 1423.331298828125, 1822.015869140625], 'text': 'GX15OGJ', 'bbox_score': 0.3489357531070709, 'text_score': 0.5037643722210005}}\n",
      "{'car': {'bbox': [963.3649533356079, 1391.4764167331587, 1680.5893608173674, 1946.1668219731018]}, 'license_plate': {'bbox': [1202.693115234375, 1715.7059326171875, 1435.9560546875, 1845.7943115234375], 'text': 'GX15OCJ', 'bbox_score': 0.35458365082740784, 'text_score': 0.3322472608263054}}\n",
      "{'car': {'bbox': [956.5617747959208, 1406.1730812516603, 1675.6925537175803, 1962.27720943964]}, 'license_plate': {'bbox': [1202.47705078125, 1722.9034423828125, 1433.143798828125, 1855.6636962890625], 'text': 'GX15OGJ', 'bbox_score': 0.41660332679748535, 'text_score': 0.28886286666797545}}\n",
      "{'car': {'bbox': [953.55435201881, 1411.7668258951453, 1675.0720976718937, 1969.6011803904835]}, 'license_plate': {'bbox': [1196.4244384765625, 1735.171875, 1423.1734619140625, 1865.71728515625], 'text': 'GX15OCJ', 'bbox_score': 0.42598676681518555, 'text_score': 0.11051407320330835}}\n",
      "{'car': {'bbox': [948.1856591615268, 1418.5922264431795, 1672.9033732466737, 1978.7494932854786]}, 'license_plate': {'bbox': [1198.4296875, 1731.9744873046875, 1428.8389892578125, 1867.0220947265625], 'text': 'GX15OCJ', 'bbox_score': 0.27204740047454834, 'text_score': 0.31077454975797036}}\n",
      "{'car': {'bbox': [946.8245019109668, 1438.5854552884923, 1670.8947698350075, 2004.7971904763037]}, 'license_plate': {'bbox': [1194.091064453125, 1758.117919921875, 1409.6629638671875, 1900.13525390625], 'text': 'GX15OGJ', 'bbox_score': 0.2764374315738678, 'text_score': 0.327372918208463}}\n",
      "{'car': {'bbox': [946.9061510613124, 1443.1622754906966, 1671.9260153544105, 2010.175438274578]}, 'license_plate': {'bbox': [1180.0989990234375, 1769.1591796875, 1399.4139404296875, 1902.7034912109375], 'text': 'GY15OGJ', 'bbox_score': 0.41063034534454346, 'text_score': 0.47783351038603405}}\n",
      "{'car': {'bbox': [2053.610471851453, 1155.9852374091022, 2583.5326188165122, 1612.459591154184]}, 'license_plate': {'bbox': [2265.95947265625, 1410.90966796875, 2421.49072265625, 1522.367431640625], 'text': 'AP05JEO', 'bbox_score': 0.27248385548591614, 'text_score': 0.10699225007096753}}\n",
      "{'car': {'bbox': [2048.666980991178, 1188.6750794880445, 2596.504182119077, 1655.287759080858]}, 'license_plate': {'bbox': [2235.339111328125, 1443.40625, 2438.4150390625, 1563.1455078125], 'text': 'AP05JEO', 'bbox_score': 0.3361525535583496, 'text_score': 0.19233955509831935}}\n",
      "{'car': {'bbox': [847.9013014040539, 1595.838567489714, 1641.4527776513387, 2157.187236019123]}, 'license_plate': {'bbox': [1092.72998046875, 1957.3232421875, 1349.2486572265625, 2099.888671875], 'text': 'GY15OGJ', 'bbox_score': 0.37834569811820984, 'text_score': 0.34455784304907405}}\n",
      "{'car': {'bbox': [2049.1003806531244, 1194.1077313598612, 2596.691408896587, 1664.6544446776493]}, 'license_plate': {'bbox': [2265.094482421875, 1451.85546875, 2466.621337890625, 1576.43017578125], 'text': 'AP05JEO', 'bbox_score': 0.34876635670661926, 'text_score': 0.4167898287001993}}\n",
      "{'car': {'bbox': [841.0739638359358, 1601.5084369892502, 1638.7117889205306, 2155.464990186341]}, 'license_plate': {'bbox': [1086.1435546875, 1981.105224609375, 1329.9737548828125, 2108.14599609375], 'text': 'GX15OGJ', 'bbox_score': 0.33646273612976074, 'text_score': 0.34862818679373003}}\n",
      "{'car': {'bbox': [836.3866529297211, 1606.5333385843483, 1638.9197658776188, 2154.186494132228]}, 'license_plate': {'bbox': [1092.4942626953125, 1985.5118408203125, 1320.5667724609375, 2109.712158203125], 'text': 'GY15OGJ', 'bbox_score': 0.33133453130722046, 'text_score': 0.5457983186212083}}\n",
      "{'car': {'bbox': [2049.773411663741, 1196.5573422349498, 2598.1776600361154, 1669.5988775441674]}, 'license_plate': {'bbox': [2267.644775390625, 1453.3173828125, 2463.17724609375, 1579.9425048828125], 'text': 'AP05JEO', 'bbox_score': 0.26179397106170654, 'text_score': 0.21526190907716602}}\n",
      "{'car': {'bbox': [831.799454079782, 1613.7316328068118, 1636.3155292638137, 2155.065669242718]}, 'license_plate': {'bbox': [1090.581787109375, 1985.9989013671875, 1334.8477783203125, 2123.825927734375], 'text': 'CX15OGJ', 'bbox_score': 0.4566901922225952, 'text_score': 0.3924211151752976}}\n",
      "{'car': {'bbox': [2243.4382991789944, 1629.9565729548092, 2980.9186123527215, 2151.9876668133697]}, 'license_plate': {'bbox': [2521.962158203125, 1972.8790283203125, 2741.3671875, 2110.105224609375], 'text': 'LM13VCV', 'bbox_score': 0.2769100069999695, 'text_score': 0.44489300745466615}}\n",
      "{'car': {'bbox': [833.3900725789481, 1623.316434889573, 1637.4336257406667, 2157.2560411215545]}, 'license_plate': {'bbox': [1073.8389892578125, 2004.366943359375, 1346.2281494140625, 2142.95068359375], 'text': 'CX15OGJ', 'bbox_score': 0.27349430322647095, 'text_score': 0.2910478038852654}}\n",
      "{'car': {'bbox': [825.8092144468269, 1637.1268731165687, 1626.3819775011725, 2159.793127715999]}, 'license_plate': {'bbox': [1081.0469970703125, 2021.0408935546875, 1327.363525390625, 2155.390380859375], 'text': 'GX15OGJ', 'bbox_score': 0.32924923300743103, 'text_score': 0.25680657259515033}}\n",
      "{'car': {'bbox': [2245.4324589360954, 1667.7801320180322, 2988.7025759374915, 2162.497519716412]}, 'license_plate': {'bbox': [2516.3984375, 2021.65869140625, 2748.389404296875, 2156.422119140625], 'text': 'LM13VCV', 'bbox_score': 0.4573146104812622, 'text_score': 0.3837112235833456}}\n",
      "{'car': {'bbox': [2041.8130920548756, 1218.37636620074, 2609.230625041021, 1694.9411053766726]}, 'license_plate': {'bbox': [2241.73388671875, 1484.739990234375, 2476.250244140625, 1627.20556640625], 'text': 'AP05JEO', 'bbox_score': 0.2500663697719574, 'text_score': 0.4001988455366246}}\n",
      "{'car': {'bbox': [2249.7000359888275, 1674.8163363914282, 2994.224176889867, 2161.7311124115245]}, 'license_plate': {'bbox': [2508.7412109375, 2020.116943359375, 2754.116943359375, 2160.0], 'text': 'LM13VCV', 'bbox_score': 0.5015955567359924, 'text_score': 0.41153541741362476}}\n",
      "{'car': {'bbox': [2042.2266044806922, 1222.9651745061103, 2613.0966533553506, 1700.9015037369265]}, 'license_plate': {'bbox': [2254.982666015625, 1479.7569580078125, 2471.68115234375, 1609.9808349609375], 'text': 'AP05JEO', 'bbox_score': 0.3658044934272766, 'text_score': 0.48827564739444856}}\n",
      "{'car': {'bbox': [1099.3131308550667, 1126.1173646540333, 1608.7362792172323, 1561.5579655776742]}, 'license_plate': {'bbox': [1230.2852783203125, 1347.5401611328125, 1436.4078369140625, 1470.4080810546875], 'text': 'KX05ZTK', 'bbox_score': 0.358482301235199, 'text_score': 0.22493298064939538}}\n",
      "{'car': {'bbox': [2045.0976799546042, 1228.4164934231703, 2617.0015525414046, 1707.061778632125]}, 'license_plate': {'bbox': [2221.157470703125, 1490.91357421875, 2472.87841796875, 1624.380615234375], 'text': 'AP05JEO', 'bbox_score': 0.39742588996887207, 'text_score': 0.23929516389023622}}\n",
      "{'car': {'bbox': [1090.0518939701412, 1129.5725137027703, 1602.3530302101005, 1571.9127775913726]}, 'license_plate': {'bbox': [1221.7825927734375, 1357.4736328125, 1410.0194091796875, 1478.185546875], 'text': 'KH05ZIK', 'bbox_score': 0.28040915727615356, 'text_score': 0.5048062688761963}}\n",
      "{'car': {'bbox': [1081.2347227491596, 1137.3683751945694, 1593.4516141846202, 1581.3292916642351]}, 'license_plate': {'bbox': [1245.1993408203125, 1370.13427734375, 1425.0220947265625, 1487.4287109375], 'text': 'KH05ZTX', 'bbox_score': 0.27500802278518677, 'text_score': 0.31890941619083113}}\n",
      "{'car': {'bbox': [2044.9890842828065, 1242.9722204790876, 2628.361325983086, 1737.1539795453907]}, 'license_plate': {'bbox': [2245.80908203125, 1499.40966796875, 2497.099365234375, 1635.07177734375], 'text': 'AP05JEO', 'bbox_score': 0.30118831992149353, 'text_score': 0.3559557597973206}}\n",
      "{'car': {'bbox': [2048.340470756885, 1256.46377308666, 2638.04817981616, 1757.1451692876446]}, 'license_plate': {'bbox': [2267.192138671875, 1519.8585205078125, 2476.2392578125, 1665.0369873046875], 'text': 'AP05JEO', 'bbox_score': 0.3417755365371704, 'text_score': 0.2118952771960466}}\n",
      "{'car': {'bbox': [2049.2489892522417, 1260.5131008755438, 2640.5311465906707, 1763.6354856285857]}, 'license_plate': {'bbox': [2259.828369140625, 1526.6766357421875, 2488.53076171875, 1656.6060791015625], 'text': 'AP05JEO', 'bbox_score': 0.46612679958343506, 'text_score': 0.25056985342226}}\n",
      "{'car': {'bbox': [2050.092084973313, 1263.6976941097143, 2643.562273948198, 1768.972596550477]}, 'license_plate': {'bbox': [2251.85009765625, 1533.60986328125, 2484.853515625, 1665.068603515625], 'text': 'AP05JEO', 'bbox_score': 0.42439210414886475, 'text_score': 0.25296608746539306}}\n",
      "{'car': {'bbox': [1062.921880912663, 1160.1177351459917, 1582.7220560065628, 1611.1897348929112]}, 'license_plate': {'bbox': [1196.0372314453125, 1408.6568603515625, 1412.7681884765625, 1521.5560302734375], 'text': 'KM05ZZK', 'bbox_score': 0.40647315979003906, 'text_score': 0.1647394850024566}}\n",
      "{'car': {'bbox': [2055.2057038372727, 1300.6223920027053, 2672.487936471052, 1819.954300740487]}, 'license_plate': {'bbox': [2277.52587890625, 1578.7327880859375, 2515.162841796875, 1707.1497802734375], 'text': 'AP05JEO', 'bbox_score': 0.40281662344932556, 'text_score': 0.3538711865897554}}\n",
      "{'car': {'bbox': [1044.35637854517, 1183.3743870262729, 1573.6712547882446, 1645.0698502844025]}, 'license_plate': {'bbox': [1205.2137451171875, 1426.2039794921875, 1409.57275390625, 1557.6357421875], 'text': 'KH05ZIK', 'bbox_score': 0.25224927067756653, 'text_score': 0.33085499606429286}}\n",
      "{'car': {'bbox': [2052.7535773931518, 1303.1342254752165, 2669.0725688276166, 1823.9874095216962]}, 'license_plate': {'bbox': [2260.060302734375, 1580.0452880859375, 2519.520751953125, 1719.4921875], 'text': 'AP05JEO', 'bbox_score': 0.4528384208679199, 'text_score': 0.5507473285642174}}\n",
      "{'car': {'bbox': [2051.851731840903, 1314.934014299685, 2672.7026343574717, 1838.709558343364]}, 'license_plate': {'bbox': [2272.146240234375, 1600.5213623046875, 2496.9814453125, 1726.8128662109375], 'text': 'AP05JEO', 'bbox_score': 0.40431737899780273, 'text_score': 0.33223324904747337}}\n",
      "{'car': {'bbox': [1033.0895307353157, 1199.5457505740262, 1569.4267959251297, 1670.4723876470478]}, 'license_plate': {'bbox': [1200.039794921875, 1451.299072265625, 1382.853515625, 1575.5859375], 'text': 'KH05ZIK', 'bbox_score': 0.3929698169231415, 'text_score': 0.31608568123755626}}\n",
      "{'car': {'bbox': [2051.903420273684, 1319.5334757802138, 2672.8369071667466, 1844.6300416670892]}, 'license_plate': {'bbox': [2275.380126953125, 1603.47265625, 2500.989990234375, 1730.4171142578125], 'text': 'AP05JEO', 'bbox_score': 0.2907954454421997, 'text_score': 0.49229767687492937}}\n",
      "{'car': {'bbox': [2060.910135269495, 1333.0537261626873, 2683.9319219902154, 1865.7843210099604]}, 'license_plate': {'bbox': [2276.2041015625, 1622.4371337890625, 2501.301513671875, 1750.3927001953125], 'text': 'AP05JEO', 'bbox_score': 0.39834633469581604, 'text_score': 0.29520386977181085}}\n",
      "{'car': {'bbox': [2066.487191599104, 1337.6754386661053, 2686.473684280159, 1874.1176942894797]}, 'license_plate': {'bbox': [2280.07177734375, 1625.572998046875, 2519.634033203125, 1771.04736328125], 'text': 'AP05JEO', 'bbox_score': 0.520105242729187, 'text_score': 0.39987573201354093}}\n",
      "{'car': {'bbox': [1018.9331044041187, 1225.661666328919, 1568.8315380788422, 1700.275372180038]}, 'license_plate': {'bbox': [1177.301513671875, 1483.692626953125, 1386.73095703125, 1610.13427734375], 'text': 'KN05ZZK', 'bbox_score': 0.2806084454059601, 'text_score': 0.390956569892781}}\n",
      "{'car': {'bbox': [1013.9923763306961, 1235.1906213593431, 1567.0480159812437, 1711.7840721496252]}, 'license_plate': {'bbox': [1174.08154296875, 1489.03857421875, 1389.071044921875, 1620.5335693359375], 'text': 'AM05ZIK', 'bbox_score': 0.41086146235466003, 'text_score': 0.10166150941739083}}\n",
      "{'car': {'bbox': [2074.08163207533, 1373.8065615426906, 2698.982558385106, 1916.833382852377]}, 'license_plate': {'bbox': [2297.826171875, 1671.078369140625, 2535.587158203125, 1805.1895751953125], 'text': 'AP05JEQ', 'bbox_score': 0.2513572871685028, 'text_score': 0.5367291248063838}}\n",
      "{'car': {'bbox': [2080.3697230958833, 1379.0281401180755, 2704.605914415799, 1923.8884048468021]}, 'license_plate': {'bbox': [2306.70458984375, 1675.3294677734375, 2533.93408203125, 1820.015380859375], 'text': 'AP05JEQ', 'bbox_score': 0.5108514428138733, 'text_score': 0.18978985349994681}}\n",
      "{'car': {'bbox': [2078.857328425934, 1399.3515832736637, 2708.1009778673083, 1945.5342540858444]}, 'license_plate': {'bbox': [2285.89013671875, 1695.908935546875, 2554.45751953125, 1844.52685546875], 'text': 'AP05JEQ', 'bbox_score': 0.2892911434173584, 'text_score': 0.16382801926542034}}\n",
      "{'car': {'bbox': [2089.3932818450767, 1416.028902073504, 2728.978119938183, 1967.513501112539]}, 'license_plate': {'bbox': [2304.9150390625, 1717.2081298828125, 2565.370849609375, 1861.1187744140625], 'text': 'AP05JEO', 'bbox_score': 0.376560777425766, 'text_score': 0.3497927634385993}}\n",
      "{'car': {'bbox': [2091.1959177430135, 1421.3527906126237, 2732.049790860964, 1976.0877773323537]}, 'license_plate': {'bbox': [2304.19921875, 1726.636962890625, 2539.60791015625, 1859.099853515625], 'text': 'AP05JEO', 'bbox_score': 0.3697436451911926, 'text_score': 0.2548688982787003}}\n",
      "{'car': {'bbox': [984.6579446882165, 1295.2143457330938, 1545.8917241813679, 1781.9069954796717]}, 'license_plate': {'bbox': [1171.7293701171875, 1555.3807373046875, 1344.557861328125, 1676.8349609375], 'text': 'KH05ZZK', 'bbox_score': 0.27817559242248535, 'text_score': 0.4224770782491768}}\n",
      "{'car': {'bbox': [977.4663462450026, 1305.1241940723137, 1538.1306389248598, 1794.6219164323645]}, 'license_plate': {'bbox': [1157.7740478515625, 1549.58935546875, 1367.3580322265625, 1701.9195556640625], 'text': 'RI05ZZK', 'bbox_score': 0.32438457012176514, 'text_score': 0.14488445189061588}}\n",
      "{'car': {'bbox': [2090.680526620203, 1446.5486578013792, 2759.5154373490427, 2010.7709802148124]}, 'license_plate': {'bbox': [2312.291015625, 1767.9393310546875, 2560.6875, 1902.9737548828125], 'text': 'AP05JEO', 'bbox_score': 0.31107813119888306, 'text_score': 0.2193152621593121}}\n",
      "{'car': {'bbox': [2092.689406389661, 1453.8777731343318, 2764.5261062477825, 2020.8837349055896]}, 'license_plate': {'bbox': [2311.6259765625, 1775.485107421875, 2569.403076171875, 1915.07373046875], 'text': 'AP05JEO', 'bbox_score': 0.48846063017845154, 'text_score': 0.33484094084302796}}\n",
      "{'car': {'bbox': [2090.8247357795235, 1478.6287811092473, 2775.0846083379365, 2051.4263912983397]}, 'license_plate': {'bbox': [2312.98095703125, 1792.2916259765625, 2602.10302734375, 1958.2774658203125], 'text': 'AP05JEO', 'bbox_score': 0.4583536982536316, 'text_score': 0.43790368728454027}}\n",
      "{'car': {'bbox': [954.2773384948637, 1333.920884179301, 1532.519388113536, 1837.2503699120475]}, 'license_plate': {'bbox': [1139.960205078125, 1598.29541015625, 1340.8104248046875, 1727.909912109375], 'text': 'KH05ZZK', 'bbox_score': 0.3934730291366577, 'text_score': 0.7249262175825536}}\n",
      "{'car': {'bbox': [2087.161822804145, 1487.2027049710377, 2772.3485990365157, 2061.601898993001]}, 'license_plate': {'bbox': [2326.812744140625, 1809.015380859375, 2566.579833984375, 1955.58544921875], 'text': 'AP05JEO', 'bbox_score': 0.45275112986564636, 'text_score': 0.3209033775084997}}\n",
      "{'car': {'bbox': [941.915583519376, 1353.0687698111262, 1527.638779484313, 1859.728046830204]}, 'license_plate': {'bbox': [1123.4971923828125, 1642.2928466796875, 1336.6920166015625, 1761.4432373046875], 'text': 'KH05ZZK', 'bbox_score': 0.32381436228752136, 'text_score': 0.21835644217623001}}\n",
      "{'car': {'bbox': [2092.9366151782574, 1511.7812570215817, 2785.2331761726714, 2092.0490969466846]}, 'license_plate': {'bbox': [2345.84423828125, 1832.4825439453125, 2596.48486328125, 1973.158447265625], 'text': 'AP05JEQ', 'bbox_score': 0.3153586983680725, 'text_score': 0.2900072222612876}}\n",
      "{'car': {'bbox': [2092.5920941759327, 1516.9203638241752, 2784.530606813121, 2097.608741127173]}, 'license_plate': {'bbox': [2317.62548828125, 1842.961669921875, 2618.220947265625, 2009.87255859375], 'text': 'AP05JEO', 'bbox_score': 0.31588372588157654, 'text_score': 0.25504071313556176}}\n",
      "{'car': {'bbox': [932.3212483818802, 1375.6093454852307, 1525.6471114309334, 1889.7373842961201]}, 'license_plate': {'bbox': [1098.77197265625, 1651.7801513671875, 1319.7418212890625, 1783.9134521484375], 'text': 'KH05ZIK', 'bbox_score': 0.4144954979419708, 'text_score': 0.44945016229106827}}\n",
      "{'car': {'bbox': [2097.0381778725487, 1529.921981866943, 2803.881030559096, 2115.835648981746]}, 'license_plate': {'bbox': [2337.16259765625, 1863.25048828125, 2617.354248046875, 2017.765869140625], 'text': 'AP05JEQ', 'bbox_score': 0.32687661051750183, 'text_score': 0.2983142589087544}}\n",
      "{'car': {'bbox': [2098.841477932217, 1535.474278458557, 2811.0802855085362, 2122.804075935392]}, 'license_plate': {'bbox': [2350.052734375, 1875.0845947265625, 2601.61767578125, 2013.0018310546875], 'text': 'AP05JEQ', 'bbox_score': 0.387779176235199, 'text_score': 0.4736120133449862}}\n",
      "{'car': {'bbox': [921.6453544917035, 1392.5865035397078, 1522.3719038240379, 1913.392283024105]}, 'license_plate': {'bbox': [1096.6600341796875, 1676.3748779296875, 1325.8751220703125, 1815.0772705078125], 'text': 'KH05ZTK', 'bbox_score': 0.46513721346855164, 'text_score': 0.28626825332402894}}\n",
      "{'car': {'bbox': [916.850277020656, 1397.7587233979882, 1519.8290539605641, 1919.405656045987]}, 'license_plate': {'bbox': [1087.29931640625, 1681.806884765625, 1325.33056640625, 1818.418212890625], 'text': 'KR05ZZK', 'bbox_score': 0.4079171121120453, 'text_score': 0.2684834110298037}}\n",
      "{'car': {'bbox': [908.2890792634583, 1410.15128080477, 1517.5899913644485, 1935.4242943083882]}, 'license_plate': {'bbox': [1116.986328125, 1691.969970703125, 1298.605712890625, 1826.5345458984375], 'text': 'KH05ZZK', 'bbox_score': 0.27214908599853516, 'text_score': 0.7928321783070497}}\n",
      "{'car': {'bbox': [899.9844462528793, 1413.82297360454, 1516.6104131872419, 1941.015855216754]}, 'license_plate': {'bbox': [1089.063232421875, 1693.450927734375, 1305.15478515625, 1825.93798828125], 'text': 'KH05ZZK', 'bbox_score': 0.4931389391422272, 'text_score': 0.6870199493549541}}\n",
      "{'car': {'bbox': [2104.4328359639794, 1570.293212664983, 2840.5678647232426, 2153.5899250398493]}, 'license_plate': {'bbox': [2367.495849609375, 1917.1175537109375, 2628.0439453125, 2054.465576171875], 'text': 'AP05JEO', 'bbox_score': 0.40000587701797485, 'text_score': 0.3620309047754225}}\n",
      "{'car': {'bbox': [890.1933672368413, 1417.4959333741845, 1513.7890869241105, 1944.968135786728]}, 'license_plate': {'bbox': [1085.557373046875, 1697.8209228515625, 1312.0965576171875, 1838.8128662109375], 'text': 'KH05ZZK', 'bbox_score': 0.40681731700897217, 'text_score': 0.7187517266793004}}\n",
      "{'car': {'bbox': [874.8635845104211, 1425.2527123945629, 1508.2708542046469, 1957.8362444981876]}, 'license_plate': {'bbox': [1083.7261962890625, 1720.6234130859375, 1317.0657958984375, 1863.7987060546875], 'text': 'KH05ZZK', 'bbox_score': 0.443193644285202, 'text_score': 0.6169595839083215}}\n",
      "{'car': {'bbox': [2109.6563219787186, 1595.6971163419414, 2859.4992952660223, 2155.8626878527216]}, 'license_plate': {'bbox': [2371.398681640625, 1962.1402587890625, 2630.16796875, 2086.31103515625], 'text': 'AP05JEQ', 'bbox_score': 0.334224134683609, 'text_score': 0.4350684539051336}}\n",
      "{'car': {'bbox': [2110.1011800268857, 1607.8860508746388, 2865.8464808185186, 2151.362190805937]}, 'license_plate': {'bbox': [2346.077880859375, 1969.82080078125, 2655.900390625, 2114.11962890625], 'text': 'AP05JEO', 'bbox_score': 0.5298848748207092, 'text_score': 0.3122067431211045}}\n",
      "{'car': {'bbox': [2108.5848685874994, 1613.104625479741, 2863.3477536775813, 2154.15425349169]}, 'license_plate': {'bbox': [2388.50341796875, 1973.2640380859375, 2659.537353515625, 2117.845947265625], 'text': 'AP05JEO', 'bbox_score': 0.47711992263793945, 'text_score': 0.3466195497356549}}\n",
      "{'car': {'bbox': [2112.6057935935446, 1621.4448627668867, 2867.7361583050665, 2156.272835504668]}, 'license_plate': {'bbox': [2402.934814453125, 1981.3121337890625, 2662.597412109375, 2127.6455078125], 'text': 'AP05JEO', 'bbox_score': 0.46221408247947693, 'text_score': 0.44288453485738416}}\n",
      "{'car': {'bbox': [2114.291231832703, 1627.9247957034534, 2867.0529758617918, 2157.805528626358]}, 'license_plate': {'bbox': [2379.408935546875, 2002.987060546875, 2655.011962890625, 2139.979248046875], 'text': 'AP05JEO', 'bbox_score': 0.4339562654495239, 'text_score': 0.3741685023923143}}\n",
      "{'car': {'bbox': [2113.1155206666667, 1643.037756373505, 2865.878711690288, 2159.65763814606]}, 'license_plate': {'bbox': [2365.77685546875, 2017.360107421875, 2664.328125, 2154.796875], 'text': 'AP05JEO', 'bbox_score': 0.4820215702056885, 'text_score': 0.21503142796223843}}\n",
      "{'car': {'bbox': [2112.934833316541, 1649.5839322176114, 2865.504328068514, 2158.874916227245]}, 'license_plate': {'bbox': [2395.842041015625, 2024.120361328125, 2646.46630859375, 2145.986572265625], 'text': 'AP05JEO', 'bbox_score': 0.3252260386943817, 'text_score': 0.2135218535861563}}\n",
      "{'car': {'bbox': [767.7371987671052, 1583.4257312583243, 1445.1795850511523, 2154.7600265840993]}, 'license_plate': {'bbox': [980.0050048828125, 1914.413818359375, 1220.1192626953125, 2051.8330078125], 'text': 'KI05ZZK', 'bbox_score': 0.36951732635498047, 'text_score': 0.17285095055425534}}\n",
      "{'car': {'bbox': [2333.2055727030556, 1182.8354518068636, 2904.579083314122, 1674.0441479895403]}, 'license_plate': {'bbox': [2527.9892578125, 1410.1168212890625, 2707.707275390625, 1574.4320068359375], 'text': 'EY61RBG', 'bbox_score': 0.3975796699523926, 'text_score': 0.26879580621050075}}\n",
      "{'car': {'bbox': [2333.1185451484166, 1186.0639185071736, 2906.21538472178, 1680.9743692576953]}, 'license_plate': {'bbox': [2530.288330078125, 1413.9559326171875, 2708.325439453125, 1573.8831787109375], 'text': 'EY61NBG', 'bbox_score': 0.48907503485679626, 'text_score': 0.4402715207140275}}\n",
      "{'car': {'bbox': [2333.142127781019, 1194.400217314255, 2907.24267224216, 1704.2409776148836]}, 'license_plate': {'bbox': [2541.07763671875, 1416.680908203125, 2693.285888671875, 1580.134033203125], 'text': 'EY61NBG', 'bbox_score': 0.3266685903072357, 'text_score': 0.4934453951102057}}\n",
      "{'car': {'bbox': [2340.734710202333, 1209.4014781915116, 2928.4251945753394, 1731.3507526759586]}, 'license_plate': {'bbox': [2553.397216796875, 1458.5478515625, 2724.4404296875, 1616.011962890625], 'text': 'EY61NBG', 'bbox_score': 0.41159898042678833, 'text_score': 0.38423319782695586}}\n",
      "{'car': {'bbox': [2343.281852412927, 1230.2025718248567, 2933.6350312917666, 1749.8454923450201]}, 'license_plate': {'bbox': [2553.987548828125, 1472.835205078125, 2720.973876953125, 1626.158935546875], 'text': 'EY61NBG', 'bbox_score': 0.4168148934841156, 'text_score': 0.7982148485998429}}\n",
      "{'car': {'bbox': [2343.5649523707234, 1236.837605253462, 2940.860094739858, 1760.619327706873]}, 'license_plate': {'bbox': [2568.163330078125, 1484.826171875, 2713.45751953125, 1630.71875], 'text': 'EY61NBC', 'bbox_score': 0.28102806210517883, 'text_score': 0.4604151327173526}}\n",
      "{'car': {'bbox': [860.2997981372771, 1558.4997362131242, 1527.4411259485494, 2147.6114885548523]}, 'license_plate': {'bbox': [1109.639404296875, 1915.201904296875, 1305.8460693359375, 2046.81005859375], 'text': 'FJ14ZHY', 'bbox_score': 0.4456108510494232, 'text_score': 0.5368961593390694}}\n",
      "{'car': {'bbox': [2347.6193353009885, 1246.8701532202303, 2958.702735871261, 1777.5354285176518]}, 'license_plate': {'bbox': [2571.156982421875, 1506.51708984375, 2728.739013671875, 1668.179443359375], 'text': 'EY61NBG', 'bbox_score': 0.29085463285446167, 'text_score': 0.3197405159777076}}\n",
      "{'car': {'bbox': [2347.0929471274503, 1248.410733932938, 2962.182231342901, 1781.8219233894984]}, 'license_plate': {'bbox': [2577.7578125, 1522.5860595703125, 2736.872314453125, 1667.9586181640625], 'text': 'EY61NBG', 'bbox_score': 0.29282882809638977, 'text_score': 0.8918344362725147}}\n",
      "{'car': {'bbox': [2345.430120935635, 1251.8208889240568, 2961.50145689219, 1788.0782136856778]}, 'license_plate': {'bbox': [2557.545654296875, 1505.64404296875, 2754.021240234375, 1672.708740234375], 'text': 'EY61MBG', 'bbox_score': 0.3323853015899658, 'text_score': 0.37124243554811764}}\n",
      "{'car': {'bbox': [842.0406417669728, 1589.2223774241102, 1523.5313800651443, 2154.8411150328916]}, 'license_plate': {'bbox': [1070.484619140625, 1965.7197265625, 1294.9052734375, 2094.46044921875], 'text': 'FJ14ZHY', 'bbox_score': 0.515211284160614, 'text_score': 0.2679981257134994}}\n",
      "{'car': {'bbox': [824.4044545889786, 1617.5303870146263, 1513.0825242758265, 2152.9320308481592]}, 'license_plate': {'bbox': [1047.1641845703125, 2005.4263916015625, 1279.7288818359375, 2134.93017578125], 'text': 'FJ14ZHY', 'bbox_score': 0.3085448145866394, 'text_score': 0.2798734052468035}}\n",
      "{'car': {'bbox': [816.7138008444858, 1627.477007217526, 1510.264371345651, 2158.525071266474]}, 'license_plate': {'bbox': [1048.82275390625, 2018.2530517578125, 1280.427978515625, 2142.689208984375], 'text': 'FJ14ZHY', 'bbox_score': 0.46763595938682556, 'text_score': 0.4886604723212896}}\n",
      "{'car': {'bbox': [2351.2327627338022, 1284.2422303663873, 2976.9112050686413, 1835.4956528828814]}, 'license_plate': {'bbox': [2576.483642578125, 1577.2313232421875, 2756.864501953125, 1719.2611083984375], 'text': 'EY61NBG', 'bbox_score': 0.39924344420433044, 'text_score': 0.5025279305408602}}\n",
      "{'car': {'bbox': [815.8138696884648, 1634.3837296119107, 1510.0454558049373, 2161.7450391759326]}, 'license_plate': {'bbox': [1041.859130859375, 2033.40380859375, 1260.6778564453125, 2146.78564453125], 'text': 'FJ14ZMY', 'bbox_score': 0.36216458678245544, 'text_score': 0.14682492821557833}}\n",
      "{'car': {'bbox': [2352.8915899195767, 1287.8142423935944, 2980.6108708951656, 1840.9104625031575]}, 'license_plate': {'bbox': [2594.725341796875, 1573.427490234375, 2762.92529296875, 1729.11767578125], 'text': 'EY61NBG', 'bbox_score': 0.4148676097393036, 'text_score': 0.16652711292248637}}\n",
      "{'car': {'bbox': [810.709634049751, 1640.5886567568293, 1507.8888865409576, 2162.94919604789]}, 'license_plate': {'bbox': [1038.12060546875, 2031.1856689453125, 1251.246826171875, 2155.7177734375], 'text': 'FJ14ZHY', 'bbox_score': 0.3187571167945862, 'text_score': 0.27526864716804456}}\n",
      "{'car': {'bbox': [2353.6998251425266, 1301.3415397171048, 2978.9090481360217, 1853.036217868525]}, 'license_plate': {'bbox': [2581.197021484375, 1571.7674560546875, 2756.31396484375, 1730.0570068359375], 'text': 'EY61NBG', 'bbox_score': 0.4296224117279053, 'text_score': 0.3246894002481356}}\n",
      "{'car': {'bbox': [801.3115288838203, 1654.500594401307, 1507.1508875466266, 2164.727390779311]}, 'license_plate': {'bbox': [1038.815185546875, 2049.452880859375, 1253.3333740234375, 2160.0], 'text': 'FJ16ZHY', 'bbox_score': 0.263185977935791, 'text_score': 0.19587646183453844}}\n",
      "{'car': {'bbox': [2358.8273193160335, 1314.3440531518618, 2984.518223220933, 1866.403298429775]}, 'license_plate': {'bbox': [2591.27685546875, 1619.7191162109375, 2768.058837890625, 1742.6590576171875], 'text': 'EY61NBG', 'bbox_score': 0.4385409951210022, 'text_score': 0.391231671323078}}\n",
      "{'car': {'bbox': [2361.4334711573515, 1319.7953918080789, 2989.6283127626425, 1874.685516155951]}, 'license_plate': {'bbox': [2598.203857421875, 1587.5028076171875, 2756.4765625, 1732.4857177734375], 'text': 'EY61NBG', 'bbox_score': 0.31908878684043884, 'text_score': 0.4445454834763602}}\n",
      "{'car': {'bbox': [2363.1013011181817, 1323.4403530308214, 2994.8679703146468, 1880.6675570685834]}, 'license_plate': {'bbox': [2590.556884765625, 1591.0001220703125, 2780.89794921875, 1768.5985107421875], 'text': 'EY61NBG', 'bbox_score': 0.45943087339401245, 'text_score': 0.6041676596870453}}\n",
      "{'car': {'bbox': [2364.974895816888, 1326.8005782752934, 2998.428152766293, 1889.2545613106518]}, 'license_plate': {'bbox': [2583.4521484375, 1613.3177490234375, 2773.626220703125, 1763.0870361328125], 'text': 'EY61NBC', 'bbox_score': 0.5221211314201355, 'text_score': 0.24236542682487125}}\n",
      "{'car': {'bbox': [2366.1210339953577, 1327.9665674535488, 3000.3090829778894, 1895.1827245495217]}, 'license_plate': {'bbox': [2586.319580078125, 1635.785888671875, 2783.41943359375, 1769.700439453125], 'text': 'EY61NBG', 'bbox_score': 0.4600086212158203, 'text_score': 0.3529927651451758}}\n",
      "{'car': {'bbox': [2365.583169518713, 1337.2584871212996, 3001.049788978969, 1913.4568805012607]}, 'license_plate': {'bbox': [2601.71142578125, 1620.46435546875, 2792.7490234375, 1778.8447265625], 'text': 'ET61NBG', 'bbox_score': 0.3606414496898651, 'text_score': 0.2718474290546083}}\n",
      "{'car': {'bbox': [2368.0934592067024, 1348.5375877703489, 3004.443346884542, 1929.7303489367375]}, 'license_plate': {'bbox': [2603.162841796875, 1638.392333984375, 2782.513427734375, 1789.3214111328125], 'text': 'EY61NBG', 'bbox_score': 0.42723268270492554, 'text_score': 0.445938225704185}}\n",
      "{'car': {'bbox': [2377.489884910633, 1366.81386009813, 3025.5729624701544, 1952.8507336664281]}, 'license_plate': {'bbox': [2607.845947265625, 1655.2774658203125, 2804.003173828125, 1815.6719970703125], 'text': 'EY61NBG', 'bbox_score': 0.4832000434398651, 'text_score': 0.6589175559419105}}\n",
      "{'car': {'bbox': [2376.9452205607654, 1386.6504191499293, 3035.614192501925, 1977.125419195606]}, 'license_plate': {'bbox': [2619.90869140625, 1702.7744140625, 2775.15966796875, 1824.6842041015625], 'text': 'EY61NBC', 'bbox_score': 0.4027251899242401, 'text_score': 0.7421514255225022}}\n",
      "{'car': {'bbox': [2379.436627665441, 1393.751408215796, 3040.831128263464, 1987.275118416479]}, 'license_plate': {'bbox': [2612.045654296875, 1697.284423828125, 2806.7841796875, 1839.603515625], 'text': 'EY61MBG', 'bbox_score': 0.4949827790260315, 'text_score': 0.3814838113318059}}\n",
      "{'car': {'bbox': [2381.0167283854257, 1403.0112367259344, 3049.5069053600714, 1999.2936198836032]}, 'license_plate': {'bbox': [2620.2158203125, 1648.5926513671875, 2823.812255859375, 1865.8070068359375], 'text': 'EY61MBG', 'bbox_score': 0.27716323733329773, 'text_score': 0.422857641324926}}\n",
      "{'car': {'bbox': [2382.510520039123, 1410.5032924066522, 3053.375886305707, 2006.214335690434]}, 'license_plate': {'bbox': [2625.781494140625, 1699.125, 2815.549072265625, 1867.963623046875], 'text': 'EY61NBG', 'bbox_score': 0.28525224328041077, 'text_score': 0.23172118628210583}}\n",
      "{'car': {'bbox': [2384.3859456913783, 1414.3881579046003, 3058.299275625164, 2009.84759062749]}, 'license_plate': {'bbox': [2621.779541015625, 1707.380126953125, 2814.292236328125, 1866.658447265625], 'text': 'EY61MBG', 'bbox_score': 0.4820968210697174, 'text_score': 0.6954267426480876}}\n",
      "{'car': {'bbox': [2384.3769196233147, 1421.6946063764035, 3060.184095992137, 2019.567403202686]}, 'license_plate': {'bbox': [2646.248291015625, 1700.3675537109375, 2826.26123046875, 1877.256591796875], 'text': 'EY61MBG', 'bbox_score': 0.279196172952652, 'text_score': 0.6510825527997338}}\n",
      "{'car': {'bbox': [2385.4001575728053, 1426.5789639238383, 3063.264951841704, 2028.020704962938]}, 'license_plate': {'bbox': [2633.307373046875, 1743.6500244140625, 2805.54150390625, 1878.7738037109375], 'text': 'EY61NBG', 'bbox_score': 0.3799498975276947, 'text_score': 0.6767535477323036}}\n",
      "{'car': {'bbox': [2390.95358916793, 1432.5028071052393, 3073.472296828901, 2041.73320031735]}, 'license_plate': {'bbox': [2627.2314453125, 1726.8175048828125, 2836.706298828125, 1917.4112548828125], 'text': 'EY61MBG', 'bbox_score': 0.3053279519081116, 'text_score': 0.3106225655949801}}\n",
      "{'car': {'bbox': [2392.102405580121, 1437.965376910659, 3074.2325009870974, 2050.05689757778]}, 'license_plate': {'bbox': [2623.791748046875, 1772.4444580078125, 2817.154052734375, 1911.5511474609375], 'text': 'EY61NBG', 'bbox_score': 0.5380878448486328, 'text_score': 0.5806182683942942}}\n",
      "{'car': {'bbox': [2391.323489210801, 1443.190357131487, 3070.7632910154125, 2056.9874906701803]}, 'license_plate': {'bbox': [2637.160400390625, 1768.978271484375, 2850.223388671875, 1919.2467041015625], 'text': 'EY61NBG', 'bbox_score': 0.5503341555595398, 'text_score': 0.3985720125631515}}\n",
      "{'car': {'bbox': [2401.3725318564107, 1478.6819891308219, 3091.6425424378863, 2101.0862876486553]}, 'license_plate': {'bbox': [2648.894775390625, 1780.6944580078125, 2866.750732421875, 1958.1368408203125], 'text': 'EY61NBC', 'bbox_score': 0.5066689252853394, 'text_score': 0.1542678327699367}}\n",
      "{'car': {'bbox': [2407.130630172562, 1503.88565829336, 3112.4094212434325, 2127.299281771533]}, 'license_plate': {'bbox': [2650.567138671875, 1797.4976806640625, 2849.650634765625, 1973.646240234375], 'text': 'EY61NBG', 'bbox_score': 0.4434249699115753, 'text_score': 0.3503688539834484}}\n",
      "{'car': {'bbox': [2407.556218696679, 1510.4688760444913, 3118.079614358504, 2132.716841580457]}, 'license_plate': {'bbox': [2656.931396484375, 1850.3045654296875, 2843.945068359375, 1983.8001708984375], 'text': 'EY61NBG', 'bbox_score': 0.43965062499046326, 'text_score': 0.39631946049446787}}\n",
      "{'car': {'bbox': [2407.308516928071, 1517.27182877995, 3122.3237511659963, 2139.758654073395]}, 'license_plate': {'bbox': [2647.939453125, 1856.300537109375, 2858.278564453125, 2004.678955078125], 'text': 'EY61MBG', 'bbox_score': 0.281352162361145, 'text_score': 0.17605383785028486}}\n",
      "{'car': {'bbox': [2408.0646919943015, 1521.5229830918838, 3125.2806316194906, 2144.472159631857]}, 'license_plate': {'bbox': [2647.586669921875, 1849.5146484375, 2866.533203125, 2005.2813720703125], 'text': 'EY61NBG', 'bbox_score': 0.5071465969085693, 'text_score': 0.8732285151953931}}\n",
      "{'car': {'bbox': [2413.52834677844, 1529.4106920124789, 3133.1955286148614, 2148.7668170144734]}, 'license_plate': {'bbox': [2673.598388671875, 1861.2198486328125, 2854.118408203125, 2019.2325439453125], 'text': 'EY61MBG', 'bbox_score': 0.39430227875709534, 'text_score': 0.5978892390556304}}\n",
      "{'car': {'bbox': [2419.979460852524, 1549.2167006279694, 3141.892448251065, 2150.51252817336]}, 'license_plate': {'bbox': [2673.52294921875, 1904.2913818359375, 2877.541259765625, 2055.18994140625], 'text': 'EY61NBG', 'bbox_score': 0.44795677065849304, 'text_score': 0.6823463092368575}}\n",
      "{'car': {'bbox': [2422.530074181327, 1555.3902290213166, 3146.2908326622373, 2149.469846481411]}, 'license_plate': {'bbox': [2690.98828125, 1926.59765625, 2896.587158203125, 2055.43212890625], 'text': 'EY61NBG', 'bbox_score': 0.4116038382053375, 'text_score': 0.5661821242444905}}\n",
      "{'car': {'bbox': [2431.2881593683965, 1575.608620256728, 3169.3262727510414, 2151.6971846958045]}, 'license_plate': {'bbox': [2690.62451171875, 1956.18603515625, 2889.625, 2073.217041015625], 'text': 'EY61NBC', 'bbox_score': 0.5107253789901733, 'text_score': 0.4247860684251181}}\n",
      "{'car': {'bbox': [2434.727950769713, 1600.780912773547, 3179.0121662455967, 2156.0346609025005]}, 'license_plate': {'bbox': [2690.686279296875, 1922.776611328125, 2902.33154296875, 2115.81884765625], 'text': 'EY61NBC', 'bbox_score': 0.5123234987258911, 'text_score': 0.6259679354778374}}\n",
      "{'car': {'bbox': [2435.814125502528, 1606.409637142647, 3183.1379197695983, 2156.3011697886104]}, 'license_plate': {'bbox': [2698.193359375, 1944.2816162109375, 2902.52587890625, 2117.9951171875], 'text': 'EY61NBG', 'bbox_score': 0.5085312128067017, 'text_score': 0.7160686643473072}}\n",
      "{'car': {'bbox': [975.7394638571768, 1284.6413864120727, 1497.743814715839, 1661.9128444327166]}, 'license_plate': {'bbox': [1125.012451171875, 1522.2568359375, 1367.77587890625, 1657.7684326171875], 'text': 'NA54RGJ', 'bbox_score': 0.26314786076545715, 'text_score': 0.06956280643720794}}\n",
      "{'car': {'bbox': [2306.9526353242936, 1033.5680724441345, 3114.435124906063, 2060.9928057647753]}, 'license_plate': {'bbox': [2590.13671875, 1794.879638671875, 2787.15673828125, 1919.827880859375], 'text': 'BC65USJ', 'bbox_score': 0.35066431760787964, 'text_score': 0.4923985391766698}}\n",
      "{'car': {'bbox': [2304.956490950263, 1044.5602312446244, 3098.15543737536, 2078.4369237713886]}, 'license_plate': {'bbox': [2586.927978515625, 1808.685791015625, 2811.92724609375, 1940.564208984375], 'text': 'BG65USJ', 'bbox_score': 0.48487919569015503, 'text_score': 0.3981172077413796}}\n",
      "{'car': {'bbox': [2314.1028919336172, 1047.1446073626294, 3099.125842846009, 2095.334024176505]}, 'license_plate': {'bbox': [2583.972900390625, 1818.27685546875, 2808.660888671875, 1945.937255859375], 'text': 'BG65USJ', 'bbox_score': 0.5217065215110779, 'text_score': 0.8847935003323479}}\n",
      "{'car': {'bbox': [2315.9418715512656, 1049.5826439951784, 3092.696830712792, 2114.754979034511]}, 'license_plate': {'bbox': [2590.056884765625, 1828.532958984375, 2815.464599609375, 1963.2886962890625], 'text': 'BG65USJ', 'bbox_score': 0.5043894648551941, 'text_score': 0.5448006082680474}}\n",
      "{'car': {'bbox': [2312.1886769262906, 1050.0234115254148, 3094.818243308359, 2120.887252854542]}, 'license_plate': {'bbox': [2588.947998046875, 1834.057373046875, 2804.893798828125, 1962.6728515625], 'text': 'BG65USJ', 'bbox_score': 0.5328043699264526, 'text_score': 0.8735565075708932}}\n",
      "{'car': {'bbox': [1157.6294887367549, 1044.9002297677273, 1683.923899315986, 1531.63196660277]}, 'license_plate': {'bbox': [1324.5262451171875, 1295.6661376953125, 1506.337158203125, 1442.4056396484375], 'text': 'IX64DMV', 'bbox_score': 0.2956209182739258, 'text_score': 0.1566055433409858}}\n",
      "{'car': {'bbox': [2292.626299949028, 1064.5299139367096, 3127.974159350946, 2129.9753179710942]}, 'license_plate': {'bbox': [2569.286376953125, 1869.137451171875, 2795.505615234375, 2009.509765625], 'text': 'BC65USJ', 'bbox_score': 0.4808894097805023, 'text_score': 0.7739489284510822}}\n",
      "{'car': {'bbox': [2286.9071574327177, 1074.4041602420032, 3133.014050884704, 2143.3285324772933]}, 'license_plate': {'bbox': [2588.912109375, 1884.6287841796875, 2798.694580078125, 2009.7696533203125], 'text': 'BG65USJ', 'bbox_score': 0.5314472317695618, 'text_score': 0.4320936304881281}}\n",
      "{'car': {'bbox': [898.345080526133, 1378.8775382025738, 1454.4116278151353, 1784.8785495893349]}, 'license_plate': {'bbox': [1070.9404296875, 1640.186279296875, 1262.8726806640625, 1775.064697265625], 'text': 'NA56KGJ', 'bbox_score': 0.25020188093185425, 'text_score': 0.5679364509243456}}\n",
      "{'car': {'bbox': [2266.3762622630506, 1094.6167824095162, 3118.335164026115, 2155.5227447006555]}, 'license_plate': {'bbox': [2598.186279296875, 1921.9962158203125, 2804.307373046875, 2032.0594482421875], 'text': 'BG65USJ', 'bbox_score': 0.3373906910419464, 'text_score': 0.9104541102832948}}\n",
      "{'car': {'bbox': [1131.1945880570195, 1067.9713313501136, 1673.3881788253814, 1582.264194875868]}, 'license_plate': {'bbox': [1312.63232421875, 1352.3511962890625, 1479.705078125, 1485.78125], 'text': 'AK64DNN', 'bbox_score': 0.2562115788459778, 'text_score': 0.11002910012786074}}\n",
      "{'car': {'bbox': [1131.5749579201433, 1070.6320518942925, 1675.87935157504, 1586.4134923266702]}, 'license_plate': {'bbox': [1301.7939453125, 1357.639892578125, 1474.382568359375, 1483.795654296875], 'text': 'AK64DMV', 'bbox_score': 0.4444706439971924, 'text_score': 0.5766682141762162}}\n",
      "{'car': {'bbox': [1127.3535092399502, 1073.5934728106508, 1671.126141063215, 1587.9931927940247]}, 'license_plate': {'bbox': [1299.7281494140625, 1363.2760009765625, 1470.404052734375, 1482.0272216796875], 'text': 'AK64DMV', 'bbox_score': 0.3857004940509796, 'text_score': 0.26258496552885424}}\n",
      "{'car': {'bbox': [879.408936705179, 1434.5819039366095, 1443.6041070872477, 1853.4962241678884]}, 'license_plate': {'bbox': [1056.5482177734375, 1709.4085693359375, 1250.8956298828125, 1839.1622314453125], 'text': 'NA54KGJ', 'bbox_score': 0.33073562383651733, 'text_score': 0.10215837220863304}}\n",
      "{'car': {'bbox': [1120.679785444775, 1077.0065942536082, 1674.0058868551023, 1594.6628634417573]}, 'license_plate': {'bbox': [1303.3917236328125, 1372.8648681640625, 1470.52587890625, 1489.439208984375], 'text': 'AK64DMY', 'bbox_score': 0.33028310537338257, 'text_score': 0.18754813524756808}}\n",
      "{'car': {'bbox': [1098.7015078612958, 1086.5192936212493, 1661.4753259576883, 1604.975504860373]}, 'license_plate': {'bbox': [1275.9730224609375, 1373.782958984375, 1481.9671630859375, 1516.86669921875], 'text': 'AK64DKY', 'bbox_score': 0.33883213996887207, 'text_score': 0.13629808844948432}}\n",
      "{'car': {'bbox': [1093.131938694184, 1096.0629650781098, 1655.8444955138589, 1617.4345932052029]}, 'license_plate': {'bbox': [1274.9952392578125, 1394.5665283203125, 1470.945556640625, 1526.415283203125], 'text': 'AH64OMV', 'bbox_score': 0.43869397044181824, 'text_score': 0.18383165583663436}}\n",
      "{'car': {'bbox': [1092.7642184819642, 1097.6399940452784, 1654.119874363667, 1619.7106034693952]}, 'license_plate': {'bbox': [1287.6173095703125, 1391.9755859375, 1461.3338623046875, 1529.126708984375], 'text': 'AK64OMV', 'bbox_score': 0.3025304079055786, 'text_score': 0.7175217570526796}}\n",
      "{'car': {'bbox': [1092.7255906764333, 1116.3128966740237, 1652.8085302511734, 1640.848229817108]}, 'license_plate': {'bbox': [1266.27294921875, 1401.739501953125, 1446.9427490234375, 1535.7210693359375], 'text': 'AK64DMV', 'bbox_score': 0.4489600658416748, 'text_score': 0.3975379215815375}}\n",
      "{'car': {'bbox': [1081.957953727292, 1121.4301532729862, 1649.7286646563057, 1649.9863492539669]}, 'license_plate': {'bbox': [1289.6583251953125, 1420.687255859375, 1442.5010986328125, 1542.0162353515625], 'text': 'AK64DMV', 'bbox_score': 0.42081254720687866, 'text_score': 0.7615675482525788}}\n",
      "{'car': {'bbox': [1073.1836704116122, 1135.1568468143382, 1650.0385516528818, 1665.142370903713]}, 'license_plate': {'bbox': [1262.2171630859375, 1419.283447265625, 1463.0457763671875, 1563.435791015625], 'text': 'AK64DMV', 'bbox_score': 0.4014861285686493, 'text_score': 0.5510553789692701}}\n",
      "{'car': {'bbox': [1071.1968892930581, 1139.4188023119136, 1650.8972086782533, 1667.634662922294]}, 'license_plate': {'bbox': [1264.6944580078125, 1427.2779541015625, 1453.05419921875, 1562.091552734375], 'text': 'AK64DMV', 'bbox_score': 0.5010072588920593, 'text_score': 0.6141501069678007}}\n",
      "{'car': {'bbox': [1068.7672321865673, 1139.972698377946, 1651.5942121452492, 1670.1908331309692]}, 'license_plate': {'bbox': [1254.85986328125, 1434.8232421875, 1449.749267578125, 1567.29345703125], 'text': 'AK64DMY', 'bbox_score': 0.4717072546482086, 'text_score': 0.38239422710685894}}\n",
      "{'car': {'bbox': [1060.9153501292321, 1151.0916123242293, 1645.4465384915184, 1680.8905835233525]}, 'license_plate': {'bbox': [1253.6099853515625, 1444.8428955078125, 1441.775390625, 1573.8304443359375], 'text': 'AK64DKV', 'bbox_score': 0.3624151051044464, 'text_score': 0.25687336836712626}}\n",
      "{'car': {'bbox': [1053.4538717362805, 1159.1264174223356, 1631.379981763371, 1690.1285014303576]}, 'license_plate': {'bbox': [1245.705810546875, 1449.945068359375, 1434.232666015625, 1585.9354248046875], 'text': 'AK64DMV', 'bbox_score': 0.2837885022163391, 'text_score': 0.4662344527941062}}\n",
      "{'car': {'bbox': [1050.8745629484333, 1160.7951012881404, 1627.4306887062162, 1692.858184863681]}, 'license_plate': {'bbox': [1242.314208984375, 1443.432861328125, 1444.121337890625, 1580.968505859375], 'text': 'AK64DMV', 'bbox_score': 0.4400782883167267, 'text_score': 0.7667926703586061}}\n",
      "{'car': {'bbox': [1051.6046733564172, 1164.5585982505236, 1628.5161261001113, 1697.9332220669648]}, 'license_plate': {'bbox': [1237.7105712890625, 1450.9293212890625, 1433.7557373046875, 1582.6370849609375], 'text': 'AK64DMV', 'bbox_score': 0.4786280691623688, 'text_score': 0.5174199333286016}}\n",
      "{'car': {'bbox': [1048.2339472404597, 1165.2746647067124, 1625.6469849706568, 1700.2425077179187]}, 'license_plate': {'bbox': [1231.876953125, 1460.0435791015625, 1424.4610595703125, 1583.081298828125], 'text': 'AK64DMV', 'bbox_score': 0.35933229327201843, 'text_score': 0.5958103763081504}}\n",
      "{'car': {'bbox': [1046.6647399643955, 1165.9926891534794, 1625.2986369006542, 1702.806064291966]}, 'license_plate': {'bbox': [1264.9664306640625, 1469.1412353515625, 1407.3309326171875, 1586.3712158203125], 'text': 'IK64DMV', 'bbox_score': 0.3017473816871643, 'text_score': 0.5480805133609855}}\n",
      "{'car': {'bbox': [1038.7897552179033, 1167.6793534090884, 1621.9642804820755, 1707.1862698634345]}, 'license_plate': {'bbox': [1226.911865234375, 1467.7789306640625, 1413.5904541015625, 1587.911865234375], 'text': 'AK64DMV', 'bbox_score': 0.25265058875083923, 'text_score': 0.6200958190808967}}\n",
      "{'car': {'bbox': [1031.3256348536124, 1169.2761831672906, 1619.9444125979176, 1712.6421330162525]}, 'license_plate': {'bbox': [1227.4603271484375, 1475.70263671875, 1433.80224609375, 1605.47607421875], 'text': 'AK64DMV', 'bbox_score': 0.4245847761631012, 'text_score': 0.6044576104219093}}\n",
      "{'car': {'bbox': [798.2463305599058, 1605.0442068875186, 1417.4299539067288, 2075.836632393602]}, 'license_plate': {'bbox': [993.6339111328125, 1907.817626953125, 1198.58203125, 2057.957763671875], 'text': 'NA54KGJ', 'bbox_score': 0.36663758754730225, 'text_score': 0.2631815446451453}}\n",
      "{'car': {'bbox': [1022.2600230976809, 1178.6847923864098, 1617.4383954639102, 1727.08405349248]}, 'license_plate': {'bbox': [1218.7545166015625, 1499.233154296875, 1412.9554443359375, 1620.216796875], 'text': 'AK64DMV', 'bbox_score': 0.4540843069553375, 'text_score': 0.5749351757116078}}\n",
      "{'car': {'bbox': [1021.1280114831285, 1181.1274796628477, 1617.5202796795397, 1731.2053342407385]}, 'license_plate': {'bbox': [1200.4925537109375, 1495.0865478515625, 1406.9091796875, 1620.7188720703125], 'text': 'AK54DMV', 'bbox_score': 0.5718913078308105, 'text_score': 0.6392790110782388}}\n",
      "{'car': {'bbox': [1018.365382249347, 1184.0971921012756, 1615.9579831693454, 1736.6069845057636]}, 'license_plate': {'bbox': [1197.3948974609375, 1492.0323486328125, 1397.838623046875, 1621.6431884765625], 'text': 'AK64DMV', 'bbox_score': 0.42961186170578003, 'text_score': 0.441883156524785}}\n",
      "{'car': {'bbox': [1016.3386466535151, 1186.6705008983581, 1615.3070544484524, 1739.986686198552]}, 'license_plate': {'bbox': [1209.6595458984375, 1497.09521484375, 1405.3756103515625, 1626.175048828125], 'text': 'AK64DMV', 'bbox_score': 0.5347458124160767, 'text_score': 0.7803635856075412}}\n",
      "{'car': {'bbox': [1015.7929219631542, 1191.0761248425054, 1616.9179111565536, 1746.2290704952477]}, 'license_plate': {'bbox': [1200.2584228515625, 1488.4017333984375, 1396.86328125, 1628.4814453125], 'text': 'AK64DMV', 'bbox_score': 0.5682193040847778, 'text_score': 0.6706844221456296}}\n",
      "{'car': {'bbox': [1013.6872112520259, 1193.9274492156073, 1617.7733638719774, 1751.5913682879263]}, 'license_plate': {'bbox': [1213.9666748046875, 1497.79541015625, 1388.2962646484375, 1627.987060546875], 'text': 'AK64DMV', 'bbox_score': 0.3465788960456848, 'text_score': 0.4700769692837239}}\n",
      "{'car': {'bbox': [1005.681949454416, 1202.3197326751329, 1616.9253505682295, 1760.938311089933]}, 'license_plate': {'bbox': [1221.2772216796875, 1517.1177978515625, 1379.0625, 1635.1351318359375], 'text': 'AK64DMV', 'bbox_score': 0.425538033246994, 'text_score': 0.5254861740756888}}\n",
      "{'car': {'bbox': [1001.6806986948443, 1207.9283403277686, 1615.0261429093482, 1769.4867677962848]}, 'license_plate': {'bbox': [1195.9559326171875, 1523.58447265625, 1405.5618896484375, 1645.5404052734375], 'text': 'AX64DMV', 'bbox_score': 0.4653943181037903, 'text_score': 0.20877469938944976}}\n",
      "{'car': {'bbox': [989.7198870007022, 1218.2326536463156, 1602.719903198672, 1782.380614166957]}, 'license_plate': {'bbox': [1182.463623046875, 1542.6141357421875, 1396.6026611328125, 1669.6827392578125], 'text': 'AK54DMV', 'bbox_score': 0.4823237359523773, 'text_score': 0.19579757887153879}}\n",
      "{'car': {'bbox': [983.8634799372688, 1228.2178434735483, 1600.0082704453744, 1797.1042409317588]}, 'license_plate': {'bbox': [1179.6143798828125, 1545.6881103515625, 1389.0635986328125, 1671.2398681640625], 'text': 'AK64DMV', 'bbox_score': 0.4758429229259491, 'text_score': 0.1459526759548042}}\n",
      "{'car': {'bbox': [980.9510938171077, 1230.920683086702, 1597.2568351462508, 1800.3820023482058]}, 'license_plate': {'bbox': [1177.3699951171875, 1542.4398193359375, 1358.4312744140625, 1671.8323974609375], 'text': 'AK64DRV', 'bbox_score': 0.4014078378677368, 'text_score': 0.34700295374639734}}\n",
      "{'car': {'bbox': [978.6125131316701, 1236.1441037584627, 1593.87038513321, 1808.5141778231873]}, 'license_plate': {'bbox': [1162.0657958984375, 1568.9110107421875, 1362.6600341796875, 1685.863037109375], 'text': 'AK64DMV', 'bbox_score': 0.4457232654094696, 'text_score': 0.4417811520321669}}\n",
      "{'car': {'bbox': [972.568049242099, 1241.9194800775654, 1589.597947947593, 1816.026886780261]}, 'license_plate': {'bbox': [1163.4173583984375, 1576.2216796875, 1384.670654296875, 1705.93798828125], 'text': 'AK64DMV', 'bbox_score': 0.583199143409729, 'text_score': 0.67667476334253}}\n",
      "{'car': {'bbox': [967.9780127382655, 1249.5413170409206, 1585.6503515152813, 1826.4205864579712]}, 'license_plate': {'bbox': [1165.1539306640625, 1579.26123046875, 1376.0228271484375, 1707.0732421875], 'text': 'AK64DMV', 'bbox_score': 0.5183011293411255, 'text_score': 0.4925818208104536}}\n",
      "{'car': {'bbox': [963.1057827451341, 1255.827330324667, 1582.0110547535564, 1835.7104077487697]}, 'license_plate': {'bbox': [1158.5806884765625, 1596.5054931640625, 1377.5811767578125, 1713.82958984375], 'text': 'AK64DHV', 'bbox_score': 0.49996352195739746, 'text_score': 0.6110150124083888}}\n",
      "{'car': {'bbox': [959.0681131071772, 1258.4904635185594, 1580.156899547004, 1840.1703948839868]}, 'license_plate': {'bbox': [1151.8154296875, 1594.8753662109375, 1369.52783203125, 1713.4259033203125], 'text': 'AK64DMV', 'bbox_score': 0.5743674635887146, 'text_score': 0.6907161465354343}}\n",
      "{'car': {'bbox': [954.6240872606802, 1261.9202080691048, 1579.797898440346, 1844.7458690071426]}, 'license_plate': {'bbox': [1167.9986572265625, 1595.5147705078125, 1362.87158203125, 1719.5833740234375], 'text': 'AK64OMV', 'bbox_score': 0.5584854483604431, 'text_score': 0.3854497836026233}}\n",
      "{'car': {'bbox': [946.4540311336589, 1265.5729084460834, 1577.7192026451496, 1850.543524845106]}, 'license_plate': {'bbox': [1147.4063720703125, 1598.441162109375, 1361.4932861328125, 1725.7276611328125], 'text': 'AK64DMV', 'bbox_score': 0.5417324900627136, 'text_score': 0.3678148318740127}}\n",
      "{'car': {'bbox': [943.9372175909177, 1267.930246607735, 1577.6146411123234, 1854.5265707194492]}, 'license_plate': {'bbox': [1161.0228271484375, 1594.2401123046875, 1355.350341796875, 1728.7449951171875], 'text': 'AK64DMV', 'bbox_score': 0.4509023129940033, 'text_score': 0.5640613195064178}}\n",
      "{'car': {'bbox': [944.229771144231, 1270.1127081253417, 1576.2256982402841, 1857.747511639595]}, 'license_plate': {'bbox': [1160.3726806640625, 1614.686767578125, 1343.2489013671875, 1727.6676025390625], 'text': 'AK64DMV', 'bbox_score': 0.46299442648887634, 'text_score': 0.5738304385351091}}\n",
      "{'car': {'bbox': [928.4826846982064, 1289.4861815750091, 1567.9586710128929, 1887.6970672782331]}, 'license_plate': {'bbox': [1135.4158935546875, 1635.6534423828125, 1347.33837890625, 1761.017333984375], 'text': 'AK64DMV', 'bbox_score': 0.553381621837616, 'text_score': 0.5602598920016888}}\n",
      "{'car': {'bbox': [926.1901516071841, 1294.0069579216142, 1567.0331071254066, 1893.8476287953372]}, 'license_plate': {'bbox': [1144.6937255859375, 1642.8929443359375, 1346.9312744140625, 1769.0401611328125], 'text': 'AK64DMV', 'bbox_score': 0.5051756501197815, 'text_score': 0.3312547091222384}}\n",
      "{'car': {'bbox': [919.2499247502437, 1301.4639204666105, 1564.641295406866, 1903.9726950685385]}, 'license_plate': {'bbox': [1118.3123779296875, 1642.8885498046875, 1315.627197265625, 1771.9844970703125], 'text': 'AK64DMV', 'bbox_score': 0.4756079912185669, 'text_score': 0.7162557805808207}}\n",
      "{'car': {'bbox': [909.3070990875358, 1309.866851800975, 1561.4188624972967, 1912.6168870936626]}, 'license_plate': {'bbox': [1118.1397705078125, 1658.28369140625, 1340.599365234375, 1780.87646484375], 'text': 'AK64DAV', 'bbox_score': 0.4103936553001404, 'text_score': 0.57547351921346}}\n",
      "{'car': {'bbox': [906.3736667398814, 1313.023639864597, 1562.117739968882, 1917.3160450163405]}, 'license_plate': {'bbox': [1115.7225341796875, 1656.7049560546875, 1357.9930419921875, 1813.4981689453125], 'text': 'AK64DMV', 'bbox_score': 0.271564245223999, 'text_score': 0.4456832412323194}}\n",
      "{'car': {'bbox': [903.8098060330665, 1315.7476536583729, 1561.737319208885, 1923.5545396617688]}, 'license_plate': {'bbox': [1119.439453125, 1664.5654296875, 1353.03662109375, 1798.7227783203125], 'text': 'AK64DMV', 'bbox_score': 0.5101102590560913, 'text_score': 0.45030768298396556}}\n",
      "{'car': {'bbox': [899.9485126352448, 1320.5267961475895, 1560.1503373971464, 1929.6599398275405]}, 'license_plate': {'bbox': [1119.1649169921875, 1667.5272216796875, 1358.8829345703125, 1811.70703125], 'text': 'AK54DMV', 'bbox_score': 0.5880762934684753, 'text_score': 0.47219036642285767}}\n",
      "{'car': {'bbox': [2322.9700477022334, 1245.8496014827351, 2876.163903963089, 1724.0201117256179]}, 'license_plate': {'bbox': [2509.37548828125, 1536.4658203125, 2689.692138671875, 1657.541748046875], 'text': 'EF10DZT', 'bbox_score': 0.2771693766117096, 'text_score': 0.281071358857868}}\n",
      "{'car': {'bbox': [899.1147555237484, 1323.804560210739, 1559.9924475327334, 1933.9191357586733]}, 'license_plate': {'bbox': [1121.513671875, 1669.470703125, 1349.1181640625, 1810.358642578125], 'text': 'AK64DMV', 'bbox_score': 0.5551654100418091, 'text_score': 0.9470531917255859}}\n",
      "{'car': {'bbox': [895.0880023566937, 1326.57989666292, 1558.9139220184816, 1938.3231148124687]}, 'license_plate': {'bbox': [1098.126220703125, 1686.549072265625, 1336.1292724609375, 1813.1361083984375], 'text': 'AK64DMV', 'bbox_score': 0.4377273917198181, 'text_score': 0.638970084581495}}\n",
      "{'car': {'bbox': [890.6744672714599, 1331.0683187114316, 1557.427439619055, 1945.2199267963485]}, 'license_plate': {'bbox': [1114.6417236328125, 1684.2030029296875, 1337.9000244140625, 1821.2149658203125], 'text': 'AK64DMV', 'bbox_score': 0.5821340084075928, 'text_score': 0.7504444165635891}}\n",
      "{'car': {'bbox': [885.7849479229754, 1339.7836819543588, 1556.6144578174062, 1959.2201058297376]}, 'license_plate': {'bbox': [1134.77294921875, 1688.47998046875, 1334.638427734375, 1829.556884765625], 'text': 'AK64DMV', 'bbox_score': 0.5277045369148254, 'text_score': 0.44521247841797196}}\n",
      "{'car': {'bbox': [2327.730608208877, 1267.4320897770212, 2884.716429888088, 1751.5374586126077]}, 'license_plate': {'bbox': [2525.133056640625, 1550.3602294921875, 2683.9990234375, 1673.4078369140625], 'text': 'EF10DZT', 'bbox_score': 0.3362949788570404, 'text_score': 0.6816887054854033}}\n",
      "{'car': {'bbox': [885.8334404375327, 1344.592034832397, 1558.2150618367955, 1966.8623345408068]}, 'license_plate': {'bbox': [1095.2705078125, 1710.8638916015625, 1327.668701171875, 1829.654296875], 'text': 'AK64DMV', 'bbox_score': 0.5327232480049133, 'text_score': 0.677492153307683}}\n",
      "{'car': {'bbox': [2330.1774152152843, 1273.2710397957114, 2891.3637501911594, 1761.2230833993456]}, 'license_plate': {'bbox': [2517.95947265625, 1569.00732421875, 2683.06494140625, 1688.759033203125], 'text': 'EF10DZT', 'bbox_score': 0.3432101905345917, 'text_score': 0.8175771109398047}}\n",
      "{'car': {'bbox': [878.2893214334354, 1351.8691353109257, 1555.3096647914026, 1979.0268936923703]}, 'license_plate': {'bbox': [1102.3441162109375, 1714.3494873046875, 1337.00439453125, 1851.0340576171875], 'text': 'AK64DMV', 'bbox_score': 0.5804735422134399, 'text_score': 0.5747249091883903}}\n",
      "{'car': {'bbox': [879.0868031761219, 1358.2356851400193, 1555.000921601173, 1987.1169290917185]}, 'license_plate': {'bbox': [1092.0494384765625, 1726.6278076171875, 1332.810791015625, 1862.2342529296875], 'text': 'AK64DMV', 'bbox_score': 0.3981034457683563, 'text_score': 0.6214008722994566}}\n",
      "{'car': {'bbox': [878.111860144544, 1366.3705359167916, 1554.5916250223472, 1997.0033641004466]}, 'license_plate': {'bbox': [1103.52978515625, 1730.6993408203125, 1328.906982421875, 1870.253173828125], 'text': 'AK64DMV', 'bbox_score': 0.5281505584716797, 'text_score': 0.4591699997176232}}\n",
      "{'car': {'bbox': [876.328276752178, 1369.6555415934704, 1552.4456929757846, 2001.2709178772834]}, 'license_plate': {'bbox': [1090.587890625, 1738.0872802734375, 1311.4412841796875, 1867.5706787109375], 'text': 'AK64DMV', 'bbox_score': 0.5835979580879211, 'text_score': 0.547648108140595}}\n",
      "{'car': {'bbox': [873.5305931053208, 1372.0120796384765, 1550.4140619078016, 2004.6621696792702]}, 'license_plate': {'bbox': [1088.452880859375, 1731.923583984375, 1322.9150390625, 1873.872802734375], 'text': 'AK64DMV', 'bbox_score': 0.5672681927680969, 'text_score': 0.28369840443611066}}\n",
      "{'car': {'bbox': [867.6343445380887, 1376.8063892734408, 1546.415397888714, 2010.8375172246174]}, 'license_plate': {'bbox': [1088.02783203125, 1738.7164306640625, 1314.905029296875, 1871.6671142578125], 'text': 'AK64DMV', 'bbox_score': 0.4421846568584442, 'text_score': 0.5052947625244032}}\n",
      "{'car': {'bbox': [862.1069944243457, 1384.4102445755257, 1543.580928219276, 2020.6820177664426]}, 'license_plate': {'bbox': [1118.9952392578125, 1751.2412109375, 1315.00634765625, 1884.85693359375], 'text': 'AK64DMV', 'bbox_score': 0.32043302059173584, 'text_score': 0.6582609407036069}}\n",
      "{'car': {'bbox': [858.6980857956255, 1394.0485319755787, 1542.2522465341854, 2032.4529807935198]}, 'license_plate': {'bbox': [1082.65576171875, 1776.448974609375, 1325.255859375, 1913.4591064453125], 'text': 'AK64DMV', 'bbox_score': 0.5263292789459229, 'text_score': 0.30396394011158817}}\n",
      "{'car': {'bbox': [856.8658843808328, 1398.4560358406134, 1541.423300216359, 2039.570140728736]}, 'license_plate': {'bbox': [1085.3868408203125, 1787.41259765625, 1292.2034912109375, 1908.521484375], 'text': 'AK64OMV', 'bbox_score': 0.3997257649898529, 'text_score': 0.5964860960412411}}\n",
      "{'car': {'bbox': [854.956195655868, 1401.1875963312739, 1539.1770520379675, 2045.2747952289849]}, 'license_plate': {'bbox': [1084.844970703125, 1781.4105224609375, 1320.9884033203125, 1919.5877685546875], 'text': 'AK64DMV', 'bbox_score': 0.5521580576896667, 'text_score': 0.25679960602269486}}\n",
      "{'car': {'bbox': [2331.4039424834896, 1313.915018203787, 2909.443724608616, 1817.7486537381924]}, 'license_plate': {'bbox': [2526.21630859375, 1618.8824462890625, 2699.304443359375, 1733.4427490234375], 'text': 'EF10DZT', 'bbox_score': 0.3886272609233856, 'text_score': 0.3683114700524496}}\n",
      "{'car': {'bbox': [853.5032014276858, 1406.0519795644375, 1537.6341281868258, 2051.8850808705856]}, 'license_plate': {'bbox': [1082.90087890625, 1780.178466796875, 1314.69189453125, 1916.353271484375], 'text': 'AK64DMV', 'bbox_score': 0.6169856190681458, 'text_score': 0.472317519325422}}\n",
      "{'car': {'bbox': [852.4682821130275, 1412.176171344151, 1539.138440994145, 2060.1822060926265]}, 'license_plate': {'bbox': [1065.5457763671875, 1778.6888427734375, 1314.9603271484375, 1925.4669189453125], 'text': 'AK64DMV', 'bbox_score': 0.5787215232849121, 'text_score': 0.29551139731478326}}\n",
      "{'car': {'bbox': [849.8025856771659, 1415.3477627633515, 1539.0465041862526, 2066.3829253285703]}, 'license_plate': {'bbox': [1074.9510498046875, 1792.9617919921875, 1297.6182861328125, 1917.2882080078125], 'text': 'AK64DMV', 'bbox_score': 0.4685615003108978, 'text_score': 0.44418440165378303}}\n",
      "{'car': {'bbox': [847.8320291421663, 1421.379898791657, 1542.6206293444943, 2075.445617219571]}, 'license_plate': {'bbox': [1078.7139892578125, 1800.751220703125, 1317.59228515625, 1944.58056640625], 'text': 'AK64DMV', 'bbox_score': 0.4719921946525574, 'text_score': 0.5141016781876496}}\n",
      "{'car': {'bbox': [844.6380042377419, 1426.0613006699896, 1542.2481458296033, 2082.9885576522656]}, 'license_plate': {'bbox': [1074.0390625, 1807.839111328125, 1313.4144287109375, 1949.525390625], 'text': 'AK64DMV', 'bbox_score': 0.5263496041297913, 'text_score': 0.7235617518876206}}\n",
      "{'car': {'bbox': [841.3546288908207, 1428.6938784662275, 1540.7889897412974, 2088.343301428245]}, 'license_plate': {'bbox': [1070.2056884765625, 1809.9210205078125, 1319.419189453125, 1957.2857666015625], 'text': 'AK64DMV', 'bbox_score': 0.5901238322257996, 'text_score': 0.6758932403980172}}\n",
      "{'car': {'bbox': [835.9460994612829, 1433.297718963434, 1536.4215703799669, 2094.3520554661977]}, 'license_plate': {'bbox': [1068.2890625, 1821.44580078125, 1313.06591796875, 1956.4366455078125], 'text': 'AK64DMV', 'bbox_score': 0.594397246837616, 'text_score': 0.8760362209019523}}\n",
      "{'car': {'bbox': [835.3871017866807, 1439.9496788242138, 1535.2018649271643, 2100.623863403315]}, 'license_plate': {'bbox': [1079.409423828125, 1826.2991943359375, 1307.9000244140625, 1966.1295166015625], 'text': 'AK64DMV', 'bbox_score': 0.5521602630615234, 'text_score': 0.7529934739831435}}\n",
      "{'car': {'bbox': [834.3045856671879, 1444.1436391194638, 1534.152356694182, 2106.3810347072317]}, 'license_plate': {'bbox': [1072.3316650390625, 1830.93017578125, 1298.947021484375, 1965.000732421875], 'text': 'AK64DMV', 'bbox_score': 0.5804390907287598, 'text_score': 0.7532482870352797}}\n",
      "{'car': {'bbox': [831.5675196721469, 1448.8135617735338, 1531.7851626052425, 2111.2772150878595]}, 'license_plate': {'bbox': [1048.6080322265625, 1828.17041015625, 1299.314208984375, 1972.95703125], 'text': 'AK64DMV', 'bbox_score': 0.513378918170929, 'text_score': 0.7484164031080823}}\n",
      "{'car': {'bbox': [825.2541086361498, 1455.062469437234, 1528.3986657761975, 2117.7957221687984]}, 'license_plate': {'bbox': [1069.20751953125, 1850.6551513671875, 1261.044189453125, 1972.575927734375], 'text': 'AK64DMV', 'bbox_score': 0.35488569736480713, 'text_score': 0.6673176882390938}}\n",
      "{'car': {'bbox': [2332.630533583463, 1356.786198416479, 2924.853938777306, 1882.6119274018645]}, 'license_plate': {'bbox': [2536.42333984375, 1675.4600830078125, 2740.948486328125, 1803.4735107421875], 'text': 'EF10DZT', 'bbox_score': 0.29226842522621155, 'text_score': 0.33770531510630736}}\n",
      "{'car': {'bbox': [821.0285803010519, 1456.8132493691044, 1527.4818417267397, 2120.482630850429]}, 'license_plate': {'bbox': [1056.3262939453125, 1853.3741455078125, 1304.81982421875, 1996.3912353515625], 'text': 'AK64DMV', 'bbox_score': 0.5698754191398621, 'text_score': 0.3984019712281415}}\n",
      "{'car': {'bbox': [2333.0432478189628, 1363.0804017236014, 2923.6539380066365, 1886.761973940559]}, 'license_plate': {'bbox': [2529.322509765625, 1675.6483154296875, 2741.984130859375, 1800.4962158203125], 'text': 'EF10DZT', 'bbox_score': 0.44050121307373047, 'text_score': 0.4554150289983015}}\n",
      "{'car': {'bbox': [816.2365418023119, 1462.2653305336535, 1528.924533601019, 2126.696179004395]}, 'license_plate': {'bbox': [1045.3502197265625, 1864.6458740234375, 1296.8682861328125, 2001.897705078125], 'text': 'AK64DMV', 'bbox_score': 0.6260469555854797, 'text_score': 0.7127250434422407}}\n",
      "{'car': {'bbox': [2336.388639103099, 1364.2260755677353, 2930.452593867165, 1889.2542821414295]}, 'license_plate': {'bbox': [2530.853759765625, 1682.023681640625, 2741.698974609375, 1809.652587890625], 'text': 'EF10DZT', 'bbox_score': 0.3417527377605438, 'text_score': 0.210273120547902}}\n",
      "{'car': {'bbox': [814.0700630116224, 1469.6656186974092, 1530.314158683581, 2134.2298247803456]}, 'license_plate': {'bbox': [1053.19140625, 1876.836181640625, 1271.6085205078125, 1996.6585693359375], 'text': 'AK64DMV', 'bbox_score': 0.5924683809280396, 'text_score': 0.43162113877714164}}\n",
      "{'car': {'bbox': [808.2305307748679, 1471.0977819821562, 1527.7817033817964, 2136.3698872774758]}, 'license_plate': {'bbox': [1048.9417724609375, 1884.812744140625, 1274.7884521484375, 2006.08056640625], 'text': 'AK64DMV', 'bbox_score': 0.5233677625656128, 'text_score': 0.5451881561171893}}\n",
      "{'car': {'bbox': [2338.3774252546664, 1372.6822521970096, 2937.2677245553787, 1899.7120506425415]}, 'license_plate': {'bbox': [2525.537109375, 1692.498779296875, 2731.5322265625, 1815.72509765625], 'text': 'EF10DZT', 'bbox_score': 0.3896792531013489, 'text_score': 0.4378885850476639}}\n",
      "{'car': {'bbox': [807.4512015585741, 1476.1081667329936, 1528.3373904098898, 2142.4495532729075]}, 'license_plate': {'bbox': [1052.1551513671875, 1875.2117919921875, 1287.060791015625, 2012.047607421875], 'text': 'AK64DMV', 'bbox_score': 0.5814094543457031, 'text_score': 0.421837367824895}}\n",
      "{'car': {'bbox': [806.2459543419703, 1481.1335560938962, 1526.7471005613384, 2145.875220092589]}, 'license_plate': {'bbox': [1038.1517333984375, 1879.4857177734375, 1291.4971923828125, 2019.3350830078125], 'text': 'AK64DMV', 'bbox_score': 0.5933443307876587, 'text_score': 0.8397145258500504}}\n",
      "{'car': {'bbox': [803.9932942333544, 1486.2428659700493, 1525.2834946826274, 2148.868777389973]}, 'license_plate': {'bbox': [1038.327880859375, 1877.4547119140625, 1286.377197265625, 2018.6348876953125], 'text': 'AK64DMV', 'bbox_score': 0.599585235118866, 'text_score': 0.4277373290830031}}\n",
      "{'car': {'bbox': [2335.11512416694, 1393.9513768549032, 2941.226680256968, 1924.1931716910835]}, 'license_plate': {'bbox': [2543.2509765625, 1703.3653564453125, 2755.366943359375, 1851.5328369140625], 'text': 'EF10DZT', 'bbox_score': 0.25594985485076904, 'text_score': 0.416110805950709}}\n",
      "{'car': {'bbox': [803.9861889786448, 1496.1717707057346, 1525.6791923104488, 2149.8055250971574]}, 'license_plate': {'bbox': [1040.0863037109375, 1916.3570556640625, 1269.2193603515625, 2041.53564453125], 'text': 'AK64DMV', 'bbox_score': 0.5323338508605957, 'text_score': 0.7440098185589177}}\n",
      "{'car': {'bbox': [802.6277176802871, 1502.9030498447682, 1525.3836209978547, 2150.4226729985303]}, 'license_plate': {'bbox': [1032.399658203125, 1919.0303955078125, 1269.692138671875, 2050.245849609375], 'text': 'AK64DMV', 'bbox_score': 0.5490879416465759, 'text_score': 0.5928290785631407}}\n",
      "{'car': {'bbox': [799.6223840742485, 1511.3943455111155, 1523.6005350718037, 2154.0128632189235]}, 'license_plate': {'bbox': [1036.1348876953125, 1924.4293212890625, 1278.076904296875, 2055.00830078125], 'text': 'AK64DMV', 'bbox_score': 0.5091595649719238, 'text_score': 0.7126419185303403}}\n",
      "{'car': {'bbox': [2339.449193623993, 1411.4539248057267, 2955.1452216394428, 1944.1041672080041]}, 'license_plate': {'bbox': [2530.693359375, 1737.371826171875, 2743.4150390625, 1861.2939453125], 'text': 'EF10DZT', 'bbox_score': 0.3142642676830292, 'text_score': 0.30699556824005764}}\n",
      "{'car': {'bbox': [793.977266381693, 1520.5232561466278, 1520.0763651746947, 2157.2597601579128]}, 'license_plate': {'bbox': [1030.9200439453125, 1929.89501953125, 1262.9761962890625, 2056.515380859375], 'text': 'AK64DMV', 'bbox_score': 0.528110921382904, 'text_score': 0.5524354095769012}}\n",
      "{'car': {'bbox': [788.8345524600358, 1526.5220336089108, 1517.754634472802, 2157.408323802645]}, 'license_plate': {'bbox': [1028.080810546875, 1926.500244140625, 1271.88134765625, 2064.17138671875], 'text': 'AK64DMV', 'bbox_score': 0.5188809633255005, 'text_score': 0.5272264460731244}}\n",
      "{'car': {'bbox': [788.6337635271294, 1533.7224799868864, 1516.9061939270118, 2155.8685416271965]}, 'license_plate': {'bbox': [1021.3956298828125, 1930.34326171875, 1256.4957275390625, 2063.968505859375], 'text': 'AK64DMV', 'bbox_score': 0.49470844864845276, 'text_score': 0.7582622979846102}}\n",
      "{'car': {'bbox': [2336.24953669805, 1425.6600817697113, 2963.3287141975306, 1962.1205877755415]}, 'license_plate': {'bbox': [2548.792724609375, 1739.0465087890625, 2741.46240234375, 1866.428955078125], 'text': 'EF10DZT', 'bbox_score': 0.3621552288532257, 'text_score': 0.6017878480236221}}\n",
      "{'car': {'bbox': [787.9835221871731, 1535.6962905293458, 1516.470516929834, 2151.4453265944658]}, 'license_plate': {'bbox': [1032.3040771484375, 1945.828125, 1264.0775146484375, 2077.166015625], 'text': 'AK64DMV', 'bbox_score': 0.5487053990364075, 'text_score': 0.6933714782993609}}\n",
      "{'car': {'bbox': [785.0152359171475, 1540.9456874196017, 1514.4327432964133, 2149.4280449899966]}, 'license_plate': {'bbox': [1015.9066772460938, 1952.9014892578125, 1260.636962890625, 2087.634765625], 'text': 'AK64DMV', 'bbox_score': 0.5485509037971497, 'text_score': 0.9180503943317702}}\n",
      "{'car': {'bbox': [778.8750931054913, 1544.4135742268325, 1512.3006741400934, 2147.785889698175]}, 'license_plate': {'bbox': [1006.146240234375, 1958.9366455078125, 1267.7637939453125, 2098.497314453125], 'text': 'AK64DMV', 'bbox_score': 0.6089251041412354, 'text_score': 0.8577055353874358}}\n",
      "{'car': {'bbox': [769.5786606622703, 1551.174337060338, 1509.43470059494, 2149.5877028536074]}, 'license_plate': {'bbox': [1001.9468994140625, 1969.424560546875, 1260.392578125, 2110.535888671875], 'text': 'AK64DMV', 'bbox_score': 0.5703957080841064, 'text_score': 0.8937444719332368}}\n",
      "{'car': {'bbox': [766.7062658919396, 1554.8614386958338, 1510.6601563355443, 2150.2282636095033]}, 'license_plate': {'bbox': [1023.545654296875, 1971.982177734375, 1258.8013916015625, 2106.670166015625], 'text': 'AK64DMV', 'bbox_score': 0.5873316526412964, 'text_score': 0.6704963055525672}}\n",
      "{'car': {'bbox': [763.4525533696849, 1563.802296871267, 1510.092389563318, 2152.0167399315565]}, 'license_plate': {'bbox': [1000.2085571289062, 1983.3106689453125, 1254.772705078125, 2124.9599609375], 'text': 'AK64DMV', 'bbox_score': 0.5446776151657104, 'text_score': 0.6278874191881652}}\n",
      "{'car': {'bbox': [2339.1616059735716, 1456.3946276258962, 2984.3604076481315, 2006.5855973213952]}, 'license_plate': {'bbox': [2543.279052734375, 1796.37890625, 2758.884521484375, 1916.162841796875], 'text': 'EF10DZT', 'bbox_score': 0.4961887001991272, 'text_score': 0.4309951811909787}}\n",
      "{'car': {'bbox': [762.430573245666, 1567.8438640737231, 1511.5327948531321, 2152.636371845548]}, 'license_plate': {'bbox': [1008.7698364257812, 1993.3187255859375, 1257.5030517578125, 2131.468017578125], 'text': 'AK64DMV', 'bbox_score': 0.6248550415039062, 'text_score': 0.4933209098130287}}\n",
      "{'car': {'bbox': [758.6858080195366, 1571.0588093835445, 1510.4971872357814, 2154.524395232125]}, 'license_plate': {'bbox': [985.37109375, 2008.263427734375, 1248.7554931640625, 2146.1396484375], 'text': 'AK64DMV', 'bbox_score': 0.5460664629936218, 'text_score': 0.7300633177063518}}\n",
      "{'car': {'bbox': [754.7710378580429, 1579.5536701936358, 1509.8683901033942, 2157.518491834197]}, 'license_plate': {'bbox': [988.4974365234375, 2021.0526123046875, 1232.272705078125, 2151.871826171875], 'text': 'AK64DMV', 'bbox_score': 0.4997272789478302, 'text_score': 0.48719960446220284}}\n",
      "{'car': {'bbox': [2332.493451328989, 1486.8115243406783, 2981.45342505164, 2043.439683685781]}, 'license_plate': {'bbox': [2556.438720703125, 1822.5406494140625, 2774.23388671875, 1952.3294677734375], 'text': 'EF10DZT', 'bbox_score': 0.41488125920295715, 'text_score': 0.7383647484551151}}\n",
      "{'car': {'bbox': [2331.5842860365883, 1499.9042750126848, 2982.609586984161, 2062.826406796335]}, 'license_plate': {'bbox': [2560.541748046875, 1837.2901611328125, 2773.54541015625, 1963.2099609375], 'text': 'EF10DZT', 'bbox_score': 0.4980357885360718, 'text_score': 0.6487504880661418}}\n",
      "{'car': {'bbox': [2332.062568512296, 1511.025191254351, 2986.2451689346262, 2079.309957664683]}, 'license_plate': {'bbox': [2555.930419921875, 1858.9896240234375, 2765.427978515625, 1969.6798095703125], 'text': 'EF10DZT', 'bbox_score': 0.2505592405796051, 'text_score': 0.5478963949316199}}\n",
      "{'car': {'bbox': [2328.5188785867085, 1516.8724215744683, 2985.5028959743295, 2084.8244585745247]}, 'license_plate': {'bbox': [2562.9638671875, 1867.2037353515625, 2770.4609375, 1982.9329833984375], 'text': 'EF10DZT', 'bbox_score': 0.3352169990539551, 'text_score': 0.2232840278318128}}\n",
      "{'car': {'bbox': [2332.730773215817, 1527.1185047901213, 3002.3617999180296, 2098.577422002657]}, 'license_plate': {'bbox': [2555.33740234375, 1881.0205078125, 2785.123046875, 2010.601318359375], 'text': 'EF10DZT', 'bbox_score': 0.4995579421520233, 'text_score': 0.14060506485116817}}\n",
      "{'car': {'bbox': [2339.0907114770694, 1545.1416683576094, 3023.2327665727094, 2120.4054482993306]}, 'license_plate': {'bbox': [2573.036376953125, 1902.7105712890625, 2776.30078125, 2018.65625], 'text': 'EF10DZT', 'bbox_score': 0.493729829788208, 'text_score': 0.43060932288231724}}\n"
     ]
    }
   ],
   "source": [
    "import cv2\n",
    "import easyocr\n",
    "from sort.sort import *\n",
    "import string\n",
    "results = {}\n",
    "\n",
    "mot_tracker = Sort()\n",
    "\n",
    "# load models\n",
    "coco_model = YOLO('yolov8n.pt')\n",
    "license_plate_detector = YOLO(\"runs/detect/train4/weights/last.pt\")\n",
    "\n",
    "# load video\n",
    "cap = cv2.VideoCapture('Videos/test2.mp4')\n",
    "\n",
    "vehicles = [2, 3, 5, 7]\n",
    "\n",
    "# read frames\n",
    "frame_nmr = -1\n",
    "ret = True\n",
    "while ret:\n",
    "    frame_nmr += 1\n",
    "    ret, frame = cap.read()\n",
    "    if ret :\n",
    "        results[frame_nmr] = {}\n",
    "        # detect vehicles\n",
    "        detections = coco_model(frame)[0]\n",
    "        detections_ = []\n",
    "        for detection in detections.boxes.data.tolist():\n",
    "            x1, y1, x2, y2, score, class_id = detection\n",
    "            if int(class_id) in vehicles:\n",
    "                detections_.append([x1, y1, x2, y2, score])\n",
    "\n",
    "        # track vehicles\n",
    "        track_ids = mot_tracker.update(np.asarray(detections_))\n",
    "\n",
    "        # detect license plates\n",
    "        license_plates = license_plate_detector(frame)[0]\n",
    "        for license_plate in license_plates.boxes.data.tolist():\n",
    "            x1, y1, x2, y2, score, class_id = license_plate\n",
    "\n",
    "            # assign license plate to car\n",
    "            xcar1, ycar1, xcar2, ycar2, car_id = get_car(license_plate, track_ids)\n",
    "\n",
    "            if car_id != -1:\n",
    "\n",
    "                # crop license plate\n",
    "                license_plate_crop = frame[int(y1):int(y2), int(x1): int(x2), :]\n",
    "\n",
    "                # process license plate\n",
    "                license_plate_crop_gray = cv2.cvtColor(license_plate_crop, cv2.COLOR_BGR2GRAY)\n",
    "                _, license_plate_crop_thresh = cv2.threshold(license_plate_crop_gray, 64, 255, cv2.THRESH_BINARY_INV)\n",
    "\n",
    "                # read license plate number\n",
    "                license_plate_text, license_plate_text_score = read_license_plate(license_plate_crop_thresh)\n",
    "\n",
    "                if license_plate_text is not None:\n",
    "                    results[frame_nmr][car_id] = {'car': {'bbox': [xcar1, ycar1, xcar2, ycar2]},\n",
    "                                                  'license_plate': {'bbox': [x1, y1, x2, y2],\n",
    "                                                                    'text': license_plate_text,\n",
    "                                                                    'bbox_score': score,\n",
    "                                                                    'text_score': license_plate_text_score}}\n",
    "\n",
    "# write results\n",
    "write_csv(results, './test.csv')"
   ]
  },
  {
   "cell_type": "code",
   "execution_count": 9,
   "id": "d10c3dc8-f51c-4050-b8ed-9af12711c4d8",
   "metadata": {
    "tags": []
   },
   "outputs": [
    {
     "name": "stdout",
     "output_type": "stream",
     "text": [
      "['119', '127', '129', '130', '136', '137', '138', '143', '146', '147', '148', '156', '157', '160', '161', '164', '165', '172', '173', '176', '179', '180', '185', '186', '190', '191', '195', '196', '198', '199', '205', '209', '211', '212', '213', '214', '216', '217'] 1\n",
      "['6', '7', '16', '25', '28'] 3\n",
      "['1', '3', '5', '11', '20', '31', '45', '50', '52', '57', '62', '70'] 5\n",
      "['57', '73', '78', '80', '89', '93', '95', '96', '98', '100', '101', '102', '105', '106', '128', '129', '130', '131', '132', '134'] 6\n",
      "['137', '140', '142', '148', '156', '161', '167', '169', '182', '184', '190', '194', '198', '201', '202', '204', '205', '206', '208', '233'] 8\n",
      "['283', '289', '293', '294', '295', '296', '298'] 16\n",
      "['131', '136', '137'] 33\n",
      "['448', '464', '465', '466', '468', '471', '474', '475', '479', '482', '486', '487', '488', '491', '493', '494', '495', '496', '497', '498', '500', '503', '504', '505', '506', '507', '508', '510', '512', '515', '517', '518', '521', '523', '524', '525', '526', '527', '528', '529', '530', '535', '536', '538', '540', '541', '542', '543', '544', '545', '546', '548', '549', '551', '552', '554', '555', '556', '557', '558', '560', '561', '562', '563', '564', '565', '566', '567', '568', '569', '570', '571', '572', '573', '574', '575', '576', '577', '578', '579', '580', '582', '583', '584', '585', '586', '587', '588', '589', '590', '591', '592', '594', '595', '596', '597'] 108\n",
      "['267', '268', '270', '275', '280', '282', '285', '286', '287', '295', '296', '298', '300', '301', '302', '303', '304', '306', '308', '311', '314', '315', '317', '318', '319', '320', '321', '323', '324', '325', '330', '333', '334', '335', '336', '339', '342', '343', '346', '349', '350'] 327\n",
      "['427', '453', '467', '502'] 352\n",
      "['451', '453', '456'] 526\n",
      "['441', '443', '444', '446', '447'] 553\n",
      "['543', '548', '550', '562', '573', '574', '575', '577', '581', '584', '587', '594', '599', '602', '604', '605', '608', '611'] 610\n"
     ]
    }
   ],
   "source": [
    "import csv\n",
    "import numpy as np\n",
    "from scipy.interpolate import interp1d\n",
    "\n",
    "\n",
    "def interpolate_bounding_boxes(data):\n",
    "    # Extract necessary data columns from input data\n",
    "    frame_numbers = np.array([int(row['frame_nmr']) for row in data])\n",
    "    car_ids = np.array([int(float(row['car_id'])) for row in data])\n",
    "    car_bboxes = np.array([list(map(float, row['car_bbox'][1:-1].split())) for row in data])\n",
    "    license_plate_bboxes = np.array([list(map(float, row['license_plate_bbox'][1:-1].split())) for row in data])\n",
    "\n",
    "    interpolated_data = []\n",
    "    unique_car_ids = np.unique(car_ids)\n",
    "    for car_id in unique_car_ids:\n",
    "\n",
    "        frame_numbers_ = [p['frame_nmr'] for p in data if int(float(p['car_id'])) == int(float(car_id))]\n",
    "        print(frame_numbers_, car_id)\n",
    "\n",
    "        # Filter data for a specific car ID\n",
    "        car_mask = car_ids == car_id\n",
    "        car_frame_numbers = frame_numbers[car_mask]\n",
    "        car_bboxes_interpolated = []\n",
    "        license_plate_bboxes_interpolated = []\n",
    "\n",
    "        first_frame_number = car_frame_numbers[0]\n",
    "        last_frame_number = car_frame_numbers[-1]\n",
    "\n",
    "        for i in range(len(car_bboxes[car_mask])):\n",
    "            frame_number = car_frame_numbers[i]\n",
    "            car_bbox = car_bboxes[car_mask][i]\n",
    "            license_plate_bbox = license_plate_bboxes[car_mask][i]\n",
    "\n",
    "            if i > 0:\n",
    "                prev_frame_number = car_frame_numbers[i-1]\n",
    "                prev_car_bbox = car_bboxes_interpolated[-1]\n",
    "                prev_license_plate_bbox = license_plate_bboxes_interpolated[-1]\n",
    "\n",
    "                if frame_number - prev_frame_number > 1:\n",
    "                    # Interpolate missing frames' bounding boxes\n",
    "                    frames_gap = frame_number - prev_frame_number\n",
    "                    x = np.array([prev_frame_number, frame_number])\n",
    "                    x_new = np.linspace(prev_frame_number, frame_number, num=frames_gap, endpoint=False)\n",
    "                    interp_func = interp1d(x, np.vstack((prev_car_bbox, car_bbox)), axis=0, kind='linear')\n",
    "                    interpolated_car_bboxes = interp_func(x_new)\n",
    "                    interp_func = interp1d(x, np.vstack((prev_license_plate_bbox, license_plate_bbox)), axis=0, kind='linear')\n",
    "                    interpolated_license_plate_bboxes = interp_func(x_new)\n",
    "\n",
    "                    car_bboxes_interpolated.extend(interpolated_car_bboxes[1:])\n",
    "                    license_plate_bboxes_interpolated.extend(interpolated_license_plate_bboxes[1:])\n",
    "\n",
    "            car_bboxes_interpolated.append(car_bbox)\n",
    "            license_plate_bboxes_interpolated.append(license_plate_bbox)\n",
    "\n",
    "        for i in range(len(car_bboxes_interpolated)):\n",
    "            frame_number = first_frame_number + i\n",
    "            row = {}\n",
    "            row['frame_nmr'] = str(frame_number)\n",
    "            row['car_id'] = str(car_id)\n",
    "            row['car_bbox'] = ' '.join(map(str, car_bboxes_interpolated[i]))\n",
    "            row['license_plate_bbox'] = ' '.join(map(str, license_plate_bboxes_interpolated[i]))\n",
    "\n",
    "            if str(frame_number) not in frame_numbers_:\n",
    "                # Imputed row, set the following fields to '0'\n",
    "                row['license_plate_bbox_score'] = '0'\n",
    "                row['license_number'] = '0'\n",
    "                row['license_number_score'] = '0'\n",
    "            else:\n",
    "                # Original row, retrieve values from the input data if available\n",
    "                original_row = [p for p in data if int(p['frame_nmr']) == frame_number and int(float(p['car_id'])) == int(float(car_id))][0]\n",
    "                row['license_plate_bbox_score'] = original_row['license_plate_bbox_score'] if 'license_plate_bbox_score' in original_row else '0'\n",
    "                row['license_number'] = original_row['license_number'] if 'license_number' in original_row else '0'\n",
    "                row['license_number_score'] = original_row['license_number_score'] if 'license_number_score' in original_row else '0'\n",
    "\n",
    "            interpolated_data.append(row)\n",
    "\n",
    "    return interpolated_data\n",
    "\n",
    "\n",
    "# Load the CSV file\n",
    "with open('test.csv', 'r') as file:\n",
    "    reader = csv.DictReader(file)\n",
    "    data = list(reader)\n",
    "\n",
    "# Interpolate missing data\n",
    "interpolated_data = interpolate_bounding_boxes(data)\n",
    "\n",
    "# Write updated data to a new CSV file\n",
    "header = ['frame_nmr', 'car_id', 'car_bbox', 'license_plate_bbox', 'license_plate_bbox_score', 'license_number', 'license_number_score']\n",
    "with open('test_interpolated. csv', 'w', newline='') as file:\n",
    "    writer = csv.DictWriter(file, fieldnames=header)\n",
    "    writer.writeheader()\n",
    "    writer.writerows(interpolated_data)\n"
   ]
  },
  {
   "cell_type": "code",
   "execution_count": 10,
   "id": "a2e84c0e-85ad-400c-8b54-f023c58545fc",
   "metadata": {},
   "outputs": [],
   "source": [
    "import ast\n",
    "\n",
    "import cv2\n",
    "import numpy as np\n",
    "import pandas as pd\n",
    "\n",
    "\n",
    "def draw_border(img, top_left, bottom_right, color=(0, 255, 0), thickness=10, line_length_x=200, line_length_y=200):\n",
    "    x1, y1 = top_left\n",
    "    x2, y2 = bottom_right\n",
    "\n",
    "    cv2.line(img, (x1, y1), (x1, y1 + line_length_y), color, thickness)  #-- top-left\n",
    "    cv2.line(img, (x1, y1), (x1 + line_length_x, y1), color, thickness)\n",
    "\n",
    "    cv2.line(img, (x1, y2), (x1, y2 - line_length_y), color, thickness)  #-- bottom-left\n",
    "    cv2.line(img, (x1, y2), (x1 + line_length_x, y2), color, thickness)\n",
    "\n",
    "    cv2.line(img, (x2, y1), (x2 - line_length_x, y1), color, thickness)  #-- top-right\n",
    "    cv2.line(img, (x2, y1), (x2, y1 + line_length_y), color, thickness)\n",
    "\n",
    "    cv2.line(img, (x2, y2), (x2, y2 - line_length_y), color, thickness)  #-- bottom-right\n",
    "    cv2.line(img, (x2, y2), (x2 - line_length_x, y2), color, thickness)\n",
    "\n",
    "    return img\n",
    "\n",
    "\n",
    "results = pd.read_csv('./test_interpolated.csv')\n",
    "\n",
    "# load video\n",
    "video_path = 'Videos/test2.mp4'\n",
    "cap = cv2.VideoCapture(video_path)\n",
    "\n",
    "fourcc = cv2.VideoWriter_fourcc(*'mp4v')  # Specify the codec\n",
    "fps = cap.get(cv2.CAP_PROP_FPS)\n",
    "width = int(cap.get(cv2.CAP_PROP_FRAME_WIDTH))\n",
    "height = int(cap.get(cv2.CAP_PROP_FRAME_HEIGHT))\n",
    "out = cv2.VideoWriter('./out.mp4', fourcc, fps, (width, height))\n",
    "\n",
    "license_plate = {}\n",
    "for car_id in np.unique(results['car_id']):\n",
    "    max_ = np.amax(results[results['car_id'] == car_id]['license_number_score'])\n",
    "    license_plate[car_id] = {'license_crop': None,\n",
    "                             'license_plate_number': results[(results['car_id'] == car_id) &\n",
    "                                                             (results['license_number_score'] == max_)]['license_number'].iloc[0]}\n",
    "    cap.set(cv2.CAP_PROP_POS_FRAMES, results[(results['car_id'] == car_id) &\n",
    "                                             (results['license_number_score'] == max_)]['frame_nmr'].iloc[0])\n",
    "    ret, frame = cap.read()\n",
    "\n",
    "    x1, y1, x2, y2 = ast.literal_eval(results[(results['car_id'] == car_id) &\n",
    "                                              (results['license_number_score'] == max_)]['license_plate_bbox'].iloc[0].replace('[ ', '[').replace('   ', ' ').replace('  ', ' ').replace(' ', ','))\n",
    "\n",
    "    license_crop = frame[int(y1):int(y2), int(x1):int(x2), :]\n",
    "    license_crop = cv2.resize(license_crop, (int((x2 - x1) * 400 / (y2 - y1)), 400))\n",
    "\n",
    "    license_plate[car_id]['license_crop'] = license_crop\n",
    "\n",
    "\n",
    "frame_nmr = -1\n",
    "\n",
    "cap.set(cv2.CAP_PROP_POS_FRAMES, 0)\n",
    "\n",
    "# read frames\n",
    "ret = True\n",
    "while ret:\n",
    "    ret, frame = cap.read()\n",
    "    frame_nmr += 1\n",
    "    if ret:\n",
    "        df_ = results[results['frame_nmr'] == frame_nmr]\n",
    "        for row_indx in range(len(df_)):\n",
    "            # draw car\n",
    "            car_x1, car_y1, car_x2, car_y2 = ast.literal_eval(df_.iloc[row_indx]['car_bbox'].replace('[ ', '[').replace('   ', ' ').replace('  ', ' ').replace(' ', ','))\n",
    "            draw_border(frame, (int(car_x1), int(car_y1)), (int(car_x2), int(car_y2)), (0, 255, 0), 25,\n",
    "                        line_length_x=200, line_length_y=200)\n",
    "\n",
    "            # draw license plate\n",
    "            x1, y1, x2, y2 = ast.literal_eval(df_.iloc[row_indx]['license_plate_bbox'].replace('[ ', '[').replace('   ', ' ').replace('  ', ' ').replace(' ', ','))\n",
    "            cv2.rectangle(frame, (int(x1), int(y1)), (int(x2), int(y2)), (0, 0, 255), 12)\n",
    "\n",
    "            # crop license plate\n",
    "            license_crop = license_plate[df_.iloc[row_indx]['car_id']]['license_crop']\n",
    "\n",
    "            H, W, _ = license_crop.shape\n",
    "\n",
    "            try:\n",
    "                frame[int(car_y1) - H - 100:int(car_y1) - 100,\n",
    "                      int((car_x2 + car_x1 - W) / 2):int((car_x2 + car_x1 + W) / 2), :] = license_crop\n",
    "\n",
    "                frame[int(car_y1) - H - 400:int(car_y1) - H - 100,\n",
    "                      int((car_x2 + car_x1 - W) / 2):int((car_x2 + car_x1 + W) / 2), :] = (255, 255, 255)\n",
    "\n",
    "                (text_width, text_height), _ = cv2.getTextSize(\n",
    "                    license_plate[df_.iloc[row_indx]['car_id']]['license_plate_number'],\n",
    "                    cv2.FONT_HERSHEY_SIMPLEX,\n",
    "                    4.3,\n",
    "                    17)\n",
    "\n",
    "                cv2.putText(frame,\n",
    "                            license_plate[df_.iloc[row_indx]['car_id']]['license_plate_number'],\n",
    "                            (int((car_x2 + car_x1 - text_width) / 2), int(car_y1 - H - 250 + (text_height / 2))),\n",
    "                            cv2.FONT_HERSHEY_SIMPLEX,\n",
    "                            4.3,\n",
    "                            (0, 0, 0),\n",
    "                            17)\n",
    "\n",
    "            except:\n",
    "                pass\n",
    "\n",
    "        out.write(frame)\n",
    "        frame = cv2.resize(frame, (1280, 720))\n",
    "\n",
    "        # cv2.imshow('frame', frame)\n",
    "        # cv2.waitKey(0)\n",
    "\n",
    "out.release()\n",
    "cap.release()\n"
   ]
  },
  {
   "cell_type": "code",
   "execution_count": null,
   "id": "fdc16900-4789-40e0-9b0d-1e05bb649051",
   "metadata": {},
   "outputs": [],
   "source": []
  }
 ],
 "metadata": {
  "kernelspec": {
   "display_name": "gpu4",
   "language": "python",
   "name": "gpu4"
  },
  "language_info": {
   "codemirror_mode": {
    "name": "ipython",
    "version": 3
   },
   "file_extension": ".py",
   "mimetype": "text/x-python",
   "name": "python",
   "nbconvert_exporter": "python",
   "pygments_lexer": "ipython3",
   "version": "3.11.5"
  }
 },
 "nbformat": 4,
 "nbformat_minor": 5
}
